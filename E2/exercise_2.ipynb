{
  "cells": [
    {
      "attachments": {},
      "cell_type": "markdown",
      "metadata": {
        "collapsed": true,
        "id": "HtadlUep_vN_"
      },
      "source": [
        "# Exercise 2: Shape Classification and Segmentation\n",
        "\n",
        "**Submission Deadline**: 30.05.2023, 23:55\n",
        "\n",
        "In this exercise, we will dive into Machine Learning on 3D shapes by taking a look at shape classification and segmentation."
      ]
    },
    {
      "cell_type": "code",
      "execution_count": null,
      "metadata": {
        "colab": {
          "base_uri": "https://localhost:8080/"
        },
        "id": "1eLawBspNM3C",
        "outputId": "ae47d74a-2aa4-4f7c-dd7e-316163cbf678"
      },
      "outputs": [
        {
          "name": "stdout",
          "output_type": "stream",
          "text": [
            "Mounted at /content/drive\n"
          ]
        }
      ],
      "source": [
        "from google.colab import drive\n",
        "drive.mount('/content/drive')"
      ]
    },
    {
      "cell_type": "code",
      "execution_count": null,
      "metadata": {
        "colab": {
          "base_uri": "https://localhost:8080/"
        },
        "id": "OCPjCch9_3m0",
        "outputId": "41f51799-e2c4-42dd-b7ac-1dd9802cf372"
      },
      "outputs": [
        {
          "name": "stdout",
          "output_type": "stream",
          "text": [
            "Mounted at /content/drive\n"
          ]
        }
      ],
      "source": [
        "# from google.colab import drive\n",
        "# drive.mount('/content/drive')"
      ]
    },
    {
      "cell_type": "code",
      "execution_count": null,
      "metadata": {
        "colab": {
          "base_uri": "https://localhost:8080/"
        },
        "id": "_DjSBYJkNvNz",
        "outputId": "f90c5606-3459-4983-fde0-9df9cebe8073"
      },
      "outputs": [
        {
          "name": "stdout",
          "output_type": "stream",
          "text": [
            "Cloning into '3DML'...\n",
            "remote: Enumerating objects: 114, done.\u001b[K\n",
            "remote: Counting objects: 100% (25/25), done.\u001b[K\n",
            "remote: Compressing objects: 100% (19/19), done.\u001b[K\n",
            "remote: Total 114 (delta 2), reused 16 (delta 2), pack-reused 89\u001b[K\n",
            "Receiving objects: 100% (114/114), 131.55 MiB | 23.43 MiB/s, done.\n",
            "Resolving deltas: 100% (12/12), done.\n"
          ]
        }
      ],
      "source": [
        "# !git clone https://TOKEN_HHERE@github.com/Streakfull/3DML.git"
      ]
    },
    {
      "cell_type": "code",
      "execution_count": 1,
      "metadata": {
        "colab": {
          "base_uri": "https://localhost:8080/"
        },
        "id": "j-LvO3XCAFE3",
        "outputId": "102f9dcf-2ad9-4f94-a525-3749b2d6e3b7"
      },
      "outputs": [
        {
          "name": "stdout",
          "output_type": "stream",
          "text": [
            "/content/drive/MyDrive/3DML/E2\n"
          ]
        }
      ],
      "source": [
        "# !ls\n",
        "# %cd drive/MyDrive/3DML/E2\n",
        "\n",
        "#!git checkout ys-e2.1\n",
        "#%cd E2"
      ]
    },
    {
      "attachments": {},
      "cell_type": "markdown",
      "metadata": {
        "id": "m1COfiD6_vOE"
      },
      "source": [
        "## 2.0. Running this notebook\n",
        "We recommend running this notebook on a CUDA compatible local gpu. You can also run training on cpu, it will just take longer.\n",
        "\n",
        "You have three options for running this exercise on a GPU, choose one of them and start the exercise below in section \"Imports\":\n",
        "1. Locally on your own GPU\n",
        "2. On our dedicated compute cluster\n",
        "3. On Google Colab\n",
        "\n",
        "We describe every option in more detail below:"
      ]
    },
    {
      "attachments": {},
      "cell_type": "markdown",
      "metadata": {
        "id": "9IdZf8Kn_vOF"
      },
      "source": [
        "---\n",
        "\n",
        "### (a) Local Execution\n",
        "\n",
        "If you run this notebook locally, you have to first install the python dependiencies again. They are the same as for exercise 1 so you can re-use the environment you used last time. If you use [poetry](https://python-poetry.org), you can also simply re-install everything (`poetry install`) and then run this notebook via `poetry run jupyter notebook`.\n",
        "\n",
        "In case you are working with a RTX 3000-series GPU, you need to install a patched version of pytorch:"
      ]
    },
    {
      "cell_type": "code",
      "execution_count": null,
      "metadata": {
        "id": "tiWnEBSP_vOF"
      },
      "outputs": [],
      "source": [
        "%pip install torch torchvision --extra-index-url https://download.pytorch.org/whl/cu113"
      ]
    },
    {
      "attachments": {},
      "cell_type": "markdown",
      "metadata": {
        "id": "LPY3SejL_vOH"
      },
      "source": [
        "### (b) Compute Cluster\n",
        "\n",
        "We provide access to a small compute cluster for the exercises and projects, consisting of a login node and 4 compute nodes with one dedicated RTX 3090 GPU each.\n",
        "Please send us a short email with your name and preferred username so we can add you as a user.\n",
        "\n",
        "We uploaded a PDF to Moodle with detailed information on how to access and use the cluster.\n",
        "\n",
        "Since the cluster contains RTX 3000-series GPUs, you will need to install a patched version of pytorch:"
      ]
    },
    {
      "cell_type": "code",
      "execution_count": null,
      "metadata": {
        "id": "krr9LhXY_vOH"
      },
      "outputs": [],
      "source": [
        "%pip install torch torchvision --extra-index-url https://download.pytorch.org/whl/cu113"
      ]
    },
    {
      "attachments": {},
      "cell_type": "markdown",
      "metadata": {
        "id": "dsE7_hEt_vOI"
      },
      "source": [
        "### (c) Google Colab\n",
        "\n",
        "If you don't have access to a GPU and don't want to use our cluster, you can also use Google Colab. However, we experienced the issue that inline visualization of shapes or inline images didn't work on colab, so just keep that in mind.\n",
        "What you can also do is only train networks on colab, download the checkpoint, and visualize inference locally.\n",
        "\n",
        "In case you're using Google Colab, you can upload the exercise folder (containing `exercise_2.ipynb`, directory `exercise_2` and the file `requirements.txt`) as `3d-machine-learning` to google drive (make sure you don't upload extracted datasets files).\n",
        "Additionally you'd need to open the notebook `exercise_2.ipynb` in Colab using `File > Open Notebook > Upload`.\n",
        "\n",
        "Next you'll need to run these two cells for setting up the environment. Before you do that make sure your instance has a GPU."
      ]
    },
    {
      "cell_type": "code",
      "execution_count": null,
      "metadata": {
        "colab": {
          "base_uri": "https://localhost:8080/"
        },
        "id": "5H4leVrF_vOI",
        "outputId": "90892234-e95c-4719-ea9d-95585a71d57a",
        "pycharm": {
          "name": "#%%\n"
        }
      },
      "outputs": [
        {
          "name": "stdout",
          "output_type": "stream",
          "text": [
            "Installing requirements\n",
            "Looking in indexes: https://pypi.org/simple, https://us-python.pkg.dev/colab-wheels/public/simple/\n",
            "Requirement already satisfied: jupyter>=1.0.0 in /usr/local/lib/python3.10/dist-packages (from -r requirements.txt (line 1)) (1.0.0)\n",
            "Requirement already satisfied: K3D>=2.9.4 in /usr/local/lib/python3.10/dist-packages (from -r requirements.txt (line 2)) (2.15.3)\n",
            "Requirement already satisfied: matplotlib>=3.4.1 in /usr/local/lib/python3.10/dist-packages (from -r requirements.txt (line 3)) (3.7.1)\n",
            "Requirement already satisfied: trimesh>=3.9.14 in /usr/local/lib/python3.10/dist-packages (from -r requirements.txt (line 4)) (3.21.7)\n",
            "Requirement already satisfied: torch>=1.8.1 in /usr/local/lib/python3.10/dist-packages (from -r requirements.txt (line 5)) (2.0.1+cu118)\n",
            "Requirement already satisfied: pytorch-lightning>=1.2.8 in /usr/local/lib/python3.10/dist-packages (from -r requirements.txt (line 6)) (2.0.2)\n",
            "Requirement already satisfied: scikit-image>=0.18.1 in /usr/local/lib/python3.10/dist-packages (from -r requirements.txt (line 7)) (0.19.3)\n",
            "Requirement already satisfied: pyrender>=0.1.43 in /usr/local/lib/python3.10/dist-packages (from -r requirements.txt (line 8)) (0.1.45)\n",
            "Requirement already satisfied: moviepy>=1.0.3 in /usr/local/lib/python3.10/dist-packages (from -r requirements.txt (line 9)) (1.0.3)\n",
            "Requirement already satisfied: pillow>=7.2.0 in /usr/local/lib/python3.10/dist-packages (from -r requirements.txt (line 10)) (8.4.0)\n",
            "Requirement already satisfied: tqdm>=4.48.2 in /usr/local/lib/python3.10/dist-packages (from -r requirements.txt (line 11)) (4.65.0)\n",
            "Requirement already satisfied: scipy>=1.4.1 in /usr/local/lib/python3.10/dist-packages (from -r requirements.txt (line 12)) (1.10.1)\n",
            "Requirement already satisfied: numpy>=1.19.4 in /usr/local/lib/python3.10/dist-packages (from -r requirements.txt (line 13)) (1.22.4)\n",
            "Requirement already satisfied: notebook in /usr/local/lib/python3.10/dist-packages (from jupyter>=1.0.0->-r requirements.txt (line 1)) (6.4.8)\n",
            "Requirement already satisfied: qtconsole in /usr/local/lib/python3.10/dist-packages (from jupyter>=1.0.0->-r requirements.txt (line 1)) (5.4.3)\n",
            "Requirement already satisfied: jupyter-console in /usr/local/lib/python3.10/dist-packages (from jupyter>=1.0.0->-r requirements.txt (line 1)) (6.1.0)\n",
            "Requirement already satisfied: nbconvert in /usr/local/lib/python3.10/dist-packages (from jupyter>=1.0.0->-r requirements.txt (line 1)) (6.5.4)\n",
            "Requirement already satisfied: ipykernel in /usr/local/lib/python3.10/dist-packages (from jupyter>=1.0.0->-r requirements.txt (line 1)) (5.5.6)\n",
            "Requirement already satisfied: ipywidgets in /usr/local/lib/python3.10/dist-packages (from jupyter>=1.0.0->-r requirements.txt (line 1)) (7.7.1)\n",
            "Requirement already satisfied: msgpack in /usr/local/lib/python3.10/dist-packages (from K3D>=2.9.4->-r requirements.txt (line 2)) (1.0.5)\n",
            "Requirement already satisfied: traitlets in /usr/local/lib/python3.10/dist-packages (from K3D>=2.9.4->-r requirements.txt (line 2)) (5.7.1)\n",
            "Requirement already satisfied: traittypes in /usr/local/lib/python3.10/dist-packages (from K3D>=2.9.4->-r requirements.txt (line 2)) (0.2.1)\n",
            "Requirement already satisfied: contourpy>=1.0.1 in /usr/local/lib/python3.10/dist-packages (from matplotlib>=3.4.1->-r requirements.txt (line 3)) (1.0.7)\n",
            "Requirement already satisfied: cycler>=0.10 in /usr/local/lib/python3.10/dist-packages (from matplotlib>=3.4.1->-r requirements.txt (line 3)) (0.11.0)\n",
            "Requirement already satisfied: fonttools>=4.22.0 in /usr/local/lib/python3.10/dist-packages (from matplotlib>=3.4.1->-r requirements.txt (line 3)) (4.39.3)\n",
            "Requirement already satisfied: kiwisolver>=1.0.1 in /usr/local/lib/python3.10/dist-packages (from matplotlib>=3.4.1->-r requirements.txt (line 3)) (1.4.4)\n",
            "Requirement already satisfied: packaging>=20.0 in /usr/local/lib/python3.10/dist-packages (from matplotlib>=3.4.1->-r requirements.txt (line 3)) (23.1)\n",
            "Requirement already satisfied: pyparsing>=2.3.1 in /usr/local/lib/python3.10/dist-packages (from matplotlib>=3.4.1->-r requirements.txt (line 3)) (3.0.9)\n",
            "Requirement already satisfied: python-dateutil>=2.7 in /usr/local/lib/python3.10/dist-packages (from matplotlib>=3.4.1->-r requirements.txt (line 3)) (2.8.2)\n",
            "Requirement already satisfied: filelock in /usr/local/lib/python3.10/dist-packages (from torch>=1.8.1->-r requirements.txt (line 5)) (3.12.0)\n",
            "Requirement already satisfied: typing-extensions in /usr/local/lib/python3.10/dist-packages (from torch>=1.8.1->-r requirements.txt (line 5)) (4.5.0)\n",
            "Requirement already satisfied: sympy in /usr/local/lib/python3.10/dist-packages (from torch>=1.8.1->-r requirements.txt (line 5)) (1.11.1)\n",
            "Requirement already satisfied: networkx in /usr/local/lib/python3.10/dist-packages (from torch>=1.8.1->-r requirements.txt (line 5)) (3.1)\n",
            "Requirement already satisfied: jinja2 in /usr/local/lib/python3.10/dist-packages (from torch>=1.8.1->-r requirements.txt (line 5)) (3.1.2)\n",
            "Requirement already satisfied: triton==2.0.0 in /usr/local/lib/python3.10/dist-packages (from torch>=1.8.1->-r requirements.txt (line 5)) (2.0.0)\n",
            "Requirement already satisfied: cmake in /usr/local/lib/python3.10/dist-packages (from triton==2.0.0->torch>=1.8.1->-r requirements.txt (line 5)) (3.25.2)\n",
            "Requirement already satisfied: lit in /usr/local/lib/python3.10/dist-packages (from triton==2.0.0->torch>=1.8.1->-r requirements.txt (line 5)) (16.0.5)\n",
            "Requirement already satisfied: PyYAML>=5.4 in /usr/local/lib/python3.10/dist-packages (from pytorch-lightning>=1.2.8->-r requirements.txt (line 6)) (6.0)\n",
            "Requirement already satisfied: fsspec[http]>2021.06.0 in /usr/local/lib/python3.10/dist-packages (from pytorch-lightning>=1.2.8->-r requirements.txt (line 6)) (2023.4.0)\n",
            "Requirement already satisfied: torchmetrics>=0.7.0 in /usr/local/lib/python3.10/dist-packages (from pytorch-lightning>=1.2.8->-r requirements.txt (line 6)) (0.11.4)\n",
            "Requirement already satisfied: lightning-utilities>=0.7.0 in /usr/local/lib/python3.10/dist-packages (from pytorch-lightning>=1.2.8->-r requirements.txt (line 6)) (0.8.0)\n",
            "Requirement already satisfied: imageio>=2.4.1 in /usr/local/lib/python3.10/dist-packages (from scikit-image>=0.18.1->-r requirements.txt (line 7)) (2.25.1)\n",
            "Requirement already satisfied: tifffile>=2019.7.26 in /usr/local/lib/python3.10/dist-packages (from scikit-image>=0.18.1->-r requirements.txt (line 7)) (2023.4.12)\n",
            "Requirement already satisfied: PyWavelets>=1.1.1 in /usr/local/lib/python3.10/dist-packages (from scikit-image>=0.18.1->-r requirements.txt (line 7)) (1.4.1)\n",
            "Requirement already satisfied: freetype-py in /usr/local/lib/python3.10/dist-packages (from pyrender>=0.1.43->-r requirements.txt (line 8)) (2.4.0)\n",
            "Requirement already satisfied: pyglet>=1.4.10 in /usr/local/lib/python3.10/dist-packages (from pyrender>=0.1.43->-r requirements.txt (line 8)) (2.0.7)\n",
            "Requirement already satisfied: PyOpenGL==3.1.0 in /usr/local/lib/python3.10/dist-packages (from pyrender>=0.1.43->-r requirements.txt (line 8)) (3.1.0)\n",
            "Requirement already satisfied: six in /usr/local/lib/python3.10/dist-packages (from pyrender>=0.1.43->-r requirements.txt (line 8)) (1.16.0)\n",
            "Requirement already satisfied: decorator<5.0,>=4.0.2 in /usr/local/lib/python3.10/dist-packages (from moviepy>=1.0.3->-r requirements.txt (line 9)) (4.4.2)\n",
            "Requirement already satisfied: requests<3.0,>=2.8.1 in /usr/local/lib/python3.10/dist-packages (from moviepy>=1.0.3->-r requirements.txt (line 9)) (2.27.1)\n",
            "Requirement already satisfied: proglog<=1.0.0 in /usr/local/lib/python3.10/dist-packages (from moviepy>=1.0.3->-r requirements.txt (line 9)) (0.1.10)\n",
            "Requirement already satisfied: imageio-ffmpeg>=0.2.0 in /usr/local/lib/python3.10/dist-packages (from moviepy>=1.0.3->-r requirements.txt (line 9)) (0.4.8)\n",
            "Requirement already satisfied: aiohttp!=4.0.0a0,!=4.0.0a1 in /usr/local/lib/python3.10/dist-packages (from fsspec[http]>2021.06.0->pytorch-lightning>=1.2.8->-r requirements.txt (line 6)) (3.8.4)\n",
            "Requirement already satisfied: ipython-genutils~=0.2.0 in /usr/local/lib/python3.10/dist-packages (from ipywidgets->jupyter>=1.0.0->-r requirements.txt (line 1)) (0.2.0)\n",
            "Requirement already satisfied: widgetsnbextension~=3.6.0 in /usr/local/lib/python3.10/dist-packages (from ipywidgets->jupyter>=1.0.0->-r requirements.txt (line 1)) (3.6.4)\n",
            "Requirement already satisfied: ipython>=4.0.0 in /usr/local/lib/python3.10/dist-packages (from ipywidgets->jupyter>=1.0.0->-r requirements.txt (line 1)) (7.34.0)\n",
            "Requirement already satisfied: jupyterlab-widgets>=1.0.0 in /usr/local/lib/python3.10/dist-packages (from ipywidgets->jupyter>=1.0.0->-r requirements.txt (line 1)) (3.0.7)\n",
            "Requirement already satisfied: jupyter-client in /usr/local/lib/python3.10/dist-packages (from ipykernel->jupyter>=1.0.0->-r requirements.txt (line 1)) (6.1.12)\n",
            "Requirement already satisfied: tornado>=4.2 in /usr/local/lib/python3.10/dist-packages (from ipykernel->jupyter>=1.0.0->-r requirements.txt (line 1)) (6.3.1)\n",
            "Requirement already satisfied: urllib3<1.27,>=1.21.1 in /usr/local/lib/python3.10/dist-packages (from requests<3.0,>=2.8.1->moviepy>=1.0.3->-r requirements.txt (line 9)) (1.26.15)\n",
            "Requirement already satisfied: certifi>=2017.4.17 in /usr/local/lib/python3.10/dist-packages (from requests<3.0,>=2.8.1->moviepy>=1.0.3->-r requirements.txt (line 9)) (2022.12.7)\n",
            "Requirement already satisfied: charset-normalizer~=2.0.0 in /usr/local/lib/python3.10/dist-packages (from requests<3.0,>=2.8.1->moviepy>=1.0.3->-r requirements.txt (line 9)) (2.0.12)\n",
            "Requirement already satisfied: idna<4,>=2.5 in /usr/local/lib/python3.10/dist-packages (from requests<3.0,>=2.8.1->moviepy>=1.0.3->-r requirements.txt (line 9)) (3.4)\n",
            "Requirement already satisfied: MarkupSafe>=2.0 in /usr/local/lib/python3.10/dist-packages (from jinja2->torch>=1.8.1->-r requirements.txt (line 5)) (2.1.2)\n",
            "Requirement already satisfied: prompt-toolkit!=3.0.0,!=3.0.1,<3.1.0,>=2.0.0 in /usr/local/lib/python3.10/dist-packages (from jupyter-console->jupyter>=1.0.0->-r requirements.txt (line 1)) (3.0.38)\n",
            "Requirement already satisfied: pygments in /usr/local/lib/python3.10/dist-packages (from jupyter-console->jupyter>=1.0.0->-r requirements.txt (line 1)) (2.14.0)\n",
            "Requirement already satisfied: lxml in /usr/local/lib/python3.10/dist-packages (from nbconvert->jupyter>=1.0.0->-r requirements.txt (line 1)) (4.9.2)\n",
            "Requirement already satisfied: beautifulsoup4 in /usr/local/lib/python3.10/dist-packages (from nbconvert->jupyter>=1.0.0->-r requirements.txt (line 1)) (4.11.2)\n",
            "Requirement already satisfied: bleach in /usr/local/lib/python3.10/dist-packages (from nbconvert->jupyter>=1.0.0->-r requirements.txt (line 1)) (6.0.0)\n",
            "Requirement already satisfied: defusedxml in /usr/local/lib/python3.10/dist-packages (from nbconvert->jupyter>=1.0.0->-r requirements.txt (line 1)) (0.7.1)\n",
            "Requirement already satisfied: entrypoints>=0.2.2 in /usr/local/lib/python3.10/dist-packages (from nbconvert->jupyter>=1.0.0->-r requirements.txt (line 1)) (0.4)\n",
            "Requirement already satisfied: jupyter-core>=4.7 in /usr/local/lib/python3.10/dist-packages (from nbconvert->jupyter>=1.0.0->-r requirements.txt (line 1)) (5.3.0)\n",
            "Requirement already satisfied: jupyterlab-pygments in /usr/local/lib/python3.10/dist-packages (from nbconvert->jupyter>=1.0.0->-r requirements.txt (line 1)) (0.2.2)\n",
            "Requirement already satisfied: mistune<2,>=0.8.1 in /usr/local/lib/python3.10/dist-packages (from nbconvert->jupyter>=1.0.0->-r requirements.txt (line 1)) (0.8.4)\n",
            "Requirement already satisfied: nbclient>=0.5.0 in /usr/local/lib/python3.10/dist-packages (from nbconvert->jupyter>=1.0.0->-r requirements.txt (line 1)) (0.7.4)\n",
            "Requirement already satisfied: nbformat>=5.1 in /usr/local/lib/python3.10/dist-packages (from nbconvert->jupyter>=1.0.0->-r requirements.txt (line 1)) (5.8.0)\n",
            "Requirement already satisfied: pandocfilters>=1.4.1 in /usr/local/lib/python3.10/dist-packages (from nbconvert->jupyter>=1.0.0->-r requirements.txt (line 1)) (1.5.0)\n",
            "Requirement already satisfied: tinycss2 in /usr/local/lib/python3.10/dist-packages (from nbconvert->jupyter>=1.0.0->-r requirements.txt (line 1)) (1.2.1)\n",
            "Requirement already satisfied: pyzmq>=17 in /usr/local/lib/python3.10/dist-packages (from notebook->jupyter>=1.0.0->-r requirements.txt (line 1)) (23.2.1)\n",
            "Requirement already satisfied: argon2-cffi in /usr/local/lib/python3.10/dist-packages (from notebook->jupyter>=1.0.0->-r requirements.txt (line 1)) (21.3.0)\n",
            "Requirement already satisfied: nest-asyncio>=1.5 in /usr/local/lib/python3.10/dist-packages (from notebook->jupyter>=1.0.0->-r requirements.txt (line 1)) (1.5.6)\n",
            "Requirement already satisfied: Send2Trash>=1.8.0 in /usr/local/lib/python3.10/dist-packages (from notebook->jupyter>=1.0.0->-r requirements.txt (line 1)) (1.8.0)\n",
            "Requirement already satisfied: terminado>=0.8.3 in /usr/local/lib/python3.10/dist-packages (from notebook->jupyter>=1.0.0->-r requirements.txt (line 1)) (0.17.1)\n",
            "Requirement already satisfied: prometheus-client in /usr/local/lib/python3.10/dist-packages (from notebook->jupyter>=1.0.0->-r requirements.txt (line 1)) (0.16.0)\n",
            "Requirement already satisfied: qtpy>=2.0.1 in /usr/local/lib/python3.10/dist-packages (from qtconsole->jupyter>=1.0.0->-r requirements.txt (line 1)) (2.3.1)\n",
            "Requirement already satisfied: mpmath>=0.19 in /usr/local/lib/python3.10/dist-packages (from sympy->torch>=1.8.1->-r requirements.txt (line 5)) (1.3.0)\n",
            "Requirement already satisfied: attrs>=17.3.0 in /usr/local/lib/python3.10/dist-packages (from aiohttp!=4.0.0a0,!=4.0.0a1->fsspec[http]>2021.06.0->pytorch-lightning>=1.2.8->-r requirements.txt (line 6)) (23.1.0)\n",
            "Requirement already satisfied: multidict<7.0,>=4.5 in /usr/local/lib/python3.10/dist-packages (from aiohttp!=4.0.0a0,!=4.0.0a1->fsspec[http]>2021.06.0->pytorch-lightning>=1.2.8->-r requirements.txt (line 6)) (6.0.4)\n",
            "Requirement already satisfied: async-timeout<5.0,>=4.0.0a3 in /usr/local/lib/python3.10/dist-packages (from aiohttp!=4.0.0a0,!=4.0.0a1->fsspec[http]>2021.06.0->pytorch-lightning>=1.2.8->-r requirements.txt (line 6)) (4.0.2)\n",
            "Requirement already satisfied: yarl<2.0,>=1.0 in /usr/local/lib/python3.10/dist-packages (from aiohttp!=4.0.0a0,!=4.0.0a1->fsspec[http]>2021.06.0->pytorch-lightning>=1.2.8->-r requirements.txt (line 6)) (1.9.2)\n",
            "Requirement already satisfied: frozenlist>=1.1.1 in /usr/local/lib/python3.10/dist-packages (from aiohttp!=4.0.0a0,!=4.0.0a1->fsspec[http]>2021.06.0->pytorch-lightning>=1.2.8->-r requirements.txt (line 6)) (1.3.3)\n",
            "Requirement already satisfied: aiosignal>=1.1.2 in /usr/local/lib/python3.10/dist-packages (from aiohttp!=4.0.0a0,!=4.0.0a1->fsspec[http]>2021.06.0->pytorch-lightning>=1.2.8->-r requirements.txt (line 6)) (1.3.1)\n",
            "Requirement already satisfied: setuptools>=18.5 in /usr/local/lib/python3.10/dist-packages (from ipython>=4.0.0->ipywidgets->jupyter>=1.0.0->-r requirements.txt (line 1)) (67.7.2)\n",
            "Requirement already satisfied: jedi>=0.16 in /usr/local/lib/python3.10/dist-packages (from ipython>=4.0.0->ipywidgets->jupyter>=1.0.0->-r requirements.txt (line 1)) (0.18.2)\n",
            "Requirement already satisfied: pickleshare in /usr/local/lib/python3.10/dist-packages (from ipython>=4.0.0->ipywidgets->jupyter>=1.0.0->-r requirements.txt (line 1)) (0.7.5)\n",
            "Requirement already satisfied: backcall in /usr/local/lib/python3.10/dist-packages (from ipython>=4.0.0->ipywidgets->jupyter>=1.0.0->-r requirements.txt (line 1)) (0.2.0)\n",
            "Requirement already satisfied: matplotlib-inline in /usr/local/lib/python3.10/dist-packages (from ipython>=4.0.0->ipywidgets->jupyter>=1.0.0->-r requirements.txt (line 1)) (0.1.6)\n",
            "Requirement already satisfied: pexpect>4.3 in /usr/local/lib/python3.10/dist-packages (from ipython>=4.0.0->ipywidgets->jupyter>=1.0.0->-r requirements.txt (line 1)) (4.8.0)\n",
            "Requirement already satisfied: platformdirs>=2.5 in /usr/local/lib/python3.10/dist-packages (from jupyter-core>=4.7->nbconvert->jupyter>=1.0.0->-r requirements.txt (line 1)) (3.3.0)\n",
            "Requirement already satisfied: fastjsonschema in /usr/local/lib/python3.10/dist-packages (from nbformat>=5.1->nbconvert->jupyter>=1.0.0->-r requirements.txt (line 1)) (2.16.3)\n",
            "Requirement already satisfied: jsonschema>=2.6 in /usr/local/lib/python3.10/dist-packages (from nbformat>=5.1->nbconvert->jupyter>=1.0.0->-r requirements.txt (line 1)) (4.3.3)\n",
            "Requirement already satisfied: wcwidth in /usr/local/lib/python3.10/dist-packages (from prompt-toolkit!=3.0.0,!=3.0.1,<3.1.0,>=2.0.0->jupyter-console->jupyter>=1.0.0->-r requirements.txt (line 1)) (0.2.6)\n",
            "Requirement already satisfied: ptyprocess in /usr/local/lib/python3.10/dist-packages (from terminado>=0.8.3->notebook->jupyter>=1.0.0->-r requirements.txt (line 1)) (0.7.0)\n",
            "Requirement already satisfied: argon2-cffi-bindings in /usr/local/lib/python3.10/dist-packages (from argon2-cffi->notebook->jupyter>=1.0.0->-r requirements.txt (line 1)) (21.2.0)\n",
            "Requirement already satisfied: soupsieve>1.2 in /usr/local/lib/python3.10/dist-packages (from beautifulsoup4->nbconvert->jupyter>=1.0.0->-r requirements.txt (line 1)) (2.4.1)\n",
            "Requirement already satisfied: webencodings in /usr/local/lib/python3.10/dist-packages (from bleach->nbconvert->jupyter>=1.0.0->-r requirements.txt (line 1)) (0.5.1)\n",
            "Requirement already satisfied: parso<0.9.0,>=0.8.0 in /usr/local/lib/python3.10/dist-packages (from jedi>=0.16->ipython>=4.0.0->ipywidgets->jupyter>=1.0.0->-r requirements.txt (line 1)) (0.8.3)\n",
            "Requirement already satisfied: pyrsistent!=0.17.0,!=0.17.1,!=0.17.2,>=0.14.0 in /usr/local/lib/python3.10/dist-packages (from jsonschema>=2.6->nbformat>=5.1->nbconvert->jupyter>=1.0.0->-r requirements.txt (line 1)) (0.19.3)\n",
            "Requirement already satisfied: cffi>=1.0.1 in /usr/local/lib/python3.10/dist-packages (from argon2-cffi-bindings->argon2-cffi->notebook->jupyter>=1.0.0->-r requirements.txt (line 1)) (1.15.1)\n",
            "Requirement already satisfied: pycparser in /usr/local/lib/python3.10/dist-packages (from cffi>=1.0.1->argon2-cffi-bindings->argon2-cffi->notebook->jupyter>=1.0.0->-r requirements.txt (line 1)) (2.21)\n"
          ]
        }
      ],
      "source": [
        "import os\n",
        "# from google.colab import drive\n",
        "# drive.mount('/content/drive', force_remount=True)\n",
        "\n",
        "# We assume you uploaded the exercise folder in root Google Drive folder\n",
        "\n",
        "#!cp -r /content/drive/MyDrive/3d-machine-learning 3d-machine-learning/\n",
        "os.chdir('/content/drive/MyDrive/3DML/E2')\n",
        "print('Installing requirements')\n",
        "%pip install -r requirements.txt\n",
        "\n",
        "# Make sure you restart runtime when directed by Colab"
      ]
    },
    {
      "attachments": {},
      "cell_type": "markdown",
      "metadata": {
        "id": "dGn5TLvY_vOJ"
      },
      "source": [
        "Run this cell after restarting your colab runtime"
      ]
    },
    {
      "cell_type": "code",
      "execution_count": null,
      "metadata": {
        "colab": {
          "base_uri": "https://localhost:8080/"
        },
        "id": "Qowp5G6F_vOK",
        "outputId": "0a55cab8-4ae0-4eb8-90d9-6ade663056be",
        "pycharm": {
          "name": "#%%\n"
        }
      },
      "outputs": [
        {
          "name": "stdout",
          "output_type": "stream",
          "text": [
            "CUDA availability: True\n"
          ]
        }
      ],
      "source": [
        "import os\n",
        "import sys\n",
        "import torch\n",
        "# os.chdir('/content/3d-machine-learning/')\n",
        "# sys.path.insert(1, \"/content/3d-machine-learning/\")\n",
        "print('CUDA availability:', torch.cuda.is_available())"
      ]
    },
    {
      "attachments": {},
      "cell_type": "markdown",
      "metadata": {
        "id": "mOZSPysl_vOK"
      },
      "source": [
        "---\n",
        "\n",
        "### Imports\n",
        "\n",
        "The following imports should work regardless of whether you are using Colab or local execution."
      ]
    },
    {
      "cell_type": "code",
      "execution_count": 4,
      "metadata": {
        "id": "R9D7IIQY_vOL"
      },
      "outputs": [],
      "source": [
        "%load_ext autoreload\n",
        "%autoreload 2\n",
        "from pathlib import Path\n",
        "import numpy as np\n",
        "import matplotlib as plt\n",
        "import k3d\n",
        "import trimesh\n",
        "import torch\n",
        "import tqdm"
      ]
    },
    {
      "attachments": {},
      "cell_type": "markdown",
      "metadata": {
        "id": "RfP4Dy_7_vOL"
      },
      "source": [
        "Use the next cell to test whether a GPU was detected by pytorch."
      ]
    },
    {
      "cell_type": "code",
      "execution_count": null,
      "metadata": {
        "colab": {
          "base_uri": "https://localhost:8080/"
        },
        "id": "W8Q7_gxG_vOL",
        "outputId": "d15f68a4-c5a5-4bbd-8c14-5e1f73d6f713"
      },
      "outputs": [
        {
          "data": {
            "text/plain": [
              "True"
            ]
          },
          "execution_count": 15,
          "metadata": {},
          "output_type": "execute_result"
        }
      ],
      "source": [
        "torch.cuda.is_available()"
      ]
    },
    {
      "attachments": {},
      "cell_type": "markdown",
      "metadata": {
        "id": "yPxEq9qK_vOM"
      },
      "source": [
        "## 2.1. ShapeNet Terms of Use\n",
        "\n",
        "We provide pre-processed shapes from the [ShapeNet](//shapenet.org) database for this exercise. ShapeNet is an ongoing effort to establish a richly-annotated, large-scale dataset of 3D shapes and is a collaborative effort between researchers at Princeton, Stanford and TTIC.\n",
        "\n",
        "<img src=\"exercise_2/images/shapenet.png\" alt=\"shapenet\" style=\"width: 512px;\"/>\n",
        "\n",
        "In order to be able to use the data, we ask you to read and agree to their Terms of Use as stated below (this is a requirement for passing this exercise):\n",
        "\n",
        "1. Researcher shall use the Database only for non-commercial research and educational purposes.\n",
        "2. Princeton University and Stanford University make no representations or warranties regarding the Database, including but not limited to warranties of non-infringement or fitness for a particular purpose.\n",
        "3. Researcher accepts full responsibility for his or her use of the Database and shall defend and indemnify Princeton University and Stanford University, including their employees, Trustees, officers and agents, against any and all claims arising from Researcher's use of the Database, including but not limited to Researcher's use of any copies of copyrighted 3D models that he or she may create from the Database.\n",
        "4. Researcher may provide research associates and colleagues with access to the Database provided that they first agree to be bound by these terms and conditions.\n",
        "5. Princeton University and Stanford University reserve the right to terminate Researcher's access to the Database at any time.\n",
        "6. If Researcher is employed by a for-profit, commercial entity, Researcher's employer shall also be bound by these terms and conditions, and Researcher hereby represents that he or she is fully authorized to enter into this agreement on behalf of such employer.\n",
        "7. The law of the State of New Jersey shall apply to all disputes under this agreement.\n",
        "\n",
        "To agree, simply type `I agree to the Terms of Use` in the next code cell."
      ]
    },
    {
      "cell_type": "code",
      "execution_count": null,
      "metadata": {
        "id": "WF9Z7WCG_vON"
      },
      "outputs": [],
      "source": [
        "# I agree to the Terms of Use"
      ]
    },
    {
      "cell_type": "code",
      "execution_count": null,
      "metadata": {
        "colab": {
          "base_uri": "https://localhost:8080/"
        },
        "id": "5dR_6L2LU2wh",
        "outputId": "07885697-c9c8-4df6-b8cb-548e9bf15950"
      },
      "outputs": [
        {
          "name": "stdout",
          "output_type": "stream",
          "text": [
            "sample_data\n"
          ]
        }
      ],
      "source": [
        "# %cd"
      ]
    },
    {
      "attachments": {},
      "cell_type": "markdown",
      "metadata": {
        "id": "_rSuks-d_vON"
      },
      "source": [
        "## 2.2. A simple 3D CNN with pytorch\n",
        "\n",
        "Here, we will create a very simple 3D Convolutional Neural Network on some toy data. This is meant as a quick introduction into the pytorch framework if you haven't used it yet. It will cover everything you need to know for the following parts of the exercise; if you want to go into a bit more detail about the framework, a good place to start is the official [pytorch quickstart tutorial](https://pytorch.org/tutorials/beginner/basics/quickstart_tutorial.html).\n",
        "\n",
        "A very useful resource if you want to know more about a certain class or function are the [official docs](https://pytorch.org/docs/stable/index.html). Take a minute to look at the documentation of a [Tensor](https://pytorch.org/docs/stable/tensors.html?highlight=tensor#torch.Tensor) which is the data structure pytorch uses throughout their APIs. It is comparable to a numpy array, with added functionality such as the ability to move seamlessly between cpu host memory and cuda device memory or the integrated autograd functionality for automatic differentiation. Most importantly, you can create a tensor from a numpy array with `torch.from_numpy(array)` and the other way around with `array = tensor.numpy()`.\n",
        "\n",
        "Our objective with this 3D CNN is to simply classify if a given SDF is containing a sphere or a torus. The data is generated the same way we did it in the last exercise (we randomize the shape parameters a bit so the task is not too trivial). Each such sample has a scalar label associated with it, either 0 or 1, depending on the shape it contains.\n",
        "\n",
        "All of the implementation in this part will take place in `exercise_2/simple_nn.py`. This makes sense for now but note that we would usually spread things over multiple different files like in the following exercise parts.\n",
        "\n",
        "The important bits we need for every training in pytorch are:\n",
        "1. The **dataset** implementation. This is a class responsible for providing the data used by the training procedure sample-by-sample. In its simplest form, it just loads data samples (eg. point clouds or voxel grids) from disk. However, it is usually also used to transform raw data from disk into the correct format and to apply various kinds of augmentations.\n",
        "2. The network definition (\"**model**\") that we want to train. It specifies the network structure (number and type of layers, activation functions, normalization layers etc.) as well as how exactly input data is processed.\n",
        "3. The **loss function**: For classification, this is usually a Cross Entropy Loss; we will also see reconstruction losses like l1 and l2 in exercise 3.\n",
        "4. The **optimizer**: Usually chosen from a set of pre-defined classes like SGD or ADAM.\n",
        "5. The **training loop**: For each batch of data, it does the following: Loads data from the dataloader, passes it through the model (\"forward pass\"), computes the loss, calculates the gradients (\"backward pass\"), and finally, adjusts the network weights using the optimizer.\n",
        "\n",
        "Let's walk through everything step-by-step:"
      ]
    },
    {
      "attachments": {},
      "cell_type": "markdown",
      "metadata": {
        "id": "Wtt3RTh6_vOO"
      },
      "source": [
        "### (a) Dataset\n",
        "\n",
        "We start by implementing the data source, which is called `Dataset` in pytorch. Take a look at the `SimpleDataset` class, it contains everything we have to implement to make it work:\n",
        "1. The `__init__` function that takes paramters and prepares the dataset by setting paths etc. Here, the one thing you always have to do is to load at least a list of samples you want to use - they don't have to be loaded from disk yet, but you need to know which and how many samples there are. This usually also depends on the current split - you use a different set of samples for training than for validation or testing.\n",
        "2. The `__len__` function that returns the total number of samples. In most cases, this will simply be the length of the list of samples you prepared in `__init__`.\n",
        "3. The `__getitem__` function. This is where the actual dataloading takes place. The function gets an index between 0 and the length you returned with `__len__`. Your job is then to return some data corresponding to the index. You do not need to worry about putting data onto the GPU here yet; instead, you load the data and return a tuple containing numpy arrays and other data like sample ids you might need in your training loop. Overall, you should take the index parameter in this function, find the sample id it belongs to, load that data, and then return it in a format that can be used in the training loop.\n",
        "\n",
        "Note that it is also fine to load all data into a list in the `__init__` function for small datasets like our toy dataset in this exercise part. You would then just index this pre-loaded data in your `__getitem__` function.\n",
        "\n",
        "Add and implement functions `__init__`, `__len__`, and `__getitem__` in class `SimpleDataset`. \n",
        "\n",
        "First, implement `__init__`: It takes a single parameter (called `split`) that determines if we are using train or val split at the moment. Based on that, it should generate toy data: 4096 samples if the split is train and 1024 if it is val. Use `generate_toy_data` from `exercise_2/util/toy_data.py` for this which generates two numpy arrays: The first one containing sphere and torus SDFs generated with randomized parameters and the second one classification labels, a 0 if the corresponding SDF in the first array is a sphere and 1 if it is a torus.\n",
        "\n",
        "Then, implement `__len__` by simply returning the length of the data you generated in `__init__`.\n",
        "\n",
        "Lastly, implement `__getitem__` which takes an integer index and returns a tuple: A numpy array containing the input SDF volume as generated by `generate_toy_data` before and a scalar value that represents the target class label for this volume.\n",
        "\n",
        "Note: You have to add an additional dimension of size 1 to the input volume you return in `__getitem__` to make everything work later on, i.e. instead of returning a numpy array of shape (32, 32, 32), you should return an array of shape (1, 32, 32, 32).\n",
        "\n",
        "Test your implementation with the checks below:"
      ]
    },
    {
      "cell_type": "code",
      "execution_count": null,
      "metadata": {
        "colab": {
          "base_uri": "https://localhost:8080/"
        },
        "id": "aGzxZnje_vOO",
        "outputId": "5540fe02-7458-47c2-ef69-5f1a545cf218"
      },
      "outputs": [
        {
          "name": "stdout",
          "output_type": "stream",
          "text": [
            "Generating toy data ...\n",
            "Generating toy data ...\n",
            "Length of train set: 4096\n",
            "Length of val set: 1024\n",
            "(1, 32, 32, 32)\n",
            "Class = 0\n",
            "(1, 32, 32, 32)\n",
            "Class = 1\n"
          ]
        }
      ],
      "source": [
        "from exercise_2.simple_nn import SimpleDataset\n",
        "\n",
        "# Create datasets with train and val splits\n",
        "train_dataset = SimpleDataset('train')\n",
        "val_dataset = SimpleDataset('val')\n",
        "\n",
        "# Test lengths\n",
        "print(f'Length of train set: {len(train_dataset)}')  # expected output: 4096\n",
        "print(f'Length of val set: {len(val_dataset)}')  # expected output: 1024\n",
        "\n",
        "# Get sample at index 0\n",
        "train_sample = train_dataset[0]\n",
        "print(train_sample[0].shape)  # Expected output (1, 32, 32, 32) (the leading 1 is important for later)\n",
        "print(f\"Class = {train_sample[1]}\")  # Expected output: Scalar value 0\n",
        "val_sample = val_dataset[-1]\n",
        "print(val_sample[0].shape)  # Expected output (1, 32, 32, 32) (the leading 1 is important for later)\n",
        "print(f\"Class = {val_sample[1]}\")  # Expected output: Scalar value 1"
      ]
    },
    {
      "cell_type": "code",
      "execution_count": null,
      "metadata": {
        "id": "SXA29Etf_vOP",
        "outputId": "73f395e0-7e32-46d2-889c-7abd1c2b0d74"
      },
      "outputs": [
        {
          "name": "stdout",
          "output_type": "stream",
          "text": [
            "Creating SDF visualization for 32^3 grid ...\n",
            "Exported to c:\\Users\\Youssef\\Repos\\TUM\\SS23\\3DMl\\exercises\\E2\\toy_data.ply\n"
          ]
        }
      ],
      "source": [
        "from exercise_2.util.visualization import visualize_sdf\n",
        "\n",
        "train_sample = train_dataset[0]\n",
        "visualize_sdf(train_sample[0].squeeze(0), filename=Path.cwd() / 'toy_data.ply')"
      ]
    },
    {
      "attachments": {},
      "cell_type": "markdown",
      "metadata": {
        "id": "5ACtxtr4_vOP"
      },
      "source": [
        "### (b) Model\n",
        "The model is defined in class `SimpleModel`. Two functions are important here: `__init__` which sets up the architecture by instantiating layers with the correct parameters and adapting them to possible input parameters and `forward` which takes an input tensor (we call it `x` here). The output of `forward` is another tensor that contains the result of the network - in our case, this is a vector of logits which will then be used for classification. It could also be a volume of labels if you do segmentation or a volume of the same size as the input if you do reconstruction.\n",
        "\n",
        "Analogous to `forward`, you could also define a custom `backward` function that describes how to calculate the gradients for your model. However, this is not necessary for most architectures as pytorch's autograd implementation takes care of all of that.\n",
        "\n",
        "For now, we will implement a very simple model: We stack together three 3D Convolution layers and have a fully connected layer at the end for classification. This is a schematic for the overall model structure:\n",
        "<img src=\"exercise_2/images/simplenn.png\" alt=\"simplenn_architecture\" style=\"width: 512px;\"/>\n",
        "\n",
        "Each layer starts with a 3d convolution, followed by a batch normalization layer and a ReLU activation function. We left the implementation of the first layer in there; your task is to fill out the missing parts in `__init__` for layers 2 and 3 (use the same parameters as for the first convolution: kernel size 4, stride 3, padding 1). Each convolution should double the number of feature channels, such that you get a volume of size 16 x 1 x 1 x 1 after layer 3. You also need to define the ReLU and the fully connected layer (for this, use `torch.nn.Linear` to reduce the number of dimensions from 16 to 2).\n",
        "\n",
        "In `forward`, you can repeat the first line to move the input tensor through all three convolutional layers. Then, reshape the resulting tensor to dimension batchsize x 16 (the batch size is always the first dimension) and apply the linear layer to it. Return the result as-is.\n",
        "\n",
        "Hint: The ease of debugging is one of the main reasons why pytorch is preferred in research over alternatives like tensorflow. You can set breakpoints in the `forward` function and watch as the input tensor gets modified by each layer to find bugs or things like wrongly calculated convolution parameters.\n",
        "\n",
        "Use the following sanity checks to verify your model:"
      ]
    },
    {
      "cell_type": "code",
      "execution_count": null,
      "metadata": {
        "id": "Bw7kZrlw_vOQ",
        "outputId": "765508f4-088d-43b3-cfda-09c718352dfc"
      },
      "outputs": [
        {
          "name": "stdout",
          "output_type": "stream",
          "text": [
            "  | Name   | Type        | Params\n",
            "---------------------------------------\n",
            "0 | conv1  | Conv3d      | 260   \n",
            "1 | bn1    | BatchNorm3d | 8     \n",
            "2 | conv2  | Conv3d      | 2056  \n",
            "3 | bn2    | BatchNorm3d | 16    \n",
            "4 | conv3  | Conv3d      | 8208  \n",
            "5 | bn3    | BatchNorm3d | 32    \n",
            "6 | linear | Linear      | 34    \n",
            "7 | relu   | ReLU        | 0     \n",
            "8 | TOTAL  | SimpleModel | 10614 \n",
            "Output tensor shape:  torch.Size([32, 2])\n"
          ]
        }
      ],
      "source": [
        "from exercise_2.simple_nn import SimpleModel\n",
        "from exercise_2.util.model import summarize_model\n",
        "\n",
        "simple_nn = SimpleModel()\n",
        "print(summarize_model(simple_nn))  # Expected: Rows 0-8 and TOTAL = 10614\n",
        "\n",
        "input_tensor = torch.randn(32, 1, 32, 32, 32)\n",
        "predictions = simple_nn(input_tensor)\n",
        "\n",
        "print('Output tensor shape: ', predictions.shape)  # Expected: torch.Size([32, 2])"
      ]
    },
    {
      "attachments": {},
      "cell_type": "markdown",
      "metadata": {
        "id": "HEE5p8HD_vOQ"
      },
      "source": [
        "### (c) Training"
      ]
    },
    {
      "attachments": {},
      "cell_type": "markdown",
      "metadata": {
        "id": "5DsQrvvD_vOQ"
      },
      "source": [
        "We already laid out most of the code structure you need to start training once you have your dataset and model defined. This code usually does not change much between projects; this is why there exist many different libraries to simplify it even more (you can take a look at pytorch lightning for example if you are interested). We will stick to the standard pytorch way of doing things for these exercises.\n",
        "\n",
        "The most important things left to do are:\n",
        "1. Define the data loaders. They take the samples you provide in your dataset implementation and take care of loading multiple samples in parallel, shuffling the dataset, and combining samples into batches.\n",
        "2. Define a loss function. For classification, this is usually `torch.nn.CrossEntropyLoss`\n",
        "3. Instantiate the optimizer. Mostly, this will be ADAM (`torch.optim.Adam`) unless you have a good reason to use another one.\n",
        "4. Implement the training loop: Get a batch of data from the data loader, move it to the GPU, perform a forward pass, compute the loss, calculate gradients in the backward pass, adjust weights in an optimizer step, repeat.\n",
        "\n",
        "Note: You have to move some stuff to the correct compute device (usually the GPU) by calling `.to(device)`: The model and loss function as well as the data you get from each batch.\n",
        "\n",
        "Take a look at the structure of `main` since you will also use it for the next exercise parts and fill in code in `train` at the blanks marked with TODO. Then, start the training below. For this exercise, we don't care too much about the results since it is a very easy classification task anyways. Your model should be able to get to > 98% validation accuracy, though. You can stop the training once that is the case."
      ]
    },
    {
      "cell_type": "code",
      "execution_count": null,
      "metadata": {
        "id": "pseS9oka_vOQ",
        "outputId": "7c44d210-5456-44f5-acbb-eada5ceed0be",
        "scrolled": true
      },
      "outputs": [
        {
          "name": "stdout",
          "output_type": "stream",
          "text": [
            "Using CPU\n",
            "Generating toy data ...\n",
            "Generating toy data ...\n",
            "[000/00024] train_loss: 0.483\n",
            "[000/00049] train_loss: 0.343\n",
            "[000/00074] train_loss: 0.285\n",
            "[000/00099] train_loss: 0.231\n",
            "[000/00099] val_loss: 0.212, val_accuracy: 94.629%\n",
            "[000/00124] train_loss: 0.204\n",
            "[001/00021] train_loss: 0.142\n",
            "[001/00046] train_loss: 0.157\n",
            "[001/00071] train_loss: 0.141\n",
            "[001/00071] val_loss: 0.147, val_accuracy: 97.656%\n",
            "[001/00096] train_loss: 0.139\n",
            "[001/00121] train_loss: 0.102\n",
            "[002/00018] train_loss: 0.072\n",
            "[002/00043] train_loss: 0.087\n",
            "[002/00043] val_loss: 0.069, val_accuracy: 97.656%\n",
            "[002/00068] train_loss: 0.089\n",
            "[002/00093] train_loss: 0.062\n",
            "[002/00118] train_loss: 0.080\n",
            "[003/00015] train_loss: 0.052\n",
            "[003/00015] val_loss: 0.088, val_accuracy: 98.047%\n",
            "[003/00040] train_loss: 0.078\n",
            "[003/00065] train_loss: 0.124\n",
            "[003/00090] train_loss: 0.086\n",
            "[003/00115] train_loss: 0.068\n",
            "[003/00115] val_loss: 0.066, val_accuracy: 97.852%\n",
            "[004/00012] train_loss: 0.037\n",
            "[004/00037] train_loss: 0.058\n",
            "[004/00062] train_loss: 0.068\n",
            "[004/00087] train_loss: 0.062\n",
            "[004/00087] val_loss: 0.044, val_accuracy: 99.219%\n",
            "[004/00112] train_loss: 0.063\n",
            "[005/00009] train_loss: 0.021\n",
            "[005/00034] train_loss: 0.062\n",
            "[005/00059] train_loss: 0.059\n",
            "[005/00059] val_loss: 0.049, val_accuracy: 98.340%\n",
            "[005/00084] train_loss: 0.074\n",
            "[005/00109] train_loss: 0.070\n",
            "[006/00006] train_loss: 0.019\n",
            "[006/00031] train_loss: 0.063\n",
            "[006/00031] val_loss: 0.107, val_accuracy: 97.168%\n",
            "[006/00056] train_loss: 0.130\n",
            "[006/00081] train_loss: 0.094\n",
            "[006/00106] train_loss: 0.096\n",
            "[007/00003] train_loss: 0.008\n",
            "[007/00003] val_loss: 0.065, val_accuracy: 98.047%\n",
            "[007/00028] train_loss: 0.064\n",
            "[007/00053] train_loss: 0.067\n",
            "[007/00078] train_loss: 0.067\n",
            "[007/00103] train_loss: 0.057\n",
            "[007/00103] val_loss: 0.051, val_accuracy: 99.121%\n",
            "[008/00000] train_loss: 0.002\n",
            "[008/00025] train_loss: 0.055\n",
            "[008/00050] train_loss: 0.057\n",
            "[008/00075] train_loss: 0.053\n",
            "[008/00075] val_loss: 0.047, val_accuracy: 99.414%\n",
            "[008/00100] train_loss: 0.038\n",
            "[008/00125] train_loss: 0.051\n",
            "[009/00022] train_loss: 0.043\n",
            "[009/00047] train_loss: 0.077\n",
            "[009/00047] val_loss: 0.070, val_accuracy: 97.852%\n",
            "[009/00072] train_loss: 0.116\n",
            "[009/00097] train_loss: 0.049\n",
            "[009/00122] train_loss: 0.070\n",
            "[010/00019] train_loss: 0.041\n",
            "[010/00019] val_loss: 0.042, val_accuracy: 98.730%\n",
            "[010/00044] train_loss: 0.043\n",
            "[010/00069] train_loss: 0.080\n",
            "[010/00094] train_loss: 0.058\n",
            "[010/00119] train_loss: 0.073\n",
            "[010/00119] val_loss: 0.037, val_accuracy: 99.219%\n",
            "[011/00016] train_loss: 0.047\n",
            "[011/00041] train_loss: 0.032\n",
            "[011/00066] train_loss: 0.053\n",
            "[011/00091] train_loss: 0.088\n",
            "[011/00091] val_loss: 0.037, val_accuracy: 98.828%\n",
            "[011/00116] train_loss: 0.029\n",
            "[012/00013] train_loss: 0.016\n",
            "[012/00038] train_loss: 0.034\n",
            "[012/00063] train_loss: 0.035\n",
            "[012/00063] val_loss: 0.024, val_accuracy: 99.414%\n",
            "[012/00088] train_loss: 0.051\n",
            "[012/00113] train_loss: 0.068\n",
            "[013/00010] train_loss: 0.021\n",
            "[013/00035] train_loss: 0.057\n",
            "[013/00035] val_loss: 0.053, val_accuracy: 98.926%\n",
            "[013/00060] train_loss: 0.058\n",
            "[013/00085] train_loss: 0.050\n",
            "[013/00110] train_loss: 0.051\n",
            "[014/00007] train_loss: 0.024\n",
            "[014/00007] val_loss: 0.022, val_accuracy: 99.219%\n",
            "[014/00032] train_loss: 0.032\n",
            "[014/00057] train_loss: 0.025\n",
            "[014/00082] train_loss: 0.063\n",
            "[014/00107] train_loss: 0.055\n",
            "[014/00107] val_loss: 0.036, val_accuracy: 98.926%\n",
            "[015/00004] train_loss: 0.008\n",
            "[015/00029] train_loss: 0.035\n",
            "[015/00054] train_loss: 0.039\n",
            "[015/00079] train_loss: 0.048\n",
            "[015/00079] val_loss: 0.018, val_accuracy: 99.512%\n",
            "[015/00104] train_loss: 0.048\n",
            "[016/00001] train_loss: 0.005\n",
            "[016/00026] train_loss: 0.026\n",
            "[016/00051] train_loss: 0.042\n",
            "[016/00051] val_loss: 0.063, val_accuracy: 98.926%\n",
            "[016/00076] train_loss: 0.103\n",
            "[016/00101] train_loss: 0.064\n",
            "[016/00126] train_loss: 0.106\n",
            "[017/00023] train_loss: 0.079\n",
            "[017/00023] val_loss: 0.070, val_accuracy: 97.656%\n",
            "[017/00048] train_loss: 0.067\n",
            "[017/00073] train_loss: 0.064\n",
            "[017/00098] train_loss: 0.069\n",
            "[017/00123] train_loss: 0.067\n",
            "[017/00123] val_loss: 0.056, val_accuracy: 98.438%\n",
            "[018/00020] train_loss: 0.052\n",
            "[018/00045] train_loss: 0.076\n",
            "[018/00070] train_loss: 0.059\n",
            "[018/00095] train_loss: 0.057\n",
            "[018/00095] val_loss: 0.039, val_accuracy: 99.023%\n",
            "[018/00120] train_loss: 0.047\n",
            "[019/00017] train_loss: 0.030\n",
            "[019/00042] train_loss: 0.068\n",
            "[019/00067] train_loss: 0.038\n",
            "[019/00067] val_loss: 0.021, val_accuracy: 99.512%\n",
            "[019/00092] train_loss: 0.038\n",
            "[019/00117] train_loss: 0.033\n",
            "[020/00014] train_loss: 0.015\n",
            "[020/00039] train_loss: 0.020\n",
            "[020/00039] val_loss: 0.018, val_accuracy: 99.512%\n",
            "[020/00064] train_loss: 0.041\n",
            "[020/00089] train_loss: 0.088\n",
            "[020/00114] train_loss: 0.118\n",
            "[021/00011] train_loss: 0.034\n",
            "[021/00011] val_loss: 0.051, val_accuracy: 98.242%\n",
            "[021/00036] train_loss: 0.079\n",
            "[021/00061] train_loss: 0.054\n",
            "[021/00086] train_loss: 0.068\n",
            "[021/00111] train_loss: 0.072\n",
            "[021/00111] val_loss: 0.035, val_accuracy: 99.219%\n",
            "[022/00008] train_loss: 0.014\n",
            "[022/00033] train_loss: 0.057\n",
            "[022/00058] train_loss: 0.047\n",
            "[022/00083] train_loss: 0.066\n",
            "[022/00083] val_loss: 0.032, val_accuracy: 99.121%\n",
            "[022/00108] train_loss: 0.044\n",
            "[023/00005] train_loss: 0.003\n",
            "[023/00030] train_loss: 0.038\n",
            "[023/00055] train_loss: 0.041\n",
            "[023/00055] val_loss: 0.027, val_accuracy: 99.414%\n",
            "[023/00080] train_loss: 0.048\n",
            "[023/00105] train_loss: 0.048\n",
            "[024/00002] train_loss: 0.004\n",
            "[024/00027] train_loss: 0.032\n",
            "[024/00027] val_loss: 0.014, val_accuracy: 99.609%\n",
            "[024/00052] train_loss: 0.060\n",
            "[024/00077] train_loss: 0.020\n",
            "[024/00102] train_loss: 0.067\n",
            "[024/00127] train_loss: 0.047\n",
            "[024/00127] val_loss: 0.035, val_accuracy: 99.121%\n"
          ]
        }
      ],
      "source": [
        "from exercise_2 import simple_nn\n",
        "\n",
        "config={\n",
        "    'experiment_name': '2_2_simple_nn',\n",
        "    'device': 'cuda:0',  # change this to cpu if you do not have a GPU\n",
        "    'batch_size': 32,\n",
        "    'resume_ckpt': None,\n",
        "    'learning_rate': 0.001,\n",
        "    'max_epochs': 25,\n",
        "    'print_every_n': 25,\n",
        "    'validate_every_n': 100\n",
        "}\n",
        "\n",
        "simple_nn.main(config)  # should have val_accuracy > 99%"
      ]
    },
    {
      "attachments": {},
      "cell_type": "markdown",
      "metadata": {
        "id": "2JoK5GgZ_vOR"
      },
      "source": [
        "That's it! In the following parts, we will now move on to more complicated problems and more involved network models."
      ]
    },
    {
      "attachments": {},
      "cell_type": "markdown",
      "metadata": {
        "id": "3RDttVLQ_vOR"
      },
      "source": [
        "## 2.3. Shape Classification using 3DCNN\n",
        "\n",
        "### (a) Download and extract voxelized ShapeNet training data"
      ]
    },
    {
      "attachments": {},
      "cell_type": "markdown",
      "metadata": {
        "id": "BjccSxNR_vOR"
      },
      "source": [
        "Each folder in the `exercise_2/data/ShapeNetVox32` directory represents a shape category represented by a number, e.g. `02691156`.\n",
        "We provide the mapping between these numbers and the corresponding names in `exercise_2/data/shape_info.json`. Each of these shape category folders contains a number of shapes\n",
        "represented as voxels and stored in a `binvox` format.\n",
        "\n",
        "```\n",
        "# contents of exercise_2/data/ShapeNetVox32\n",
        "\n",
        "02691156/                                   # Shape category folder with all it's shapes\n",
        "    ├── 1a04e3eab45ca15dd86060f189eb133/    # A single shape of the category\n",
        "        ├── model.binvox                    # Voxel representation of the shape in binvox format\n",
        "    ├── 1a6ad7a24bb89733f412783097373bdc/   # Another shape of the category\n",
        "    ├── 1a9b552befd6306cc8f2d5fe7449af61/\n",
        "    ├── :                                   # And so on ...\n",
        "    ├── :\n",
        "02828884/                                   # Another shape category folder\n",
        "02933112/                                   # In total you should have 13 shape category folders\n",
        ":\n",
        ":\n",
        "```"
      ]
    },
    {
      "cell_type": "code",
      "execution_count": null,
      "metadata": {
        "colab": {
          "base_uri": "https://localhost:8080/"
        },
        "id": "A6rvUtdj_vOS",
        "outputId": "8398e995-e46e-4fa6-ad69-481344342e8a"
      },
      "outputs": [
        {
          "name": "stderr",
          "output_type": "stream",
          "text": [
            "[autoreload of exercise_2.training.train_3dcnn failed: Traceback (most recent call last):\n",
            "  File \"/usr/local/lib/python3.10/dist-packages/IPython/extensions/autoreload.py\", line 245, in check\n",
            "    superreload(m, reload, self.old_objects)\n",
            "  File \"/usr/local/lib/python3.10/dist-packages/IPython/extensions/autoreload.py\", line 394, in superreload\n",
            "    module = reload(module)\n",
            "  File \"/usr/lib/python3.10/imp.py\", line 315, in reload\n",
            "    return importlib.reload(module)\n",
            "  File \"/usr/lib/python3.10/importlib/__init__.py\", line 169, in reload\n",
            "    _bootstrap._exec(spec, module)\n",
            "  File \"<frozen importlib._bootstrap>\", line 619, in _exec\n",
            "  File \"<frozen importlib._bootstrap_external>\", line 879, in exec_module\n",
            "  File \"<frozen importlib._bootstrap_external>\", line 1017, in get_code\n",
            "  File \"<frozen importlib._bootstrap_external>\", line 947, in source_to_code\n",
            "  File \"<frozen importlib._bootstrap>\", line 241, in _call_with_frames_removed\n",
            "  File \"/content/drive/MyDrive/3DML/E2/exercise_2/training/train_3dcnn.py\", line 136\n",
            "    prediction = torch.mode(predicted_label.squeeze(0) n, 0).values.item()\n",
            "                            ^^^^^^^^^^^^^^^^^^^^^^^^^^^^\n",
            "SyntaxError: invalid syntax. Perhaps you forgot a comma?\n",
            "]\n"
          ]
        },
        {
          "name": "stdout",
          "output_type": "stream",
          "text": [
            "Downloading ...\n",
            "URL transformed to HTTPS due to an HSTS policy\n",
            "--2023-05-27 15:13:54--  https://cvgl.stanford.edu/data2/ShapeNetVox32.tgz\n",
            "Resolving cvgl.stanford.edu (cvgl.stanford.edu)... 171.64.64.64\n",
            "Connecting to cvgl.stanford.edu (cvgl.stanford.edu)|171.64.64.64|:443... connected.\n",
            "HTTP request sent, awaiting response... 200 OK\n",
            "Length: 22218020 (21M) [application/x-gzip]\n",
            "Saving to: ‘exercise_2/data/ShapeNetVox32.tgz’\n",
            "\n",
            "ShapeNetVox32.tgz   100%[===================>]  21.19M  34.6MB/s    in 0.6s    \n",
            "\n",
            "2023-05-27 15:13:55 (34.6 MB/s) - ‘exercise_2/data/ShapeNetVox32.tgz’ saved [22218020/22218020]\n",
            "\n",
            "Extracting ...\n",
            "Done.\n"
          ]
        }
      ],
      "source": [
        "print('Downloading ...')\n",
        "!wget http://cvgl.stanford.edu/data2/ShapeNetVox32.tgz -P exercise_2/data\n",
        "print('Extracting ...')\n",
        "!tar -xzf exercise_2/data/ShapeNetVox32.tgz -C exercise_2/data\n",
        "!rm exercise_2/data/ShapeNetVox32.tgz\n",
        "print('Done.')"
      ]
    },
    {
      "attachments": {},
      "cell_type": "markdown",
      "metadata": {
        "id": "_r0lohzZ_vOS",
        "pycharm": {
          "name": "#%% md\n"
        }
      },
      "source": [
        "### (b) Dataloading and exploring the data\n",
        "\n",
        "We already provide you with a training and validation split in files `train.txt` and `val.txt` in folder `exercise_2/data/splits/shapenet`.\n",
        "All the shapes in the list `train.txt` make up the training samples, while all the samples in `val.txt` constitute the validation set.\n",
        "Additionally, we provide `overfit.txt` as the set of shapes we'll use for overfitting / debugging later.\n",
        "\n",
        "Now let's write a Pytorch Dataset class that can load this data from the disk. Check out `ShapeNetVox` class in file `exercise_2/data/shapenet.py`\n",
        "for a partial implementation of such a dataset.\n",
        "\n",
        "The dataset class is instantiated with the type of the split, e.g. `train`, `val` or `overfit` and loads all\n",
        "shape names for that split as a list in its member variable `self.items`. The class also provides utility method `get_shape_voxels(shapenet_id)`\n",
        "which given a `shapenet_id` of the form `<shape_class>/<shape_identifier>` returns a 32x32x32 numpy array representing the voxels of the shape.\n",
        "The class also provides a list of all shape categories as the static member `ShapeNetVox.classes`.\n",
        "\n",
        "Your task is to fill out the missing implementations of functions `__getitem__` and `__len__` as specified by their docstrings.\n",
        "Once done, test your implementation below."
      ]
    },
    {
      "cell_type": "code",
      "execution_count": null,
      "metadata": {
        "colab": {
          "base_uri": "https://localhost:8080/"
        },
        "id": "6uCBh-f3YqRj",
        "outputId": "b54d3fbb-c7c0-4c7d-8047-18971267d83f"
      },
      "outputs": [
        {
          "name": "stdout",
          "output_type": "stream",
          "text": [
            "/content/drive/MyDrive/3DML/E2\n"
          ]
        }
      ],
      "source": [
        "%cd E2"
      ]
    },
    {
      "cell_type": "code",
      "execution_count": null,
      "metadata": {
        "id": "C6vpGBUB_vOS",
        "pycharm": {
          "name": "#%%\n"
        }
      },
      "outputs": [],
      "source": [
        "from exercise_2.data.shapenet import ShapeNetVox\n",
        "# Let's test your implementation"
      ]
    },
    {
      "cell_type": "code",
      "execution_count": null,
      "metadata": {
        "colab": {
          "base_uri": "https://localhost:8080/"
        },
        "id": "_nX-9MIX_vOS",
        "outputId": "dd0b04f3-652a-4ee0-8d8d-6dd01a8f3c30",
        "pycharm": {
          "name": "#%%\n"
        }
      },
      "outputs": [
        {
          "name": "stdout",
          "output_type": "stream",
          "text": [
            "Length of train set: 21705\n"
          ]
        }
      ],
      "source": [
        "# Create a dataset with train split\n",
        "trainset = ShapeNetVox('train')\n",
        "\n",
        "# Get length, which is a call to __len__ function\n",
        "print(f'Length of train set: {len(trainset)}')  # expected output: 21705"
      ]
    },
    {
      "cell_type": "code",
      "execution_count": null,
      "metadata": {
        "colab": {
          "base_uri": "https://localhost:8080/"
        },
        "id": "PBMqsL8J_vOT",
        "outputId": "0df77598-12a3-4813-e8c1-b66dab525cd3",
        "pycharm": {
          "name": "#%%\n"
        }
      },
      "outputs": [
        {
          "name": "stdout",
          "output_type": "stream",
          "text": [
            "Length of validation set: 5426\n"
          ]
        }
      ],
      "source": [
        "# Create a dataset with val split and print its length\n",
        "valset = ShapeNetVox('val')\n",
        "print(f'Length of validation set: {len(valset)}')  # expected output: 5426"
      ]
    },
    {
      "cell_type": "code",
      "execution_count": null,
      "metadata": {
        "colab": {
          "base_uri": "https://localhost:8080/",
          "height": 69,
          "referenced_widgets": [
            "5f00d8ec551c4a11afa08a8397c6d84f",
            "d2212e28fd7546d1bd39d2316d6d148c",
            "f2b7b831ca9448bc9b6164ef44c7d35b"
          ]
        },
        "id": "PgM_m9Hu_vOT",
        "outputId": "afb8e898-fcce-402e-8f27-3046c04f89cb",
        "pycharm": {
          "name": "#%%\n"
        }
      },
      "outputs": [
        {
          "name": "stdout",
          "output_type": "stream",
          "text": [
            "Name: 04379243/d120d47f8c9bc5028640bc5712201c4a\n",
            "Voxel Dimensions: (1, 32, 32, 32)\n",
            "Label: 10 | 04379243\n"
          ]
        },
        {
          "data": {
            "application/vnd.jupyter.widget-view+json": {
              "model_id": "5f00d8ec551c4a11afa08a8397c6d84f",
              "version_major": 2,
              "version_minor": 0
            },
            "text/plain": [
              "Output()"
            ]
          },
          "metadata": {},
          "output_type": "display_data"
        }
      ],
      "source": [
        "# Visualize some shapes\n",
        "from exercise_2.util.visualization import visualize_occupancy\n",
        "\n",
        "shape_data = trainset[0]\n",
        "print(f'Name: {shape_data[\"name\"]}')  # expected output: 04379243/d120d47f8c9bc5028640bc5712201c4a\n",
        "print(f'Voxel Dimensions: {shape_data[\"voxel\"].shape}')  # expected output: (1, 32, 32, 32)\n",
        "print(f'Label: {shape_data[\"label\"]} | {ShapeNetVox.classes[shape_data[\"label\"]]}')  # expected output: 10, 04379243\n",
        "\n",
        "visualize_occupancy(shape_data[\"voxel\"].squeeze(), flip_axes=True)"
      ]
    },
    {
      "cell_type": "code",
      "execution_count": null,
      "metadata": {
        "colab": {
          "base_uri": "https://localhost:8080/",
          "height": 69,
          "referenced_widgets": [
            "5e413d90d9fc4592afeeee17dec6b95f",
            "09928e45f8174090b1c01c594483c4b5",
            "ffb9752315bd42198f88e64ed828d42c"
          ]
        },
        "id": "cDIjCk1G_vOT",
        "outputId": "904002fa-ed87-4011-b60b-50efa7c3cdc1",
        "pycharm": {
          "name": "#%%\n"
        }
      },
      "outputs": [
        {
          "name": "stdout",
          "output_type": "stream",
          "text": [
            "Name: 03211117/edfc3a8ecc5b07e9feb0fb1dff94c98a\n",
            "Voxel Dimensions: (1, 32, 32, 32)\n",
            "Label: 5 | 03211117\n"
          ]
        },
        {
          "data": {
            "application/vnd.jupyter.widget-view+json": {
              "model_id": "5e413d90d9fc4592afeeee17dec6b95f",
              "version_major": 2,
              "version_minor": 0
            },
            "text/plain": [
              "Output()"
            ]
          },
          "metadata": {},
          "output_type": "display_data"
        }
      ],
      "source": [
        "shape_data = trainset[7]\n",
        "print(f'Name: {shape_data[\"name\"]}')  # expected output: 03211117/edfc3a8ecc5b07e9feb0fb1dff94c98a\n",
        "print(f'Voxel Dimensions: {shape_data[\"voxel\"].shape}')  # expected output: (1, 32, 32, 32)\n",
        "print(f'Label: {shape_data[\"label\"]} | {ShapeNetVox.classes[shape_data[\"label\"]]}')  # expected output: 5, 03211117\n",
        "\n",
        "visualize_occupancy(shape_data[\"voxel\"].squeeze(), flip_axes=True)"
      ]
    },
    {
      "attachments": {},
      "cell_type": "markdown",
      "metadata": {
        "id": "vLRMcEKr_vOT",
        "pycharm": {
          "name": "#%% md\n"
        }
      },
      "source": [
        "### (c) Defining the model\n",
        "\n",
        "We'll be using the 3DCNN model introduced by Qi et al.[1] to classify shapes. In particular, we'll be using\n",
        "the \"Auxiliary Training by Subvolume Supervision\" model presented in `Section 4.2` / `Fig. 3` of the paper.\n",
        "\n",
        "<img src=\"exercise_2/images/3dcnn.png\" alt=\"3dcnn_architecture\" style=\"width: 1024px;\"/>\n",
        "\n",
        "Fill in the model implementation of `MLPConv` and `ThreeDeeCNN`(which would use `MLPConv` layers) in the file `exercise_2/model/cnn3d.py`.\n",
        "Since the 3DCNN model predicts 9 labels for each samples (1 global + 8 local), we expect the output tensor to be of the shape `(B, 9, N_cls)` where `B` is the batch size, `N_cls` are number of classes (13 in our case).\n",
        "This means that the global and auxilary parts of the network output a score per class.\n",
        "\n",
        "Here are some basic sanity tests for your implemetation."
      ]
    },
    {
      "cell_type": "code",
      "execution_count": null,
      "metadata": {
        "colab": {
          "base_uri": "https://localhost:8080/"
        },
        "id": "a85SusRo_vOU",
        "outputId": "a77142f8-f4c2-46dc-ad1e-6959a1c91219",
        "pycharm": {
          "name": "#%%\n"
        }
      },
      "outputs": [
        {
          "name": "stdout",
          "output_type": "stream",
          "text": [
            "   | Name                 | Type        | Params  \n",
            "--------------------------------------------------------\n",
            "0  | backbone             | Sequential  | 3764464 \n",
            "1  | backbone.0           | MLPConv     | 15120   \n",
            "2  | backbone.0.model     | Sequential  | 15120   \n",
            "3  | backbone.0.model.0   | Conv3d      | 10416   \n",
            "4  | backbone.0.model.1   | ReLU        | 0       \n",
            "5  | backbone.0.model.2   | Conv3d      | 2352    \n",
            "6  | backbone.0.model.3   | ReLU        | 0       \n",
            "7  | backbone.0.model.4   | Conv3d      | 2352    \n",
            "8  | backbone.0.model.5   | ReLU        | 0       \n",
            "9  | backbone.1           | MLPConv     | 1011680 \n",
            "10 | backbone.1.model     | Sequential  | 1011680 \n",
            "11 | backbone.1.model.0   | Conv3d      | 960160  \n",
            "12 | backbone.1.model.1   | ReLU        | 0       \n",
            "13 | backbone.1.model.2   | Conv3d      | 25760   \n",
            "14 | backbone.1.model.3   | ReLU        | 0       \n",
            "15 | backbone.1.model.4   | Conv3d      | 25760   \n",
            "16 | backbone.1.model.5   | ReLU        | 0       \n",
            "17 | backbone.2           | MLPConv     | 2737664 \n",
            "18 | backbone.2.model     | Sequential  | 2737664 \n",
            "19 | backbone.2.model.0   | Conv3d      | 2212352 \n",
            "20 | backbone.2.model.1   | ReLU        | 0       \n",
            "21 | backbone.2.model.2   | Conv3d      | 262656  \n",
            "22 | backbone.2.model.3   | ReLU        | 0       \n",
            "23 | backbone.2.model.4   | Conv3d      | 262656  \n",
            "24 | backbone.2.model.5   | ReLU        | 0       \n",
            "25 | partial_predictors   | ModuleList  | 53352   \n",
            "26 | partial_predictors.0 | Linear      | 6669    \n",
            "27 | partial_predictors.1 | Linear      | 6669    \n",
            "28 | partial_predictors.2 | Linear      | 6669    \n",
            "29 | partial_predictors.3 | Linear      | 6669    \n",
            "30 | partial_predictors.4 | Linear      | 6669    \n",
            "31 | partial_predictors.5 | Linear      | 6669    \n",
            "32 | partial_predictors.6 | Linear      | 6669    \n",
            "33 | partial_predictors.7 | Linear      | 6669    \n",
            "34 | full_predictor       | Sequential  | 12613645\n",
            "35 | full_predictor.0     | Linear      | 8390656 \n",
            "36 | full_predictor.1     | Linear      | 4196352 \n",
            "37 | full_predictor.2     | Linear      | 26637   \n",
            "38 | TOTAL                | ThreeDeeCNN | 16431461\n",
            "Output tensor shape:  torch.Size([8, 9, 13])\n",
            "Number of traininable params: 16.43M\n"
          ]
        }
      ],
      "source": [
        "from exercise_2.model.cnn3d import ThreeDeeCNN\n",
        "from exercise_2.util.model import summarize_model\n",
        "\n",
        "cnn3d = ThreeDeeCNN(13)\n",
        "print(summarize_model(cnn3d))  # Expected: Rows 0-40 and TOTAL = 16431461\n",
        "\n",
        "input_tensor = torch.randn(8, 1, 32, 32, 32)\n",
        "predictions = cnn3d(input_tensor)\n",
        "\n",
        "print('Output tensor shape: ', predictions.shape)  # expected output: 8, 9, 13\n",
        "\n",
        "num_trainable_params = sum(p.numel() for p in cnn3d.parameters() if p.requires_grad) / 1e6\n",
        "print(f'Number of traininable params: {num_trainable_params:.2f}M')  # expected output: ~16M"
      ]
    },
    {
      "attachments": {},
      "cell_type": "markdown",
      "metadata": {
        "id": "KxVQszx4_vOU"
      },
      "source": [
        "### (d) Training Script\n",
        "\n",
        "Now that we have the dataset class and the model class, we just need a training script\n",
        "that trains the model using data from train dataset and evaluates the model's validation\n",
        "performance during training. A partial script is provided in `exercise_2/training/train_3dcnn.py`.\n",
        "Fill in the missing blocks to make the training work."
      ]
    },
    {
      "attachments": {},
      "cell_type": "markdown",
      "metadata": {
        "id": "YRJ8cZvK_vOU"
      },
      "source": [
        "### (e) Overfitting to a few samples\n",
        "Before training on entire data, it is usually a good idea to try training on a small subset of data,\n",
        "to see if your model can do forward and backward passes without any errors, your metrics work, and that you model can\n",
        "overfit with a very low error on this small set."
      ]
    },
    {
      "cell_type": "code",
      "execution_count": null,
      "metadata": {
        "colab": {
          "base_uri": "https://localhost:8080/"
        },
        "id": "8_UsA0gt_vOc",
        "outputId": "63140259-d060-488f-e919-b7bf6a46811b",
        "pycharm": {
          "name": "#%%\n"
        }
      },
      "outputs": [
        {
          "name": "stdout",
          "output_type": "stream",
          "text": [
            "Using device: cuda:0\n",
            "[024/00003] train_loss: 20.058\n",
            "torch.Size([16]) SHAPE AFTER\n",
            "torch.Size([16]) SHAPE AFTER\n",
            "torch.Size([16]) SHAPE AFTER\n",
            "torch.Size([16]) SHAPE AFTER\n",
            "[024/00003] val_loss: 13.135, val_accuracy: 48.438%\n",
            "[049/00003] train_loss: 9.183\n",
            "torch.Size([16]) SHAPE AFTER\n",
            "torch.Size([16]) SHAPE AFTER\n",
            "torch.Size([16]) SHAPE AFTER\n",
            "torch.Size([16]) SHAPE AFTER\n",
            "[049/00003] val_loss: 6.909, val_accuracy: 93.750%\n",
            "[074/00003] train_loss: 4.651\n",
            "torch.Size([16]) SHAPE AFTER\n",
            "torch.Size([16]) SHAPE AFTER\n",
            "torch.Size([16]) SHAPE AFTER\n",
            "torch.Size([16]) SHAPE AFTER\n",
            "[074/00003] val_loss: 1.134, val_accuracy: 98.438%\n",
            "[099/00003] train_loss: 5.484\n",
            "torch.Size([16]) SHAPE AFTER\n",
            "torch.Size([16]) SHAPE AFTER\n",
            "torch.Size([16]) SHAPE AFTER\n",
            "torch.Size([16]) SHAPE AFTER\n",
            "[099/00003] val_loss: 4.044, val_accuracy: 100.000%\n",
            "[124/00003] train_loss: 1.005\n",
            "torch.Size([16]) SHAPE AFTER\n",
            "torch.Size([16]) SHAPE AFTER\n",
            "torch.Size([16]) SHAPE AFTER\n",
            "torch.Size([16]) SHAPE AFTER\n",
            "[124/00003] val_loss: 0.117, val_accuracy: 100.000%\n",
            "[149/00003] train_loss: 0.085\n",
            "torch.Size([16]) SHAPE AFTER\n",
            "torch.Size([16]) SHAPE AFTER\n",
            "torch.Size([16]) SHAPE AFTER\n",
            "torch.Size([16]) SHAPE AFTER\n",
            "[149/00003] val_loss: 0.032, val_accuracy: 100.000%\n",
            "[174/00003] train_loss: 0.013\n",
            "torch.Size([16]) SHAPE AFTER\n",
            "torch.Size([16]) SHAPE AFTER\n",
            "torch.Size([16]) SHAPE AFTER\n",
            "torch.Size([16]) SHAPE AFTER\n",
            "[174/00003] val_loss: 0.005, val_accuracy: 100.000%\n",
            "[199/00003] train_loss: 0.003\n",
            "torch.Size([16]) SHAPE AFTER\n",
            "torch.Size([16]) SHAPE AFTER\n",
            "torch.Size([16]) SHAPE AFTER\n",
            "torch.Size([16]) SHAPE AFTER\n",
            "[199/00003] val_loss: 0.002, val_accuracy: 100.000%\n",
            "[224/00003] train_loss: 0.001\n",
            "torch.Size([16]) SHAPE AFTER\n",
            "torch.Size([16]) SHAPE AFTER\n",
            "torch.Size([16]) SHAPE AFTER\n",
            "torch.Size([16]) SHAPE AFTER\n",
            "[224/00003] val_loss: 0.001, val_accuracy: 100.000%\n",
            "[249/00003] train_loss: 0.001\n",
            "torch.Size([16]) SHAPE AFTER\n",
            "torch.Size([16]) SHAPE AFTER\n",
            "torch.Size([16]) SHAPE AFTER\n",
            "torch.Size([16]) SHAPE AFTER\n",
            "[249/00003] val_loss: 0.001, val_accuracy: 100.000%\n",
            "[274/00003] train_loss: 0.001\n",
            "torch.Size([16]) SHAPE AFTER\n",
            "torch.Size([16]) SHAPE AFTER\n",
            "torch.Size([16]) SHAPE AFTER\n",
            "torch.Size([16]) SHAPE AFTER\n",
            "[274/00003] val_loss: 0.000, val_accuracy: 100.000%\n",
            "[299/00003] train_loss: 0.000\n",
            "torch.Size([16]) SHAPE AFTER\n",
            "torch.Size([16]) SHAPE AFTER\n",
            "torch.Size([16]) SHAPE AFTER\n",
            "torch.Size([16]) SHAPE AFTER\n",
            "[299/00003] val_loss: 0.000, val_accuracy: 100.000%\n"
          ]
        }
      ],
      "source": [
        "from exercise_2.training import train_3dcnn\n",
        "config = {\n",
        "    'experiment_name': '2_3_3dcnn_overfitting',\n",
        "    'device': 'cuda:0',                      # change this to cpu if you do not have a GPU\n",
        "    'is_overfit': True,                      # True since we're doing overfitting\n",
        "    'batch_size': 16,\n",
        "    'resume_ckpt': None,\n",
        "    'learning_rate': 0.0005,\n",
        "    'max_epochs': 300,\n",
        "    'print_every_n': 100,\n",
        "    'validate_every_n': 100,\n",
        "}\n",
        "\n",
        "train_3dcnn.main(config)  # should be able to get ~0 loss, 100% accuracy"
      ]
    },
    {
      "attachments": {},
      "cell_type": "markdown",
      "metadata": {
        "id": "4036F4pU_vOd",
        "pycharm": {
          "name": "#%% md\n"
        }
      },
      "source": [
        "### (f) Training over the entire training set\n",
        "If the overfitting works, we can go ahead with training on the entire dataset."
      ]
    },
    {
      "cell_type": "code",
      "execution_count": null,
      "metadata": {
        "colab": {
          "base_uri": "https://localhost:8080/"
        },
        "id": "qudIJdud_vOd",
        "outputId": "4f0bb39e-21db-4016-aee9-a7030dd33f48",
        "pycharm": {
          "name": "#%%\n"
        }
      },
      "outputs": [
        {
          "name": "stdout",
          "output_type": "stream",
          "text": [
            "Using device: cuda:0\n",
            "[000/00099] train_loss: 21.122\n",
            "[000/00199] train_loss: 16.106\n",
            "[000/00249] val_loss: 11.921, val_accuracy: 56.080%\n",
            "[000/00299] train_loss: 11.083\n",
            "[000/00399] train_loss: 8.337\n",
            "[000/00499] train_loss: 7.025\n",
            "[000/00499] val_loss: 6.840, val_accuracy: 75.343%\n",
            "[000/00599] train_loss: 6.881\n",
            "[000/00699] train_loss: 5.952\n",
            "[000/00749] val_loss: 5.471, val_accuracy: 80.516%\n",
            "[000/00799] train_loss: 4.870\n",
            "[000/00899] train_loss: 4.395\n",
            "[000/00999] train_loss: 4.645\n",
            "[000/00999] val_loss: 4.375, val_accuracy: 85.082%\n",
            "[000/01099] train_loss: 4.144\n",
            "[000/01199] train_loss: 4.319\n",
            "[000/01249] val_loss: 4.070, val_accuracy: 85.670%\n",
            "[000/01299] train_loss: 4.210\n",
            "[001/00042] train_loss: 3.849\n",
            "[001/00142] train_loss: 3.861\n",
            "[001/00142] val_loss: 3.741, val_accuracy: 86.716%\n",
            "[001/00242] train_loss: 3.707\n",
            "[001/00342] train_loss: 4.417\n",
            "[001/00392] val_loss: 5.212, val_accuracy: 85.498%\n",
            "[001/00442] train_loss: 4.778\n",
            "[001/00542] train_loss: 4.145\n",
            "[001/00642] train_loss: 3.637\n",
            "[001/00642] val_loss: 3.552, val_accuracy: 87.638%\n",
            "[001/00742] train_loss: 3.351\n",
            "[001/00842] train_loss: 3.677\n",
            "[001/00892] val_loss: 3.412, val_accuracy: 88.139%\n",
            "[001/00942] train_loss: 3.220\n",
            "[001/01042] train_loss: 3.292\n",
            "[001/01142] train_loss: 3.398\n",
            "[001/01142] val_loss: 3.592, val_accuracy: 87.136%\n",
            "[001/01242] train_loss: 3.363\n",
            "[001/01342] train_loss: 2.891\n",
            "[002/00035] val_loss: 3.325, val_accuracy: 88.307%\n",
            "[002/00085] train_loss: 2.994\n",
            "[002/00185] train_loss: 2.958\n",
            "[002/00285] train_loss: 2.952\n",
            "[002/00285] val_loss: 3.207, val_accuracy: 88.569%\n",
            "[002/00385] train_loss: 2.599\n",
            "[002/00485] train_loss: 3.177\n",
            "[002/00535] val_loss: 3.210, val_accuracy: 88.506%\n",
            "[002/00585] train_loss: 3.190\n",
            "[002/00685] train_loss: 3.118\n",
            "[002/00785] train_loss: 2.907\n",
            "[002/00785] val_loss: 3.288, val_accuracy: 88.594%\n",
            "[002/00885] train_loss: 2.990\n",
            "[002/00985] train_loss: 4.680\n",
            "[002/01035] val_loss: 6.286, val_accuracy: 86.591%\n",
            "[002/01085] train_loss: 6.807\n",
            "[002/01185] train_loss: 4.694\n",
            "[002/01285] train_loss: 4.074\n",
            "[002/01285] val_loss: 3.611, val_accuracy: 88.625%\n",
            "[003/00028] train_loss: 2.820\n",
            "[003/00128] train_loss: 2.649\n",
            "[003/00178] val_loss: 3.574, val_accuracy: 87.748%\n",
            "[003/00228] train_loss: 2.806\n",
            "[003/00328] train_loss: 2.481\n",
            "[003/00428] train_loss: 2.716\n",
            "[003/00428] val_loss: 3.270, val_accuracy: 89.022%\n",
            "[003/00528] train_loss: 2.638\n",
            "[003/00628] train_loss: 2.788\n",
            "[003/00678] val_loss: 2.872, val_accuracy: 89.991%\n",
            "[003/00728] train_loss: 2.819\n",
            "[003/00828] train_loss: 2.460\n",
            "[003/00928] train_loss: 2.597\n",
            "[003/00928] val_loss: 2.764, val_accuracy: 90.273%\n",
            "[003/01028] train_loss: 2.673\n",
            "[003/01128] train_loss: 2.754\n",
            "[003/01178] val_loss: 2.720, val_accuracy: 90.386%\n",
            "[003/01228] train_loss: 2.768\n",
            "[003/01328] train_loss: 2.418\n",
            "[004/00071] train_loss: 2.243\n",
            "[004/00071] val_loss: 2.954, val_accuracy: 89.745%\n",
            "[004/00171] train_loss: 2.424\n",
            "[004/00271] train_loss: 2.522\n",
            "[004/00321] val_loss: 2.810, val_accuracy: 90.140%\n",
            "[004/00371] train_loss: 2.474\n",
            "[004/00471] train_loss: 2.591\n",
            "[004/00571] train_loss: 2.382\n",
            "[004/00571] val_loss: 3.175, val_accuracy: 89.968%\n",
            "[004/00671] train_loss: 2.704\n",
            "[004/00771] train_loss: 2.178\n",
            "[004/00821] val_loss: 2.802, val_accuracy: 89.950%\n",
            "[004/00871] train_loss: 2.236\n",
            "[004/00971] train_loss: 2.433\n",
            "[004/01071] train_loss: 2.458\n",
            "[004/01071] val_loss: 2.808, val_accuracy: 90.048%\n",
            "[004/01171] train_loss: 2.396\n",
            "[004/01271] train_loss: 2.239\n",
            "[004/01321] val_loss: 2.893, val_accuracy: 89.788%\n"
          ]
        }
      ],
      "source": [
        "from exercise_2.training import train_3dcnn\n",
        "config = {\n",
        "    'experiment_name': '2_3_3dcnn_generalization',\n",
        "    'device': 'cuda:0',                     # change this to cpu if you do not have a GPU\n",
        "    'is_overfit': False,\n",
        "    'batch_size': 16,\n",
        "    'resume_ckpt': None,\n",
        "    'learning_rate': 0.0005,\n",
        "    'max_epochs': 5,\n",
        "    'print_every_n': 100,\n",
        "    'validate_every_n': 250,\n",
        "}\n",
        "\n",
        "train_3dcnn.main(config)                    # should have accuracy > 88% on val set"
      ]
    },
    {
      "attachments": {},
      "cell_type": "markdown",
      "metadata": {
        "id": "peVa76pP_vOg"
      },
      "source": [
        "### (g) Inference using the trained model\n",
        "\n",
        "We would now like to make shape category inference given shapes from validation set.\n",
        "Implement the function `infer_single` of class `InferenceHandler3DCNN` in file `exercise_2/inference/infer_3dcnn.py` such that it returns the\n",
        "shape category name predicted by the model given its numpy voxel representation (32x32x32). Note that the network predicts a label in range [0, 12],\n",
        "which can be mapped to a class ID (e.g. 03001627) using `ShapeNetVox.classes` which can further be mapped to a category name (e.g. chair for 03001627) using\n",
        "`ShapeNetVox.class_name_mapping`."
      ]
    },
    {
      "cell_type": "code",
      "execution_count": null,
      "metadata": {
        "id": "LQeyplAr_vOh",
        "pycharm": {
          "name": "#%%\n"
        }
      },
      "outputs": [],
      "source": [
        "from exercise_2.inference.infer_3dcnn import InferenceHandler3DCNN\n",
        "\n",
        "# create a handler for inference using a trained checkpoint\n",
        "inferer = InferenceHandler3DCNN('exercise_2/runs/2_3_3dcnn_generalization/model_best.ckpt')"
      ]
    },
    {
      "cell_type": "code",
      "execution_count": null,
      "metadata": {
        "colab": {
          "base_uri": "https://localhost:8080/",
          "height": 17,
          "referenced_widgets": [
            "c18bd7505d03446fb8d62a18e373fdbb",
            "22c8ab4b315c44eea39379c5dd563ecb",
            "e28fc4dc2b9f4744800f46008414be3c"
          ]
        },
        "id": "Com9bAzh_vOh",
        "outputId": "4966c314-b89e-4afa-8c59-3def85b11929",
        "pycharm": {
          "name": "#%%\n"
        }
      },
      "outputs": [
        {
          "data": {
            "application/vnd.jupyter.widget-view+json": {
              "model_id": "c18bd7505d03446fb8d62a18e373fdbb",
              "version_major": 2,
              "version_minor": 0
            },
            "text/plain": [
              "Output()"
            ]
          },
          "metadata": {},
          "output_type": "display_data"
        }
      ],
      "source": [
        "# get shape voxels and visualize\n",
        "shape_voxels = ShapeNetVox.get_shape_voxels('03001627/f913501826c588e89753496ba23f2183')\n",
        "visualize_occupancy(shape_voxels, flip_axes=True)"
      ]
    },
    {
      "cell_type": "code",
      "execution_count": null,
      "metadata": {
        "colab": {
          "base_uri": "https://localhost:8080/"
        },
        "id": "z25COW4B_vOh",
        "outputId": "e35a9e6d-b483-4ee6-c17c-7162b80ae8e4",
        "pycharm": {
          "name": "#%%\n"
        }
      },
      "outputs": [
        {
          "name": "stdout",
          "output_type": "stream",
          "text": [
            "Predicted category: chair\n"
          ]
        }
      ],
      "source": [
        "# predict category\n",
        "print('Predicted category:', inferer.infer_single(shape_voxels))  # expected output: chair"
      ]
    },
    {
      "cell_type": "code",
      "execution_count": null,
      "metadata": {
        "colab": {
          "base_uri": "https://localhost:8080/",
          "height": 17,
          "referenced_widgets": [
            "1b0c8c9c9842424fb9338bffe1409e05",
            "9295d47a8c344e75b3f6e3966b82fb36",
            "fb4861ccd1a547b9ae9482d66d590c83"
          ]
        },
        "id": "0n3JBejg_vOh",
        "outputId": "2487e5d2-9edf-4ba2-ee16-9fbfd0d351ad",
        "pycharm": {
          "name": "#%%\n"
        }
      },
      "outputs": [
        {
          "data": {
            "application/vnd.jupyter.widget-view+json": {
              "model_id": "1b0c8c9c9842424fb9338bffe1409e05",
              "version_major": 2,
              "version_minor": 0
            },
            "text/plain": [
              "Output()"
            ]
          },
          "metadata": {},
          "output_type": "display_data"
        }
      ],
      "source": [
        "# get shape voxels and visualize\n",
        "shape_voxels = ShapeNetVox.get_shape_voxels('02691156/6af4383123972f2262b600da24e0965')\n",
        "visualize_occupancy(shape_voxels, flip_axes=True)"
      ]
    },
    {
      "cell_type": "code",
      "execution_count": null,
      "metadata": {
        "colab": {
          "base_uri": "https://localhost:8080/"
        },
        "id": "oug8RgaS_vOi",
        "outputId": "1f264d96-f27a-4a64-973e-ad3ae651d6f1",
        "pycharm": {
          "name": "#%%\n"
        }
      },
      "outputs": [
        {
          "name": "stdout",
          "output_type": "stream",
          "text": [
            "Predicted category: airplane\n"
          ]
        }
      ],
      "source": [
        "# predict category\n",
        "print('Predicted category:', inferer.infer_single(shape_voxels))"
      ]
    },
    {
      "cell_type": "code",
      "execution_count": null,
      "metadata": {
        "colab": {
          "base_uri": "https://localhost:8080/",
          "height": 17,
          "referenced_widgets": [
            "c2d9347710c44bc8b92d7d33304820b9",
            "8e48dc40126e4d219ef5e2ac0e35028d",
            "7886ca35f1bc450e83979f7da3cc8423"
          ]
        },
        "id": "JauLGqC2_vOi",
        "outputId": "e4c3a9ec-af44-4d53-dae3-3b4a53575d34",
        "pycharm": {
          "name": "#%%\n"
        }
      },
      "outputs": [
        {
          "data": {
            "application/vnd.jupyter.widget-view+json": {
              "model_id": "c2d9347710c44bc8b92d7d33304820b9",
              "version_major": 2,
              "version_minor": 0
            },
            "text/plain": [
              "Output()"
            ]
          },
          "metadata": {},
          "output_type": "display_data"
        }
      ],
      "source": [
        "# get shape voxels and visualize\n",
        "shape_voxels = ShapeNetVox.get_shape_voxels('04090263/eae96ddf483e896c805d3d8e378d155e')\n",
        "visualize_occupancy(shape_voxels, flip_axes=True)"
      ]
    },
    {
      "cell_type": "code",
      "execution_count": null,
      "metadata": {
        "colab": {
          "base_uri": "https://localhost:8080/"
        },
        "id": "8h7qgh4U_vOi",
        "outputId": "4bb44a31-21dd-45be-e6b9-549899bc9876",
        "pycharm": {
          "name": "#%%\n"
        }
      },
      "outputs": [
        {
          "name": "stdout",
          "output_type": "stream",
          "text": [
            "Predicted category: rifle\n"
          ]
        }
      ],
      "source": [
        "# predict category\n",
        "print('Predicted category:', inferer.infer_single(shape_voxels))"
      ]
    },
    {
      "attachments": {},
      "cell_type": "markdown",
      "metadata": {
        "id": "D3cmcLzm_vOi"
      },
      "source": [
        "Make sure you submit the trained model `exercise_2/runs/2_3_3dcnn_generalization/model_best.ckpt` in your zip\n",
        "so that we can evaluate it on the test set at our end."
      ]
    },
    {
      "cell_type": "code",
      "execution_count": null,
      "metadata": {
        "colab": {
          "base_uri": "https://localhost:8080/"
        },
        "id": "Ulggls5z4ZFE",
        "outputId": "04e00017-32db-4960-8531-aeae85d84d5b"
      },
      "outputs": [
        {
          "name": "stdout",
          "output_type": "stream",
          "text": [
            "exercise_2\t  gitignore\t  requirements.txt\n",
            "exercise_2.ipynb  pyproject.toml  toy_data.ply\n",
            "\u001b7\u001b[?47h\u001b[>4;2m\u001b[?1h\u001b=\u001b[?2004h\u001b[1;24r\u001b[?12h\u001b[?12l\u001b[22;2t\u001b[22;1t\u001b[29m\u001b[m\u001b[H\u001b[2J\u001b[?25l\u001b[24;1H\"gitignore\" 0L, 0C\u001b[2;1H▽\u001b[6n\u001b[2;1H  \u001b[1;1H\u001b[>c\u001b]10;?\u0007\u001b]11;?\u0007\u001b[2;1H\u001b[1m\u001b[34m~                                                                               \u001b[3;1H~                                                                               \u001b[4;1H~                                                                               \u001b[5;1H~                                                                               \u001b[6;1H~                                                                               \u001b[7;1H~                                                                               \u001b[8;1H~                                                                               \u001b[9;1H~                                                                               \u001b[10;1H~                                                                               \u001b[11;1H~                                                                               \u001b[12;1H~                                                                               \u001b[13;1H~                                                                               \u001b[14;1H~                                                                               \u001b[15;1H~                                                                               \u001b[16;1H~                                                                               \u001b[17;1H~                                                                               \u001b[18;1H~                                                                               \u001b[19;1H~                                                                               \u001b[20;1H~                                                                               \u001b[21;1H~                                                                               \u001b[22;1H~                                                                               \u001b[23;1H~                                                                               \u001b[m\u001b[24;63H0,0-1\u001b[9CAll\u001b[1;1H\u001b[?25h\u001b[?25l\u001b[24;1H\u001b[1m-- INSERT --\u001b[m\u001b[24;13H\u001b[K\u001b[24;63H0,1\u001b[11CAll\u001b[1;1HhapeNetVox32/\u001b[2;1H\u001b[K\u001b[24;63H2\u001b[2;1H\u001b[?25h\u001b[24;1H\u001b[?2004l\u001b[?1l\u001b>\u001b[>4;m\u001b[2J\u001b[?47l\u001b8Vim: Caught deadly signal TERM\n",
            "Vim: preserving files...\n",
            "Vim: Finished.\n",
            "\u001b[24;1H\u001b[23;2t\u001b[23;1t^C\n"
          ]
        }
      ],
      "source": [
        "!ls\n",
        "!vi gitignore"
      ]
    },
    {
      "cell_type": "code",
      "execution_count": 7,
      "metadata": {
        "colab": {
          "base_uri": "https://localhost:8080/"
        },
        "id": "cTFhDUFv3s1v",
        "outputId": "440e5489-08f2-4595-ca1e-e46beeac6f71"
      },
      "outputs": [
        {
          "name": "stdout",
          "output_type": "stream",
          "text": [
            "On branch ys-e2.1\n",
            "Your branch is up to date with 'origin/ys-e2.1'.\n",
            "\n",
            "Changes not staged for commit:\n",
            "  (use \"git add <file>...\" to update what will be committed)\n",
            "  (use \"git restore <file>...\" to discard changes in working directory)\n",
            "\t\u001b[31mmodified:   exercise_2/training/train_pointnet_segmentation.py\u001b[m\n",
            "\n",
            "Untracked files:\n",
            "  (use \"git add <file>...\" to include in what will be committed)\n",
            "\t\u001b[31mexercise_2/runs/2_5_pointnet_segmentation_generalization/\u001b[m\n",
            "\t\u001b[31mexercise_2/runs/2_5_pointnet_segmentation_overfitting/\u001b[m\n",
            "\n",
            "no changes added to commit (use \"git add\" and/or \"git commit -a\")\n",
            "[ys-e2.1 64e9ff3] finalizes shapenet model\n",
            " 3 files changed, 3 insertions(+), 2 deletions(-)\n",
            " create mode 100644 E2/exercise_2/runs/2_5_pointnet_segmentation_generalization/model_best.ckpt\n",
            " create mode 100644 E2/exercise_2/runs/2_5_pointnet_segmentation_overfitting/model_best.ckpt\n",
            "Enumerating objects: 17, done.\n",
            "Counting objects: 100% (17/17), done.\n",
            "Delta compression using up to 2 threads\n",
            "Compressing objects: 100% (9/9), done.\n",
            "Writing objects: 100% (11/11), 25.07 MiB | 9.58 MiB/s, done.\n",
            "Total 11 (delta 6), reused 0 (delta 0)\n",
            "remote: Resolving deltas: 100% (6/6), completed with 6 local objects.\u001b[K\n",
            "To https://github.com/Streakfull/3DML.git\n",
            "   89ebc1f..64e9ff3  ys-e2.1 -> ys-e2.1\n"
          ]
        }
      ],
      "source": [
        "# !git status\n",
        "# # !git checkout -b \"ys-e2.1\"\n",
        "# # %cd drive/MyDrive/3DML/E2\n",
        "# !git add .\n",
        "# !git config --global user.email \"youssef.ahmedyoussef98@gmail.com\"\n",
        "# !git config --global user.name \"Streakfull\"\n",
        "# !git commit -m \"finalizes shapenet model\"\n",
        "# !git push origin ys-e2.1"
      ]
    },
    {
      "attachments": {},
      "cell_type": "markdown",
      "metadata": {
        "id": "2isZAo3F_vOj",
        "pycharm": {
          "name": "#%% md\n"
        }
      },
      "source": [
        "## 2.4. Shape Classification using PointNet"
      ]
    },
    {
      "attachments": {},
      "cell_type": "markdown",
      "metadata": {
        "id": "k6ihVrxa_vOj"
      },
      "source": [
        "The approach you used above works very well when there is voxelized data available. However, many applications require that points are used instead and voxelizing them every time is cumbersome and might lead to unexpected artifacts.\n",
        "\n",
        "This is where PointNet [2] is very useful: It directly takes in a set of points and can perform both classification and semantic segmentation without the need for any gridification or other form of conversion.\n",
        "\n",
        "You already heard a lot about the approach and architecture in the lecture; here, our goal is to create an implementation of it from scratch and try it out on some ShapeNet data."
      ]
    },
    {
      "attachments": {},
      "cell_type": "markdown",
      "metadata": {
        "id": "4oIYMDy9_vOj"
      },
      "source": [
        "### (a) Download and prepare the ShapeNetPointClouds dataset\n",
        "We generated point clouds from ShapeNet meshes via uniform sampling. Each point cloud contains 1024 xyz points.\n",
        "\n",
        "The data layout is basically the same as in 2.3.:\n",
        "Each folder in the `exercise_2/data/ShapeNetPointClouds` directory contains one shape category represented by a number, e.g. `02691156`.\n",
        "We provide the mapping between these numbers and the corresponding names in `exercise_2/data/shape_info.json`. Each of these shape category folders contains a number of shapes in obj format.\n",
        "\n",
        "```\n",
        "# contents of exercise_2/data/ShapeNetPointClouds\n",
        "\n",
        "02691156/                                      # Shape category folder with all its shapes\n",
        "    ├── 1a04e3eab45ca15dd86060f189eb133.obj    # A single shape of the category\n",
        "    ├── 1a6ad7a24bb89733f412783097373bdc.obj   # Another shape of the category\n",
        "    ├── :                                      # And so on ...\n",
        "    ├── :\n",
        "02828884/                                      # Another shape category folder\n",
        "02933112/                                      # In total you should have 13 shape category folders\n",
        ":\n",
        ":\n",
        "```"
      ]
    },
    {
      "cell_type": "code",
      "execution_count": null,
      "metadata": {
        "colab": {
          "base_uri": "https://localhost:8080/"
        },
        "id": "yBWmOC-8_vOj",
        "outputId": "ed04772b-52e2-446c-a767-3f27b7d804c2",
        "scrolled": true
      },
      "outputs": [
        {
          "name": "stdout",
          "output_type": "stream",
          "text": [
            "Downloading ...\n",
            "--2023-05-27 12:47:47--  http://kaldir.vc.in.tum.de/cdiller/ShapeNetPointClouds.zip\n",
            "Resolving kaldir.vc.in.tum.de (kaldir.vc.in.tum.de)... 131.159.98.128\n",
            "Connecting to kaldir.vc.in.tum.de (kaldir.vc.in.tum.de)|131.159.98.128|:80... connected.\n",
            "HTTP request sent, awaiting response... 301 Moved Permanently\n",
            "Location: https://kaldir.vc.in.tum.de:443/cdiller/ShapeNetPointClouds.zip [following]\n",
            "--2023-05-27 12:47:47--  https://kaldir.vc.in.tum.de/cdiller/ShapeNetPointClouds.zip\n",
            "Connecting to kaldir.vc.in.tum.de (kaldir.vc.in.tum.de)|131.159.98.128|:443... connected.\n",
            "HTTP request sent, awaiting response... 200 OK\n",
            "Length: 453765424 (433M) [application/zip]\n",
            "Saving to: ‘exercise_2/data/ShapeNetPointClouds.zip’\n",
            "\n",
            "ShapeNetPointClouds 100%[===================>] 432.74M  51.6MB/s    in 9.8s    \n",
            "\n",
            "2023-05-27 12:47:57 (43.9 MB/s) - ‘exercise_2/data/ShapeNetPointClouds.zip’ saved [453765424/453765424]\n",
            "\n",
            "Extracting ...\n",
            "Done.\n"
          ]
        }
      ],
      "source": [
        "print('Downloading ...')\n",
        "!wget http://kaldir.vc.in.tum.de/cdiller/ShapeNetPointClouds.zip -P exercise_2/data\n",
        "print('Extracting ...')\n",
        "!unzip -q exercise_2/data/ShapeNetPointClouds.zip -d exercise_2/data\n",
        "!rm exercise_2/data/ShapeNetPointClouds.zip\n",
        "print('Done.')"
      ]
    },
    {
      "attachments": {},
      "cell_type": "markdown",
      "metadata": {
        "id": "Z6soKa44_vOk"
      },
      "source": [
        "### (b) Dataset implementation\n",
        "\n",
        "You can use the same split setup as in 2.3: `overfit.txt` for overfitting, `train.txt` for the train samples, and `val.txt` for the val samples in folder `exercise_2/data/splits/shapenet`.\n",
        "\n",
        "The dataset implementation will therefore be very similar to the one from 2.3: Fill out the missing implementations of functions `__getitem__` and `__len__` in class `ShapeNetPoints` in `exercise_2/data/shapenet.py`.\n",
        "\n",
        "The major difference is how the actual data is loaded: We don't have regular voxel grids anymore and instead load arrays of 1024 points each. In `__getitem__`, we now return 'points' instead of 'voxel' and for loading the point clouds, we use `get_point_cloud` instead of `get_shape_voxels`. You can load the point cloud data either by hand (since it is in the same obj format you used in exercise 1) or simply use `trimesh.load`. The point clouds you return from `__getitem__` should have shape 3 x 1024 and datatype `np.float32`.\n",
        "\n",
        "Otherwise, the implementation is very much the same as in 2.3. Once done, test your implementation below."
      ]
    },
    {
      "cell_type": "code",
      "execution_count": null,
      "metadata": {
        "colab": {
          "base_uri": "https://localhost:8080/"
        },
        "id": "5F3fX696Rxnx",
        "outputId": "7f37432d-7e35-43e9-d86c-f29147dafda2"
      },
      "outputs": [
        {
          "name": "stdout",
          "output_type": "stream",
          "text": [
            "From https://github.com/Streakfull/3DML\n",
            " * branch            ys-e2.1    -> FETCH_HEAD\n",
            "Already up to date.\n"
          ]
        }
      ],
      "source": [
        "!git pull origin ys-e2.1"
      ]
    },
    {
      "cell_type": "code",
      "execution_count": null,
      "metadata": {
        "colab": {
          "base_uri": "https://localhost:8080/"
        },
        "id": "f1sDlICl_vOk",
        "outputId": "c5b97839-6623-41fe-f9cf-df92efd4a0fa"
      },
      "outputs": [
        {
          "name": "stdout",
          "output_type": "stream",
          "text": [
            "Length of train set: 21705\n",
            "Length of val set: 5426\n",
            "Length of overfit set: 64\n"
          ]
        }
      ],
      "source": [
        "\n",
        "from exercise_2.data.shapenet import ShapeNetPoints\n",
        "\n",
        "# Create a dataset with train split\n",
        "train_dataset = ShapeNetPoints('train')\n",
        "val_dataset = ShapeNetPoints('val')\n",
        "overfit_dataset = ShapeNetPoints('overfit')\n",
        "\n",
        "# Get length, which is a call to __len__ function\n",
        "print(f'Length of train set: {len(train_dataset)}')  # expected output: 21705\n",
        "# Get length, which is a call to __len__ function\n",
        "print(f'Length of val set: {len(val_dataset)}')  # expected output: 5426\n",
        "# Get length, which is a call to __len__ function\n",
        "print(f'Length of overfit set: {len(overfit_dataset)}')  # expected output: 64"
      ]
    },
    {
      "cell_type": "code",
      "execution_count": null,
      "metadata": {
        "colab": {
          "base_uri": "https://localhost:8080/",
          "height": 124,
          "referenced_widgets": [
            "fa14cc9ff1b146768c69e2764f351c0a",
            "c5f4983aa25d4f6db4038eeb5bf902b2",
            "9b5ba395e1b343828d859f900867ba6e"
          ]
        },
        "id": "sv8cW0LN_vOk",
        "outputId": "3ae41b8c-d169-4311-981b-ba11ea0bd346"
      },
      "outputs": [
        {
          "name": "stdout",
          "output_type": "stream",
          "text": [
            "Name: 04090263/9ed34fd8df53c865cccd2ea14d020703\n",
            "Voxel Dimensions: (3, 1024)\n",
            "Label: 8 | 04090263 | rifle\n"
          ]
        },
        {
          "name": "stderr",
          "output_type": "stream",
          "text": [
            "/usr/local/lib/python3.10/dist-packages/traittypes/traittypes.py:97: UserWarning: Given trait value dtype \"float32\" does not match required type \"float32\". A coerced copy has been created.\n",
            "  warnings.warn(\n"
          ]
        },
        {
          "data": {
            "application/vnd.jupyter.widget-view+json": {
              "model_id": "fa14cc9ff1b146768c69e2764f351c0a",
              "version_major": 2,
              "version_minor": 0
            },
            "text/plain": [
              "Output()"
            ]
          },
          "metadata": {},
          "output_type": "display_data"
        }
      ],
      "source": [
        "# Visualize some shapes\n",
        "from exercise_2.util.visualization import visualize_pointcloud\n",
        "\n",
        "shape_data = train_dataset[np.random.randint(len(train_dataset))]\n",
        "print(f'Name: {shape_data[\"name\"]}')  # expected output: 04379243/d120d47f8c9bc5028640bc5712201c4a\n",
        "print(f'Voxel Dimensions: {shape_data[\"points\"].shape}')  # expected output: (3, 1024)\n",
        "print(f'Label: {shape_data[\"label\"]} | {ShapeNetPoints.classes[shape_data[\"label\"]]} | {ShapeNetPoints.class_name_mapping[ShapeNetPoints.classes[shape_data[\"label\"]]]}')  # expected output: 10, 04379243\n",
        "\n",
        "visualize_pointcloud(shape_data[\"points\"].T, point_size=0.025, flip_axes=True)"
      ]
    },
    {
      "attachments": {},
      "cell_type": "markdown",
      "metadata": {
        "id": "Wt3dGzfS_vOk"
      },
      "source": [
        "### (c) Defining the model\n",
        "\n",
        "The model architecture of PointNet was discussed in the lecture and is visualized below:\n",
        "<img src=\"exercise_2/images/pointnet.png\" alt=\"pointnet_architecture\" style=\"width: 800px;\"/>\n",
        "\n",
        "Some hints for the actual implementation:\n",
        "1. We use conv1d layers with kernel size 1 for all \"shared\" mlps to expand the feature channel dimension, e.g. when the input is of shape batch_size x 3 x 1024 and we apply conv1d(in_features=3, out_features=64), then we get to shape batch_size x 64 x 1024\n",
        "2. The mlps in the classification network after the max pooling operation are implemented using Linear layers\n",
        "3. The numbers in parenthesis after mlp() in the visualization above descibe the number of layers with their out_features dimension. Note though that the first mlp from nx3 to nx64 is expressed as two layers in the original tensorflow code but can be implemented as a single conv1d layer going from 3 to 64 features in the pytorch version.\n",
        "4. We define all layers up to and including the max pooling operation as the `PointNetEncoder`. The architecture of the model head depends on the task we are trying to solve: Either classification (`PointNetClassification`, used in this part of the exercise) or segmentation (`PointNetSegmentation`, used in 2.5).\n",
        "5. ReLU and Batch Norms are applied after each layer, except after the last classification layer. In the last layer before the max operation, we only apply Batch Norm but no ReLU.\n",
        "6. Dropout is applied for classification only after the second Linear layer, before the Batch Norm.\n",
        "7. The TNets are basically small PointNets.\n",
        "\n",
        "Implement the missing parts of the PointNet architecture in `TNet`, `PointNetEncoder`, and `PointNetClassification`, as indicated by the TODOs. All of them are located in `exercise_2/models/pointnet.py`. Use the following code cell to sanity check your implementation:"
      ]
    },
    {
      "cell_type": "code",
      "execution_count": null,
      "metadata": {
        "colab": {
          "base_uri": "https://localhost:8080/"
        },
        "id": "0BRJmmM-_vOl",
        "outputId": "70d2b615-eb16-4941-c183-9429e3fe67d5"
      },
      "outputs": [
        {
          "name": "stdout",
          "output_type": "stream",
          "text": [
            "   | Name                                     | Type                   | Params \n",
            "--------------------------------------------------------------------------------------\n",
            "0  | encoder                                  | PointNetEncoder        | 2803529\n",
            "1  | encoder.input_transform_net              | TNet                   | 803081 \n",
            "2  | encoder.input_transform_net.conv         | Sequential             | 143104 \n",
            "3  | encoder.input_transform_net.conv.0       | Conv1d                 | 256    \n",
            "4  | encoder.input_transform_net.conv.1       | BatchNorm1d            | 128    \n",
            "5  | encoder.input_transform_net.conv.2       | ReLU                   | 0      \n",
            "6  | encoder.input_transform_net.conv.3       | Conv1d                 | 8320   \n",
            "7  | encoder.input_transform_net.conv.4       | BatchNorm1d            | 256    \n",
            "8  | encoder.input_transform_net.conv.5       | ReLU                   | 0      \n",
            "9  | encoder.input_transform_net.conv.6       | Conv1d                 | 132096 \n",
            "10 | encoder.input_transform_net.conv.7       | BatchNorm1d            | 2048   \n",
            "11 | encoder.input_transform_net.classify     | Sequential             | 659977 \n",
            "12 | encoder.input_transform_net.classify.0   | Linear                 | 524800 \n",
            "13 | encoder.input_transform_net.classify.1   | BatchNorm1d            | 1024   \n",
            "14 | encoder.input_transform_net.classify.2   | ReLU                   | 0      \n",
            "15 | encoder.input_transform_net.classify.3   | Linear                 | 131328 \n",
            "16 | encoder.input_transform_net.classify.4   | BatchNorm1d            | 512    \n",
            "17 | encoder.input_transform_net.classify.5   | ReLU                   | 0      \n",
            "18 | encoder.input_transform_net.classify.6   | Linear                 | 2313   \n",
            "19 | encoder.feature_transform_net            | TNet                   | 1857344\n",
            "20 | encoder.feature_transform_net.conv       | Sequential             | 147008 \n",
            "21 | encoder.feature_transform_net.conv.0     | Conv1d                 | 4160   \n",
            "22 | encoder.feature_transform_net.conv.1     | BatchNorm1d            | 128    \n",
            "23 | encoder.feature_transform_net.conv.2     | ReLU                   | 0      \n",
            "24 | encoder.feature_transform_net.conv.3     | Conv1d                 | 8320   \n",
            "25 | encoder.feature_transform_net.conv.4     | BatchNorm1d            | 256    \n",
            "26 | encoder.feature_transform_net.conv.5     | ReLU                   | 0      \n",
            "27 | encoder.feature_transform_net.conv.6     | Conv1d                 | 132096 \n",
            "28 | encoder.feature_transform_net.conv.7     | BatchNorm1d            | 2048   \n",
            "29 | encoder.feature_transform_net.classify   | Sequential             | 1710336\n",
            "30 | encoder.feature_transform_net.classify.0 | Linear                 | 524800 \n",
            "31 | encoder.feature_transform_net.classify.1 | BatchNorm1d            | 1024   \n",
            "32 | encoder.feature_transform_net.classify.2 | ReLU                   | 0      \n",
            "33 | encoder.feature_transform_net.classify.3 | Linear                 | 131328 \n",
            "34 | encoder.feature_transform_net.classify.4 | BatchNorm1d            | 512    \n",
            "35 | encoder.feature_transform_net.classify.5 | ReLU                   | 0      \n",
            "36 | encoder.feature_transform_net.classify.6 | Linear                 | 1052672\n",
            "37 | encoder.layer1                           | Sequential             | 384    \n",
            "38 | encoder.layer1.0                         | Conv1d                 | 256    \n",
            "39 | encoder.layer1.1                         | BatchNorm1d            | 128    \n",
            "40 | encoder.layer1.2                         | ReLU                   | 0      \n",
            "41 | encoder.layer2                           | Sequential             | 8576   \n",
            "42 | encoder.layer2.0                         | Conv1d                 | 8320   \n",
            "43 | encoder.layer2.1                         | BatchNorm1d            | 256    \n",
            "44 | encoder.layer2.2                         | ReLU                   | 0      \n",
            "45 | encoder.layer3                           | Sequential             | 134144 \n",
            "46 | encoder.layer3.0                         | Conv1d                 | 132096 \n",
            "47 | encoder.layer3.1                         | BatchNorm1d            | 2048   \n",
            "48 | classify                                 | Sequential             | 661005 \n",
            "49 | classify.0                               | Linear                 | 524800 \n",
            "50 | classify.1                               | BatchNorm1d            | 1024   \n",
            "51 | classify.2                               | ReLU                   | 0      \n",
            "52 | classify.3                               | Linear                 | 131328 \n",
            "53 | classify.4                               | Dropout                | 0      \n",
            "54 | classify.5                               | BatchNorm1d            | 512    \n",
            "55 | classify.6                               | ReLU                   | 0      \n",
            "56 | classify.7                               | Linear                 | 3341   \n",
            "57 | TOTAL                                    | PointNetClassification | 3464534\n",
            "Output tensor shape:  torch.Size([8, 13])\n",
            "Number of traininable params: 3.46M\n"
          ]
        }
      ],
      "source": [
        "from exercise_2.model.pointnet import PointNetClassification\n",
        "from exercise_2.util.model import summarize_model\n",
        "\n",
        "pointnet = PointNetClassification(13)\n",
        "print(summarize_model(pointnet))  # Expected: Rows 0-40 and TOTAL = 3464534\n",
        "\n",
        "input_tensor = torch.randn(8, 3, 1024)\n",
        "predictions = pointnet(input_tensor)\n",
        "\n",
        "print('Output tensor shape: ', predictions.shape)  # Expected: 8, 13\n",
        "num_trainable_params = sum(p.numel() for p in pointnet.parameters() if p.requires_grad) / 1e6\n",
        "print(f'Number of traininable params: {num_trainable_params:.2f}M')  # Expected: ~3M"
      ]
    },
    {
      "attachments": {},
      "cell_type": "markdown",
      "metadata": {
        "id": "ipBTWKFF_vOl"
      },
      "source": [
        "### (d) Training Script and Overfitting\n",
        "\n",
        "You can now go to the train script in `train_pointnet_classification.py` and fill in the missing pieces as in 2.3. Then, verify that your training works by overfitting to a few samples below."
      ]
    },
    {
      "cell_type": "code",
      "execution_count": null,
      "metadata": {
        "colab": {
          "base_uri": "https://localhost:8080/"
        },
        "id": "j_Wp2v8E_vOl",
        "outputId": "18836003-e30f-470c-8b5e-54d62ad4445e"
      },
      "outputs": [
        {
          "name": "stdout",
          "output_type": "stream",
          "text": [
            "Using device: cuda:0\n"
          ]
        },
        {
          "name": "stderr",
          "output_type": "stream",
          "text": [
            "/usr/local/lib/python3.10/dist-packages/torch/utils/data/dataloader.py:560: UserWarning: This DataLoader will create 4 worker processes in total. Our suggested max number of worker in current system is 2, which is smaller than what this DataLoader is going to create. Please be aware that excessive worker creation might get DataLoader running slow or even freeze, lower the worker number to avoid potential slowness/freeze if necessary.\n",
            "  warnings.warn(_create_warning_msg(\n",
            " 16%|█▋        | 49/300 [00:39<02:58,  1.41it/s]"
          ]
        },
        {
          "name": "stdout",
          "output_type": "stream",
          "text": [
            "[049/00001] train_loss: 0.592\n"
          ]
        },
        {
          "name": "stderr",
          "output_type": "stream",
          "text": [
            "\r 17%|█▋        | 50/300 [00:41<03:29,  1.19it/s]"
          ]
        },
        {
          "name": "stdout",
          "output_type": "stream",
          "text": [
            "[049/00001] val_loss: 0.052, val_accuracy: 100.000%\n"
          ]
        },
        {
          "name": "stderr",
          "output_type": "stream",
          "text": [
            " 33%|███▎      | 99/300 [01:14<02:23,  1.40it/s]"
          ]
        },
        {
          "name": "stdout",
          "output_type": "stream",
          "text": [
            "[099/00001] train_loss: 0.142\n"
          ]
        },
        {
          "name": "stderr",
          "output_type": "stream",
          "text": [
            "\r 33%|███▎      | 100/300 [01:15<02:46,  1.20it/s]"
          ]
        },
        {
          "name": "stdout",
          "output_type": "stream",
          "text": [
            "[099/00001] val_loss: 0.105, val_accuracy: 93.750%\n"
          ]
        },
        {
          "name": "stderr",
          "output_type": "stream",
          "text": [
            " 50%|████▉     | 149/300 [01:47<01:48,  1.39it/s]"
          ]
        },
        {
          "name": "stdout",
          "output_type": "stream",
          "text": [
            "[149/00001] train_loss: 0.108\n"
          ]
        },
        {
          "name": "stderr",
          "output_type": "stream",
          "text": [
            "\r 50%|█████     | 150/300 [01:48<02:04,  1.21it/s]"
          ]
        },
        {
          "name": "stdout",
          "output_type": "stream",
          "text": [
            "[149/00001] val_loss: 0.008, val_accuracy: 100.000%\n"
          ]
        },
        {
          "name": "stderr",
          "output_type": "stream",
          "text": [
            " 66%|██████▋   | 199/300 [02:21<01:09,  1.46it/s]"
          ]
        },
        {
          "name": "stdout",
          "output_type": "stream",
          "text": [
            "[199/00001] train_loss: 0.063\n"
          ]
        },
        {
          "name": "stderr",
          "output_type": "stream",
          "text": [
            "\r 67%|██████▋   | 200/300 [02:22<01:21,  1.23it/s]"
          ]
        },
        {
          "name": "stdout",
          "output_type": "stream",
          "text": [
            "[199/00001] val_loss: 0.010, val_accuracy: 100.000%\n"
          ]
        },
        {
          "name": "stderr",
          "output_type": "stream",
          "text": [
            " 83%|████████▎ | 249/300 [02:55<00:34,  1.48it/s]"
          ]
        },
        {
          "name": "stdout",
          "output_type": "stream",
          "text": [
            "[249/00001] train_loss: 0.014\n"
          ]
        },
        {
          "name": "stderr",
          "output_type": "stream",
          "text": [
            "\r 83%|████████▎ | 250/300 [02:56<00:40,  1.25it/s]"
          ]
        },
        {
          "name": "stdout",
          "output_type": "stream",
          "text": [
            "[249/00001] val_loss: 0.001, val_accuracy: 100.000%\n"
          ]
        },
        {
          "name": "stderr",
          "output_type": "stream",
          "text": [
            "100%|█████████▉| 299/300 [03:28<00:00,  1.49it/s]"
          ]
        },
        {
          "name": "stdout",
          "output_type": "stream",
          "text": [
            "[299/00001] train_loss: 0.003\n"
          ]
        },
        {
          "name": "stderr",
          "output_type": "stream",
          "text": [
            "100%|██████████| 300/300 [03:30<00:00,  1.43it/s]"
          ]
        },
        {
          "name": "stdout",
          "output_type": "stream",
          "text": [
            "[299/00001] val_loss: 0.000, val_accuracy: 100.000%\n"
          ]
        },
        {
          "name": "stderr",
          "output_type": "stream",
          "text": [
            "\n"
          ]
        }
      ],
      "source": [
        "from exercise_2.training import train_pointnet_classification\n",
        "config = {\n",
        "    'experiment_name': '2_4_pointnet_classification_overfitting',\n",
        "    'device': 'cuda:0',                   # change this to cpu if you do not have a GPU\n",
        "    'is_overfit': True,                   # True since we're doing overfitting\n",
        "    'batch_size': 32,\n",
        "    'resume_ckpt': None,\n",
        "    'learning_rate': 0.001,\n",
        "    'max_epochs': 300,\n",
        "    'print_every_n': 100,\n",
        "    'validate_every_n': 100,\n",
        "}\n",
        "\n",
        "train_pointnet_classification.main(config)  # should be able to get ~0 loss, 100% accuracy"
      ]
    },
    {
      "attachments": {},
      "cell_type": "markdown",
      "metadata": {
        "id": "SOLSUnCd_vOl"
      },
      "source": [
        "### (e) Training over the entire training set\n",
        "\n",
        "Once your overfitting completes successfully, you can move on to training on the entire dataset again."
      ]
    },
    {
      "cell_type": "code",
      "execution_count": null,
      "metadata": {
        "colab": {
          "base_uri": "https://localhost:8080/"
        },
        "id": "j7QQuzdk_vOm",
        "outputId": "7d67ed06-71aa-496e-9b3e-50928d73f9e5",
        "scrolled": true
      },
      "outputs": [
        {
          "name": "stdout",
          "output_type": "stream",
          "text": [
            "Using device: cuda:0\n"
          ]
        },
        {
          "name": "stderr",
          "output_type": "stream",
          "text": [
            "\r  0%|          | 0/10 [00:00<?, ?it/s]"
          ]
        },
        {
          "name": "stdout",
          "output_type": "stream",
          "text": [
            "[000/00099] train_loss: 1.190\n",
            "[000/00199] train_loss: 0.673\n",
            "[000/00249] val_loss: 0.003, val_accuracy: 66.667%\n",
            "[000/00299] train_loss: 0.550\n",
            "[000/00399] train_loss: 0.477\n",
            "[000/00499] train_loss: 0.471\n",
            "[000/00499] val_loss: 0.003, val_accuracy: 83.333%\n",
            "[000/00599] train_loss: 0.410\n"
          ]
        },
        {
          "name": "stderr",
          "output_type": "stream",
          "text": [
            "\r 10%|█         | 1/10 [01:46<15:58, 106.45s/it]"
          ]
        },
        {
          "name": "stdout",
          "output_type": "stream",
          "text": [
            "[001/00020] train_loss: 0.441\n",
            "[001/00070] val_loss: 0.003, val_accuracy: 77.778%\n",
            "[001/00120] train_loss: 0.389\n",
            "[001/00220] train_loss: 0.376\n",
            "[001/00320] train_loss: 0.345\n",
            "[001/00320] val_loss: 0.003, val_accuracy: 77.778%\n",
            "[001/00420] train_loss: 0.324\n",
            "[001/00520] train_loss: 0.352\n",
            "[001/00570] val_loss: 0.002, val_accuracy: 88.889%\n",
            "[001/00620] train_loss: 0.347\n"
          ]
        },
        {
          "name": "stderr",
          "output_type": "stream",
          "text": [
            "\r 20%|██        | 2/10 [03:47<15:18, 114.83s/it]"
          ]
        },
        {
          "name": "stdout",
          "output_type": "stream",
          "text": [
            "[002/00041] train_loss: 0.344\n",
            "[002/00141] train_loss: 0.295\n",
            "[002/00141] val_loss: 0.003, val_accuracy: 83.333%\n",
            "[002/00241] train_loss: 0.342\n",
            "[002/00341] train_loss: 0.321\n",
            "[002/00391] val_loss: 0.003, val_accuracy: 77.778%\n",
            "[002/00441] train_loss: 0.308\n",
            "[002/00541] train_loss: 0.288\n",
            "[002/00641] train_loss: 0.297\n",
            "[002/00641] val_loss: 0.002, val_accuracy: 83.333%\n"
          ]
        },
        {
          "name": "stderr",
          "output_type": "stream",
          "text": [
            "\r 30%|███       | 3/10 [05:48<13:44, 117.79s/it]"
          ]
        },
        {
          "name": "stdout",
          "output_type": "stream",
          "text": [
            "[003/00062] train_loss: 0.285\n",
            "[003/00162] train_loss: 0.267\n",
            "[003/00212] val_loss: 0.002, val_accuracy: 77.778%\n",
            "[003/00262] train_loss: 0.278\n",
            "[003/00362] train_loss: 0.315\n",
            "[003/00462] train_loss: 0.272\n",
            "[003/00462] val_loss: 0.003, val_accuracy: 88.889%\n",
            "[003/00562] train_loss: 0.286\n",
            "[003/00662] train_loss: 0.267\n"
          ]
        },
        {
          "name": "stderr",
          "output_type": "stream",
          "text": [
            "\r 40%|████      | 4/10 [07:30<11:10, 111.76s/it]"
          ]
        },
        {
          "name": "stdout",
          "output_type": "stream",
          "text": [
            "[004/00033] val_loss: 0.002, val_accuracy: 88.889%\n",
            "[004/00083] train_loss: 0.307\n",
            "[004/00183] train_loss: 0.263\n",
            "[004/00283] train_loss: 0.267\n",
            "[004/00283] val_loss: 0.001, val_accuracy: 94.444%\n",
            "[004/00383] train_loss: 0.255\n",
            "[004/00483] train_loss: 0.263\n",
            "[004/00533] val_loss: 0.001, val_accuracy: 94.444%\n",
            "[004/00583] train_loss: 0.249\n"
          ]
        },
        {
          "name": "stderr",
          "output_type": "stream",
          "text": [
            "\r 50%|█████     | 5/10 [09:29<09:31, 114.33s/it]"
          ]
        },
        {
          "name": "stdout",
          "output_type": "stream",
          "text": [
            "[005/00004] train_loss: 0.240\n",
            "[005/00104] train_loss: 0.245\n",
            "[005/00104] val_loss: 0.001, val_accuracy: 94.444%\n",
            "[005/00204] train_loss: 0.247\n",
            "[005/00304] train_loss: 0.233\n",
            "[005/00354] val_loss: 0.001, val_accuracy: 94.444%\n",
            "[005/00404] train_loss: 0.246\n",
            "[005/00504] train_loss: 0.253\n",
            "[005/00604] train_loss: 0.264\n",
            "[005/00604] val_loss: 0.001, val_accuracy: 88.889%\n"
          ]
        },
        {
          "name": "stderr",
          "output_type": "stream",
          "text": [
            "\r 60%|██████    | 6/10 [11:30<07:45, 116.32s/it]"
          ]
        },
        {
          "name": "stdout",
          "output_type": "stream",
          "text": [
            "[006/00025] train_loss: 0.236\n",
            "[006/00125] train_loss: 0.233\n",
            "[006/00175] val_loss: 0.001, val_accuracy: 88.889%\n",
            "[006/00225] train_loss: 0.235\n",
            "[006/00325] train_loss: 0.249\n",
            "[006/00425] train_loss: 0.245\n",
            "[006/00425] val_loss: 0.001, val_accuracy: 88.889%\n",
            "[006/00525] train_loss: 0.227\n",
            "[006/00625] train_loss: 0.226\n",
            "[006/00675] val_loss: 0.001, val_accuracy: 94.444%\n"
          ]
        },
        {
          "name": "stderr",
          "output_type": "stream",
          "text": [
            "\r 70%|███████   | 7/10 [13:31<05:53, 117.99s/it]"
          ]
        },
        {
          "name": "stdout",
          "output_type": "stream",
          "text": [
            "[007/00046] train_loss: 0.239\n",
            "[007/00146] train_loss: 0.247\n",
            "[007/00246] train_loss: 0.222\n",
            "[007/00246] val_loss: 0.001, val_accuracy: 94.444%\n",
            "[007/00346] train_loss: 0.226\n",
            "[007/00446] train_loss: 0.216\n",
            "[007/00496] val_loss: 0.002, val_accuracy: 88.889%\n",
            "[007/00546] train_loss: 0.230\n",
            "[007/00646] train_loss: 0.218\n"
          ]
        },
        {
          "name": "stderr",
          "output_type": "stream",
          "text": [
            "\r 80%|████████  | 8/10 [15:15<03:46, 113.44s/it]"
          ]
        },
        {
          "name": "stdout",
          "output_type": "stream",
          "text": [
            "[008/00067] train_loss: 0.211\n",
            "[008/00067] val_loss: 0.001, val_accuracy: 88.889%\n",
            "[008/00167] train_loss: 0.231\n",
            "[008/00267] train_loss: 0.217\n",
            "[008/00317] val_loss: 0.001, val_accuracy: 94.444%\n",
            "[008/00367] train_loss: 0.205\n",
            "[008/00467] train_loss: 0.229\n",
            "[008/00567] train_loss: 0.205\n",
            "[008/00567] val_loss: 0.002, val_accuracy: 88.889%\n",
            "[008/00667] train_loss: 0.222\n"
          ]
        },
        {
          "name": "stderr",
          "output_type": "stream",
          "text": [
            "\r 90%|█████████ | 9/10 [17:15<01:55, 115.49s/it]"
          ]
        },
        {
          "name": "stdout",
          "output_type": "stream",
          "text": [
            "[009/00088] train_loss: 0.229\n",
            "[009/00138] val_loss: 0.002, val_accuracy: 94.444%\n",
            "[009/00188] train_loss: 0.196\n",
            "[009/00288] train_loss: 0.195\n",
            "[009/00388] train_loss: 0.211\n",
            "[009/00388] val_loss: 0.001, val_accuracy: 94.444%\n",
            "[009/00488] train_loss: 0.194\n",
            "[009/00588] train_loss: 0.226\n",
            "[009/00638] val_loss: 0.001, val_accuracy: 94.444%\n"
          ]
        },
        {
          "name": "stderr",
          "output_type": "stream",
          "text": [
            "100%|██████████| 10/10 [19:13<00:00, 115.33s/it]\n"
          ]
        }
      ],
      "source": [
        "from exercise_2.training import train_pointnet_classification\n",
        "config = {\n",
        "    'experiment_name': '2_4_pointnet_classification_generalization',\n",
        "    'device': 'cuda:0',                    # change this to cpu if you do not have a GPU\n",
        "    'is_overfit': False,\n",
        "    'batch_size': 32,\n",
        "    'resume_ckpt': None,\n",
        "    'learning_rate': 0.001,\n",
        "    'max_epochs': 10,\n",
        "    'print_every_n': 100,\n",
        "    'validate_every_n': 250,\n",
        "}\n",
        "\n",
        "train_pointnet_classification.main(config)  # Should be able to get > 92% accuracy on the val set"
      ]
    },
    {
      "attachments": {},
      "cell_type": "markdown",
      "metadata": {
        "id": "pFcWncBQ_vOm"
      },
      "source": [
        "### (f) Inference using the trained model"
      ]
    },
    {
      "cell_type": "code",
      "execution_count": null,
      "metadata": {
        "id": "ILcjXT7T_vOm"
      },
      "outputs": [],
      "source": [
        "from exercise_2.inference.infer_pointnet_classification import InferenceHandlerPointNetClassification\n",
        "\n",
        "\n",
        "# create a handler for inference using a trained checkpoint\n",
        "inferer = InferenceHandlerPointNetClassification('exercise_2/runs/2_4_pointnet_classification_generalization/model_best.ckpt')"
      ]
    },
    {
      "cell_type": "code",
      "execution_count": null,
      "metadata": {
        "colab": {
          "base_uri": "https://localhost:8080/",
          "height": 34,
          "referenced_widgets": [
            "7e3b8728ee694eb0a1b955e07d8f1117",
            "ddc263796645417d9e1aabcd82c0dcca",
            "a5e07a178a6a4bc6a588cb2b0cf4c0bc"
          ]
        },
        "id": "c6IXQre1_vOm",
        "outputId": "626c1805-c44d-4620-c665-257d724d04d6"
      },
      "outputs": [
        {
          "name": "stdout",
          "output_type": "stream",
          "text": [
            "Predicted category: chair\n"
          ]
        },
        {
          "data": {
            "application/vnd.jupyter.widget-view+json": {
              "model_id": "7e3b8728ee694eb0a1b955e07d8f1117",
              "version_major": 2,
              "version_minor": 0
            },
            "text/plain": [
              "Output()"
            ]
          },
          "metadata": {},
          "output_type": "display_data"
        }
      ],
      "source": [
        "# get shape point cloud and visualize\n",
        "shape_points = ShapeNetPoints.get_point_cloud('03001627/f913501826c588e89753496ba23f2183')\n",
        "print('Predicted category:', inferer.infer_single(shape_points))  # expected output: chair\n",
        "visualize_pointcloud(shape_points.T, point_size=0.025, flip_axes=True)"
      ]
    },
    {
      "cell_type": "code",
      "execution_count": null,
      "metadata": {
        "colab": {
          "base_uri": "https://localhost:8080/",
          "height": 34,
          "referenced_widgets": [
            "b1fd6b13078a42cdbd04a670b3fe9993",
            "56b11b24b4d04224afb5387f3d3594e5",
            "137fc10370ae40a88794cfc5369479fb"
          ]
        },
        "id": "AlDT1sC7_vOn",
        "outputId": "b3e8321b-7d20-4cdc-9f3d-91da82c28d04"
      },
      "outputs": [
        {
          "name": "stdout",
          "output_type": "stream",
          "text": [
            "Predicted category: airplane\n"
          ]
        },
        {
          "data": {
            "application/vnd.jupyter.widget-view+json": {
              "model_id": "b1fd6b13078a42cdbd04a670b3fe9993",
              "version_major": 2,
              "version_minor": 0
            },
            "text/plain": [
              "Output()"
            ]
          },
          "metadata": {},
          "output_type": "display_data"
        }
      ],
      "source": [
        "# get shape point cloud and visualize\n",
        "shape_points = ShapeNetPoints.get_point_cloud('02691156/6af4383123972f2262b600da24e0965')\n",
        "print('Predicted category:', inferer.infer_single(shape_points))\n",
        "visualize_pointcloud(shape_points.T, point_size=0.025, flip_axes=True)"
      ]
    },
    {
      "cell_type": "code",
      "execution_count": null,
      "metadata": {
        "colab": {
          "base_uri": "https://localhost:8080/",
          "height": 34,
          "referenced_widgets": [
            "35c2ee0d56644d9ea6a55a22926deef7",
            "26adf145b161499db6233d3d8730191f",
            "de820bfe889646d6b4d84c6c6d73d8ce"
          ]
        },
        "id": "rl27MlK7_vOn",
        "outputId": "2a1b1487-689c-498b-f0ac-04283892dad7"
      },
      "outputs": [
        {
          "name": "stdout",
          "output_type": "stream",
          "text": [
            "Predicted category: rifle\n"
          ]
        },
        {
          "data": {
            "application/vnd.jupyter.widget-view+json": {
              "model_id": "35c2ee0d56644d9ea6a55a22926deef7",
              "version_major": 2,
              "version_minor": 0
            },
            "text/plain": [
              "Output()"
            ]
          },
          "metadata": {},
          "output_type": "display_data"
        }
      ],
      "source": [
        "# get shape point cloud and visualize\n",
        "shape_points = ShapeNetPoints.get_point_cloud('04090263/eae96ddf483e896c805d3d8e378d155e')\n",
        "print('Predicted category:', inferer.infer_single(shape_points))\n",
        "visualize_pointcloud(shape_points.T, point_size=0.025, flip_axes=True)"
      ]
    },
    {
      "attachments": {},
      "cell_type": "markdown",
      "metadata": {
        "id": "X8Ekcq1l_vOn"
      },
      "source": [
        "Make sure you submit the trained model `exercise_2/runs/2_4_pointnet_classification_generalization/model_best.ckpt` in your zip\n",
        "so that we can evaluate it on the test set at our end."
      ]
    },
    {
      "attachments": {},
      "cell_type": "markdown",
      "metadata": {
        "id": "nsn3pUVX_vOn"
      },
      "source": [
        "## 2.5. Shape Parts Segmentation using PointNet\n",
        "\n",
        "We now go one step further: We do not just want to learn the overall class label for a given shape but instead for each point in a shape the part it belongs to. We call this Part Segmentation. The good thing is that we can actually re-use most of the PointNet architecture from 2.4."
      ]
    },
    {
      "attachments": {},
      "cell_type": "markdown",
      "metadata": {
        "id": "YNhwGzzP_vOn"
      },
      "source": [
        "### (a) Download the ShapeNetPart dataset\n",
        "\n",
        "Annotating data for segmentation is a lot of effort since labelling has to be performed within the shape for each part instead of globally for the entire shape.\n",
        "\n",
        "Luckily, there are existing datasets we can use for this. In our case, this is the ShapeNet Part Segmenation dataset that you can download in the cell below.\n",
        "\n",
        "In terms of data layout, the general idea of shape class identifiers and shape IDs is the same; we just have slightly different shape categories now. Also, each point cloud now has a correponding file specifying the part class for every point.\n",
        "\n",
        "We put the shape class labels for this dataset in `exercise_2/data/shape_parts_info.json`, analogous to `shape_info.json` from exercise parts 2.3 and 2.4.\n",
        "\n",
        "The point cloud data is stored as pts files which is basically an even simpler version of obj. It omits the v in front of each line that represents a point and does not support faces. Each line therefore represents one point with its xyz coordinates, separated by a space.\n",
        "\n",
        "```\n",
        "# contents of exercise_2/data/shapenetcore_partanno_segmentation_benchmark_v0\n",
        "\n",
        "02691156/                                         # Shape category folder with all its shapes\n",
        "    ├── points                                    # All point clouds go here\n",
        "        ├── 1a04e3eab45ca15dd86060f189eb133.pts   # Point cloud data\n",
        "        ├── 1a32f10b20170883663e90eaf6b4ca52.pts  # Another point cloud\n",
        "        :\n",
        "        :\n",
        "    ├── points_label                              # Part labels for each point in the corresponding pts file\n",
        "        ├── 1a04e3eab45ca15dd86060f189eb133.seg   # Each line represents the local part class of a point\n",
        "        ├── 1a32f10b20170883663e90eaf6b4ca52.seg  # Another segmentation file\n",
        "        :\n",
        "        :\n",
        "    ├── seg_img                                   # Visualizations of the original mesh part segmentation\n",
        "02773838/                                         # Another shape category folder\n",
        "02954340/                                         # In total you should have 16 shape category folders\n",
        ":\n",
        ":\n",
        "train_test_split/                                 # Official split IDs\n",
        "```"
      ]
    },
    {
      "cell_type": "code",
      "execution_count": null,
      "metadata": {
        "colab": {
          "base_uri": "https://localhost:8080/"
        },
        "id": "YUVMAkiD_vOo",
        "outputId": "c0a7df0d-0dfc-421d-bbce-ce4bfb2386aa"
      },
      "outputs": [
        {
          "name": "stdout",
          "output_type": "stream",
          "text": [
            "Downloading ...\n",
            "Extracting ...\n",
            "Done.\n"
          ]
        }
      ],
      "source": [
        "print('Downloading ...')\n",
        "#!wget https://shapenet.cs.stanford.edu/ericyi/shapenetcore_partanno_segmentation_benchmark_v0.zip --no-check-certificate -P exercise_2/data\n",
        "print('Extracting ...')\n",
        "!unzip -q exercise_2/data/shapenetcore_partanno_segmentation_benchmark_v0.zip -d exercise_2/data\n",
        "#!rm exercise_2/data/shapenetcore_partanno_segmentation_benchmark_v0.zip\n",
        "print('Done.')"
      ]
    },
    {
      "attachments": {},
      "cell_type": "markdown",
      "metadata": {
        "id": "NCw2H-J-_vOo"
      },
      "source": [
        "### (b) Dataset implementation\n",
        "\n",
        "You can use the same split setup as in 2.3 and 2.4: `overfit.txt` for overfitting, `train.txt` for the train samples, and `val.txt` for the val samples; This time, use the files in folder `exercise_2/data/splits/shapenet_parts`.\n",
        "\n",
        "The dataset implementation will be similar to 2.3 and 2.4: Fill out the missing implementations of functions `__getitem__` and `__len__` in class `ShapeNetPoints` in `exercise_2/data/shapenet_parts.py`. Note that you now need to load not only the point cloud but also the per-point segmentation labels in function `get_point_cloud_with_labels`. Since each point cloud in this dataset contains more than 1024 points, we also need to sub-sample the raw points list. Use `np.random.choice` for this: Randomizing the sampling will work as augmentation which in turn helps prevent overfitting. Make sure to sample the corresponding points and labels when doing so.\n",
        "\n",
        "Once done, test your implementation below."
      ]
    },
    {
      "cell_type": "code",
      "execution_count": 2,
      "metadata": {
        "colab": {
          "base_uri": "https://localhost:8080/"
        },
        "id": "xE5FaOjL_vOo",
        "outputId": "04280c00-ed60-4271-8372-366c9dd70595"
      },
      "outputs": [
        {
          "name": "stdout",
          "output_type": "stream",
          "text": [
            "Length of train set: 12137\n",
            "Length of val set: 1870\n",
            "Length of overfit set: 64\n"
          ]
        }
      ],
      "source": [
        "from exercise_2.data.shapenet_parts import ShapeNetParts\n",
        "\n",
        "# Create a dataset with train split\n",
        "train_dataset = ShapeNetParts('train')\n",
        "val_dataset = ShapeNetParts('val')\n",
        "overfit_dataset = ShapeNetParts('overfit')\n",
        "\n",
        "# Get length, which is a call to __len__ function\n",
        "print(f'Length of train set: {len(train_dataset)}')  # expected output: 12137\n",
        "# Get length, which is a call to __len__ function\n",
        "print(f'Length of val set: {len(val_dataset)}')  # expected output: 1870\n",
        "# Get length, which is a call to __len__ function\n",
        "print(f'Length of overfit set: {len(overfit_dataset)}')  # expected output: 64"
      ]
    },
    {
      "attachments": {},
      "cell_type": "markdown",
      "metadata": {
        "id": "W3YwDHwC_vOo"
      },
      "source": [
        "### (c) Modifying the PointNet Model\n",
        "\n",
        "Take a look at the PointNet architecture again:\n",
        "<img src=\"exercise_2/images/pointnet.png\" alt=\"pointnet_architecture\" style=\"width: 800px;\"/>\n",
        "\n",
        "We only cared about the blue classification part in 2.4. Now, we also want to implement the yellow part. You can re-use your encoder from 2.4. \n",
        "\n",
        "The idea is simple: Take the n points with 64-dimensional point features from the correct layer of the encoder and concatenate the global shape descriptor you get after applying the max function to it. Then, implement the remaining layers as conv1ds with batchnorm and relu after all but the last layer. The final layer reduces the dimensionality per point to m which is 50 in our case since we have 50 overall parts.\n",
        "\n",
        "Add the missing layers to `PointNetSegmentation` in `exercise_2/models/pointnet.py` and finish the implementation of the forward pass."
      ]
    },
    {
      "cell_type": "code",
      "execution_count": 5,
      "metadata": {
        "colab": {
          "base_uri": "https://localhost:8080/"
        },
        "id": "khAHKcJ1_vOp",
        "outputId": "fe53a73e-4df4-4b82-dd4a-376761b37720"
      },
      "outputs": [
        {
          "name": "stdout",
          "output_type": "stream",
          "text": [
            "   | Name                                     | Type                 | Params \n",
            "------------------------------------------------------------------------------------\n",
            "0  | encoder                                  | PointNetEncoder      | 2803529\n",
            "1  | encoder.input_transform_net              | TNet                 | 803081 \n",
            "2  | encoder.input_transform_net.conv         | Sequential           | 143104 \n",
            "3  | encoder.input_transform_net.conv.0       | Conv1d               | 256    \n",
            "4  | encoder.input_transform_net.conv.1       | BatchNorm1d          | 128    \n",
            "5  | encoder.input_transform_net.conv.2       | ReLU                 | 0      \n",
            "6  | encoder.input_transform_net.conv.3       | Conv1d               | 8320   \n",
            "7  | encoder.input_transform_net.conv.4       | BatchNorm1d          | 256    \n",
            "8  | encoder.input_transform_net.conv.5       | ReLU                 | 0      \n",
            "9  | encoder.input_transform_net.conv.6       | Conv1d               | 132096 \n",
            "10 | encoder.input_transform_net.conv.7       | BatchNorm1d          | 2048   \n",
            "11 | encoder.input_transform_net.classify     | Sequential           | 659977 \n",
            "12 | encoder.input_transform_net.classify.0   | Linear               | 524800 \n",
            "13 | encoder.input_transform_net.classify.1   | BatchNorm1d          | 1024   \n",
            "14 | encoder.input_transform_net.classify.2   | ReLU                 | 0      \n",
            "15 | encoder.input_transform_net.classify.3   | Linear               | 131328 \n",
            "16 | encoder.input_transform_net.classify.4   | BatchNorm1d          | 512    \n",
            "17 | encoder.input_transform_net.classify.5   | ReLU                 | 0      \n",
            "18 | encoder.input_transform_net.classify.6   | Linear               | 2313   \n",
            "19 | encoder.feature_transform_net            | TNet                 | 1857344\n",
            "20 | encoder.feature_transform_net.conv       | Sequential           | 147008 \n",
            "21 | encoder.feature_transform_net.conv.0     | Conv1d               | 4160   \n",
            "22 | encoder.feature_transform_net.conv.1     | BatchNorm1d          | 128    \n",
            "23 | encoder.feature_transform_net.conv.2     | ReLU                 | 0      \n",
            "24 | encoder.feature_transform_net.conv.3     | Conv1d               | 8320   \n",
            "25 | encoder.feature_transform_net.conv.4     | BatchNorm1d          | 256    \n",
            "26 | encoder.feature_transform_net.conv.5     | ReLU                 | 0      \n",
            "27 | encoder.feature_transform_net.conv.6     | Conv1d               | 132096 \n",
            "28 | encoder.feature_transform_net.conv.7     | BatchNorm1d          | 2048   \n",
            "29 | encoder.feature_transform_net.classify   | Sequential           | 1710336\n",
            "30 | encoder.feature_transform_net.classify.0 | Linear               | 524800 \n",
            "31 | encoder.feature_transform_net.classify.1 | BatchNorm1d          | 1024   \n",
            "32 | encoder.feature_transform_net.classify.2 | ReLU                 | 0      \n",
            "33 | encoder.feature_transform_net.classify.3 | Linear               | 131328 \n",
            "34 | encoder.feature_transform_net.classify.4 | BatchNorm1d          | 512    \n",
            "35 | encoder.feature_transform_net.classify.5 | ReLU                 | 0      \n",
            "36 | encoder.feature_transform_net.classify.6 | Linear               | 1052672\n",
            "37 | encoder.layer1                           | Sequential           | 384    \n",
            "38 | encoder.layer1.0                         | Conv1d               | 256    \n",
            "39 | encoder.layer1.1                         | BatchNorm1d          | 128    \n",
            "40 | encoder.layer1.2                         | ReLU                 | 0      \n",
            "41 | encoder.layer2                           | Sequential           | 8576   \n",
            "42 | encoder.layer2.0                         | Conv1d               | 8320   \n",
            "43 | encoder.layer2.1                         | BatchNorm1d          | 256    \n",
            "44 | encoder.layer2.2                         | ReLU                 | 0      \n",
            "45 | encoder.layer3                           | Sequential           | 134144 \n",
            "46 | encoder.layer3.0                         | Conv1d               | 132096 \n",
            "47 | encoder.layer3.1                         | BatchNorm1d          | 2048   \n",
            "48 | conv                                     | Sequential           | 730034 \n",
            "49 | conv.0                                   | Conv1d               | 557568 \n",
            "50 | conv.1                                   | BatchNorm1d          | 1024   \n",
            "51 | conv.2                                   | ReLU                 | 0      \n",
            "52 | conv.3                                   | Conv1d               | 131328 \n",
            "53 | conv.4                                   | BatchNorm1d          | 512    \n",
            "54 | conv.5                                   | ReLU                 | 0      \n",
            "55 | conv.6                                   | Conv1d               | 32896  \n",
            "56 | conv.7                                   | BatchNorm1d          | 256    \n",
            "57 | conv.8                                   | ReLU                 | 0      \n",
            "58 | conv.9                                   | Conv1d               | 6450   \n",
            "59 | TOTAL                                    | PointNetSegmentation | 3533563\n",
            "Output tensor shape:  torch.Size([8, 1024, 50])\n",
            "Number of traininable params: 3.53M\n"
          ]
        }
      ],
      "source": [
        "from exercise_2.model.pointnet import PointNetSegmentation\n",
        "from exercise_2.util.model import summarize_model\n",
        "\n",
        "pointnet = PointNetSegmentation(50)\n",
        "print(summarize_model(pointnet))  # Expected: Rows 0-40 and TOTAL = 3533563\n",
        "\n",
        "input_tensor = torch.randn(8, 3, 1024)\n",
        "predictions = pointnet(input_tensor)\n",
        "\n",
        "print('Output tensor shape: ', predictions.shape)  # Expected: 8, 1024, 50\n",
        "num_trainable_params = sum(p.numel() for p in pointnet.parameters() if p.requires_grad) / 1e6\n",
        "print(f'Number of traininable params: {num_trainable_params:.2f}M')  # Expected: ~3M"
      ]
    },
    {
      "attachments": {},
      "cell_type": "markdown",
      "metadata": {
        "id": "uBWGrLms_vOp"
      },
      "source": [
        "### (d) Training Script and Overfitting\n",
        "\n",
        "You can now go to the train script in `train_pointnet_segmentation.py` and fill in the missing pieces as in 2.3 and 2.4. Then, verify that your training work by overfitting to a few samples below."
      ]
    },
    {
      "cell_type": "code",
      "execution_count": null,
      "metadata": {
        "colab": {
          "base_uri": "https://localhost:8080/"
        },
        "id": "WPdoPpT7oQxi",
        "outputId": "a8a2f2bb-cb86-478f-bd14-2990b2526d16"
      },
      "outputs": [
        {
          "name": "stdout",
          "output_type": "stream",
          "text": [
            "exercise_2\t\t exercise_2.ipynb  pyproject.toml    toy_data.ply\n",
            "exercise_2_backup.ipynb  gitignore\t   requirements.txt\n",
            "exercise_2\t\t exercise_2.ipynb  pyproject.toml    toy_data.ply\n",
            "exercise_2_backup.ipynb  gitignore\t   requirements.txt\n"
          ]
        }
      ],
      "source": [
        "#"
      ]
    },
    {
      "cell_type": "code",
      "execution_count": null,
      "metadata": {
        "colab": {
          "base_uri": "https://localhost:8080/",
          "height": 957
        },
        "id": "b-e4uf4h_vOp",
        "outputId": "98930814-fc68-4d14-a0d0-f65f9c56040d"
      },
      "outputs": [
        {
          "name": "stdout",
          "output_type": "stream",
          "text": [
            "Using device: cuda:0\n"
          ]
        },
        {
          "name": "stderr",
          "output_type": "stream",
          "text": [
            "/usr/local/lib/python3.10/dist-packages/torch/utils/data/dataloader.py:560: UserWarning: This DataLoader will create 4 worker processes in total. Our suggested max number of worker in current system is 2, which is smaller than what this DataLoader is going to create. Please be aware that excessive worker creation might get DataLoader running slow or even freeze, lower the worker number to avoid potential slowness/freeze if necessary.\n",
            "  warnings.warn(_create_warning_msg(\n",
            "  5%|▍         | 49/1000 [01:06<23:10,  1.46s/it]"
          ]
        },
        {
          "name": "stdout",
          "output_type": "stream",
          "text": [
            "[049/00001] train_loss: 0.930\n"
          ]
        },
        {
          "name": "stderr",
          "output_type": "stream",
          "text": [
            "\r  5%|▌         | 50/1000 [01:10<32:20,  2.04s/it]"
          ]
        },
        {
          "name": "stdout",
          "output_type": "stream",
          "text": [
            "[049/00001] val_loss: 2.550, val_accuracy: 87.238%, val_iou: 0.977\n"
          ]
        },
        {
          "name": "stderr",
          "output_type": "stream",
          "text": [
            " 10%|▉         | 99/1000 [02:14<22:40,  1.51s/it]"
          ]
        },
        {
          "name": "stdout",
          "output_type": "stream",
          "text": [
            "[099/00001] train_loss: 0.282\n"
          ]
        },
        {
          "name": "stderr",
          "output_type": "stream",
          "text": [
            "\r 10%|█         | 100/1000 [02:17<31:20,  2.09s/it]"
          ]
        },
        {
          "name": "stdout",
          "output_type": "stream",
          "text": [
            "[099/00001] val_loss: 3.476, val_accuracy: 92.493%, val_iou: 0.986\n"
          ]
        },
        {
          "name": "stderr",
          "output_type": "stream",
          "text": [
            " 15%|█▍        | 149/1000 [03:22<21:34,  1.52s/it]"
          ]
        },
        {
          "name": "stdout",
          "output_type": "stream",
          "text": [
            "[149/00001] train_loss: 0.216\n"
          ]
        },
        {
          "name": "stderr",
          "output_type": "stream",
          "text": [
            "\r 15%|█▌        | 150/1000 [03:26<28:41,  2.03s/it]"
          ]
        },
        {
          "name": "stdout",
          "output_type": "stream",
          "text": [
            "[149/00001] val_loss: 3.408, val_accuracy: 94.025%, val_iou: 0.988\n"
          ]
        },
        {
          "name": "stderr",
          "output_type": "stream",
          "text": [
            " 20%|█▉        | 199/1000 [04:31<20:18,  1.52s/it]"
          ]
        },
        {
          "name": "stdout",
          "output_type": "stream",
          "text": [
            "[199/00001] train_loss: 0.146\n"
          ]
        },
        {
          "name": "stderr",
          "output_type": "stream",
          "text": [
            "\r 20%|██        | 200/1000 [04:34<26:56,  2.02s/it]"
          ]
        },
        {
          "name": "stdout",
          "output_type": "stream",
          "text": [
            "[199/00001] val_loss: 4.119, val_accuracy: 93.904%, val_iou: 0.989\n"
          ]
        },
        {
          "name": "stderr",
          "output_type": "stream",
          "text": [
            " 25%|██▍       | 249/1000 [05:39<19:30,  1.56s/it]"
          ]
        },
        {
          "name": "stdout",
          "output_type": "stream",
          "text": [
            "[249/00001] train_loss: 0.134\n"
          ]
        },
        {
          "name": "stderr",
          "output_type": "stream",
          "text": [
            "\r 25%|██▌       | 250/1000 [05:42<24:44,  1.98s/it]"
          ]
        },
        {
          "name": "stdout",
          "output_type": "stream",
          "text": [
            "[249/00001] val_loss: 4.205, val_accuracy: 95.399%, val_iou: 0.992\n"
          ]
        },
        {
          "name": "stderr",
          "output_type": "stream",
          "text": [
            " 30%|██▉       | 299/1000 [06:49<19:29,  1.67s/it]"
          ]
        },
        {
          "name": "stdout",
          "output_type": "stream",
          "text": [
            "[299/00001] train_loss: 0.103\n"
          ]
        },
        {
          "name": "stderr",
          "output_type": "stream",
          "text": [
            "\r 30%|███       | 300/1000 [06:52<21:38,  1.86s/it]"
          ]
        },
        {
          "name": "stdout",
          "output_type": "stream",
          "text": [
            "[299/00001] val_loss: 4.654, val_accuracy: 95.915%, val_iou: 0.992\n"
          ]
        },
        {
          "name": "stderr",
          "output_type": "stream",
          "text": [
            " 35%|███▍      | 349/1000 [08:00<15:18,  1.41s/it]"
          ]
        },
        {
          "name": "stdout",
          "output_type": "stream",
          "text": [
            "[349/00001] train_loss: 0.108\n"
          ]
        },
        {
          "name": "stderr",
          "output_type": "stream",
          "text": [
            "\r 35%|███▌      | 350/1000 [08:03<19:35,  1.81s/it]"
          ]
        },
        {
          "name": "stdout",
          "output_type": "stream",
          "text": [
            "[349/00001] val_loss: 4.618, val_accuracy: 95.389%, val_iou: 0.991\n"
          ]
        },
        {
          "name": "stderr",
          "output_type": "stream",
          "text": [
            " 40%|███▉      | 399/1000 [09:25<17:46,  1.78s/it]"
          ]
        },
        {
          "name": "stdout",
          "output_type": "stream",
          "text": [
            "[399/00001] train_loss: 0.100\n"
          ]
        },
        {
          "name": "stderr",
          "output_type": "stream",
          "text": [
            "\r 40%|████      | 400/1000 [09:28<20:46,  2.08s/it]"
          ]
        },
        {
          "name": "stdout",
          "output_type": "stream",
          "text": [
            "[399/00001] val_loss: 5.036, val_accuracy: 96.597%, val_iou: 0.994\n"
          ]
        },
        {
          "name": "stderr",
          "output_type": "stream",
          "text": [
            " 45%|████▍     | 449/1000 [10:54<14:27,  1.57s/it]"
          ]
        },
        {
          "name": "stdout",
          "output_type": "stream",
          "text": [
            "[449/00001] train_loss: 0.078\n",
            "[449/00001] val_loss: 5.286, val_accuracy: 96.840%, val_iou: 0.994\n"
          ]
        },
        {
          "name": "stderr",
          "output_type": "stream",
          "text": [
            " 50%|████▉     | 499/1000 [12:14<11:06,  1.33s/it]"
          ]
        },
        {
          "name": "stdout",
          "output_type": "stream",
          "text": [
            "[499/00001] train_loss: 0.074\n"
          ]
        },
        {
          "name": "stderr",
          "output_type": "stream",
          "text": [
            "\r 50%|█████     | 500/1000 [12:17<13:26,  1.61s/it]"
          ]
        },
        {
          "name": "stdout",
          "output_type": "stream",
          "text": [
            "[499/00001] val_loss: 5.328, val_accuracy: 97.318%, val_iou: 0.995\n"
          ]
        },
        {
          "name": "stderr",
          "output_type": "stream",
          "text": [
            " 54%|█████▍    | 541/1000 [13:14<11:14,  1.47s/it]\n"
          ]
        },
        {
          "ename": "KeyboardInterrupt",
          "evalue": "ignored",
          "output_type": "error",
          "traceback": [
            "\u001b[0;31m---------------------------------------------------------------------------\u001b[0m",
            "\u001b[0;31mKeyboardInterrupt\u001b[0m                         Traceback (most recent call last)",
            "\u001b[0;32m<ipython-input-12-c309014aa1cb>\u001b[0m in \u001b[0;36m<cell line: 14>\u001b[0;34m()\u001b[0m\n\u001b[1;32m     12\u001b[0m }\n\u001b[1;32m     13\u001b[0m \u001b[0;34m\u001b[0m\u001b[0m\n\u001b[0;32m---> 14\u001b[0;31m \u001b[0mtrain_pointnet_segmentation\u001b[0m\u001b[0;34m.\u001b[0m\u001b[0mmain\u001b[0m\u001b[0;34m(\u001b[0m\u001b[0mconfig\u001b[0m\u001b[0;34m)\u001b[0m  \u001b[0;31m# should be able to get ~0.03 loss, >97% accuracy, >0.95 iou\u001b[0m\u001b[0;34m\u001b[0m\u001b[0;34m\u001b[0m\u001b[0m\n\u001b[0m",
            "\u001b[0;32m/content/drive/MyDrive/3DML/E2/exercise_2/training/train_pointnet_segmentation.py\u001b[0m in \u001b[0;36mmain\u001b[0;34m(config)\u001b[0m\n\u001b[1;32m    140\u001b[0m \u001b[0;34m\u001b[0m\u001b[0m\n\u001b[1;32m    141\u001b[0m     \u001b[0;31m# Start training\u001b[0m\u001b[0;34m\u001b[0m\u001b[0;34m\u001b[0m\u001b[0m\n\u001b[0;32m--> 142\u001b[0;31m     \u001b[0mtrain\u001b[0m\u001b[0;34m(\u001b[0m\u001b[0mmodel\u001b[0m\u001b[0;34m,\u001b[0m \u001b[0mtrain_dataloader\u001b[0m\u001b[0;34m,\u001b[0m \u001b[0mval_dataloader\u001b[0m\u001b[0;34m,\u001b[0m \u001b[0mdevice\u001b[0m\u001b[0;34m,\u001b[0m \u001b[0mconfig\u001b[0m\u001b[0;34m)\u001b[0m\u001b[0;34m\u001b[0m\u001b[0;34m\u001b[0m\u001b[0m\n\u001b[0m",
            "\u001b[0;32m/content/drive/MyDrive/3DML/E2/exercise_2/training/train_pointnet_segmentation.py\u001b[0m in \u001b[0;36mtrain\u001b[0;34m(model, trainloader, valloader, device, config)\u001b[0m\n\u001b[1;32m     27\u001b[0m \u001b[0;34m\u001b[0m\u001b[0m\n\u001b[1;32m     28\u001b[0m     \u001b[0;32mfor\u001b[0m \u001b[0mepoch\u001b[0m \u001b[0;32min\u001b[0m \u001b[0mtqdm\u001b[0m\u001b[0;34m(\u001b[0m\u001b[0mrange\u001b[0m\u001b[0;34m(\u001b[0m\u001b[0mconfig\u001b[0m\u001b[0;34m[\u001b[0m\u001b[0;34m'max_epochs'\u001b[0m\u001b[0;34m]\u001b[0m\u001b[0;34m)\u001b[0m\u001b[0;34m)\u001b[0m\u001b[0;34m:\u001b[0m\u001b[0;34m\u001b[0m\u001b[0;34m\u001b[0m\u001b[0m\n\u001b[0;32m---> 29\u001b[0;31m         \u001b[0;32mfor\u001b[0m \u001b[0mi\u001b[0m\u001b[0;34m,\u001b[0m \u001b[0mbatch\u001b[0m \u001b[0;32min\u001b[0m \u001b[0menumerate\u001b[0m\u001b[0;34m(\u001b[0m\u001b[0mtrainloader\u001b[0m\u001b[0;34m)\u001b[0m\u001b[0;34m:\u001b[0m\u001b[0;34m\u001b[0m\u001b[0;34m\u001b[0m\u001b[0m\n\u001b[0m\u001b[1;32m     30\u001b[0m             \u001b[0;31m# TODO Add missing pieces, as in the exercise parts before\u001b[0m\u001b[0;34m\u001b[0m\u001b[0;34m\u001b[0m\u001b[0m\n\u001b[1;32m     31\u001b[0m             \u001b[0mShapeNetParts\u001b[0m\u001b[0;34m.\u001b[0m\u001b[0mmove_batch_to_device\u001b[0m\u001b[0;34m(\u001b[0m\u001b[0mbatch\u001b[0m\u001b[0;34m,\u001b[0m \u001b[0mdevice\u001b[0m\u001b[0;34m)\u001b[0m\u001b[0;34m\u001b[0m\u001b[0;34m\u001b[0m\u001b[0m\n",
            "\u001b[0;32m/usr/local/lib/python3.10/dist-packages/torch/utils/data/dataloader.py\u001b[0m in \u001b[0;36m__next__\u001b[0;34m(self)\u001b[0m\n\u001b[1;32m    631\u001b[0m                 \u001b[0;31m# TODO(https://github.com/pytorch/pytorch/issues/76750)\u001b[0m\u001b[0;34m\u001b[0m\u001b[0;34m\u001b[0m\u001b[0m\n\u001b[1;32m    632\u001b[0m                 \u001b[0mself\u001b[0m\u001b[0;34m.\u001b[0m\u001b[0m_reset\u001b[0m\u001b[0;34m(\u001b[0m\u001b[0;34m)\u001b[0m  \u001b[0;31m# type: ignore[call-arg]\u001b[0m\u001b[0;34m\u001b[0m\u001b[0;34m\u001b[0m\u001b[0m\n\u001b[0;32m--> 633\u001b[0;31m             \u001b[0mdata\u001b[0m \u001b[0;34m=\u001b[0m \u001b[0mself\u001b[0m\u001b[0;34m.\u001b[0m\u001b[0m_next_data\u001b[0m\u001b[0;34m(\u001b[0m\u001b[0;34m)\u001b[0m\u001b[0;34m\u001b[0m\u001b[0;34m\u001b[0m\u001b[0m\n\u001b[0m\u001b[1;32m    634\u001b[0m             \u001b[0mself\u001b[0m\u001b[0;34m.\u001b[0m\u001b[0m_num_yielded\u001b[0m \u001b[0;34m+=\u001b[0m \u001b[0;36m1\u001b[0m\u001b[0;34m\u001b[0m\u001b[0;34m\u001b[0m\u001b[0m\n\u001b[1;32m    635\u001b[0m             \u001b[0;32mif\u001b[0m \u001b[0mself\u001b[0m\u001b[0;34m.\u001b[0m\u001b[0m_dataset_kind\u001b[0m \u001b[0;34m==\u001b[0m \u001b[0m_DatasetKind\u001b[0m\u001b[0;34m.\u001b[0m\u001b[0mIterable\u001b[0m \u001b[0;32mand\u001b[0m\u001b[0;31m \u001b[0m\u001b[0;31m\\\u001b[0m\u001b[0;34m\u001b[0m\u001b[0;34m\u001b[0m\u001b[0m\n",
            "\u001b[0;32m/usr/local/lib/python3.10/dist-packages/torch/utils/data/dataloader.py\u001b[0m in \u001b[0;36m_next_data\u001b[0;34m(self)\u001b[0m\n\u001b[1;32m   1326\u001b[0m \u001b[0;34m\u001b[0m\u001b[0m\n\u001b[1;32m   1327\u001b[0m             \u001b[0;32massert\u001b[0m \u001b[0;32mnot\u001b[0m \u001b[0mself\u001b[0m\u001b[0;34m.\u001b[0m\u001b[0m_shutdown\u001b[0m \u001b[0;32mand\u001b[0m \u001b[0mself\u001b[0m\u001b[0;34m.\u001b[0m\u001b[0m_tasks_outstanding\u001b[0m \u001b[0;34m>\u001b[0m \u001b[0;36m0\u001b[0m\u001b[0;34m\u001b[0m\u001b[0;34m\u001b[0m\u001b[0m\n\u001b[0;32m-> 1328\u001b[0;31m             \u001b[0midx\u001b[0m\u001b[0;34m,\u001b[0m \u001b[0mdata\u001b[0m \u001b[0;34m=\u001b[0m \u001b[0mself\u001b[0m\u001b[0;34m.\u001b[0m\u001b[0m_get_data\u001b[0m\u001b[0;34m(\u001b[0m\u001b[0;34m)\u001b[0m\u001b[0;34m\u001b[0m\u001b[0;34m\u001b[0m\u001b[0m\n\u001b[0m\u001b[1;32m   1329\u001b[0m             \u001b[0mself\u001b[0m\u001b[0;34m.\u001b[0m\u001b[0m_tasks_outstanding\u001b[0m \u001b[0;34m-=\u001b[0m \u001b[0;36m1\u001b[0m\u001b[0;34m\u001b[0m\u001b[0;34m\u001b[0m\u001b[0m\n\u001b[1;32m   1330\u001b[0m             \u001b[0;32mif\u001b[0m \u001b[0mself\u001b[0m\u001b[0;34m.\u001b[0m\u001b[0m_dataset_kind\u001b[0m \u001b[0;34m==\u001b[0m \u001b[0m_DatasetKind\u001b[0m\u001b[0;34m.\u001b[0m\u001b[0mIterable\u001b[0m\u001b[0;34m:\u001b[0m\u001b[0;34m\u001b[0m\u001b[0;34m\u001b[0m\u001b[0m\n",
            "\u001b[0;32m/usr/local/lib/python3.10/dist-packages/torch/utils/data/dataloader.py\u001b[0m in \u001b[0;36m_get_data\u001b[0;34m(self)\u001b[0m\n\u001b[1;32m   1282\u001b[0m         \u001b[0;32melif\u001b[0m \u001b[0mself\u001b[0m\u001b[0;34m.\u001b[0m\u001b[0m_pin_memory\u001b[0m\u001b[0;34m:\u001b[0m\u001b[0;34m\u001b[0m\u001b[0;34m\u001b[0m\u001b[0m\n\u001b[1;32m   1283\u001b[0m             \u001b[0;32mwhile\u001b[0m \u001b[0mself\u001b[0m\u001b[0;34m.\u001b[0m\u001b[0m_pin_memory_thread\u001b[0m\u001b[0;34m.\u001b[0m\u001b[0mis_alive\u001b[0m\u001b[0;34m(\u001b[0m\u001b[0;34m)\u001b[0m\u001b[0;34m:\u001b[0m\u001b[0;34m\u001b[0m\u001b[0;34m\u001b[0m\u001b[0m\n\u001b[0;32m-> 1284\u001b[0;31m                 \u001b[0msuccess\u001b[0m\u001b[0;34m,\u001b[0m \u001b[0mdata\u001b[0m \u001b[0;34m=\u001b[0m \u001b[0mself\u001b[0m\u001b[0;34m.\u001b[0m\u001b[0m_try_get_data\u001b[0m\u001b[0;34m(\u001b[0m\u001b[0;34m)\u001b[0m\u001b[0;34m\u001b[0m\u001b[0;34m\u001b[0m\u001b[0m\n\u001b[0m\u001b[1;32m   1285\u001b[0m                 \u001b[0;32mif\u001b[0m \u001b[0msuccess\u001b[0m\u001b[0;34m:\u001b[0m\u001b[0;34m\u001b[0m\u001b[0;34m\u001b[0m\u001b[0m\n\u001b[1;32m   1286\u001b[0m                     \u001b[0;32mreturn\u001b[0m \u001b[0mdata\u001b[0m\u001b[0;34m\u001b[0m\u001b[0;34m\u001b[0m\u001b[0m\n",
            "\u001b[0;32m/usr/local/lib/python3.10/dist-packages/torch/utils/data/dataloader.py\u001b[0m in \u001b[0;36m_try_get_data\u001b[0;34m(self, timeout)\u001b[0m\n\u001b[1;32m   1130\u001b[0m         \u001b[0;31m#   (bool: whether successfully get data, any: data if successful else None)\u001b[0m\u001b[0;34m\u001b[0m\u001b[0;34m\u001b[0m\u001b[0m\n\u001b[1;32m   1131\u001b[0m         \u001b[0;32mtry\u001b[0m\u001b[0;34m:\u001b[0m\u001b[0;34m\u001b[0m\u001b[0;34m\u001b[0m\u001b[0m\n\u001b[0;32m-> 1132\u001b[0;31m             \u001b[0mdata\u001b[0m \u001b[0;34m=\u001b[0m \u001b[0mself\u001b[0m\u001b[0;34m.\u001b[0m\u001b[0m_data_queue\u001b[0m\u001b[0;34m.\u001b[0m\u001b[0mget\u001b[0m\u001b[0;34m(\u001b[0m\u001b[0mtimeout\u001b[0m\u001b[0;34m=\u001b[0m\u001b[0mtimeout\u001b[0m\u001b[0;34m)\u001b[0m\u001b[0;34m\u001b[0m\u001b[0;34m\u001b[0m\u001b[0m\n\u001b[0m\u001b[1;32m   1133\u001b[0m             \u001b[0;32mreturn\u001b[0m \u001b[0;34m(\u001b[0m\u001b[0;32mTrue\u001b[0m\u001b[0;34m,\u001b[0m \u001b[0mdata\u001b[0m\u001b[0;34m)\u001b[0m\u001b[0;34m\u001b[0m\u001b[0;34m\u001b[0m\u001b[0m\n\u001b[1;32m   1134\u001b[0m         \u001b[0;32mexcept\u001b[0m \u001b[0mException\u001b[0m \u001b[0;32mas\u001b[0m \u001b[0me\u001b[0m\u001b[0;34m:\u001b[0m\u001b[0;34m\u001b[0m\u001b[0;34m\u001b[0m\u001b[0m\n",
            "\u001b[0;32m/usr/lib/python3.10/queue.py\u001b[0m in \u001b[0;36mget\u001b[0;34m(self, block, timeout)\u001b[0m\n\u001b[1;32m    178\u001b[0m                     \u001b[0;32mif\u001b[0m \u001b[0mremaining\u001b[0m \u001b[0;34m<=\u001b[0m \u001b[0;36m0.0\u001b[0m\u001b[0;34m:\u001b[0m\u001b[0;34m\u001b[0m\u001b[0;34m\u001b[0m\u001b[0m\n\u001b[1;32m    179\u001b[0m                         \u001b[0;32mraise\u001b[0m \u001b[0mEmpty\u001b[0m\u001b[0;34m\u001b[0m\u001b[0;34m\u001b[0m\u001b[0m\n\u001b[0;32m--> 180\u001b[0;31m                     \u001b[0mself\u001b[0m\u001b[0;34m.\u001b[0m\u001b[0mnot_empty\u001b[0m\u001b[0;34m.\u001b[0m\u001b[0mwait\u001b[0m\u001b[0;34m(\u001b[0m\u001b[0mremaining\u001b[0m\u001b[0;34m)\u001b[0m\u001b[0;34m\u001b[0m\u001b[0;34m\u001b[0m\u001b[0m\n\u001b[0m\u001b[1;32m    181\u001b[0m             \u001b[0mitem\u001b[0m \u001b[0;34m=\u001b[0m \u001b[0mself\u001b[0m\u001b[0;34m.\u001b[0m\u001b[0m_get\u001b[0m\u001b[0;34m(\u001b[0m\u001b[0;34m)\u001b[0m\u001b[0;34m\u001b[0m\u001b[0;34m\u001b[0m\u001b[0m\n\u001b[1;32m    182\u001b[0m             \u001b[0mself\u001b[0m\u001b[0;34m.\u001b[0m\u001b[0mnot_full\u001b[0m\u001b[0;34m.\u001b[0m\u001b[0mnotify\u001b[0m\u001b[0;34m(\u001b[0m\u001b[0;34m)\u001b[0m\u001b[0;34m\u001b[0m\u001b[0;34m\u001b[0m\u001b[0m\n",
            "\u001b[0;32m/usr/lib/python3.10/threading.py\u001b[0m in \u001b[0;36mwait\u001b[0;34m(self, timeout)\u001b[0m\n\u001b[1;32m    322\u001b[0m             \u001b[0;32melse\u001b[0m\u001b[0;34m:\u001b[0m\u001b[0;34m\u001b[0m\u001b[0;34m\u001b[0m\u001b[0m\n\u001b[1;32m    323\u001b[0m                 \u001b[0;32mif\u001b[0m \u001b[0mtimeout\u001b[0m \u001b[0;34m>\u001b[0m \u001b[0;36m0\u001b[0m\u001b[0;34m:\u001b[0m\u001b[0;34m\u001b[0m\u001b[0;34m\u001b[0m\u001b[0m\n\u001b[0;32m--> 324\u001b[0;31m                     \u001b[0mgotit\u001b[0m \u001b[0;34m=\u001b[0m \u001b[0mwaiter\u001b[0m\u001b[0;34m.\u001b[0m\u001b[0macquire\u001b[0m\u001b[0;34m(\u001b[0m\u001b[0;32mTrue\u001b[0m\u001b[0;34m,\u001b[0m \u001b[0mtimeout\u001b[0m\u001b[0;34m)\u001b[0m\u001b[0;34m\u001b[0m\u001b[0;34m\u001b[0m\u001b[0m\n\u001b[0m\u001b[1;32m    325\u001b[0m                 \u001b[0;32melse\u001b[0m\u001b[0;34m:\u001b[0m\u001b[0;34m\u001b[0m\u001b[0;34m\u001b[0m\u001b[0m\n\u001b[1;32m    326\u001b[0m                     \u001b[0mgotit\u001b[0m \u001b[0;34m=\u001b[0m \u001b[0mwaiter\u001b[0m\u001b[0;34m.\u001b[0m\u001b[0macquire\u001b[0m\u001b[0;34m(\u001b[0m\u001b[0;32mFalse\u001b[0m\u001b[0;34m)\u001b[0m\u001b[0;34m\u001b[0m\u001b[0;34m\u001b[0m\u001b[0m\n",
            "\u001b[0;31mKeyboardInterrupt\u001b[0m: "
          ]
        }
      ],
      "source": [
        "from exercise_2.training import train_pointnet_segmentation\n",
        "config = {\n",
        "    'experiment_name': '2_5_pointnet_segmentation_overfitting',\n",
        "    'device': 'cuda:0',                   # change this to cpu if you do not have a GPU\n",
        "    'is_overfit': True,                   # True since we're doing overfitting\n",
        "    'batch_size': 32,\n",
        "    'resume_ckpt': None,\n",
        "    'learning_rate': 0.001,\n",
        "    'max_epochs': 1000,\n",
        "    'print_every_n': 100,\n",
        "    'validate_every_n': 100,\n",
        "}\n",
        "\n",
        "train_pointnet_segmentation.main(config)  # should be able to get ~0.03 loss, >97% accuracy, >0.95 iou"
      ]
    },
    {
      "attachments": {},
      "cell_type": "markdown",
      "metadata": {
        "id": "eYWYv49Z_vOp"
      },
      "source": [
        "### (e) Training over the entire training set\n",
        "\n",
        "Once your overfitting completes successfully, you can move on to training on the entire dataset again."
      ]
    },
    {
      "cell_type": "code",
      "execution_count": 6,
      "metadata": {
        "colab": {
          "base_uri": "https://localhost:8080/"
        },
        "id": "pi56wREl_vOq",
        "outputId": "4ebfb241-60da-48f2-b532-4629ed6af6bc",
        "scrolled": true
      },
      "outputs": [
        {
          "name": "stdout",
          "output_type": "stream",
          "text": [
            "Using device: cuda:0\n"
          ]
        },
        {
          "name": "stderr",
          "output_type": "stream",
          "text": [
            "/usr/local/lib/python3.10/dist-packages/torch/utils/data/dataloader.py:560: UserWarning: This DataLoader will create 4 worker processes in total. Our suggested max number of worker in current system is 2, which is smaller than what this DataLoader is going to create. Please be aware that excessive worker creation might get DataLoader running slow or even freeze, lower the worker number to avoid potential slowness/freeze if necessary.\n",
            "  warnings.warn(_create_warning_msg(\n",
            "  0%|          | 0/12 [00:00<?, ?it/s]"
          ]
        },
        {
          "name": "stdout",
          "output_type": "stream",
          "text": [
            "[000/00099] train_loss: 1.222\n",
            "[000/00199] train_loss: 0.608\n",
            "[000/00249] val_loss: 0.470, val_accuracy: 83.837%, val_iou: 0.962\n",
            "[000/00299] train_loss: 0.533\n"
          ]
        },
        {
          "name": "stderr",
          "output_type": "stream",
          "text": [
            "\r  8%|▊         | 1/12 [03:13<35:28, 193.50s/it]"
          ]
        },
        {
          "name": "stdout",
          "output_type": "stream",
          "text": [
            "[001/00019] train_loss: 0.469\n",
            "[001/00119] train_loss: 0.443\n",
            "[001/00119] val_loss: 0.405, val_accuracy: 85.429%, val_iou: 0.962\n",
            "[001/00219] train_loss: 0.417\n",
            "[001/00319] train_loss: 0.406\n",
            "[001/00369] val_loss: 0.379, val_accuracy: 86.727%, val_iou: 0.968\n"
          ]
        },
        {
          "name": "stderr",
          "output_type": "stream",
          "text": [
            "\r 17%|█▋        | 2/12 [06:48<34:20, 206.01s/it]"
          ]
        },
        {
          "name": "stdout",
          "output_type": "stream",
          "text": [
            "[002/00039] train_loss: 0.388\n",
            "[002/00139] train_loss: 0.383\n",
            "[002/00239] train_loss: 0.354\n",
            "[002/00239] val_loss: 0.322, val_accuracy: 88.304%, val_iou: 0.972\n",
            "[002/00339] train_loss: 0.362\n"
          ]
        },
        {
          "name": "stderr",
          "output_type": "stream",
          "text": [
            "\r 25%|██▌       | 3/12 [10:03<30:10, 201.22s/it]"
          ]
        },
        {
          "name": "stdout",
          "output_type": "stream",
          "text": [
            "[003/00059] train_loss: 0.347\n",
            "[003/00109] val_loss: 0.318, val_accuracy: 88.475%, val_iou: 0.972\n",
            "[003/00159] train_loss: 0.354\n",
            "[003/00259] train_loss: 0.352\n",
            "[003/00359] train_loss: 0.333\n",
            "[003/00359] val_loss: 0.310, val_accuracy: 88.679%, val_iou: 0.973\n"
          ]
        },
        {
          "name": "stderr",
          "output_type": "stream",
          "text": [
            "\r 33%|███▎      | 4/12 [13:46<27:57, 209.63s/it]"
          ]
        },
        {
          "name": "stdout",
          "output_type": "stream",
          "text": [
            "[004/00079] train_loss: 0.351\n",
            "[004/00179] train_loss: 0.328\n",
            "[004/00229] val_loss: 0.291, val_accuracy: 89.745%, val_iou: 0.974\n",
            "[004/00279] train_loss: 0.306\n",
            "[004/00379] train_loss: 0.329\n"
          ]
        },
        {
          "name": "stderr",
          "output_type": "stream",
          "text": [
            "\r 42%|████▏     | 5/12 [17:01<23:51, 204.50s/it]"
          ]
        },
        {
          "name": "stdout",
          "output_type": "stream",
          "text": [
            "[005/00099] train_loss: 0.305\n",
            "[005/00099] val_loss: 0.286, val_accuracy: 89.677%, val_iou: 0.975\n",
            "[005/00199] train_loss: 0.302\n",
            "[005/00299] train_loss: 0.306\n",
            "[005/00349] val_loss: 0.281, val_accuracy: 89.963%, val_iou: 0.975\n"
          ]
        },
        {
          "name": "stderr",
          "output_type": "stream",
          "text": [
            "\r 50%|█████     | 6/12 [20:47<21:10, 211.70s/it]"
          ]
        },
        {
          "name": "stdout",
          "output_type": "stream",
          "text": [
            "[006/00019] train_loss: 0.298\n",
            "[006/00119] train_loss: 0.282\n",
            "[006/00219] train_loss: 0.304\n",
            "[006/00219] val_loss: 0.268, val_accuracy: 90.480%, val_iou: 0.975\n",
            "[006/00319] train_loss: 0.281\n"
          ]
        },
        {
          "name": "stderr",
          "output_type": "stream",
          "text": [
            "\r 58%|█████▊    | 7/12 [24:01<17:10, 206.02s/it]"
          ]
        },
        {
          "name": "stdout",
          "output_type": "stream",
          "text": [
            "[007/00039] train_loss: 0.285\n",
            "[007/00089] val_loss: 0.262, val_accuracy: 90.619%, val_iou: 0.975\n",
            "[007/00139] train_loss: 0.292\n",
            "[007/00239] train_loss: 0.276\n",
            "[007/00339] train_loss: 0.276\n",
            "[007/00339] val_loss: 0.268, val_accuracy: 90.267%, val_iou: 0.974\n"
          ]
        },
        {
          "name": "stderr",
          "output_type": "stream",
          "text": [
            "\r 67%|██████▋   | 8/12 [27:43<14:03, 210.93s/it]"
          ]
        },
        {
          "name": "stdout",
          "output_type": "stream",
          "text": [
            "[008/00059] train_loss: 0.299\n",
            "[008/00159] train_loss: 0.288\n",
            "[008/00209] val_loss: 0.267, val_accuracy: 90.431%, val_iou: 0.976\n",
            "[008/00259] train_loss: 0.270\n",
            "[008/00359] train_loss: 0.274\n"
          ]
        },
        {
          "name": "stderr",
          "output_type": "stream",
          "text": [
            "\r 75%|███████▌  | 9/12 [31:07<10:26, 208.82s/it]"
          ]
        },
        {
          "name": "stdout",
          "output_type": "stream",
          "text": [
            "[009/00079] train_loss: 0.266\n",
            "[009/00079] val_loss: 0.246, val_accuracy: 90.875%, val_iou: 0.977\n",
            "[009/00179] train_loss: 0.280\n",
            "[009/00279] train_loss: 0.273\n",
            "[009/00329] val_loss: 0.250, val_accuracy: 90.991%, val_iou: 0.977\n"
          ]
        },
        {
          "name": "stderr",
          "output_type": "stream",
          "text": [
            "\r 83%|████████▎ | 10/12 [34:58<07:11, 215.56s/it]"
          ]
        },
        {
          "name": "stdout",
          "output_type": "stream",
          "text": [
            "[009/00379] train_loss: 0.264\n",
            "[010/00099] train_loss: 0.260\n",
            "[010/00199] train_loss: 0.264\n",
            "[010/00199] val_loss: 0.249, val_accuracy: 90.866%, val_iou: 0.977\n",
            "[010/00299] train_loss: 0.257\n"
          ]
        },
        {
          "name": "stderr",
          "output_type": "stream",
          "text": [
            "\r 92%|█████████▏| 11/12 [38:20<03:31, 211.52s/it]"
          ]
        },
        {
          "name": "stdout",
          "output_type": "stream",
          "text": [
            "[011/00019] train_loss: 0.247\n",
            "[011/00069] val_loss: 0.250, val_accuracy: 90.950%, val_iou: 0.977\n",
            "[011/00119] train_loss: 0.245\n",
            "[011/00219] train_loss: 0.248\n",
            "[011/00319] train_loss: 0.267\n",
            "[011/00319] val_loss: 0.248, val_accuracy: 90.930%, val_iou: 0.977\n"
          ]
        },
        {
          "name": "stderr",
          "output_type": "stream",
          "text": [
            "100%|██████████| 12/12 [42:04<00:00, 210.40s/it]\n"
          ]
        }
      ],
      "source": [
        "from exercise_2.training import train_pointnet_segmentation\n",
        "config = {\n",
        "    'experiment_name': '2_5_pointnet_segmentation_generalization',\n",
        "    'device': 'cuda:0',                   # change this to cpu if you do not have a GPU\n",
        "    'is_overfit': False,\n",
        "    'batch_size': 32,\n",
        "    'resume_ckpt': None,\n",
        "    'learning_rate': 0.001,\n",
        "    'max_epochs': 12,\n",
        "    'print_every_n': 100,\n",
        "    'validate_every_n': 250,\n",
        "}\n",
        "\n",
        "train_pointnet_segmentation.main(config)  # Should be able to get > 90% accuracy and > 0.8 iou on the val set"
      ]
    },
    {
      "attachments": {},
      "cell_type": "markdown",
      "metadata": {
        "id": "Z2PSLPl-_vOq"
      },
      "source": [
        "### (f) Inference using the trained model"
      ]
    },
    {
      "cell_type": "code",
      "execution_count": null,
      "metadata": {
        "id": "zhQe6H0J_vOq"
      },
      "outputs": [],
      "source": [
        "from exercise_2.inference.infer_pointnet_segmentation import InferenceHandlerPointNetSegmentation\n",
        "from exercise_2.util.visualization import visualize_pointcloud\n",
        "from matplotlib import cm, colors\n",
        "import numpy as np\n",
        "\n",
        "# create a handler for inference using a trained checkpoint\n",
        "inferer = InferenceHandlerPointNetSegmentation('exercise_2/runs/2_5_pointnet_segmentation_generalization/model_best.ckpt')"
      ]
    },
    {
      "cell_type": "code",
      "execution_count": null,
      "metadata": {
        "id": "Q55-2Ukv_vOq"
      },
      "outputs": [],
      "source": [
        "# Get shape point cloud, predict labels, and visualize colored point cloud\n",
        "shape_points = ShapeNetParts.get_point_cloud_with_labels('02691156/1c4b8662938adf41da2b0f839aba40f9')[0]\n",
        "point_labels = inferer.infer_single(shape_points)\n",
        "point_labels = (point_labels - min(point_labels)) / (max(point_labels) - min(point_labels))\n",
        "point_colors = cm.get_cmap('hsv')(point_labels)[:, :3]\n",
        "point_colors = np.sum((point_colors * 255).astype(int) * [255*255, 255, 1], axis=1)\n",
        "visualize_pointcloud(shape_points.T, colors=point_colors, point_size=0.025, flip_axes=True)"
      ]
    },
    {
      "cell_type": "code",
      "execution_count": null,
      "metadata": {
        "id": "gwbWGJbO_vOr"
      },
      "outputs": [],
      "source": [
        "# Get shape point cloud, predict labels, and visualize colored point cloud\n",
        "shape_points = ShapeNetParts.get_point_cloud_with_labels('03948459/e017cf5dac1e39b013d74211a209ce')[0]\n",
        "point_labels = inferer.infer_single(shape_points)\n",
        "point_labels = (point_labels - min(point_labels)) / (max(point_labels) - min(point_labels))\n",
        "point_colors = cm.get_cmap('hsv')(point_labels)[:, :3]\n",
        "point_colors = np.sum((point_colors * 255).astype(int) * [255*255, 255, 1], axis=1)\n",
        "visualize_pointcloud(shape_points.T, colors=point_colors, point_size=0.025, flip_axes=True)"
      ]
    },
    {
      "cell_type": "code",
      "execution_count": null,
      "metadata": {
        "id": "Z6kU_xLm_vOr"
      },
      "outputs": [],
      "source": [
        "# Get shape point cloud, predict labels, and visualize colored point cloud\n",
        "shape_points = ShapeNetParts.get_point_cloud_with_labels('03790512/86b6dc954e1ca8e948272812609617e2')[0]\n",
        "point_labels = inferer.infer_single(shape_points)\n",
        "point_labels = (point_labels - min(point_labels)) / (max(point_labels) - min(point_labels))\n",
        "point_colors = cm.get_cmap('hsv')(point_labels)[:, :3]\n",
        "point_colors = np.sum((point_colors * 255).astype(int) * [255*255, 255, 1], axis=1)\n",
        "visualize_pointcloud(shape_points.T, colors=point_colors, point_size=0.025, flip_axes=True)"
      ]
    },
    {
      "attachments": {},
      "cell_type": "markdown",
      "metadata": {
        "id": "5K_ad_P4_vOr"
      },
      "source": [
        "Make sure you submit the trained model exercise_2/runs/2_5_pointnet_segmentation_generalization/model_best.ckpt in your zip so that we can evaluate it on the test set at our end."
      ]
    },
    {
      "attachments": {},
      "cell_type": "markdown",
      "metadata": {
        "id": "0mmt9lJj_vOr"
      },
      "source": [
        "## Submission\n",
        "\n",
        "This is the end of exercise 2 🙂. Please create a zip containing all files we provided, everything you modified, and all of your generated output/visualization files, including your checkpoints. Name it with your matriculation number(s) as described in exercise 1. Make sure this notebook can be run without problems. Then, submit via Moodle.\n",
        "\n",
        "**Submission Deadline**: 30.05.2023, 23:55"
      ]
    },
    {
      "attachments": {},
      "cell_type": "markdown",
      "metadata": {
        "id": "7_Z2P7zw_vOs"
      },
      "source": [
        "## References\n",
        "\n"
      ]
    },
    {
      "attachments": {},
      "cell_type": "markdown",
      "metadata": {
        "id": "U1y2Hx_d_vOs"
      },
      "source": [
        "[1] Qi, C. et al. “Volumetric and Multi-view CNNs for Object Classification on 3D Data.” 2016 IEEE Conference on Computer Vision and Pattern Recognition (CVPR) (2016): 5648-5656.\n",
        "\n",
        "[2] Qi, C. et al. “PointNet: Deep Learning on Point Sets for 3D Classification and Segmentation.” 2017 IEEE Conference on Computer Vision and Pattern Recognition (CVPR) (2017): 77-85."
      ]
    }
  ],
  "metadata": {
    "accelerator": "GPU",
    "colab": {
      "gpuType": "T4",
      "provenance": []
    },
    "kernelspec": {
      "display_name": "Python 3",
      "name": "python3"
    },
    "language_info": {
      "codemirror_mode": {
        "name": "ipython",
        "version": 3
      },
      "file_extension": ".py",
      "mimetype": "text/x-python",
      "name": "python",
      "nbconvert_exporter": "python",
      "pygments_lexer": "ipython3",
      "version": "3.10.1"
    },
    "widgets": {
      "application/vnd.jupyter.widget-state+json": {
        "09928e45f8174090b1c01c594483c4b5": {
          "model_module": "k3d",
          "model_module_version": "2.15.3",
          "model_name": "PlotModel",
          "state": {
            "_backend_version": "2.15.3",
            "_dom_classes": [],
            "_model_module": "k3d",
            "_model_module_version": "2.15.3",
            "_model_name": "PlotModel",
            "_view_count": null,
            "_view_module": "k3d",
            "_view_module_version": "2.15.3",
            "_view_name": "PlotView",
            "antialias": 3,
            "auto_rendering": true,
            "axes": [
              "x",
              "y",
              "z"
            ],
            "axes_helper": 1,
            "axes_helper_colors": [
              16711680,
              65280,
              255
            ],
            "background_color": 16777215,
            "camera": [],
            "camera_animation": [],
            "camera_auto_fit": true,
            "camera_damping_factor": 0,
            "camera_fov": 60,
            "camera_mode": "trackball",
            "camera_no_pan": false,
            "camera_no_rotate": false,
            "camera_no_zoom": false,
            "camera_pan_speed": 0.3,
            "camera_rotate_speed": 1,
            "camera_zoom_speed": 1.2,
            "clipping_planes": [],
            "colorbar_object_id": -1,
            "colorbar_scientific": false,
            "custom_data": null,
            "fps": 25,
            "fps_meter": false,
            "grid": [
              -0.55,
              -0.55,
              -0.55,
              0.55,
              0.55,
              0.55
            ],
            "grid_auto_fit": true,
            "grid_color": 15132390,
            "grid_visible": false,
            "height": 512,
            "label_color": 4473924,
            "layout": "IPY_MODEL_aba91a5276024651b2f8592955b0e78a",
            "lighting": 1.5,
            "logarithmic_depth_buffer": true,
            "manipulate_mode": "translate",
            "menu_visibility": true,
            "minimum_fps": -1,
            "mode": "view",
            "name": "occupancy_grid",
            "object_ids": [
              140145128775568
            ],
            "rendering_steps": 1,
            "screenshot": "",
            "screenshot_scale": 2,
            "snapshot": "",
            "snapshot_type": "full",
            "time": 0,
            "voxel_paint_color": 0
          }
        },
        "137fc10370ae40a88794cfc5369479fb": {
          "model_module": "@jupyter-widgets/base",
          "model_module_version": "1.2.0",
          "model_name": "LayoutModel",
          "state": {
            "_model_module": "@jupyter-widgets/base",
            "_model_module_version": "1.2.0",
            "_model_name": "LayoutModel",
            "_view_count": null,
            "_view_module": "@jupyter-widgets/base",
            "_view_module_version": "1.2.0",
            "_view_name": "LayoutView",
            "align_content": null,
            "align_items": null,
            "align_self": null,
            "border": null,
            "bottom": null,
            "display": null,
            "flex": null,
            "flex_flow": null,
            "grid_area": null,
            "grid_auto_columns": null,
            "grid_auto_flow": null,
            "grid_auto_rows": null,
            "grid_column": null,
            "grid_gap": null,
            "grid_row": null,
            "grid_template_areas": null,
            "grid_template_columns": null,
            "grid_template_rows": null,
            "height": null,
            "justify_content": null,
            "justify_items": null,
            "left": null,
            "margin": null,
            "max_height": null,
            "max_width": null,
            "min_height": null,
            "min_width": null,
            "object_fit": null,
            "object_position": null,
            "order": null,
            "overflow": null,
            "overflow_x": null,
            "overflow_y": null,
            "padding": null,
            "right": null,
            "top": null,
            "visibility": null,
            "width": null
          }
        },
        "1b0c8c9c9842424fb9338bffe1409e05": {
          "model_module": "@jupyter-widgets/output",
          "model_module_version": "1.0.0",
          "model_name": "OutputModel",
          "state": {
            "_dom_classes": [],
            "_model_module": "@jupyter-widgets/output",
            "_model_module_version": "1.0.0",
            "_model_name": "OutputModel",
            "_view_count": null,
            "_view_module": "@jupyter-widgets/output",
            "_view_module_version": "1.0.0",
            "_view_name": "OutputView",
            "layout": "IPY_MODEL_fb4861ccd1a547b9ae9482d66d590c83",
            "msg_id": "",
            "outputs": [
              {
                "data": {
                  "application/vnd.jupyter.widget-view+json": {
                    "model_id": "9295d47a8c344e75b3f6e3966b82fb36",
                    "version_major": 2,
                    "version_minor": 0
                  },
                  "text/plain": "Plot(antialias=3, axes=['x', 'y', 'z'], axes_helper=1.0, axes_helper_colors=[16711680, 65280, 255], background…"
                },
                "metadata": {},
                "output_type": "display_data"
              }
            ]
          }
        },
        "22c8ab4b315c44eea39379c5dd563ecb": {
          "model_module": "k3d",
          "model_module_version": "2.15.3",
          "model_name": "PlotModel",
          "state": {
            "_backend_version": "2.15.3",
            "_dom_classes": [],
            "_model_module": "k3d",
            "_model_module_version": "2.15.3",
            "_model_name": "PlotModel",
            "_view_count": null,
            "_view_module": "k3d",
            "_view_module_version": "2.15.3",
            "_view_name": "PlotView",
            "antialias": 3,
            "auto_rendering": true,
            "axes": [
              "x",
              "y",
              "z"
            ],
            "axes_helper": 1,
            "axes_helper_colors": [
              16711680,
              65280,
              255
            ],
            "background_color": 16777215,
            "camera": [],
            "camera_animation": [],
            "camera_auto_fit": true,
            "camera_damping_factor": 0,
            "camera_fov": 60,
            "camera_mode": "trackball",
            "camera_no_pan": false,
            "camera_no_rotate": false,
            "camera_no_zoom": false,
            "camera_pan_speed": 0.3,
            "camera_rotate_speed": 1,
            "camera_zoom_speed": 1.2,
            "clipping_planes": [],
            "colorbar_object_id": -1,
            "colorbar_scientific": false,
            "custom_data": null,
            "fps": 25,
            "fps_meter": false,
            "grid": [
              -0.55,
              -0.55,
              -0.55,
              0.55,
              0.55,
              0.55
            ],
            "grid_auto_fit": true,
            "grid_color": 15132390,
            "grid_visible": false,
            "height": 512,
            "label_color": 4473924,
            "layout": "IPY_MODEL_fd4355519a274160b13ff5d438be4142",
            "lighting": 1.5,
            "logarithmic_depth_buffer": true,
            "manipulate_mode": "translate",
            "menu_visibility": true,
            "minimum_fps": -1,
            "mode": "view",
            "name": "occupancy_grid",
            "object_ids": [
              140144999378000
            ],
            "rendering_steps": 1,
            "screenshot": "",
            "screenshot_scale": 2,
            "snapshot": "",
            "snapshot_type": "full",
            "time": 0,
            "voxel_paint_color": 0
          }
        },
        "26adf145b161499db6233d3d8730191f": {
          "model_module": "k3d",
          "model_module_version": "2.15.3",
          "model_name": "PlotModel",
          "state": {
            "_backend_version": "2.15.3",
            "_dom_classes": [],
            "_model_module": "k3d",
            "_model_module_version": "2.15.3",
            "_model_name": "PlotModel",
            "_view_count": null,
            "_view_module": "k3d",
            "_view_module_version": "2.15.3",
            "_view_name": "PlotView",
            "antialias": 3,
            "auto_rendering": true,
            "axes": [
              "x",
              "y",
              "z"
            ],
            "axes_helper": 1,
            "axes_helper_colors": [
              16711680,
              65280,
              255
            ],
            "background_color": 16777215,
            "camera": [],
            "camera_animation": [],
            "camera_auto_fit": true,
            "camera_damping_factor": 0,
            "camera_fov": 60,
            "camera_mode": "trackball",
            "camera_no_pan": false,
            "camera_no_rotate": false,
            "camera_no_zoom": false,
            "camera_pan_speed": 0.3,
            "camera_rotate_speed": 1,
            "camera_zoom_speed": 1.2,
            "clipping_planes": [],
            "colorbar_object_id": -1,
            "colorbar_scientific": false,
            "custom_data": null,
            "fps": 25,
            "fps_meter": false,
            "grid": [
              -0.55,
              -0.55,
              -0.55,
              0.55,
              0.55,
              0.55
            ],
            "grid_auto_fit": true,
            "grid_color": 15132390,
            "grid_visible": false,
            "height": 512,
            "label_color": 4473924,
            "layout": "IPY_MODEL_76c0cc704b5c430aacce6e4845e8a9ec",
            "lighting": 1.5,
            "logarithmic_depth_buffer": true,
            "manipulate_mode": "translate",
            "menu_visibility": true,
            "minimum_fps": -1,
            "mode": "view",
            "name": "point_cloud",
            "object_ids": [
              139898254194720
            ],
            "rendering_steps": 1,
            "screenshot": "",
            "screenshot_scale": 2,
            "snapshot": "",
            "snapshot_type": "full",
            "time": 0,
            "voxel_paint_color": 0
          }
        },
        "35c2ee0d56644d9ea6a55a22926deef7": {
          "model_module": "@jupyter-widgets/output",
          "model_module_version": "1.0.0",
          "model_name": "OutputModel",
          "state": {
            "_dom_classes": [],
            "_model_module": "@jupyter-widgets/output",
            "_model_module_version": "1.0.0",
            "_model_name": "OutputModel",
            "_view_count": null,
            "_view_module": "@jupyter-widgets/output",
            "_view_module_version": "1.0.0",
            "_view_name": "OutputView",
            "layout": "IPY_MODEL_de820bfe889646d6b4d84c6c6d73d8ce",
            "msg_id": "",
            "outputs": [
              {
                "data": {
                  "application/vnd.jupyter.widget-view+json": {
                    "model_id": "26adf145b161499db6233d3d8730191f",
                    "version_major": 2,
                    "version_minor": 0
                  },
                  "text/plain": "Plot(antialias=3, axes=['x', 'y', 'z'], axes_helper=1.0, axes_helper_colors=[16711680, 65280, 255], background…"
                },
                "metadata": {},
                "output_type": "display_data"
              }
            ]
          }
        },
        "56b11b24b4d04224afb5387f3d3594e5": {
          "model_module": "k3d",
          "model_module_version": "2.15.3",
          "model_name": "PlotModel",
          "state": {
            "_backend_version": "2.15.3",
            "_dom_classes": [],
            "_model_module": "k3d",
            "_model_module_version": "2.15.3",
            "_model_name": "PlotModel",
            "_view_count": null,
            "_view_module": "k3d",
            "_view_module_version": "2.15.3",
            "_view_name": "PlotView",
            "antialias": 3,
            "auto_rendering": true,
            "axes": [
              "x",
              "y",
              "z"
            ],
            "axes_helper": 1,
            "axes_helper_colors": [
              16711680,
              65280,
              255
            ],
            "background_color": 16777215,
            "camera": [],
            "camera_animation": [],
            "camera_auto_fit": true,
            "camera_damping_factor": 0,
            "camera_fov": 60,
            "camera_mode": "trackball",
            "camera_no_pan": false,
            "camera_no_rotate": false,
            "camera_no_zoom": false,
            "camera_pan_speed": 0.3,
            "camera_rotate_speed": 1,
            "camera_zoom_speed": 1.2,
            "clipping_planes": [],
            "colorbar_object_id": -1,
            "colorbar_scientific": false,
            "custom_data": null,
            "fps": 25,
            "fps_meter": false,
            "grid": [
              -0.55,
              -0.55,
              -0.55,
              0.55,
              0.55,
              0.55
            ],
            "grid_auto_fit": true,
            "grid_color": 15132390,
            "grid_visible": false,
            "height": 512,
            "label_color": 4473924,
            "layout": "IPY_MODEL_7e807b393f7f4961b3dc37100db7085a",
            "lighting": 1.5,
            "logarithmic_depth_buffer": true,
            "manipulate_mode": "translate",
            "menu_visibility": true,
            "minimum_fps": -1,
            "mode": "view",
            "name": "point_cloud",
            "object_ids": [
              139898254188048
            ],
            "rendering_steps": 1,
            "screenshot": "",
            "screenshot_scale": 2,
            "snapshot": "",
            "snapshot_type": "full",
            "time": 0,
            "voxel_paint_color": 0
          }
        },
        "5e413d90d9fc4592afeeee17dec6b95f": {
          "model_module": "@jupyter-widgets/output",
          "model_module_version": "1.0.0",
          "model_name": "OutputModel",
          "state": {
            "_dom_classes": [],
            "_model_module": "@jupyter-widgets/output",
            "_model_module_version": "1.0.0",
            "_model_name": "OutputModel",
            "_view_count": null,
            "_view_module": "@jupyter-widgets/output",
            "_view_module_version": "1.0.0",
            "_view_name": "OutputView",
            "layout": "IPY_MODEL_ffb9752315bd42198f88e64ed828d42c",
            "msg_id": "",
            "outputs": [
              {
                "data": {
                  "application/vnd.jupyter.widget-view+json": {
                    "model_id": "09928e45f8174090b1c01c594483c4b5",
                    "version_major": 2,
                    "version_minor": 0
                  },
                  "text/plain": "Plot(antialias=3, axes=['x', 'y', 'z'], axes_helper=1.0, axes_helper_colors=[16711680, 65280, 255], background…"
                },
                "metadata": {},
                "output_type": "display_data"
              }
            ]
          }
        },
        "5f00d8ec551c4a11afa08a8397c6d84f": {
          "model_module": "@jupyter-widgets/output",
          "model_module_version": "1.0.0",
          "model_name": "OutputModel",
          "state": {
            "_dom_classes": [],
            "_model_module": "@jupyter-widgets/output",
            "_model_module_version": "1.0.0",
            "_model_name": "OutputModel",
            "_view_count": null,
            "_view_module": "@jupyter-widgets/output",
            "_view_module_version": "1.0.0",
            "_view_name": "OutputView",
            "layout": "IPY_MODEL_f2b7b831ca9448bc9b6164ef44c7d35b",
            "msg_id": "",
            "outputs": [
              {
                "data": {
                  "application/vnd.jupyter.widget-view+json": {
                    "model_id": "d2212e28fd7546d1bd39d2316d6d148c",
                    "version_major": 2,
                    "version_minor": 0
                  },
                  "text/plain": "Plot(antialias=3, axes=['x', 'y', 'z'], axes_helper=1.0, axes_helper_colors=[16711680, 65280, 255], background…"
                },
                "metadata": {},
                "output_type": "display_data"
              }
            ]
          }
        },
        "7886ca35f1bc450e83979f7da3cc8423": {
          "model_module": "@jupyter-widgets/base",
          "model_module_version": "1.2.0",
          "model_name": "LayoutModel",
          "state": {
            "_model_module": "@jupyter-widgets/base",
            "_model_module_version": "1.2.0",
            "_model_name": "LayoutModel",
            "_view_count": null,
            "_view_module": "@jupyter-widgets/base",
            "_view_module_version": "1.2.0",
            "_view_name": "LayoutView",
            "align_content": null,
            "align_items": null,
            "align_self": null,
            "border": null,
            "bottom": null,
            "display": null,
            "flex": null,
            "flex_flow": null,
            "grid_area": null,
            "grid_auto_columns": null,
            "grid_auto_flow": null,
            "grid_auto_rows": null,
            "grid_column": null,
            "grid_gap": null,
            "grid_row": null,
            "grid_template_areas": null,
            "grid_template_columns": null,
            "grid_template_rows": null,
            "height": null,
            "justify_content": null,
            "justify_items": null,
            "left": null,
            "margin": null,
            "max_height": null,
            "max_width": null,
            "min_height": null,
            "min_width": null,
            "object_fit": null,
            "object_position": null,
            "order": null,
            "overflow": null,
            "overflow_x": null,
            "overflow_y": null,
            "padding": null,
            "right": null,
            "top": null,
            "visibility": null,
            "width": null
          }
        },
        "7e3b8728ee694eb0a1b955e07d8f1117": {
          "model_module": "@jupyter-widgets/output",
          "model_module_version": "1.0.0",
          "model_name": "OutputModel",
          "state": {
            "_dom_classes": [],
            "_model_module": "@jupyter-widgets/output",
            "_model_module_version": "1.0.0",
            "_model_name": "OutputModel",
            "_view_count": null,
            "_view_module": "@jupyter-widgets/output",
            "_view_module_version": "1.0.0",
            "_view_name": "OutputView",
            "layout": "IPY_MODEL_a5e07a178a6a4bc6a588cb2b0cf4c0bc",
            "msg_id": "",
            "outputs": [
              {
                "data": {
                  "application/vnd.jupyter.widget-view+json": {
                    "model_id": "ddc263796645417d9e1aabcd82c0dcca",
                    "version_major": 2,
                    "version_minor": 0
                  },
                  "text/plain": "Plot(antialias=3, axes=['x', 'y', 'z'], axes_helper=1.0, axes_helper_colors=[16711680, 65280, 255], background…"
                },
                "metadata": {},
                "output_type": "display_data"
              }
            ]
          }
        },
        "8e48dc40126e4d219ef5e2ac0e35028d": {
          "model_module": "k3d",
          "model_module_version": "2.15.3",
          "model_name": "PlotModel",
          "state": {
            "_backend_version": "2.15.3",
            "_dom_classes": [],
            "_model_module": "k3d",
            "_model_module_version": "2.15.3",
            "_model_name": "PlotModel",
            "_view_count": null,
            "_view_module": "k3d",
            "_view_module_version": "2.15.3",
            "_view_name": "PlotView",
            "antialias": 3,
            "auto_rendering": true,
            "axes": [
              "x",
              "y",
              "z"
            ],
            "axes_helper": 1,
            "axes_helper_colors": [
              16711680,
              65280,
              255
            ],
            "background_color": 16777215,
            "camera": [],
            "camera_animation": [],
            "camera_auto_fit": true,
            "camera_damping_factor": 0,
            "camera_fov": 60,
            "camera_mode": "trackball",
            "camera_no_pan": false,
            "camera_no_rotate": false,
            "camera_no_zoom": false,
            "camera_pan_speed": 0.3,
            "camera_rotate_speed": 1,
            "camera_zoom_speed": 1.2,
            "clipping_planes": [],
            "colorbar_object_id": -1,
            "colorbar_scientific": false,
            "custom_data": null,
            "fps": 25,
            "fps_meter": false,
            "grid": [
              -0.55,
              -0.55,
              -0.55,
              0.55,
              0.55,
              0.55
            ],
            "grid_auto_fit": true,
            "grid_color": 15132390,
            "grid_visible": false,
            "height": 512,
            "label_color": 4473924,
            "layout": "IPY_MODEL_bee2cd56747a47cfbad48a6b8bd4ac03",
            "lighting": 1.5,
            "logarithmic_depth_buffer": true,
            "manipulate_mode": "translate",
            "menu_visibility": true,
            "minimum_fps": -1,
            "mode": "view",
            "name": "occupancy_grid",
            "object_ids": [
              140144999409712
            ],
            "rendering_steps": 1,
            "screenshot": "",
            "screenshot_scale": 2,
            "snapshot": "",
            "snapshot_type": "full",
            "time": 0,
            "voxel_paint_color": 0
          }
        },
        "9295d47a8c344e75b3f6e3966b82fb36": {
          "model_module": "k3d",
          "model_module_version": "2.15.3",
          "model_name": "PlotModel",
          "state": {
            "_backend_version": "2.15.3",
            "_dom_classes": [],
            "_model_module": "k3d",
            "_model_module_version": "2.15.3",
            "_model_name": "PlotModel",
            "_view_count": null,
            "_view_module": "k3d",
            "_view_module_version": "2.15.3",
            "_view_name": "PlotView",
            "antialias": 3,
            "auto_rendering": true,
            "axes": [
              "x",
              "y",
              "z"
            ],
            "axes_helper": 1,
            "axes_helper_colors": [
              16711680,
              65280,
              255
            ],
            "background_color": 16777215,
            "camera": [],
            "camera_animation": [],
            "camera_auto_fit": true,
            "camera_damping_factor": 0,
            "camera_fov": 60,
            "camera_mode": "trackball",
            "camera_no_pan": false,
            "camera_no_rotate": false,
            "camera_no_zoom": false,
            "camera_pan_speed": 0.3,
            "camera_rotate_speed": 1,
            "camera_zoom_speed": 1.2,
            "clipping_planes": [],
            "colorbar_object_id": -1,
            "colorbar_scientific": false,
            "custom_data": null,
            "fps": 25,
            "fps_meter": false,
            "grid": [
              -0.55,
              -0.55,
              -0.55,
              0.55,
              0.55,
              0.55
            ],
            "grid_auto_fit": true,
            "grid_color": 15132390,
            "grid_visible": false,
            "height": 512,
            "label_color": 4473924,
            "layout": "IPY_MODEL_e35516cd8b5b4ae195a58e3f7c8b2eff",
            "lighting": 1.5,
            "logarithmic_depth_buffer": true,
            "manipulate_mode": "translate",
            "menu_visibility": true,
            "minimum_fps": -1,
            "mode": "view",
            "name": "occupancy_grid",
            "object_ids": [
              140144999380448
            ],
            "rendering_steps": 1,
            "screenshot": "",
            "screenshot_scale": 2,
            "snapshot": "",
            "snapshot_type": "full",
            "time": 0,
            "voxel_paint_color": 0
          }
        },
        "9b5ba395e1b343828d859f900867ba6e": {
          "model_module": "@jupyter-widgets/base",
          "model_module_version": "1.2.0",
          "model_name": "LayoutModel",
          "state": {
            "_model_module": "@jupyter-widgets/base",
            "_model_module_version": "1.2.0",
            "_model_name": "LayoutModel",
            "_view_count": null,
            "_view_module": "@jupyter-widgets/base",
            "_view_module_version": "1.2.0",
            "_view_name": "LayoutView",
            "align_content": null,
            "align_items": null,
            "align_self": null,
            "border": null,
            "bottom": null,
            "display": null,
            "flex": null,
            "flex_flow": null,
            "grid_area": null,
            "grid_auto_columns": null,
            "grid_auto_flow": null,
            "grid_auto_rows": null,
            "grid_column": null,
            "grid_gap": null,
            "grid_row": null,
            "grid_template_areas": null,
            "grid_template_columns": null,
            "grid_template_rows": null,
            "height": null,
            "justify_content": null,
            "justify_items": null,
            "left": null,
            "margin": null,
            "max_height": null,
            "max_width": null,
            "min_height": null,
            "min_width": null,
            "object_fit": null,
            "object_position": null,
            "order": null,
            "overflow": null,
            "overflow_x": null,
            "overflow_y": null,
            "padding": null,
            "right": null,
            "top": null,
            "visibility": null,
            "width": null
          }
        },
        "a5e07a178a6a4bc6a588cb2b0cf4c0bc": {
          "model_module": "@jupyter-widgets/base",
          "model_module_version": "1.2.0",
          "model_name": "LayoutModel",
          "state": {
            "_model_module": "@jupyter-widgets/base",
            "_model_module_version": "1.2.0",
            "_model_name": "LayoutModel",
            "_view_count": null,
            "_view_module": "@jupyter-widgets/base",
            "_view_module_version": "1.2.0",
            "_view_name": "LayoutView",
            "align_content": null,
            "align_items": null,
            "align_self": null,
            "border": null,
            "bottom": null,
            "display": null,
            "flex": null,
            "flex_flow": null,
            "grid_area": null,
            "grid_auto_columns": null,
            "grid_auto_flow": null,
            "grid_auto_rows": null,
            "grid_column": null,
            "grid_gap": null,
            "grid_row": null,
            "grid_template_areas": null,
            "grid_template_columns": null,
            "grid_template_rows": null,
            "height": null,
            "justify_content": null,
            "justify_items": null,
            "left": null,
            "margin": null,
            "max_height": null,
            "max_width": null,
            "min_height": null,
            "min_width": null,
            "object_fit": null,
            "object_position": null,
            "order": null,
            "overflow": null,
            "overflow_x": null,
            "overflow_y": null,
            "padding": null,
            "right": null,
            "top": null,
            "visibility": null,
            "width": null
          }
        },
        "b1fd6b13078a42cdbd04a670b3fe9993": {
          "model_module": "@jupyter-widgets/output",
          "model_module_version": "1.0.0",
          "model_name": "OutputModel",
          "state": {
            "_dom_classes": [],
            "_model_module": "@jupyter-widgets/output",
            "_model_module_version": "1.0.0",
            "_model_name": "OutputModel",
            "_view_count": null,
            "_view_module": "@jupyter-widgets/output",
            "_view_module_version": "1.0.0",
            "_view_name": "OutputView",
            "layout": "IPY_MODEL_137fc10370ae40a88794cfc5369479fb",
            "msg_id": "",
            "outputs": [
              {
                "data": {
                  "application/vnd.jupyter.widget-view+json": {
                    "model_id": "56b11b24b4d04224afb5387f3d3594e5",
                    "version_major": 2,
                    "version_minor": 0
                  },
                  "text/plain": "Plot(antialias=3, axes=['x', 'y', 'z'], axes_helper=1.0, axes_helper_colors=[16711680, 65280, 255], background…"
                },
                "metadata": {},
                "output_type": "display_data"
              }
            ]
          }
        },
        "c18bd7505d03446fb8d62a18e373fdbb": {
          "model_module": "@jupyter-widgets/output",
          "model_module_version": "1.0.0",
          "model_name": "OutputModel",
          "state": {
            "_dom_classes": [],
            "_model_module": "@jupyter-widgets/output",
            "_model_module_version": "1.0.0",
            "_model_name": "OutputModel",
            "_view_count": null,
            "_view_module": "@jupyter-widgets/output",
            "_view_module_version": "1.0.0",
            "_view_name": "OutputView",
            "layout": "IPY_MODEL_e28fc4dc2b9f4744800f46008414be3c",
            "msg_id": "",
            "outputs": [
              {
                "data": {
                  "application/vnd.jupyter.widget-view+json": {
                    "model_id": "22c8ab4b315c44eea39379c5dd563ecb",
                    "version_major": 2,
                    "version_minor": 0
                  },
                  "text/plain": "Plot(antialias=3, axes=['x', 'y', 'z'], axes_helper=1.0, axes_helper_colors=[16711680, 65280, 255], background…"
                },
                "metadata": {},
                "output_type": "display_data"
              }
            ]
          }
        },
        "c2d9347710c44bc8b92d7d33304820b9": {
          "model_module": "@jupyter-widgets/output",
          "model_module_version": "1.0.0",
          "model_name": "OutputModel",
          "state": {
            "_dom_classes": [],
            "_model_module": "@jupyter-widgets/output",
            "_model_module_version": "1.0.0",
            "_model_name": "OutputModel",
            "_view_count": null,
            "_view_module": "@jupyter-widgets/output",
            "_view_module_version": "1.0.0",
            "_view_name": "OutputView",
            "layout": "IPY_MODEL_7886ca35f1bc450e83979f7da3cc8423",
            "msg_id": "",
            "outputs": [
              {
                "data": {
                  "application/vnd.jupyter.widget-view+json": {
                    "model_id": "8e48dc40126e4d219ef5e2ac0e35028d",
                    "version_major": 2,
                    "version_minor": 0
                  },
                  "text/plain": "Plot(antialias=3, axes=['x', 'y', 'z'], axes_helper=1.0, axes_helper_colors=[16711680, 65280, 255], background…"
                },
                "metadata": {},
                "output_type": "display_data"
              }
            ]
          }
        },
        "c5f4983aa25d4f6db4038eeb5bf902b2": {
          "model_module": "k3d",
          "model_module_version": "2.15.3",
          "model_name": "PlotModel",
          "state": {
            "_backend_version": "2.15.3",
            "_dom_classes": [],
            "_model_module": "k3d",
            "_model_module_version": "2.15.3",
            "_model_name": "PlotModel",
            "_view_count": null,
            "_view_module": "k3d",
            "_view_module_version": "2.15.3",
            "_view_name": "PlotView",
            "antialias": 3,
            "auto_rendering": true,
            "axes": [
              "x",
              "y",
              "z"
            ],
            "axes_helper": 1,
            "axes_helper_colors": [
              16711680,
              65280,
              255
            ],
            "background_color": 16777215,
            "camera": [],
            "camera_animation": [],
            "camera_auto_fit": true,
            "camera_damping_factor": 0,
            "camera_fov": 60,
            "camera_mode": "trackball",
            "camera_no_pan": false,
            "camera_no_rotate": false,
            "camera_no_zoom": false,
            "camera_pan_speed": 0.3,
            "camera_rotate_speed": 1,
            "camera_zoom_speed": 1.2,
            "clipping_planes": [],
            "colorbar_object_id": -1,
            "colorbar_scientific": false,
            "custom_data": null,
            "fps": 25,
            "fps_meter": false,
            "grid": [
              -0.55,
              -0.55,
              -0.55,
              0.55,
              0.55,
              0.55
            ],
            "grid_auto_fit": true,
            "grid_color": 15132390,
            "grid_visible": false,
            "height": 512,
            "label_color": 4473924,
            "layout": "IPY_MODEL_7c09f9690ec042df80a929fd3ff856c0",
            "lighting": 1.5,
            "logarithmic_depth_buffer": true,
            "manipulate_mode": "translate",
            "menu_visibility": true,
            "minimum_fps": -1,
            "mode": "view",
            "name": "point_cloud",
            "object_ids": [
              140447644152688
            ],
            "rendering_steps": 1,
            "screenshot": "",
            "screenshot_scale": 2,
            "snapshot": "",
            "snapshot_type": "full",
            "time": 0,
            "voxel_paint_color": 0
          }
        },
        "d2212e28fd7546d1bd39d2316d6d148c": {
          "model_module": "k3d",
          "model_module_version": "2.15.3",
          "model_name": "PlotModel",
          "state": {
            "_backend_version": "2.15.3",
            "_dom_classes": [],
            "_model_module": "k3d",
            "_model_module_version": "2.15.3",
            "_model_name": "PlotModel",
            "_view_count": null,
            "_view_module": "k3d",
            "_view_module_version": "2.15.3",
            "_view_name": "PlotView",
            "antialias": 3,
            "auto_rendering": true,
            "axes": [
              "x",
              "y",
              "z"
            ],
            "axes_helper": 1,
            "axes_helper_colors": [
              16711680,
              65280,
              255
            ],
            "background_color": 16777215,
            "camera": [],
            "camera_animation": [],
            "camera_auto_fit": true,
            "camera_damping_factor": 0,
            "camera_fov": 60,
            "camera_mode": "trackball",
            "camera_no_pan": false,
            "camera_no_rotate": false,
            "camera_no_zoom": false,
            "camera_pan_speed": 0.3,
            "camera_rotate_speed": 1,
            "camera_zoom_speed": 1.2,
            "clipping_planes": [],
            "colorbar_object_id": -1,
            "colorbar_scientific": false,
            "custom_data": null,
            "fps": 25,
            "fps_meter": false,
            "grid": [
              -0.55,
              -0.55,
              -0.55,
              0.55,
              0.55,
              0.55
            ],
            "grid_auto_fit": true,
            "grid_color": 15132390,
            "grid_visible": false,
            "height": 512,
            "label_color": 4473924,
            "layout": "IPY_MODEL_c884014afcd848a1ad97091ae2ec3c50",
            "lighting": 1.5,
            "logarithmic_depth_buffer": true,
            "manipulate_mode": "translate",
            "menu_visibility": true,
            "minimum_fps": -1,
            "mode": "view",
            "name": "occupancy_grid",
            "object_ids": [
              140145128773168
            ],
            "rendering_steps": 1,
            "screenshot": "",
            "screenshot_scale": 2,
            "snapshot": "",
            "snapshot_type": "full",
            "time": 0,
            "voxel_paint_color": 0
          }
        },
        "ddc263796645417d9e1aabcd82c0dcca": {
          "model_module": "k3d",
          "model_module_version": "2.15.3",
          "model_name": "PlotModel",
          "state": {
            "_backend_version": "2.15.3",
            "_dom_classes": [],
            "_model_module": "k3d",
            "_model_module_version": "2.15.3",
            "_model_name": "PlotModel",
            "_view_count": null,
            "_view_module": "k3d",
            "_view_module_version": "2.15.3",
            "_view_name": "PlotView",
            "antialias": 3,
            "auto_rendering": true,
            "axes": [
              "x",
              "y",
              "z"
            ],
            "axes_helper": 1,
            "axes_helper_colors": [
              16711680,
              65280,
              255
            ],
            "background_color": 16777215,
            "camera": [],
            "camera_animation": [],
            "camera_auto_fit": true,
            "camera_damping_factor": 0,
            "camera_fov": 60,
            "camera_mode": "trackball",
            "camera_no_pan": false,
            "camera_no_rotate": false,
            "camera_no_zoom": false,
            "camera_pan_speed": 0.3,
            "camera_rotate_speed": 1,
            "camera_zoom_speed": 1.2,
            "clipping_planes": [],
            "colorbar_object_id": -1,
            "colorbar_scientific": false,
            "custom_data": null,
            "fps": 25,
            "fps_meter": false,
            "grid": [
              -0.55,
              -0.55,
              -0.55,
              0.55,
              0.55,
              0.55
            ],
            "grid_auto_fit": true,
            "grid_color": 15132390,
            "grid_visible": false,
            "height": 512,
            "label_color": 4473924,
            "layout": "IPY_MODEL_8b965bce8a84460299ecdffb8fdda73e",
            "lighting": 1.5,
            "logarithmic_depth_buffer": true,
            "manipulate_mode": "translate",
            "menu_visibility": true,
            "minimum_fps": -1,
            "mode": "view",
            "name": "point_cloud",
            "object_ids": [
              139898254181664
            ],
            "rendering_steps": 1,
            "screenshot": "",
            "screenshot_scale": 2,
            "snapshot": "",
            "snapshot_type": "full",
            "time": 0,
            "voxel_paint_color": 0
          }
        },
        "de820bfe889646d6b4d84c6c6d73d8ce": {
          "model_module": "@jupyter-widgets/base",
          "model_module_version": "1.2.0",
          "model_name": "LayoutModel",
          "state": {
            "_model_module": "@jupyter-widgets/base",
            "_model_module_version": "1.2.0",
            "_model_name": "LayoutModel",
            "_view_count": null,
            "_view_module": "@jupyter-widgets/base",
            "_view_module_version": "1.2.0",
            "_view_name": "LayoutView",
            "align_content": null,
            "align_items": null,
            "align_self": null,
            "border": null,
            "bottom": null,
            "display": null,
            "flex": null,
            "flex_flow": null,
            "grid_area": null,
            "grid_auto_columns": null,
            "grid_auto_flow": null,
            "grid_auto_rows": null,
            "grid_column": null,
            "grid_gap": null,
            "grid_row": null,
            "grid_template_areas": null,
            "grid_template_columns": null,
            "grid_template_rows": null,
            "height": null,
            "justify_content": null,
            "justify_items": null,
            "left": null,
            "margin": null,
            "max_height": null,
            "max_width": null,
            "min_height": null,
            "min_width": null,
            "object_fit": null,
            "object_position": null,
            "order": null,
            "overflow": null,
            "overflow_x": null,
            "overflow_y": null,
            "padding": null,
            "right": null,
            "top": null,
            "visibility": null,
            "width": null
          }
        },
        "e28fc4dc2b9f4744800f46008414be3c": {
          "model_module": "@jupyter-widgets/base",
          "model_module_version": "1.2.0",
          "model_name": "LayoutModel",
          "state": {
            "_model_module": "@jupyter-widgets/base",
            "_model_module_version": "1.2.0",
            "_model_name": "LayoutModel",
            "_view_count": null,
            "_view_module": "@jupyter-widgets/base",
            "_view_module_version": "1.2.0",
            "_view_name": "LayoutView",
            "align_content": null,
            "align_items": null,
            "align_self": null,
            "border": null,
            "bottom": null,
            "display": null,
            "flex": null,
            "flex_flow": null,
            "grid_area": null,
            "grid_auto_columns": null,
            "grid_auto_flow": null,
            "grid_auto_rows": null,
            "grid_column": null,
            "grid_gap": null,
            "grid_row": null,
            "grid_template_areas": null,
            "grid_template_columns": null,
            "grid_template_rows": null,
            "height": null,
            "justify_content": null,
            "justify_items": null,
            "left": null,
            "margin": null,
            "max_height": null,
            "max_width": null,
            "min_height": null,
            "min_width": null,
            "object_fit": null,
            "object_position": null,
            "order": null,
            "overflow": null,
            "overflow_x": null,
            "overflow_y": null,
            "padding": null,
            "right": null,
            "top": null,
            "visibility": null,
            "width": null
          }
        },
        "f2b7b831ca9448bc9b6164ef44c7d35b": {
          "model_module": "@jupyter-widgets/base",
          "model_module_version": "1.2.0",
          "model_name": "LayoutModel",
          "state": {
            "_model_module": "@jupyter-widgets/base",
            "_model_module_version": "1.2.0",
            "_model_name": "LayoutModel",
            "_view_count": null,
            "_view_module": "@jupyter-widgets/base",
            "_view_module_version": "1.2.0",
            "_view_name": "LayoutView",
            "align_content": null,
            "align_items": null,
            "align_self": null,
            "border": null,
            "bottom": null,
            "display": null,
            "flex": null,
            "flex_flow": null,
            "grid_area": null,
            "grid_auto_columns": null,
            "grid_auto_flow": null,
            "grid_auto_rows": null,
            "grid_column": null,
            "grid_gap": null,
            "grid_row": null,
            "grid_template_areas": null,
            "grid_template_columns": null,
            "grid_template_rows": null,
            "height": null,
            "justify_content": null,
            "justify_items": null,
            "left": null,
            "margin": null,
            "max_height": null,
            "max_width": null,
            "min_height": null,
            "min_width": null,
            "object_fit": null,
            "object_position": null,
            "order": null,
            "overflow": null,
            "overflow_x": null,
            "overflow_y": null,
            "padding": null,
            "right": null,
            "top": null,
            "visibility": null,
            "width": null
          }
        },
        "fa14cc9ff1b146768c69e2764f351c0a": {
          "model_module": "@jupyter-widgets/output",
          "model_module_version": "1.0.0",
          "model_name": "OutputModel",
          "state": {
            "_dom_classes": [],
            "_model_module": "@jupyter-widgets/output",
            "_model_module_version": "1.0.0",
            "_model_name": "OutputModel",
            "_view_count": null,
            "_view_module": "@jupyter-widgets/output",
            "_view_module_version": "1.0.0",
            "_view_name": "OutputView",
            "layout": "IPY_MODEL_9b5ba395e1b343828d859f900867ba6e",
            "msg_id": "",
            "outputs": [
              {
                "data": {
                  "application/vnd.jupyter.widget-view+json": {
                    "model_id": "c5f4983aa25d4f6db4038eeb5bf902b2",
                    "version_major": 2,
                    "version_minor": 0
                  },
                  "text/plain": "Plot(antialias=3, axes=['x', 'y', 'z'], axes_helper=1.0, axes_helper_colors=[16711680, 65280, 255], background…"
                },
                "metadata": {},
                "output_type": "display_data"
              }
            ]
          }
        },
        "fb4861ccd1a547b9ae9482d66d590c83": {
          "model_module": "@jupyter-widgets/base",
          "model_module_version": "1.2.0",
          "model_name": "LayoutModel",
          "state": {
            "_model_module": "@jupyter-widgets/base",
            "_model_module_version": "1.2.0",
            "_model_name": "LayoutModel",
            "_view_count": null,
            "_view_module": "@jupyter-widgets/base",
            "_view_module_version": "1.2.0",
            "_view_name": "LayoutView",
            "align_content": null,
            "align_items": null,
            "align_self": null,
            "border": null,
            "bottom": null,
            "display": null,
            "flex": null,
            "flex_flow": null,
            "grid_area": null,
            "grid_auto_columns": null,
            "grid_auto_flow": null,
            "grid_auto_rows": null,
            "grid_column": null,
            "grid_gap": null,
            "grid_row": null,
            "grid_template_areas": null,
            "grid_template_columns": null,
            "grid_template_rows": null,
            "height": null,
            "justify_content": null,
            "justify_items": null,
            "left": null,
            "margin": null,
            "max_height": null,
            "max_width": null,
            "min_height": null,
            "min_width": null,
            "object_fit": null,
            "object_position": null,
            "order": null,
            "overflow": null,
            "overflow_x": null,
            "overflow_y": null,
            "padding": null,
            "right": null,
            "top": null,
            "visibility": null,
            "width": null
          }
        },
        "ffb9752315bd42198f88e64ed828d42c": {
          "model_module": "@jupyter-widgets/base",
          "model_module_version": "1.2.0",
          "model_name": "LayoutModel",
          "state": {
            "_model_module": "@jupyter-widgets/base",
            "_model_module_version": "1.2.0",
            "_model_name": "LayoutModel",
            "_view_count": null,
            "_view_module": "@jupyter-widgets/base",
            "_view_module_version": "1.2.0",
            "_view_name": "LayoutView",
            "align_content": null,
            "align_items": null,
            "align_self": null,
            "border": null,
            "bottom": null,
            "display": null,
            "flex": null,
            "flex_flow": null,
            "grid_area": null,
            "grid_auto_columns": null,
            "grid_auto_flow": null,
            "grid_auto_rows": null,
            "grid_column": null,
            "grid_gap": null,
            "grid_row": null,
            "grid_template_areas": null,
            "grid_template_columns": null,
            "grid_template_rows": null,
            "height": null,
            "justify_content": null,
            "justify_items": null,
            "left": null,
            "margin": null,
            "max_height": null,
            "max_width": null,
            "min_height": null,
            "min_width": null,
            "object_fit": null,
            "object_position": null,
            "order": null,
            "overflow": null,
            "overflow_x": null,
            "overflow_y": null,
            "padding": null,
            "right": null,
            "top": null,
            "visibility": null,
            "width": null
          }
        }
      }
    }
  },
  "nbformat": 4,
  "nbformat_minor": 0
}
