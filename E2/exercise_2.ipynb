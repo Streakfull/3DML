{
  "cells": [
    {
      "attachments": {},
      "cell_type": "markdown",
      "metadata": {
        "collapsed": true,
        "id": "HtadlUep_vN_"
      },
      "source": [
        "# Exercise 2: Shape Classification and Segmentation\n",
        "\n",
        "**Submission Deadline**: 30.05.2023, 23:55\n",
        "\n",
        "In this exercise, we will dive into Machine Learning on 3D shapes by taking a look at shape classification and segmentation."
      ]
    },
    {
      "cell_type": "code",
      "execution_count": null,
      "metadata": {
        "colab": {
          "base_uri": "https://localhost:8080/"
        },
        "id": "OCPjCch9_3m0",
        "outputId": "41f51799-e2c4-42dd-b7ac-1dd9802cf372"
      },
      "outputs": [
        {
          "name": "stdout",
          "output_type": "stream",
          "text": [
            "Mounted at /content/drive\n"
          ]
        }
      ],
      "source": [
        "# from google.colab import drive\n",
        "# drive.mount('/content/drive')"
      ]
    },
    {
      "cell_type": "code",
      "execution_count": null,
      "metadata": {
        "colab": {
          "base_uri": "https://localhost:8080/"
        },
        "id": "j-LvO3XCAFE3",
        "outputId": "20cb61cd-a72f-4631-e53a-7649d65ec092"
      },
      "outputs": [
        {
          "name": "stdout",
          "output_type": "stream",
          "text": [
            "/content/drive/MyDrive/3DML/E2\n"
          ]
        }
      ],
      "source": [
        "# %cd drive/MyDrive/3DML/E2"
      ]
    },
    {
      "attachments": {},
      "cell_type": "markdown",
      "metadata": {
        "id": "m1COfiD6_vOE"
      },
      "source": [
        "## 2.0. Running this notebook\n",
        "We recommend running this notebook on a CUDA compatible local gpu. You can also run training on cpu, it will just take longer.\n",
        "\n",
        "You have three options for running this exercise on a GPU, choose one of them and start the exercise below in section \"Imports\":\n",
        "1. Locally on your own GPU\n",
        "2. On our dedicated compute cluster\n",
        "3. On Google Colab\n",
        "\n",
        "We describe every option in more detail below:"
      ]
    },
    {
      "attachments": {},
      "cell_type": "markdown",
      "metadata": {
        "id": "9IdZf8Kn_vOF"
      },
      "source": [
        "---\n",
        "\n",
        "### (a) Local Execution\n",
        "\n",
        "If you run this notebook locally, you have to first install the python dependiencies again. They are the same as for exercise 1 so you can re-use the environment you used last time. If you use [poetry](https://python-poetry.org), you can also simply re-install everything (`poetry install`) and then run this notebook via `poetry run jupyter notebook`.\n",
        "\n",
        "In case you are working with a RTX 3000-series GPU, you need to install a patched version of pytorch:"
      ]
    },
    {
      "cell_type": "code",
      "execution_count": null,
      "metadata": {
        "id": "tiWnEBSP_vOF"
      },
      "outputs": [],
      "source": [
        "%pip install torch torchvision --extra-index-url https://download.pytorch.org/whl/cu113"
      ]
    },
    {
      "attachments": {},
      "cell_type": "markdown",
      "metadata": {
        "id": "LPY3SejL_vOH"
      },
      "source": [
        "### (b) Compute Cluster\n",
        "\n",
        "We provide access to a small compute cluster for the exercises and projects, consisting of a login node and 4 compute nodes with one dedicated RTX 3090 GPU each.\n",
        "Please send us a short email with your name and preferred username so we can add you as a user.\n",
        "\n",
        "We uploaded a PDF to Moodle with detailed information on how to access and use the cluster.\n",
        "\n",
        "Since the cluster contains RTX 3000-series GPUs, you will need to install a patched version of pytorch:"
      ]
    },
    {
      "cell_type": "code",
      "execution_count": null,
      "metadata": {
        "id": "krr9LhXY_vOH"
      },
      "outputs": [],
      "source": [
        "%pip install torch torchvision --extra-index-url https://download.pytorch.org/whl/cu113"
      ]
    },
    {
      "attachments": {},
      "cell_type": "markdown",
      "metadata": {
        "id": "dsE7_hEt_vOI"
      },
      "source": [
        "### (c) Google Colab\n",
        "\n",
        "If you don't have access to a GPU and don't want to use our cluster, you can also use Google Colab. However, we experienced the issue that inline visualization of shapes or inline images didn't work on colab, so just keep that in mind.\n",
        "What you can also do is only train networks on colab, download the checkpoint, and visualize inference locally.\n",
        "\n",
        "In case you're using Google Colab, you can upload the exercise folder (containing `exercise_2.ipynb`, directory `exercise_2` and the file `requirements.txt`) as `3d-machine-learning` to google drive (make sure you don't upload extracted datasets files).\n",
        "Additionally you'd need to open the notebook `exercise_2.ipynb` in Colab using `File > Open Notebook > Upload`.\n",
        "\n",
        "Next you'll need to run these two cells for setting up the environment. Before you do that make sure your instance has a GPU."
      ]
    },
    {
      "cell_type": "code",
      "execution_count": null,
      "metadata": {
        "id": "5H4leVrF_vOI",
        "pycharm": {
          "name": "#%%\n"
        }
      },
      "outputs": [],
      "source": [
        "import os\n",
        "# from google.colab import drive\n",
        "# drive.mount('/content/drive', force_remount=True)\n",
        "\n",
        "# We assume you uploaded the exercise folder in root Google Drive folder\n",
        "\n",
        "#!cp -r /content/drive/MyDrive/3d-machine-learning 3d-machine-learning/\n",
        "os.chdir('/content/drive/MyDrive/3DML/E2')\n",
        "print('Installing requirements')\n",
        "%pip install -r requirements.txt\n",
        "\n",
        "# Make sure you restart runtime when directed by Colab"
      ]
    },
    {
      "attachments": {},
      "cell_type": "markdown",
      "metadata": {
        "id": "dGn5TLvY_vOJ"
      },
      "source": [
        "Run this cell after restarting your colab runtime"
      ]
    },
    {
      "cell_type": "code",
      "execution_count": null,
      "metadata": {
        "colab": {
          "base_uri": "https://localhost:8080/"
        },
        "id": "Qowp5G6F_vOK",
        "outputId": "eca826c8-58d5-4cfb-b201-cc01440cb30e",
        "pycharm": {
          "name": "#%%\n"
        }
      },
      "outputs": [
        {
          "name": "stdout",
          "output_type": "stream",
          "text": [
            "CUDA availability: True\n"
          ]
        }
      ],
      "source": [
        "import os\n",
        "import sys\n",
        "import torch\n",
        "# os.chdir('/content/3d-machine-learning/')\n",
        "# sys.path.insert(1, \"/content/3d-machine-learning/\")\n",
        "print('CUDA availability:', torch.cuda.is_available())"
      ]
    },
    {
      "attachments": {},
      "cell_type": "markdown",
      "metadata": {
        "id": "mOZSPysl_vOK"
      },
      "source": [
        "---\n",
        "\n",
        "### Imports\n",
        "\n",
        "The following imports should work regardless of whether you are using Colab or local execution."
      ]
    },
    {
      "cell_type": "code",
      "execution_count": 1,
      "metadata": {
        "id": "R9D7IIQY_vOL"
      },
      "outputs": [],
      "source": [
        "%load_ext autoreload\n",
        "%autoreload 2\n",
        "from pathlib import Path\n",
        "import numpy as np\n",
        "import matplotlib as plt\n",
        "import k3d\n",
        "import trimesh\n",
        "import torch"
      ]
    },
    {
      "attachments": {},
      "cell_type": "markdown",
      "metadata": {
        "id": "RfP4Dy_7_vOL"
      },
      "source": [
        "Use the next cell to test whether a GPU was detected by pytorch."
      ]
    },
    {
      "cell_type": "code",
      "execution_count": null,
      "metadata": {
        "colab": {
          "base_uri": "https://localhost:8080/"
        },
        "id": "W8Q7_gxG_vOL",
        "outputId": "f2b4d0f2-6c41-45f2-f327-cee41724241b"
      },
      "outputs": [
        {
          "data": {
            "text/plain": [
              "True"
            ]
          },
          "execution_count": 10,
          "metadata": {},
          "output_type": "execute_result"
        }
      ],
      "source": [
        "torch.cuda.is_available()"
      ]
    },
    {
      "attachments": {},
      "cell_type": "markdown",
      "metadata": {
        "id": "yPxEq9qK_vOM"
      },
      "source": [
        "## 2.1. ShapeNet Terms of Use\n",
        "\n",
        "We provide pre-processed shapes from the [ShapeNet](//shapenet.org) database for this exercise. ShapeNet is an ongoing effort to establish a richly-annotated, large-scale dataset of 3D shapes and is a collaborative effort between researchers at Princeton, Stanford and TTIC.\n",
        "\n",
        "<img src=\"exercise_2/images/shapenet.png\" alt=\"shapenet\" style=\"width: 512px;\"/>\n",
        "\n",
        "In order to be able to use the data, we ask you to read and agree to their Terms of Use as stated below (this is a requirement for passing this exercise):\n",
        "\n",
        "1. Researcher shall use the Database only for non-commercial research and educational purposes.\n",
        "2. Princeton University and Stanford University make no representations or warranties regarding the Database, including but not limited to warranties of non-infringement or fitness for a particular purpose.\n",
        "3. Researcher accepts full responsibility for his or her use of the Database and shall defend and indemnify Princeton University and Stanford University, including their employees, Trustees, officers and agents, against any and all claims arising from Researcher's use of the Database, including but not limited to Researcher's use of any copies of copyrighted 3D models that he or she may create from the Database.\n",
        "4. Researcher may provide research associates and colleagues with access to the Database provided that they first agree to be bound by these terms and conditions.\n",
        "5. Princeton University and Stanford University reserve the right to terminate Researcher's access to the Database at any time.\n",
        "6. If Researcher is employed by a for-profit, commercial entity, Researcher's employer shall also be bound by these terms and conditions, and Researcher hereby represents that he or she is fully authorized to enter into this agreement on behalf of such employer.\n",
        "7. The law of the State of New Jersey shall apply to all disputes under this agreement.\n",
        "\n",
        "To agree, simply type `I agree to the Terms of Use` in the next code cell."
      ]
    },
    {
      "cell_type": "code",
      "execution_count": null,
      "metadata": {
        "id": "WF9Z7WCG_vON"
      },
      "outputs": [],
      "source": [
        "# I agree to the Terms of Use"
      ]
    },
    {
      "cell_type": "code",
      "execution_count": null,
      "metadata": {
        "colab": {
          "base_uri": "https://localhost:8080/"
        },
        "id": "5dR_6L2LU2wh",
        "outputId": "07885697-c9c8-4df6-b8cb-548e9bf15950"
      },
      "outputs": [
        {
          "name": "stdout",
          "output_type": "stream",
          "text": [
            "sample_data\n"
          ]
        }
      ],
      "source": [
        "!ls"
      ]
    },
    {
      "attachments": {},
      "cell_type": "markdown",
      "metadata": {
        "id": "_rSuks-d_vON"
      },
      "source": [
        "## 2.2. A simple 3D CNN with pytorch\n",
        "\n",
        "Here, we will create a very simple 3D Convolutional Neural Network on some toy data. This is meant as a quick introduction into the pytorch framework if you haven't used it yet. It will cover everything you need to know for the following parts of the exercise; if you want to go into a bit more detail about the framework, a good place to start is the official [pytorch quickstart tutorial](https://pytorch.org/tutorials/beginner/basics/quickstart_tutorial.html).\n",
        "\n",
        "A very useful resource if you want to know more about a certain class or function are the [official docs](https://pytorch.org/docs/stable/index.html). Take a minute to look at the documentation of a [Tensor](https://pytorch.org/docs/stable/tensors.html?highlight=tensor#torch.Tensor) which is the data structure pytorch uses throughout their APIs. It is comparable to a numpy array, with added functionality such as the ability to move seamlessly between cpu host memory and cuda device memory or the integrated autograd functionality for automatic differentiation. Most importantly, you can create a tensor from a numpy array with `torch.from_numpy(array)` and the other way around with `array = tensor.numpy()`.\n",
        "\n",
        "Our objective with this 3D CNN is to simply classify if a given SDF is containing a sphere or a torus. The data is generated the same way we did it in the last exercise (we randomize the shape parameters a bit so the task is not too trivial). Each such sample has a scalar label associated with it, either 0 or 1, depending on the shape it contains.\n",
        "\n",
        "All of the implementation in this part will take place in `exercise_2/simple_nn.py`. This makes sense for now but note that we would usually spread things over multiple different files like in the following exercise parts.\n",
        "\n",
        "The important bits we need for every training in pytorch are:\n",
        "1. The **dataset** implementation. This is a class responsible for providing the data used by the training procedure sample-by-sample. In its simplest form, it just loads data samples (eg. point clouds or voxel grids) from disk. However, it is usually also used to transform raw data from disk into the correct format and to apply various kinds of augmentations.\n",
        "2. The network definition (\"**model**\") that we want to train. It specifies the network structure (number and type of layers, activation functions, normalization layers etc.) as well as how exactly input data is processed.\n",
        "3. The **loss function**: For classification, this is usually a Cross Entropy Loss; we will also see reconstruction losses like l1 and l2 in exercise 3.\n",
        "4. The **optimizer**: Usually chosen from a set of pre-defined classes like SGD or ADAM.\n",
        "5. The **training loop**: For each batch of data, it does the following: Loads data from the dataloader, passes it through the model (\"forward pass\"), computes the loss, calculates the gradients (\"backward pass\"), and finally, adjusts the network weights using the optimizer.\n",
        "\n",
        "Let's walk through everything step-by-step:"
      ]
    },
    {
      "attachments": {},
      "cell_type": "markdown",
      "metadata": {
        "id": "Wtt3RTh6_vOO"
      },
      "source": [
        "### (a) Dataset\n",
        "\n",
        "We start by implementing the data source, which is called `Dataset` in pytorch. Take a look at the `SimpleDataset` class, it contains everything we have to implement to make it work:\n",
        "1. The `__init__` function that takes paramters and prepares the dataset by setting paths etc. Here, the one thing you always have to do is to load at least a list of samples you want to use - they don't have to be loaded from disk yet, but you need to know which and how many samples there are. This usually also depends on the current split - you use a different set of samples for training than for validation or testing.\n",
        "2. The `__len__` function that returns the total number of samples. In most cases, this will simply be the length of the list of samples you prepared in `__init__`.\n",
        "3. The `__getitem__` function. This is where the actual dataloading takes place. The function gets an index between 0 and the length you returned with `__len__`. Your job is then to return some data corresponding to the index. You do not need to worry about putting data onto the GPU here yet; instead, you load the data and return a tuple containing numpy arrays and other data like sample ids you might need in your training loop. Overall, you should take the index parameter in this function, find the sample id it belongs to, load that data, and then return it in a format that can be used in the training loop.\n",
        "\n",
        "Note that it is also fine to load all data into a list in the `__init__` function for small datasets like our toy dataset in this exercise part. You would then just index this pre-loaded data in your `__getitem__` function.\n",
        "\n",
        "Add and implement functions `__init__`, `__len__`, and `__getitem__` in class `SimpleDataset`. \n",
        "\n",
        "First, implement `__init__`: It takes a single parameter (called `split`) that determines if we are using train or val split at the moment. Based on that, it should generate toy data: 4096 samples if the split is train and 1024 if it is val. Use `generate_toy_data` from `exercise_2/util/toy_data.py` for this which generates two numpy arrays: The first one containing sphere and torus SDFs generated with randomized parameters and the second one classification labels, a 0 if the corresponding SDF in the first array is a sphere and 1 if it is a torus.\n",
        "\n",
        "Then, implement `__len__` by simply returning the length of the data you generated in `__init__`.\n",
        "\n",
        "Lastly, implement `__getitem__` which takes an integer index and returns a tuple: A numpy array containing the input SDF volume as generated by `generate_toy_data` before and a scalar value that represents the target class label for this volume.\n",
        "\n",
        "Note: You have to add an additional dimension of size 1 to the input volume you return in `__getitem__` to make everything work later on, i.e. instead of returning a numpy array of shape (32, 32, 32), you should return an array of shape (1, 32, 32, 32).\n",
        "\n",
        "Test your implementation with the checks below:"
      ]
    },
    {
      "cell_type": "code",
      "execution_count": null,
      "metadata": {
        "colab": {
          "base_uri": "https://localhost:8080/"
        },
        "id": "aGzxZnje_vOO",
        "outputId": "5540fe02-7458-47c2-ef69-5f1a545cf218"
      },
      "outputs": [
        {
          "name": "stdout",
          "output_type": "stream",
          "text": [
            "Generating toy data ...\n",
            "Generating toy data ...\n",
            "Length of train set: 4096\n",
            "Length of val set: 1024\n",
            "(1, 32, 32, 32)\n",
            "Class = 0\n",
            "(1, 32, 32, 32)\n",
            "Class = 1\n"
          ]
        }
      ],
      "source": [
        "from exercise_2.simple_nn import SimpleDataset\n",
        "\n",
        "# Create datasets with train and val splits\n",
        "train_dataset = SimpleDataset('train')\n",
        "val_dataset = SimpleDataset('val')\n",
        "\n",
        "# Test lengths\n",
        "print(f'Length of train set: {len(train_dataset)}')  # expected output: 4096\n",
        "print(f'Length of val set: {len(val_dataset)}')  # expected output: 1024\n",
        "\n",
        "# Get sample at index 0\n",
        "train_sample = train_dataset[0]\n",
        "print(train_sample[0].shape)  # Expected output (1, 32, 32, 32) (the leading 1 is important for later)\n",
        "print(f\"Class = {train_sample[1]}\")  # Expected output: Scalar value 0\n",
        "val_sample = val_dataset[-1]\n",
        "print(val_sample[0].shape)  # Expected output (1, 32, 32, 32) (the leading 1 is important for later)\n",
        "print(f\"Class = {val_sample[1]}\")  # Expected output: Scalar value 1"
      ]
    },
    {
      "cell_type": "code",
      "execution_count": null,
      "metadata": {
        "id": "SXA29Etf_vOP",
        "outputId": "73f395e0-7e32-46d2-889c-7abd1c2b0d74"
      },
      "outputs": [
        {
          "name": "stdout",
          "output_type": "stream",
          "text": [
            "Creating SDF visualization for 32^3 grid ...\n",
            "Exported to c:\\Users\\Youssef\\Repos\\TUM\\SS23\\3DMl\\exercises\\E2\\toy_data.ply\n"
          ]
        }
      ],
      "source": [
        "from exercise_2.util.visualization import visualize_sdf\n",
        "\n",
        "train_sample = train_dataset[0]\n",
        "visualize_sdf(train_sample[0].squeeze(0), filename=Path.cwd() / 'toy_data.ply')"
      ]
    },
    {
      "attachments": {},
      "cell_type": "markdown",
      "metadata": {
        "id": "5ACtxtr4_vOP"
      },
      "source": [
        "### (b) Model\n",
        "The model is defined in class `SimpleModel`. Two functions are important here: `__init__` which sets up the architecture by instantiating layers with the correct parameters and adapting them to possible input parameters and `forward` which takes an input tensor (we call it `x` here). The output of `forward` is another tensor that contains the result of the network - in our case, this is a vector of logits which will then be used for classification. It could also be a volume of labels if you do segmentation or a volume of the same size as the input if you do reconstruction.\n",
        "\n",
        "Analogous to `forward`, you could also define a custom `backward` function that describes how to calculate the gradients for your model. However, this is not necessary for most architectures as pytorch's autograd implementation takes care of all of that.\n",
        "\n",
        "For now, we will implement a very simple model: We stack together three 3D Convolution layers and have a fully connected layer at the end for classification. This is a schematic for the overall model structure:\n",
        "<img src=\"exercise_2/images/simplenn.png\" alt=\"simplenn_architecture\" style=\"width: 512px;\"/>\n",
        "\n",
        "Each layer starts with a 3d convolution, followed by a batch normalization layer and a ReLU activation function. We left the implementation of the first layer in there; your task is to fill out the missing parts in `__init__` for layers 2 and 3 (use the same parameters as for the first convolution: kernel size 4, stride 3, padding 1). Each convolution should double the number of feature channels, such that you get a volume of size 16 x 1 x 1 x 1 after layer 3. You also need to define the ReLU and the fully connected layer (for this, use `torch.nn.Linear` to reduce the number of dimensions from 16 to 2).\n",
        "\n",
        "In `forward`, you can repeat the first line to move the input tensor through all three convolutional layers. Then, reshape the resulting tensor to dimension batchsize x 16 (the batch size is always the first dimension) and apply the linear layer to it. Return the result as-is.\n",
        "\n",
        "Hint: The ease of debugging is one of the main reasons why pytorch is preferred in research over alternatives like tensorflow. You can set breakpoints in the `forward` function and watch as the input tensor gets modified by each layer to find bugs or things like wrongly calculated convolution parameters.\n",
        "\n",
        "Use the following sanity checks to verify your model:"
      ]
    },
    {
      "cell_type": "code",
      "execution_count": null,
      "metadata": {
        "id": "Bw7kZrlw_vOQ",
        "outputId": "765508f4-088d-43b3-cfda-09c718352dfc"
      },
      "outputs": [
        {
          "name": "stdout",
          "output_type": "stream",
          "text": [
            "  | Name   | Type        | Params\n",
            "---------------------------------------\n",
            "0 | conv1  | Conv3d      | 260   \n",
            "1 | bn1    | BatchNorm3d | 8     \n",
            "2 | conv2  | Conv3d      | 2056  \n",
            "3 | bn2    | BatchNorm3d | 16    \n",
            "4 | conv3  | Conv3d      | 8208  \n",
            "5 | bn3    | BatchNorm3d | 32    \n",
            "6 | linear | Linear      | 34    \n",
            "7 | relu   | ReLU        | 0     \n",
            "8 | TOTAL  | SimpleModel | 10614 \n",
            "Output tensor shape:  torch.Size([32, 2])\n"
          ]
        }
      ],
      "source": [
        "from exercise_2.simple_nn import SimpleModel\n",
        "from exercise_2.util.model import summarize_model\n",
        "\n",
        "simple_nn = SimpleModel()\n",
        "print(summarize_model(simple_nn))  # Expected: Rows 0-8 and TOTAL = 10614\n",
        "\n",
        "input_tensor = torch.randn(32, 1, 32, 32, 32)\n",
        "predictions = simple_nn(input_tensor)\n",
        "\n",
        "print('Output tensor shape: ', predictions.shape)  # Expected: torch.Size([32, 2])"
      ]
    },
    {
      "attachments": {},
      "cell_type": "markdown",
      "metadata": {
        "id": "HEE5p8HD_vOQ"
      },
      "source": [
        "### (c) Training"
      ]
    },
    {
      "attachments": {},
      "cell_type": "markdown",
      "metadata": {
        "id": "5DsQrvvD_vOQ"
      },
      "source": [
        "We already laid out most of the code structure you need to start training once you have your dataset and model defined. This code usually does not change much between projects; this is why there exist many different libraries to simplify it even more (you can take a look at pytorch lightning for example if you are interested). We will stick to the standard pytorch way of doing things for these exercises.\n",
        "\n",
        "The most important things left to do are:\n",
        "1. Define the data loaders. They take the samples you provide in your dataset implementation and take care of loading multiple samples in parallel, shuffling the dataset, and combining samples into batches.\n",
        "2. Define a loss function. For classification, this is usually `torch.nn.CrossEntropyLoss`\n",
        "3. Instantiate the optimizer. Mostly, this will be ADAM (`torch.optim.Adam`) unless you have a good reason to use another one.\n",
        "4. Implement the training loop: Get a batch of data from the data loader, move it to the GPU, perform a forward pass, compute the loss, calculate gradients in the backward pass, adjust weights in an optimizer step, repeat.\n",
        "\n",
        "Note: You have to move some stuff to the correct compute device (usually the GPU) by calling `.to(device)`: The model and loss function as well as the data you get from each batch.\n",
        "\n",
        "Take a look at the structure of `main` since you will also use it for the next exercise parts and fill in code in `train` at the blanks marked with TODO. Then, start the training below. For this exercise, we don't care too much about the results since it is a very easy classification task anyways. Your model should be able to get to > 98% validation accuracy, though. You can stop the training once that is the case."
      ]
    },
    {
      "cell_type": "code",
      "execution_count": null,
      "metadata": {
        "id": "pseS9oka_vOQ",
        "outputId": "7c44d210-5456-44f5-acbb-eada5ceed0be",
        "scrolled": true
      },
      "outputs": [
        {
          "name": "stdout",
          "output_type": "stream",
          "text": [
            "Using CPU\n",
            "Generating toy data ...\n",
            "Generating toy data ...\n",
            "[000/00024] train_loss: 0.483\n",
            "[000/00049] train_loss: 0.343\n",
            "[000/00074] train_loss: 0.285\n",
            "[000/00099] train_loss: 0.231\n",
            "[000/00099] val_loss: 0.212, val_accuracy: 94.629%\n",
            "[000/00124] train_loss: 0.204\n",
            "[001/00021] train_loss: 0.142\n",
            "[001/00046] train_loss: 0.157\n",
            "[001/00071] train_loss: 0.141\n",
            "[001/00071] val_loss: 0.147, val_accuracy: 97.656%\n",
            "[001/00096] train_loss: 0.139\n",
            "[001/00121] train_loss: 0.102\n",
            "[002/00018] train_loss: 0.072\n",
            "[002/00043] train_loss: 0.087\n",
            "[002/00043] val_loss: 0.069, val_accuracy: 97.656%\n",
            "[002/00068] train_loss: 0.089\n",
            "[002/00093] train_loss: 0.062\n",
            "[002/00118] train_loss: 0.080\n",
            "[003/00015] train_loss: 0.052\n",
            "[003/00015] val_loss: 0.088, val_accuracy: 98.047%\n",
            "[003/00040] train_loss: 0.078\n",
            "[003/00065] train_loss: 0.124\n",
            "[003/00090] train_loss: 0.086\n",
            "[003/00115] train_loss: 0.068\n",
            "[003/00115] val_loss: 0.066, val_accuracy: 97.852%\n",
            "[004/00012] train_loss: 0.037\n",
            "[004/00037] train_loss: 0.058\n",
            "[004/00062] train_loss: 0.068\n",
            "[004/00087] train_loss: 0.062\n",
            "[004/00087] val_loss: 0.044, val_accuracy: 99.219%\n",
            "[004/00112] train_loss: 0.063\n",
            "[005/00009] train_loss: 0.021\n",
            "[005/00034] train_loss: 0.062\n",
            "[005/00059] train_loss: 0.059\n",
            "[005/00059] val_loss: 0.049, val_accuracy: 98.340%\n",
            "[005/00084] train_loss: 0.074\n",
            "[005/00109] train_loss: 0.070\n",
            "[006/00006] train_loss: 0.019\n",
            "[006/00031] train_loss: 0.063\n",
            "[006/00031] val_loss: 0.107, val_accuracy: 97.168%\n",
            "[006/00056] train_loss: 0.130\n",
            "[006/00081] train_loss: 0.094\n",
            "[006/00106] train_loss: 0.096\n",
            "[007/00003] train_loss: 0.008\n",
            "[007/00003] val_loss: 0.065, val_accuracy: 98.047%\n",
            "[007/00028] train_loss: 0.064\n",
            "[007/00053] train_loss: 0.067\n",
            "[007/00078] train_loss: 0.067\n",
            "[007/00103] train_loss: 0.057\n",
            "[007/00103] val_loss: 0.051, val_accuracy: 99.121%\n",
            "[008/00000] train_loss: 0.002\n",
            "[008/00025] train_loss: 0.055\n",
            "[008/00050] train_loss: 0.057\n",
            "[008/00075] train_loss: 0.053\n",
            "[008/00075] val_loss: 0.047, val_accuracy: 99.414%\n",
            "[008/00100] train_loss: 0.038\n",
            "[008/00125] train_loss: 0.051\n",
            "[009/00022] train_loss: 0.043\n",
            "[009/00047] train_loss: 0.077\n",
            "[009/00047] val_loss: 0.070, val_accuracy: 97.852%\n",
            "[009/00072] train_loss: 0.116\n",
            "[009/00097] train_loss: 0.049\n",
            "[009/00122] train_loss: 0.070\n",
            "[010/00019] train_loss: 0.041\n",
            "[010/00019] val_loss: 0.042, val_accuracy: 98.730%\n",
            "[010/00044] train_loss: 0.043\n",
            "[010/00069] train_loss: 0.080\n",
            "[010/00094] train_loss: 0.058\n",
            "[010/00119] train_loss: 0.073\n",
            "[010/00119] val_loss: 0.037, val_accuracy: 99.219%\n",
            "[011/00016] train_loss: 0.047\n",
            "[011/00041] train_loss: 0.032\n",
            "[011/00066] train_loss: 0.053\n",
            "[011/00091] train_loss: 0.088\n",
            "[011/00091] val_loss: 0.037, val_accuracy: 98.828%\n",
            "[011/00116] train_loss: 0.029\n",
            "[012/00013] train_loss: 0.016\n",
            "[012/00038] train_loss: 0.034\n",
            "[012/00063] train_loss: 0.035\n",
            "[012/00063] val_loss: 0.024, val_accuracy: 99.414%\n",
            "[012/00088] train_loss: 0.051\n",
            "[012/00113] train_loss: 0.068\n",
            "[013/00010] train_loss: 0.021\n",
            "[013/00035] train_loss: 0.057\n",
            "[013/00035] val_loss: 0.053, val_accuracy: 98.926%\n",
            "[013/00060] train_loss: 0.058\n",
            "[013/00085] train_loss: 0.050\n",
            "[013/00110] train_loss: 0.051\n",
            "[014/00007] train_loss: 0.024\n",
            "[014/00007] val_loss: 0.022, val_accuracy: 99.219%\n",
            "[014/00032] train_loss: 0.032\n",
            "[014/00057] train_loss: 0.025\n",
            "[014/00082] train_loss: 0.063\n",
            "[014/00107] train_loss: 0.055\n",
            "[014/00107] val_loss: 0.036, val_accuracy: 98.926%\n",
            "[015/00004] train_loss: 0.008\n",
            "[015/00029] train_loss: 0.035\n",
            "[015/00054] train_loss: 0.039\n",
            "[015/00079] train_loss: 0.048\n",
            "[015/00079] val_loss: 0.018, val_accuracy: 99.512%\n",
            "[015/00104] train_loss: 0.048\n",
            "[016/00001] train_loss: 0.005\n",
            "[016/00026] train_loss: 0.026\n",
            "[016/00051] train_loss: 0.042\n",
            "[016/00051] val_loss: 0.063, val_accuracy: 98.926%\n",
            "[016/00076] train_loss: 0.103\n",
            "[016/00101] train_loss: 0.064\n",
            "[016/00126] train_loss: 0.106\n",
            "[017/00023] train_loss: 0.079\n",
            "[017/00023] val_loss: 0.070, val_accuracy: 97.656%\n",
            "[017/00048] train_loss: 0.067\n",
            "[017/00073] train_loss: 0.064\n",
            "[017/00098] train_loss: 0.069\n",
            "[017/00123] train_loss: 0.067\n",
            "[017/00123] val_loss: 0.056, val_accuracy: 98.438%\n",
            "[018/00020] train_loss: 0.052\n",
            "[018/00045] train_loss: 0.076\n",
            "[018/00070] train_loss: 0.059\n",
            "[018/00095] train_loss: 0.057\n",
            "[018/00095] val_loss: 0.039, val_accuracy: 99.023%\n",
            "[018/00120] train_loss: 0.047\n",
            "[019/00017] train_loss: 0.030\n",
            "[019/00042] train_loss: 0.068\n",
            "[019/00067] train_loss: 0.038\n",
            "[019/00067] val_loss: 0.021, val_accuracy: 99.512%\n",
            "[019/00092] train_loss: 0.038\n",
            "[019/00117] train_loss: 0.033\n",
            "[020/00014] train_loss: 0.015\n",
            "[020/00039] train_loss: 0.020\n",
            "[020/00039] val_loss: 0.018, val_accuracy: 99.512%\n",
            "[020/00064] train_loss: 0.041\n",
            "[020/00089] train_loss: 0.088\n",
            "[020/00114] train_loss: 0.118\n",
            "[021/00011] train_loss: 0.034\n",
            "[021/00011] val_loss: 0.051, val_accuracy: 98.242%\n",
            "[021/00036] train_loss: 0.079\n",
            "[021/00061] train_loss: 0.054\n",
            "[021/00086] train_loss: 0.068\n",
            "[021/00111] train_loss: 0.072\n",
            "[021/00111] val_loss: 0.035, val_accuracy: 99.219%\n",
            "[022/00008] train_loss: 0.014\n",
            "[022/00033] train_loss: 0.057\n",
            "[022/00058] train_loss: 0.047\n",
            "[022/00083] train_loss: 0.066\n",
            "[022/00083] val_loss: 0.032, val_accuracy: 99.121%\n",
            "[022/00108] train_loss: 0.044\n",
            "[023/00005] train_loss: 0.003\n",
            "[023/00030] train_loss: 0.038\n",
            "[023/00055] train_loss: 0.041\n",
            "[023/00055] val_loss: 0.027, val_accuracy: 99.414%\n",
            "[023/00080] train_loss: 0.048\n",
            "[023/00105] train_loss: 0.048\n",
            "[024/00002] train_loss: 0.004\n",
            "[024/00027] train_loss: 0.032\n",
            "[024/00027] val_loss: 0.014, val_accuracy: 99.609%\n",
            "[024/00052] train_loss: 0.060\n",
            "[024/00077] train_loss: 0.020\n",
            "[024/00102] train_loss: 0.067\n",
            "[024/00127] train_loss: 0.047\n",
            "[024/00127] val_loss: 0.035, val_accuracy: 99.121%\n"
          ]
        }
      ],
      "source": [
        "from exercise_2 import simple_nn\n",
        "\n",
        "config={\n",
        "    'experiment_name': '2_2_simple_nn',\n",
        "    'device': 'cuda:0',  # change this to cpu if you do not have a GPU\n",
        "    'batch_size': 32,\n",
        "    'resume_ckpt': None,\n",
        "    'learning_rate': 0.001,\n",
        "    'max_epochs': 25,\n",
        "    'print_every_n': 25,\n",
        "    'validate_every_n': 100\n",
        "}\n",
        "\n",
        "simple_nn.main(config)  # should have val_accuracy > 99%"
      ]
    },
    {
      "attachments": {},
      "cell_type": "markdown",
      "metadata": {
        "id": "2JoK5GgZ_vOR"
      },
      "source": [
        "That's it! In the following parts, we will now move on to more complicated problems and more involved network models."
      ]
    },
    {
      "attachments": {},
      "cell_type": "markdown",
      "metadata": {
        "id": "3RDttVLQ_vOR"
      },
      "source": [
        "## 2.3. Shape Classification using 3DCNN\n",
        "\n",
        "### (a) Download and extract voxelized ShapeNet training data"
      ]
    },
    {
      "attachments": {},
      "cell_type": "markdown",
      "metadata": {
        "id": "BjccSxNR_vOR"
      },
      "source": [
        "Each folder in the `exercise_2/data/ShapeNetVox32` directory represents a shape category represented by a number, e.g. `02691156`.\n",
        "We provide the mapping between these numbers and the corresponding names in `exercise_2/data/shape_info.json`. Each of these shape category folders contains a number of shapes\n",
        "represented as voxels and stored in a `binvox` format.\n",
        "\n",
        "```\n",
        "# contents of exercise_2/data/ShapeNetVox32\n",
        "\n",
        "02691156/                                   # Shape category folder with all it's shapes\n",
        "    ├── 1a04e3eab45ca15dd86060f189eb133/    # A single shape of the category\n",
        "        ├── model.binvox                    # Voxel representation of the shape in binvox format\n",
        "    ├── 1a6ad7a24bb89733f412783097373bdc/   # Another shape of the category\n",
        "    ├── 1a9b552befd6306cc8f2d5fe7449af61/\n",
        "    ├── :                                   # And so on ...\n",
        "    ├── :\n",
        "02828884/                                   # Another shape category folder\n",
        "02933112/                                   # In total you should have 13 shape category folders\n",
        ":\n",
        ":\n",
        "```"
      ]
    },
    {
      "cell_type": "code",
      "execution_count": null,
      "metadata": {
        "colab": {
          "base_uri": "https://localhost:8080/"
        },
        "id": "A6rvUtdj_vOS",
        "outputId": "658e83c0-fdc3-4194-ee84-5aad220abea4"
      },
      "outputs": [
        {
          "name": "stdout",
          "output_type": "stream",
          "text": [
            "Downloading ...\n",
            "URL transformed to HTTPS due to an HSTS policy\n",
            "--2023-05-26 23:55:08--  https://cvgl.stanford.edu/data2/ShapeNetVox32.tgz\n",
            "Resolving cvgl.stanford.edu (cvgl.stanford.edu)... 171.64.64.64\n",
            "Connecting to cvgl.stanford.edu (cvgl.stanford.edu)|171.64.64.64|:443... connected.\n",
            "HTTP request sent, awaiting response... 200 OK\n",
            "Length: 22218020 (21M) [application/x-gzip]\n",
            "Saving to: ‘exercise_2/data/ShapeNetVox32.tgz’\n",
            "\n",
            "ShapeNetVox32.tgz   100%[===================>]  21.19M  29.7MB/s    in 0.7s    \n",
            "\n",
            "2023-05-26 23:55:09 (29.7 MB/s) - ‘exercise_2/data/ShapeNetVox32.tgz’ saved [22218020/22218020]\n",
            "\n",
            "Extracting ...\n",
            "Done.\n"
          ]
        }
      ],
      "source": [
        "print('Downloading ...')\n",
        "!wget http://cvgl.stanford.edu/data2/ShapeNetVox32.tgz -P exercise_2/data\n",
        "print('Extracting ...')\n",
        "!tar -xzf exercise_2/data/ShapeNetVox32.tgz -C exercise_2/data\n",
        "!rm exercise_2/data/ShapeNetVox32.tgz\n",
        "print('Done.')"
      ]
    },
    {
      "attachments": {},
      "cell_type": "markdown",
      "metadata": {
        "id": "_r0lohzZ_vOS",
        "pycharm": {
          "name": "#%% md\n"
        }
      },
      "source": [
        "### (b) Dataloading and exploring the data\n",
        "\n",
        "We already provide you with a training and validation split in files `train.txt` and `val.txt` in folder `exercise_2/data/splits/shapenet`.\n",
        "All the shapes in the list `train.txt` make up the training samples, while all the samples in `val.txt` constitute the validation set.\n",
        "Additionally, we provide `overfit.txt` as the set of shapes we'll use for overfitting / debugging later.\n",
        "\n",
        "Now let's write a Pytorch Dataset class that can load this data from the disk. Check out `ShapeNetVox` class in file `exercise_2/data/shapenet.py`\n",
        "for a partial implementation of such a dataset.\n",
        "\n",
        "The dataset class is instantiated with the type of the split, e.g. `train`, `val` or `overfit` and loads all\n",
        "shape names for that split as a list in its member variable `self.items`. The class also provides utility method `get_shape_voxels(shapenet_id)`\n",
        "which given a `shapenet_id` of the form `<shape_class>/<shape_identifier>` returns a 32x32x32 numpy array representing the voxels of the shape.\n",
        "The class also provides a list of all shape categories as the static member `ShapeNetVox.classes`.\n",
        "\n",
        "Your task is to fill out the missing implementations of functions `__getitem__` and `__len__` as specified by their docstrings.\n",
        "Once done, test your implementation below."
      ]
    },
    {
      "cell_type": "code",
      "execution_count": null,
      "metadata": {
        "colab": {
          "base_uri": "https://localhost:8080/"
        },
        "id": "6uCBh-f3YqRj",
        "outputId": "b54d3fbb-c7c0-4c7d-8047-18971267d83f"
      },
      "outputs": [
        {
          "name": "stdout",
          "output_type": "stream",
          "text": [
            "/content/drive/MyDrive/3DML/E2\n"
          ]
        }
      ],
      "source": [
        "%cd E2"
      ]
    },
    {
      "cell_type": "code",
      "execution_count": null,
      "metadata": {
        "id": "C6vpGBUB_vOS",
        "pycharm": {
          "name": "#%%\n"
        }
      },
      "outputs": [],
      "source": [
        "from exercise_2.data.shapenet import ShapeNetVox\n",
        "# Let's test your implementation"
      ]
    },
    {
      "cell_type": "code",
      "execution_count": null,
      "metadata": {
        "colab": {
          "base_uri": "https://localhost:8080/"
        },
        "id": "_nX-9MIX_vOS",
        "outputId": "dd0b04f3-652a-4ee0-8d8d-6dd01a8f3c30",
        "pycharm": {
          "name": "#%%\n"
        }
      },
      "outputs": [
        {
          "name": "stdout",
          "output_type": "stream",
          "text": [
            "Length of train set: 21705\n"
          ]
        }
      ],
      "source": [
        "# Create a dataset with train split\n",
        "trainset = ShapeNetVox('train')\n",
        "\n",
        "# Get length, which is a call to __len__ function\n",
        "print(f'Length of train set: {len(trainset)}')  # expected output: 21705"
      ]
    },
    {
      "cell_type": "code",
      "execution_count": null,
      "metadata": {
        "colab": {
          "base_uri": "https://localhost:8080/"
        },
        "id": "PBMqsL8J_vOT",
        "outputId": "0df77598-12a3-4813-e8c1-b66dab525cd3",
        "pycharm": {
          "name": "#%%\n"
        }
      },
      "outputs": [
        {
          "name": "stdout",
          "output_type": "stream",
          "text": [
            "Length of validation set: 5426\n"
          ]
        }
      ],
      "source": [
        "# Create a dataset with val split and print its length\n",
        "valset = ShapeNetVox('val')\n",
        "print(f'Length of validation set: {len(valset)}')  # expected output: 5426"
      ]
    },
    {
      "cell_type": "code",
      "execution_count": null,
      "metadata": {
        "colab": {
          "base_uri": "https://localhost:8080/",
          "height": 69,
          "referenced_widgets": [
            "5f00d8ec551c4a11afa08a8397c6d84f",
            "d2212e28fd7546d1bd39d2316d6d148c",
            "f2b7b831ca9448bc9b6164ef44c7d35b"
          ]
        },
        "id": "PgM_m9Hu_vOT",
        "outputId": "afb8e898-fcce-402e-8f27-3046c04f89cb",
        "pycharm": {
          "name": "#%%\n"
        }
      },
      "outputs": [
        {
          "name": "stdout",
          "output_type": "stream",
          "text": [
            "Name: 04379243/d120d47f8c9bc5028640bc5712201c4a\n",
            "Voxel Dimensions: (1, 32, 32, 32)\n",
            "Label: 10 | 04379243\n"
          ]
        },
        {
          "data": {
            "application/vnd.jupyter.widget-view+json": {
              "model_id": "5f00d8ec551c4a11afa08a8397c6d84f",
              "version_major": 2,
              "version_minor": 0
            },
            "text/plain": [
              "Output()"
            ]
          },
          "metadata": {},
          "output_type": "display_data"
        }
      ],
      "source": [
        "# Visualize some shapes\n",
        "from exercise_2.util.visualization import visualize_occupancy\n",
        "\n",
        "shape_data = trainset[0]\n",
        "print(f'Name: {shape_data[\"name\"]}')  # expected output: 04379243/d120d47f8c9bc5028640bc5712201c4a\n",
        "print(f'Voxel Dimensions: {shape_data[\"voxel\"].shape}')  # expected output: (1, 32, 32, 32)\n",
        "print(f'Label: {shape_data[\"label\"]} | {ShapeNetVox.classes[shape_data[\"label\"]]}')  # expected output: 10, 04379243\n",
        "\n",
        "visualize_occupancy(shape_data[\"voxel\"].squeeze(), flip_axes=True)"
      ]
    },
    {
      "cell_type": "code",
      "execution_count": null,
      "metadata": {
        "colab": {
          "base_uri": "https://localhost:8080/",
          "height": 69,
          "referenced_widgets": [
            "5e413d90d9fc4592afeeee17dec6b95f",
            "09928e45f8174090b1c01c594483c4b5",
            "ffb9752315bd42198f88e64ed828d42c"
          ]
        },
        "id": "cDIjCk1G_vOT",
        "outputId": "904002fa-ed87-4011-b60b-50efa7c3cdc1",
        "pycharm": {
          "name": "#%%\n"
        }
      },
      "outputs": [
        {
          "name": "stdout",
          "output_type": "stream",
          "text": [
            "Name: 03211117/edfc3a8ecc5b07e9feb0fb1dff94c98a\n",
            "Voxel Dimensions: (1, 32, 32, 32)\n",
            "Label: 5 | 03211117\n"
          ]
        },
        {
          "data": {
            "application/vnd.jupyter.widget-view+json": {
              "model_id": "5e413d90d9fc4592afeeee17dec6b95f",
              "version_major": 2,
              "version_minor": 0
            },
            "text/plain": [
              "Output()"
            ]
          },
          "metadata": {},
          "output_type": "display_data"
        }
      ],
      "source": [
        "shape_data = trainset[7]\n",
        "print(f'Name: {shape_data[\"name\"]}')  # expected output: 03211117/edfc3a8ecc5b07e9feb0fb1dff94c98a\n",
        "print(f'Voxel Dimensions: {shape_data[\"voxel\"].shape}')  # expected output: (1, 32, 32, 32)\n",
        "print(f'Label: {shape_data[\"label\"]} | {ShapeNetVox.classes[shape_data[\"label\"]]}')  # expected output: 5, 03211117\n",
        "\n",
        "visualize_occupancy(shape_data[\"voxel\"].squeeze(), flip_axes=True)"
      ]
    },
    {
      "attachments": {},
      "cell_type": "markdown",
      "metadata": {
        "id": "vLRMcEKr_vOT",
        "pycharm": {
          "name": "#%% md\n"
        }
      },
      "source": [
        "### (c) Defining the model\n",
        "\n",
        "We'll be using the 3DCNN model introduced by Qi et al.[1] to classify shapes. In particular, we'll be using\n",
        "the \"Auxiliary Training by Subvolume Supervision\" model presented in `Section 4.2` / `Fig. 3` of the paper.\n",
        "\n",
        "<img src=\"exercise_2/images/3dcnn.png\" alt=\"3dcnn_architecture\" style=\"width: 1024px;\"/>\n",
        "\n",
        "Fill in the model implementation of `MLPConv` and `ThreeDeeCNN`(which would use `MLPConv` layers) in the file `exercise_2/model/cnn3d.py`.\n",
        "Since the 3DCNN model predicts 9 labels for each samples (1 global + 8 local), we expect the output tensor to be of the shape `(B, 9, N_cls)` where `B` is the batch size, `N_cls` are number of classes (13 in our case).\n",
        "This means that the global and auxilary parts of the network output a score per class.\n",
        "\n",
        "Here are some basic sanity tests for your implemetation."
      ]
    },
    {
      "cell_type": "code",
      "execution_count": null,
      "metadata": {
        "colab": {
          "base_uri": "https://localhost:8080/"
        },
        "id": "a85SusRo_vOU",
        "outputId": "a77142f8-f4c2-46dc-ad1e-6959a1c91219",
        "pycharm": {
          "name": "#%%\n"
        }
      },
      "outputs": [
        {
          "name": "stdout",
          "output_type": "stream",
          "text": [
            "   | Name                 | Type        | Params  \n",
            "--------------------------------------------------------\n",
            "0  | backbone             | Sequential  | 3764464 \n",
            "1  | backbone.0           | MLPConv     | 15120   \n",
            "2  | backbone.0.model     | Sequential  | 15120   \n",
            "3  | backbone.0.model.0   | Conv3d      | 10416   \n",
            "4  | backbone.0.model.1   | ReLU        | 0       \n",
            "5  | backbone.0.model.2   | Conv3d      | 2352    \n",
            "6  | backbone.0.model.3   | ReLU        | 0       \n",
            "7  | backbone.0.model.4   | Conv3d      | 2352    \n",
            "8  | backbone.0.model.5   | ReLU        | 0       \n",
            "9  | backbone.1           | MLPConv     | 1011680 \n",
            "10 | backbone.1.model     | Sequential  | 1011680 \n",
            "11 | backbone.1.model.0   | Conv3d      | 960160  \n",
            "12 | backbone.1.model.1   | ReLU        | 0       \n",
            "13 | backbone.1.model.2   | Conv3d      | 25760   \n",
            "14 | backbone.1.model.3   | ReLU        | 0       \n",
            "15 | backbone.1.model.4   | Conv3d      | 25760   \n",
            "16 | backbone.1.model.5   | ReLU        | 0       \n",
            "17 | backbone.2           | MLPConv     | 2737664 \n",
            "18 | backbone.2.model     | Sequential  | 2737664 \n",
            "19 | backbone.2.model.0   | Conv3d      | 2212352 \n",
            "20 | backbone.2.model.1   | ReLU        | 0       \n",
            "21 | backbone.2.model.2   | Conv3d      | 262656  \n",
            "22 | backbone.2.model.3   | ReLU        | 0       \n",
            "23 | backbone.2.model.4   | Conv3d      | 262656  \n",
            "24 | backbone.2.model.5   | ReLU        | 0       \n",
            "25 | partial_predictors   | ModuleList  | 53352   \n",
            "26 | partial_predictors.0 | Linear      | 6669    \n",
            "27 | partial_predictors.1 | Linear      | 6669    \n",
            "28 | partial_predictors.2 | Linear      | 6669    \n",
            "29 | partial_predictors.3 | Linear      | 6669    \n",
            "30 | partial_predictors.4 | Linear      | 6669    \n",
            "31 | partial_predictors.5 | Linear      | 6669    \n",
            "32 | partial_predictors.6 | Linear      | 6669    \n",
            "33 | partial_predictors.7 | Linear      | 6669    \n",
            "34 | full_predictor       | Sequential  | 12613645\n",
            "35 | full_predictor.0     | Linear      | 8390656 \n",
            "36 | full_predictor.1     | Linear      | 4196352 \n",
            "37 | full_predictor.2     | Linear      | 26637   \n",
            "38 | TOTAL                | ThreeDeeCNN | 16431461\n",
            "Output tensor shape:  torch.Size([8, 9, 13])\n",
            "Number of traininable params: 16.43M\n"
          ]
        }
      ],
      "source": [
        "from exercise_2.model.cnn3d import ThreeDeeCNN\n",
        "from exercise_2.util.model import summarize_model\n",
        "\n",
        "cnn3d = ThreeDeeCNN(13)\n",
        "print(summarize_model(cnn3d))  # Expected: Rows 0-40 and TOTAL = 16431461\n",
        "\n",
        "input_tensor = torch.randn(8, 1, 32, 32, 32)\n",
        "predictions = cnn3d(input_tensor)\n",
        "\n",
        "print('Output tensor shape: ', predictions.shape)  # expected output: 8, 9, 13\n",
        "\n",
        "num_trainable_params = sum(p.numel() for p in cnn3d.parameters() if p.requires_grad) / 1e6\n",
        "print(f'Number of traininable params: {num_trainable_params:.2f}M')  # expected output: ~16M"
      ]
    },
    {
      "attachments": {},
      "cell_type": "markdown",
      "metadata": {
        "id": "KxVQszx4_vOU"
      },
      "source": [
        "### (d) Training Script\n",
        "\n",
        "Now that we have the dataset class and the model class, we just need a training script\n",
        "that trains the model using data from train dataset and evaluates the model's validation\n",
        "performance during training. A partial script is provided in `exercise_2/training/train_3dcnn.py`.\n",
        "Fill in the missing blocks to make the training work."
      ]
    },
    {
      "attachments": {},
      "cell_type": "markdown",
      "metadata": {
        "id": "YRJ8cZvK_vOU"
      },
      "source": [
        "### (e) Overfitting to a few samples\n",
        "Before training on entire data, it is usually a good idea to try training on a small subset of data,\n",
        "to see if your model can do forward and backward passes without any errors, your metrics work, and that you model can\n",
        "overfit with a very low error on this small set."
      ]
    },
    {
      "cell_type": "code",
      "execution_count": null,
      "metadata": {
        "colab": {
          "base_uri": "https://localhost:8080/"
        },
        "id": "8_UsA0gt_vOc",
        "outputId": "0f4dc31e-9d5f-4cc2-9c59-05a79cf72dba",
        "pycharm": {
          "name": "#%%\n"
        }
      },
      "outputs": [
        {
          "name": "stdout",
          "output_type": "stream",
          "text": [
            "Using device: cuda:0\n",
            "[024/00003] train_loss: 19.872\n",
            "[024/00003] val_loss: 50.205, val_accuracy: 10.069%\n",
            "[049/00003] train_loss: 10.105\n",
            "[049/00003] val_loss: 178.884, val_accuracy: 12.326%\n",
            "[074/00003] train_loss: 5.769\n",
            "[074/00003] val_loss: 363.603, val_accuracy: 6.771%\n",
            "[099/00003] train_loss: 4.759\n",
            "[099/00003] val_loss: 712.502, val_accuracy: 10.938%\n",
            "[124/00003] train_loss: 5.367\n",
            "[124/00003] val_loss: 403.970, val_accuracy: 5.035%\n",
            "[149/00003] train_loss: 3.747\n",
            "[149/00003] val_loss: 664.259, val_accuracy: 1.736%\n",
            "[174/00003] train_loss: 1.279\n",
            "[174/00003] val_loss: 2075.787, val_accuracy: 7.812%\n",
            "[199/00003] train_loss: 0.016\n",
            "[199/00003] val_loss: 2742.995, val_accuracy: 15.625%\n",
            "[224/00003] train_loss: 0.001\n",
            "[224/00003] val_loss: 3591.422, val_accuracy: 4.688%\n",
            "[249/00003] train_loss: 0.000\n",
            "[249/00003] val_loss: 3168.752, val_accuracy: 15.625%\n",
            "[274/00003] train_loss: 0.000\n",
            "[274/00003] val_loss: 3676.026, val_accuracy: 6.250%\n",
            "[299/00003] train_loss: 0.000\n",
            "[299/00003] val_loss: 3523.640, val_accuracy: 14.062%\n"
          ]
        }
      ],
      "source": [
        "from exercise_2.training import train_3dcnn\n",
        "config = {\n",
        "    'experiment_name': '2_3_3dcnn_overfitting',\n",
        "    'device': 'cuda:0',                      # change this to cpu if you do not have a GPU\n",
        "    'is_overfit': True,                      # True since we're doing overfitting\n",
        "    'batch_size': 16,\n",
        "    'resume_ckpt': None,\n",
        "    'learning_rate': 0.0005,\n",
        "    'max_epochs': 300,\n",
        "    'print_every_n': 100,\n",
        "    'validate_every_n': 100,\n",
        "}\n",
        "\n",
        "train_3dcnn.main(config)  # should be able to get ~0 loss, 100% accuracy"
      ]
    },
    {
      "attachments": {},
      "cell_type": "markdown",
      "metadata": {
        "id": "4036F4pU_vOd",
        "pycharm": {
          "name": "#%% md\n"
        }
      },
      "source": [
        "### (f) Training over the entire training set\n",
        "If the overfitting works, we can go ahead with training on the entire dataset."
      ]
    },
    {
      "cell_type": "code",
      "execution_count": null,
      "metadata": {
        "colab": {
          "base_uri": "https://localhost:8080/"
        },
        "id": "qudIJdud_vOd",
        "outputId": "4f0bb39e-21db-4016-aee9-a7030dd33f48",
        "pycharm": {
          "name": "#%%\n"
        }
      },
      "outputs": [
        {
          "name": "stdout",
          "output_type": "stream",
          "text": [
            "Using device: cuda:0\n",
            "[000/00099] train_loss: 21.122\n",
            "[000/00199] train_loss: 16.106\n",
            "[000/00249] val_loss: 11.921, val_accuracy: 56.080%\n",
            "[000/00299] train_loss: 11.083\n",
            "[000/00399] train_loss: 8.337\n",
            "[000/00499] train_loss: 7.025\n",
            "[000/00499] val_loss: 6.840, val_accuracy: 75.343%\n",
            "[000/00599] train_loss: 6.881\n",
            "[000/00699] train_loss: 5.952\n",
            "[000/00749] val_loss: 5.471, val_accuracy: 80.516%\n",
            "[000/00799] train_loss: 4.870\n",
            "[000/00899] train_loss: 4.395\n",
            "[000/00999] train_loss: 4.645\n",
            "[000/00999] val_loss: 4.375, val_accuracy: 85.082%\n",
            "[000/01099] train_loss: 4.144\n",
            "[000/01199] train_loss: 4.319\n",
            "[000/01249] val_loss: 4.070, val_accuracy: 85.670%\n",
            "[000/01299] train_loss: 4.210\n",
            "[001/00042] train_loss: 3.849\n",
            "[001/00142] train_loss: 3.861\n",
            "[001/00142] val_loss: 3.741, val_accuracy: 86.716%\n",
            "[001/00242] train_loss: 3.707\n",
            "[001/00342] train_loss: 4.417\n",
            "[001/00392] val_loss: 5.212, val_accuracy: 85.498%\n",
            "[001/00442] train_loss: 4.778\n",
            "[001/00542] train_loss: 4.145\n",
            "[001/00642] train_loss: 3.637\n",
            "[001/00642] val_loss: 3.552, val_accuracy: 87.638%\n",
            "[001/00742] train_loss: 3.351\n",
            "[001/00842] train_loss: 3.677\n",
            "[001/00892] val_loss: 3.412, val_accuracy: 88.139%\n",
            "[001/00942] train_loss: 3.220\n",
            "[001/01042] train_loss: 3.292\n",
            "[001/01142] train_loss: 3.398\n",
            "[001/01142] val_loss: 3.592, val_accuracy: 87.136%\n",
            "[001/01242] train_loss: 3.363\n",
            "[001/01342] train_loss: 2.891\n",
            "[002/00035] val_loss: 3.325, val_accuracy: 88.307%\n",
            "[002/00085] train_loss: 2.994\n",
            "[002/00185] train_loss: 2.958\n",
            "[002/00285] train_loss: 2.952\n",
            "[002/00285] val_loss: 3.207, val_accuracy: 88.569%\n",
            "[002/00385] train_loss: 2.599\n",
            "[002/00485] train_loss: 3.177\n",
            "[002/00535] val_loss: 3.210, val_accuracy: 88.506%\n",
            "[002/00585] train_loss: 3.190\n",
            "[002/00685] train_loss: 3.118\n",
            "[002/00785] train_loss: 2.907\n",
            "[002/00785] val_loss: 3.288, val_accuracy: 88.594%\n",
            "[002/00885] train_loss: 2.990\n",
            "[002/00985] train_loss: 4.680\n",
            "[002/01035] val_loss: 6.286, val_accuracy: 86.591%\n",
            "[002/01085] train_loss: 6.807\n",
            "[002/01185] train_loss: 4.694\n",
            "[002/01285] train_loss: 4.074\n",
            "[002/01285] val_loss: 3.611, val_accuracy: 88.625%\n",
            "[003/00028] train_loss: 2.820\n",
            "[003/00128] train_loss: 2.649\n",
            "[003/00178] val_loss: 3.574, val_accuracy: 87.748%\n",
            "[003/00228] train_loss: 2.806\n",
            "[003/00328] train_loss: 2.481\n",
            "[003/00428] train_loss: 2.716\n",
            "[003/00428] val_loss: 3.270, val_accuracy: 89.022%\n",
            "[003/00528] train_loss: 2.638\n",
            "[003/00628] train_loss: 2.788\n",
            "[003/00678] val_loss: 2.872, val_accuracy: 89.991%\n",
            "[003/00728] train_loss: 2.819\n",
            "[003/00828] train_loss: 2.460\n",
            "[003/00928] train_loss: 2.597\n",
            "[003/00928] val_loss: 2.764, val_accuracy: 90.273%\n",
            "[003/01028] train_loss: 2.673\n",
            "[003/01128] train_loss: 2.754\n",
            "[003/01178] val_loss: 2.720, val_accuracy: 90.386%\n",
            "[003/01228] train_loss: 2.768\n",
            "[003/01328] train_loss: 2.418\n",
            "[004/00071] train_loss: 2.243\n",
            "[004/00071] val_loss: 2.954, val_accuracy: 89.745%\n",
            "[004/00171] train_loss: 2.424\n",
            "[004/00271] train_loss: 2.522\n",
            "[004/00321] val_loss: 2.810, val_accuracy: 90.140%\n",
            "[004/00371] train_loss: 2.474\n",
            "[004/00471] train_loss: 2.591\n",
            "[004/00571] train_loss: 2.382\n",
            "[004/00571] val_loss: 3.175, val_accuracy: 89.968%\n",
            "[004/00671] train_loss: 2.704\n",
            "[004/00771] train_loss: 2.178\n",
            "[004/00821] val_loss: 2.802, val_accuracy: 89.950%\n",
            "[004/00871] train_loss: 2.236\n",
            "[004/00971] train_loss: 2.433\n",
            "[004/01071] train_loss: 2.458\n",
            "[004/01071] val_loss: 2.808, val_accuracy: 90.048%\n",
            "[004/01171] train_loss: 2.396\n",
            "[004/01271] train_loss: 2.239\n",
            "[004/01321] val_loss: 2.893, val_accuracy: 89.788%\n"
          ]
        }
      ],
      "source": [
        "from exercise_2.training import train_3dcnn\n",
        "config = {\n",
        "    'experiment_name': '2_3_3dcnn_generalization',\n",
        "    'device': 'cuda:0',                     # change this to cpu if you do not have a GPU\n",
        "    'is_overfit': False,\n",
        "    'batch_size': 16,\n",
        "    'resume_ckpt': None,\n",
        "    'learning_rate': 0.0005,\n",
        "    'max_epochs': 5,\n",
        "    'print_every_n': 100,\n",
        "    'validate_every_n': 250,\n",
        "}\n",
        "\n",
        "train_3dcnn.main(config)                    # should have accuracy > 88% on val set"
      ]
    },
    {
      "attachments": {},
      "cell_type": "markdown",
      "metadata": {
        "id": "peVa76pP_vOg"
      },
      "source": [
        "### (g) Inference using the trained model\n",
        "\n",
        "We would now like to make shape category inference given shapes from validation set.\n",
        "Implement the function `infer_single` of class `InferenceHandler3DCNN` in file `exercise_2/inference/infer_3dcnn.py` such that it returns the\n",
        "shape category name predicted by the model given its numpy voxel representation (32x32x32). Note that the network predicts a label in range [0, 12],\n",
        "which can be mapped to a class ID (e.g. 03001627) using `ShapeNetVox.classes` which can further be mapped to a category name (e.g. chair for 03001627) using\n",
        "`ShapeNetVox.class_name_mapping`."
      ]
    },
    {
      "cell_type": "code",
      "execution_count": null,
      "metadata": {
        "id": "LQeyplAr_vOh",
        "pycharm": {
          "name": "#%%\n"
        }
      },
      "outputs": [],
      "source": [
        "from exercise_2.inference.infer_3dcnn import InferenceHandler3DCNN\n",
        "\n",
        "# create a handler for inference using a trained checkpoint\n",
        "inferer = InferenceHandler3DCNN('exercise_2/runs/2_3_3dcnn_generalization/model_best.ckpt')"
      ]
    },
    {
      "cell_type": "code",
      "execution_count": null,
      "metadata": {
        "colab": {
          "base_uri": "https://localhost:8080/",
          "height": 17,
          "referenced_widgets": [
            "c18bd7505d03446fb8d62a18e373fdbb",
            "22c8ab4b315c44eea39379c5dd563ecb",
            "e28fc4dc2b9f4744800f46008414be3c"
          ]
        },
        "id": "Com9bAzh_vOh",
        "outputId": "4966c314-b89e-4afa-8c59-3def85b11929",
        "pycharm": {
          "name": "#%%\n"
        }
      },
      "outputs": [
        {
          "data": {
            "application/vnd.jupyter.widget-view+json": {
              "model_id": "c18bd7505d03446fb8d62a18e373fdbb",
              "version_major": 2,
              "version_minor": 0
            },
            "text/plain": [
              "Output()"
            ]
          },
          "metadata": {},
          "output_type": "display_data"
        }
      ],
      "source": [
        "# get shape voxels and visualize\n",
        "shape_voxels = ShapeNetVox.get_shape_voxels('03001627/f913501826c588e89753496ba23f2183')\n",
        "visualize_occupancy(shape_voxels, flip_axes=True)"
      ]
    },
    {
      "cell_type": "code",
      "execution_count": null,
      "metadata": {
        "colab": {
          "base_uri": "https://localhost:8080/"
        },
        "id": "z25COW4B_vOh",
        "outputId": "e35a9e6d-b483-4ee6-c17c-7162b80ae8e4",
        "pycharm": {
          "name": "#%%\n"
        }
      },
      "outputs": [
        {
          "name": "stdout",
          "output_type": "stream",
          "text": [
            "Predicted category: chair\n"
          ]
        }
      ],
      "source": [
        "# predict category\n",
        "print('Predicted category:', inferer.infer_single(shape_voxels))  # expected output: chair"
      ]
    },
    {
      "cell_type": "code",
      "execution_count": null,
      "metadata": {
        "colab": {
          "base_uri": "https://localhost:8080/",
          "height": 17,
          "referenced_widgets": [
            "1b0c8c9c9842424fb9338bffe1409e05",
            "9295d47a8c344e75b3f6e3966b82fb36",
            "fb4861ccd1a547b9ae9482d66d590c83"
          ]
        },
        "id": "0n3JBejg_vOh",
        "outputId": "2487e5d2-9edf-4ba2-ee16-9fbfd0d351ad",
        "pycharm": {
          "name": "#%%\n"
        }
      },
      "outputs": [
        {
          "data": {
            "application/vnd.jupyter.widget-view+json": {
              "model_id": "1b0c8c9c9842424fb9338bffe1409e05",
              "version_major": 2,
              "version_minor": 0
            },
            "text/plain": [
              "Output()"
            ]
          },
          "metadata": {},
          "output_type": "display_data"
        }
      ],
      "source": [
        "# get shape voxels and visualize\n",
        "shape_voxels = ShapeNetVox.get_shape_voxels('02691156/6af4383123972f2262b600da24e0965')\n",
        "visualize_occupancy(shape_voxels, flip_axes=True)"
      ]
    },
    {
      "cell_type": "code",
      "execution_count": null,
      "metadata": {
        "colab": {
          "base_uri": "https://localhost:8080/"
        },
        "id": "oug8RgaS_vOi",
        "outputId": "1f264d96-f27a-4a64-973e-ad3ae651d6f1",
        "pycharm": {
          "name": "#%%\n"
        }
      },
      "outputs": [
        {
          "name": "stdout",
          "output_type": "stream",
          "text": [
            "Predicted category: airplane\n"
          ]
        }
      ],
      "source": [
        "# predict category\n",
        "print('Predicted category:', inferer.infer_single(shape_voxels))"
      ]
    },
    {
      "cell_type": "code",
      "execution_count": null,
      "metadata": {
        "colab": {
          "base_uri": "https://localhost:8080/",
          "height": 17,
          "referenced_widgets": [
            "c2d9347710c44bc8b92d7d33304820b9",
            "8e48dc40126e4d219ef5e2ac0e35028d",
            "7886ca35f1bc450e83979f7da3cc8423"
          ]
        },
        "id": "JauLGqC2_vOi",
        "outputId": "e4c3a9ec-af44-4d53-dae3-3b4a53575d34",
        "pycharm": {
          "name": "#%%\n"
        }
      },
      "outputs": [
        {
          "data": {
            "application/vnd.jupyter.widget-view+json": {
              "model_id": "c2d9347710c44bc8b92d7d33304820b9",
              "version_major": 2,
              "version_minor": 0
            },
            "text/plain": [
              "Output()"
            ]
          },
          "metadata": {},
          "output_type": "display_data"
        }
      ],
      "source": [
        "# get shape voxels and visualize\n",
        "shape_voxels = ShapeNetVox.get_shape_voxels('04090263/eae96ddf483e896c805d3d8e378d155e')\n",
        "visualize_occupancy(shape_voxels, flip_axes=True)"
      ]
    },
    {
      "cell_type": "code",
      "execution_count": null,
      "metadata": {
        "colab": {
          "base_uri": "https://localhost:8080/"
        },
        "id": "8h7qgh4U_vOi",
        "outputId": "4bb44a31-21dd-45be-e6b9-549899bc9876",
        "pycharm": {
          "name": "#%%\n"
        }
      },
      "outputs": [
        {
          "name": "stdout",
          "output_type": "stream",
          "text": [
            "Predicted category: rifle\n"
          ]
        }
      ],
      "source": [
        "# predict category\n",
        "print('Predicted category:', inferer.infer_single(shape_voxels))"
      ]
    },
    {
      "attachments": {},
      "cell_type": "markdown",
      "metadata": {
        "id": "D3cmcLzm_vOi"
      },
      "source": [
        "Make sure you submit the trained model `exercise_2/runs/2_3_3dcnn_generalization/model_best.ckpt` in your zip\n",
        "so that we can evaluate it on the test set at our end."
      ]
    },
    {
      "cell_type": "code",
      "execution_count": null,
      "metadata": {
        "colab": {
          "base_uri": "https://localhost:8080/"
        },
        "id": "Ulggls5z4ZFE",
        "outputId": "04e00017-32db-4960-8531-aeae85d84d5b"
      },
      "outputs": [
        {
          "name": "stdout",
          "output_type": "stream",
          "text": [
            "exercise_2\t  gitignore\t  requirements.txt\n",
            "exercise_2.ipynb  pyproject.toml  toy_data.ply\n",
            "\u001b7\u001b[?47h\u001b[>4;2m\u001b[?1h\u001b=\u001b[?2004h\u001b[1;24r\u001b[?12h\u001b[?12l\u001b[22;2t\u001b[22;1t\u001b[29m\u001b[m\u001b[H\u001b[2J\u001b[?25l\u001b[24;1H\"gitignore\" 0L, 0C\u001b[2;1H▽\u001b[6n\u001b[2;1H  \u001b[1;1H\u001b[>c\u001b]10;?\u0007\u001b]11;?\u0007\u001b[2;1H\u001b[1m\u001b[34m~                                                                               \u001b[3;1H~                                                                               \u001b[4;1H~                                                                               \u001b[5;1H~                                                                               \u001b[6;1H~                                                                               \u001b[7;1H~                                                                               \u001b[8;1H~                                                                               \u001b[9;1H~                                                                               \u001b[10;1H~                                                                               \u001b[11;1H~                                                                               \u001b[12;1H~                                                                               \u001b[13;1H~                                                                               \u001b[14;1H~                                                                               \u001b[15;1H~                                                                               \u001b[16;1H~                                                                               \u001b[17;1H~                                                                               \u001b[18;1H~                                                                               \u001b[19;1H~                                                                               \u001b[20;1H~                                                                               \u001b[21;1H~                                                                               \u001b[22;1H~                                                                               \u001b[23;1H~                                                                               \u001b[m\u001b[24;63H0,0-1\u001b[9CAll\u001b[1;1H\u001b[?25h\u001b[?25l\u001b[24;1H\u001b[1m-- INSERT --\u001b[m\u001b[24;13H\u001b[K\u001b[24;63H0,1\u001b[11CAll\u001b[1;1HhapeNetVox32/\u001b[2;1H\u001b[K\u001b[24;63H2\u001b[2;1H\u001b[?25h\u001b[24;1H\u001b[?2004l\u001b[?1l\u001b>\u001b[>4;m\u001b[2J\u001b[?47l\u001b8Vim: Caught deadly signal TERM\n",
            "Vim: preserving files...\n",
            "Vim: Finished.\n",
            "\u001b[24;1H\u001b[23;2t\u001b[23;1t^C\n"
          ]
        }
      ],
      "source": [
        "!ls\n",
        "!vi gitignore"
      ]
    },
    {
      "cell_type": "code",
      "execution_count": null,
      "metadata": {
        "colab": {
          "base_uri": "https://localhost:8080/"
        },
        "id": "cTFhDUFv3s1v",
        "outputId": "a3742d66-34ff-46b1-f70d-da4121ebe61c"
      },
      "outputs": [
        {
          "name": "stdout",
          "output_type": "stream",
          "text": [
            "[ys-e2.1 27d90e5] finalizes shapenet model\n",
            " 8 files changed, 58 insertions(+), 28 deletions(-)\n",
            " create mode 100644 E2/exercise_2/.gitignore\n",
            " create mode 100644 E2/exercise_2/runs/2_3_3dcnn_generalization/model_best.ckpt\n",
            " create mode 100644 E2/exercise_2/runs/2_3_3dcnn_overfitting/model_best.ckpt\n",
            " create mode 100644 E2/gitignore\n",
            "Enumerating objects: 30, done.\n",
            "Counting objects: 100% (30/30), done.\n",
            "Delta compression using up to 2 threads\n",
            "Compressing objects: 100% (15/15), done.\n",
            "Writing objects: 100% (18/18), 116.01 MiB | 10.97 MiB/s, done.\n",
            "Total 18 (delta 9), reused 0 (delta 0)\n",
            "remote: Resolving deltas: 100% (9/9), completed with 9 local objects.\u001b[K\n",
            "remote: \u001b[1;33mwarning\u001b[m: See https://gh.io/lfs for more information.\u001b[K\n",
            "remote: \u001b[1;33mwarning\u001b[m: File E2/exercise_2/runs/2_3_3dcnn_generalization/model_best.ckpt is 62.69 MB; this is larger than GitHub's recommended maximum file size of 50.00 MB\u001b[K\n",
            "remote: \u001b[1;33mwarning\u001b[m: File E2/exercise_2/runs/2_3_3dcnn_overfitting/model_best.ckpt is 62.69 MB; this is larger than GitHub's recommended maximum file size of 50.00 MB\u001b[K\n",
            "remote: \u001b[1;33mwarning\u001b[m: GH001: Large files detected. You may want to try Git Large File Storage - https://git-lfs.github.com.\u001b[K\n",
            "remote: \n",
            "remote: Create a pull request for 'ys-e2.1' on GitHub by visiting:\u001b[K\n",
            "remote:      https://github.com/Streakfull/3DML/pull/new/ys-e2.1\u001b[K\n",
            "remote: \n",
            "To https://github.com/Streakfull/3DML\n",
            " * [new branch]      ys-e2.1 -> ys-e2.1\n"
          ]
        }
      ],
      "source": [
        "# !git status\n",
        "# !git checkout -b \"ys-e2.1\"\n",
        "!git add .\n",
        "!git config --global user.email \"youssef.ahmedyoussef98@gmail.com\"\n",
        "!git config --global user.name \"Streakfull\"\n",
        "!git commit -m \"finalizes shapenet model\"\n",
        "!git push origin ys-e2.1"
      ]
    },
    {
      "attachments": {},
      "cell_type": "markdown",
      "metadata": {
        "id": "2isZAo3F_vOj",
        "pycharm": {
          "name": "#%% md\n"
        }
      },
      "source": [
        "## 2.4. Shape Classification using PointNet"
      ]
    },
    {
      "attachments": {},
      "cell_type": "markdown",
      "metadata": {
        "id": "k6ihVrxa_vOj"
      },
      "source": [
        "The approach you used above works very well when there is voxelized data available. However, many applications require that points are used instead and voxelizing them every time is cumbersome and might lead to unexpected artifacts.\n",
        "\n",
        "This is where PointNet [2] is very useful: It directly takes in a set of points and can perform both classification and semantic segmentation without the need for any gridification or other form of conversion.\n",
        "\n",
        "You already heard a lot about the approach and architecture in the lecture; here, our goal is to create an implementation of it from scratch and try it out on some ShapeNet data."
      ]
    },
    {
      "attachments": {},
      "cell_type": "markdown",
      "metadata": {
        "id": "4oIYMDy9_vOj"
      },
      "source": [
        "### (a) Download and prepare the ShapeNetPointClouds dataset\n",
        "We generated point clouds from ShapeNet meshes via uniform sampling. Each point cloud contains 1024 xyz points.\n",
        "\n",
        "The data layout is basically the same as in 2.3.:\n",
        "Each folder in the `exercise_2/data/ShapeNetPointClouds` directory contains one shape category represented by a number, e.g. `02691156`.\n",
        "We provide the mapping between these numbers and the corresponding names in `exercise_2/data/shape_info.json`. Each of these shape category folders contains a number of shapes in obj format.\n",
        "\n",
        "```\n",
        "# contents of exercise_2/data/ShapeNetPointClouds\n",
        "\n",
        "02691156/                                      # Shape category folder with all its shapes\n",
        "    ├── 1a04e3eab45ca15dd86060f189eb133.obj    # A single shape of the category\n",
        "    ├── 1a6ad7a24bb89733f412783097373bdc.obj   # Another shape of the category\n",
        "    ├── :                                      # And so on ...\n",
        "    ├── :\n",
        "02828884/                                      # Another shape category folder\n",
        "02933112/                                      # In total you should have 13 shape category folders\n",
        ":\n",
        ":\n",
        "```"
      ]
    },
    {
      "cell_type": "code",
      "execution_count": null,
      "metadata": {
        "colab": {
          "base_uri": "https://localhost:8080/"
        },
        "id": "yBWmOC-8_vOj",
        "outputId": "7a2e4bd1-b1b1-4693-8e15-f0441de92dd7",
        "scrolled": true
      },
      "outputs": [
        {
          "name": "stdout",
          "output_type": "stream",
          "text": [
            "Downloading ...\n",
            "--2023-05-27 01:53:43--  http://kaldir.vc.in.tum.de/cdiller/ShapeNetPointClouds.zip\n",
            "Resolving kaldir.vc.in.tum.de (kaldir.vc.in.tum.de)... 131.159.98.128\n",
            "Connecting to kaldir.vc.in.tum.de (kaldir.vc.in.tum.de)|131.159.98.128|:80... connected.\n",
            "HTTP request sent, awaiting response... 301 Moved Permanently\n",
            "Location: https://kaldir.vc.in.tum.de:443/cdiller/ShapeNetPointClouds.zip [following]\n",
            "--2023-05-27 01:53:44--  https://kaldir.vc.in.tum.de/cdiller/ShapeNetPointClouds.zip\n",
            "Connecting to kaldir.vc.in.tum.de (kaldir.vc.in.tum.de)|131.159.98.128|:443... connected.\n",
            "HTTP request sent, awaiting response... 200 OK\n",
            "Length: 453765424 (433M) [application/zip]\n",
            "Saving to: ‘exercise_2/data/ShapeNetPointClouds.zip’\n",
            "\n",
            "ShapeNetPointClouds 100%[===================>] 432.74M  17.9MB/s    in 23s     \n",
            "\n",
            "2023-05-27 01:54:07 (19.1 MB/s) - ‘exercise_2/data/ShapeNetPointClouds.zip’ saved [453765424/453765424]\n",
            "\n",
            "Extracting ...\n",
            "Done.\n"
          ]
        }
      ],
      "source": [
        "print('Downloading ...')\n",
        "!wget http://kaldir.vc.in.tum.de/cdiller/ShapeNetPointClouds.zip -P exercise_2/data\n",
        "print('Extracting ...')\n",
        "!unzip -q exercise_2/data/ShapeNetPointClouds.zip -d exercise_2/data\n",
        "!rm exercise_2/data/ShapeNetPointClouds.zip\n",
        "print('Done.')"
      ]
    },
    {
      "attachments": {},
      "cell_type": "markdown",
      "metadata": {
        "id": "Z6soKa44_vOk"
      },
      "source": [
        "### (b) Dataset implementation\n",
        "\n",
        "You can use the same split setup as in 2.3: `overfit.txt` for overfitting, `train.txt` for the train samples, and `val.txt` for the val samples in folder `exercise_2/data/splits/shapenet`.\n",
        "\n",
        "The dataset implementation will therefore be very similar to the one from 2.3: Fill out the missing implementations of functions `__getitem__` and `__len__` in class `ShapeNetPoints` in `exercise_2/data/shapenet.py`.\n",
        "\n",
        "The major difference is how the actual data is loaded: We don't have regular voxel grids anymore and instead load arrays of 1024 points each. In `__getitem__`, we now return 'points' instead of 'voxel' and for loading the point clouds, we use `get_point_cloud` instead of `get_shape_voxels`. You can load the point cloud data either by hand (since it is in the same obj format you used in exercise 1) or simply use `trimesh.load`. The point clouds you return from `__getitem__` should have shape 3 x 1024 and datatype `np.float32`.\n",
        "\n",
        "Otherwise, the implementation is very much the same as in 2.3. Once done, test your implementation below."
      ]
    },
    {
      "cell_type": "code",
      "execution_count": 4,
      "metadata": {
        "colab": {
          "base_uri": "https://localhost:8080/"
        },
        "id": "f1sDlICl_vOk",
        "outputId": "a62a5582-356d-43b4-ab4c-f3d246e992e4"
      },
      "outputs": [
        {
          "name": "stdout",
          "output_type": "stream",
          "text": [
            "Length of train set: 21705\n",
            "Length of val set: 5426\n",
            "Length of overfit set: 64\n"
          ]
        }
      ],
      "source": [
        "from exercise_2.data.shapenet import ShapeNetPoints\n",
        "\n",
        "# Create a dataset with train split\n",
        "train_dataset = ShapeNetPoints('train')\n",
        "val_dataset = ShapeNetPoints('val')\n",
        "overfit_dataset = ShapeNetPoints('overfit')\n",
        "\n",
        "# Get length, which is a call to __len__ function\n",
        "print(f'Length of train set: {len(train_dataset)}')  # expected output: 21705\n",
        "# Get length, which is a call to __len__ function\n",
        "print(f'Length of val set: {len(val_dataset)}')  # expected output: 5426\n",
        "# Get length, which is a call to __len__ function\n",
        "print(f'Length of overfit set: {len(overfit_dataset)}')  # expected output: 64"
      ]
    },
    {
      "cell_type": "code",
      "execution_count": 6,
      "metadata": {
        "colab": {
          "base_uri": "https://localhost:8080/",
          "height": 124,
          "referenced_widgets": [
            "fbb028fdc8064130841bd58719c8592c",
            "126c417007ae4d3181c07986ea974346",
            "d6efd42540a44b2996edfbb639e1b47f"
          ]
        },
        "id": "sv8cW0LN_vOk",
        "outputId": "e5dd5a86-db19-4dfa-9aec-4eb472fe5476"
      },
      "outputs": [
        {
          "name": "stdout",
          "output_type": "stream",
          "text": [
            "Name: 04090263/a32acd243e91fb32a59327b8ab7c01fd\n",
            "Voxel Dimensions: (3, 1024)\n",
            "Label: 8 | 04090263 | rifle\n"
          ]
        },
        {
          "name": "stderr",
          "output_type": "stream",
          "text": [
            "c:\\Python310\\lib\\site-packages\\traittypes\\traittypes.py:97: UserWarning: Given trait value dtype \"float32\" does not match required type \"float32\". A coerced copy has been created.\n",
            "  warnings.warn(\n"
          ]
        },
        {
          "data": {
            "application/vnd.jupyter.widget-view+json": {
              "model_id": "1e8666a8b0f746b08b720ee9f43bc515",
              "version_major": 2,
              "version_minor": 0
            },
            "text/plain": [
              "Output()"
            ]
          },
          "metadata": {},
          "output_type": "display_data"
        }
      ],
      "source": [
        "# Visualize some shapes\n",
        "from exercise_2.util.visualization import visualize_pointcloud\n",
        "\n",
        "shape_data = train_dataset[np.random.randint(len(train_dataset))]\n",
        "print(f'Name: {shape_data[\"name\"]}')  # expected output: 04379243/d120d47f8c9bc5028640bc5712201c4a\n",
        "print(f'Voxel Dimensions: {shape_data[\"points\"].shape}')  # expected output: (3, 1024)\n",
        "print(f'Label: {shape_data[\"label\"]} | {ShapeNetPoints.classes[shape_data[\"label\"]]} | {ShapeNetPoints.class_name_mapping[ShapeNetPoints.classes[shape_data[\"label\"]]]}')  # expected output: 10, 04379243\n",
        "\n",
        "visualize_pointcloud(shape_data[\"points\"].T, point_size=0.025, flip_axes=True)"
      ]
    },
    {
      "attachments": {},
      "cell_type": "markdown",
      "metadata": {
        "id": "Wt3dGzfS_vOk"
      },
      "source": [
        "### (c) Defining the model\n",
        "\n",
        "The model architecture of PointNet was discussed in the lecture and is visualized below:\n",
        "<img src=\"exercise_2/images/pointnet.png\" alt=\"pointnet_architecture\" style=\"width: 800px;\"/>\n",
        "\n",
        "Some hints for the actual implementation:\n",
        "1. We use conv1d layers with kernel size 1 for all \"shared\" mlps to expand the feature channel dimension, e.g. when the input is of shape batch_size x 3 x 1024 and we apply conv1d(in_features=3, out_features=64), then we get to shape batch_size x 64 x 1024\n",
        "2. The mlps in the classification network after the max pooling operation are implemented using Linear layers\n",
        "3. The numbers in parenthesis after mlp() in the visualization above descibe the number of layers with their out_features dimension. Note though that the first mlp from nx3 to nx64 is expressed as two layers in the original tensorflow code but can be implemented as a single conv1d layer going from 3 to 64 features in the pytorch version.\n",
        "4. We define all layers up to and including the max pooling operation as the `PointNetEncoder`. The architecture of the model head depends on the task we are trying to solve: Either classification (`PointNetClassification`, used in this part of the exercise) or segmentation (`PointNetSegmentation`, used in 2.5).\n",
        "5. ReLU and Batch Norms are applied after each layer, except after the last classification layer. In the last layer before the max operation, we only apply Batch Norm but no ReLU.\n",
        "6. Dropout is applied for classification only after the second Linear layer, before the Batch Norm.\n",
        "7. The TNets are basically small PointNets.\n",
        "\n",
        "Implement the missing parts of the PointNet architecture in `TNet`, `PointNetEncoder`, and `PointNetClassification`, as indicated by the TODOs. All of them are located in `exercise_2/models/pointnet.py`. Use the following code cell to sanity check your implementation:"
      ]
    },
    {
      "cell_type": "code",
      "execution_count": 27,
      "metadata": {
        "id": "0BRJmmM-_vOl"
      },
      "outputs": [
        {
          "name": "stdout",
          "output_type": "stream",
          "text": [
            "   | Name                                     | Type                   | Params \n",
            "--------------------------------------------------------------------------------------\n",
            "0  | encoder                                  | PointNetEncoder        | 2803529\n",
            "1  | encoder.input_transform_net              | TNet                   | 803081 \n",
            "2  | encoder.input_transform_net.conv         | Sequential             | 143104 \n",
            "3  | encoder.input_transform_net.conv.0       | Conv1d                 | 256    \n",
            "4  | encoder.input_transform_net.conv.1       | BatchNorm1d            | 128    \n",
            "5  | encoder.input_transform_net.conv.2       | ReLU                   | 0      \n",
            "6  | encoder.input_transform_net.conv.3       | Conv1d                 | 8320   \n",
            "7  | encoder.input_transform_net.conv.4       | BatchNorm1d            | 256    \n",
            "8  | encoder.input_transform_net.conv.5       | ReLU                   | 0      \n",
            "9  | encoder.input_transform_net.conv.6       | Conv1d                 | 132096 \n",
            "10 | encoder.input_transform_net.conv.7       | BatchNorm1d            | 2048   \n",
            "11 | encoder.input_transform_net.classify     | Sequential             | 659977 \n",
            "12 | encoder.input_transform_net.classify.0   | Linear                 | 524800 \n",
            "13 | encoder.input_transform_net.classify.1   | BatchNorm1d            | 1024   \n",
            "14 | encoder.input_transform_net.classify.2   | ReLU                   | 0      \n",
            "15 | encoder.input_transform_net.classify.3   | Linear                 | 131328 \n",
            "16 | encoder.input_transform_net.classify.4   | BatchNorm1d            | 512    \n",
            "17 | encoder.input_transform_net.classify.5   | ReLU                   | 0      \n",
            "18 | encoder.input_transform_net.classify.6   | Linear                 | 2313   \n",
            "19 | encoder.feature_transform_net            | TNet                   | 1857344\n",
            "20 | encoder.feature_transform_net.conv       | Sequential             | 147008 \n",
            "21 | encoder.feature_transform_net.conv.0     | Conv1d                 | 4160   \n",
            "22 | encoder.feature_transform_net.conv.1     | BatchNorm1d            | 128    \n",
            "23 | encoder.feature_transform_net.conv.2     | ReLU                   | 0      \n",
            "24 | encoder.feature_transform_net.conv.3     | Conv1d                 | 8320   \n",
            "25 | encoder.feature_transform_net.conv.4     | BatchNorm1d            | 256    \n",
            "26 | encoder.feature_transform_net.conv.5     | ReLU                   | 0      \n",
            "27 | encoder.feature_transform_net.conv.6     | Conv1d                 | 132096 \n",
            "28 | encoder.feature_transform_net.conv.7     | BatchNorm1d            | 2048   \n",
            "29 | encoder.feature_transform_net.classify   | Sequential             | 1710336\n",
            "30 | encoder.feature_transform_net.classify.0 | Linear                 | 524800 \n",
            "31 | encoder.feature_transform_net.classify.1 | BatchNorm1d            | 1024   \n",
            "32 | encoder.feature_transform_net.classify.2 | ReLU                   | 0      \n",
            "33 | encoder.feature_transform_net.classify.3 | Linear                 | 131328 \n",
            "34 | encoder.feature_transform_net.classify.4 | BatchNorm1d            | 512    \n",
            "35 | encoder.feature_transform_net.classify.5 | ReLU                   | 0      \n",
            "36 | encoder.feature_transform_net.classify.6 | Linear                 | 1052672\n",
            "37 | encoder.layer1                           | Sequential             | 384    \n",
            "38 | encoder.layer1.0                         | Conv1d                 | 256    \n",
            "39 | encoder.layer1.1                         | BatchNorm1d            | 128    \n",
            "40 | encoder.layer1.2                         | ReLU                   | 0      \n",
            "41 | encoder.layer2                           | Sequential             | 8576   \n",
            "42 | encoder.layer2.0                         | Conv1d                 | 8320   \n",
            "43 | encoder.layer2.1                         | BatchNorm1d            | 256    \n",
            "44 | encoder.layer2.2                         | ReLU                   | 0      \n",
            "45 | encoder.layer3                           | Sequential             | 134144 \n",
            "46 | encoder.layer3.0                         | Conv1d                 | 132096 \n",
            "47 | encoder.layer3.1                         | BatchNorm1d            | 2048   \n",
            "48 | classify                                 | Sequential             | 661005 \n",
            "49 | classify.0                               | Linear                 | 524800 \n",
            "50 | classify.1                               | BatchNorm1d            | 1024   \n",
            "51 | classify.2                               | ReLU                   | 0      \n",
            "52 | classify.3                               | Linear                 | 131328 \n",
            "53 | classify.4                               | Dropout                | 0      \n",
            "54 | classify.5                               | BatchNorm1d            | 512    \n",
            "55 | classify.6                               | ReLU                   | 0      \n",
            "56 | classify.7                               | Linear                 | 3341   \n",
            "57 | TOTAL                                    | PointNetClassification | 3464534\n",
            "Output tensor shape:  torch.Size([8, 13])\n",
            "Number of traininable params: 3.46M\n"
          ]
        }
      ],
      "source": [
        "from exercise_2.model.pointnet import PointNetClassification\n",
        "from exercise_2.util.model import summarize_model\n",
        "\n",
        "pointnet = PointNetClassification(13)\n",
        "print(summarize_model(pointnet))  # Expected: Rows 0-40 and TOTAL = 3464534\n",
        "\n",
        "input_tensor = torch.randn(8, 3, 1024)\n",
        "predictions = pointnet(input_tensor)\n",
        "\n",
        "print('Output tensor shape: ', predictions.shape)  # Expected: 8, 13\n",
        "num_trainable_params = sum(p.numel() for p in pointnet.parameters() if p.requires_grad) / 1e6\n",
        "print(f'Number of traininable params: {num_trainable_params:.2f}M')  # Expected: ~3M"
      ]
    },
    {
      "attachments": {},
      "cell_type": "markdown",
      "metadata": {
        "id": "ipBTWKFF_vOl"
      },
      "source": [
        "### (d) Training Script and Overfitting\n",
        "\n",
        "You can now go to the train script in `train_pointnet_classification.py` and fill in the missing pieces as in 2.3. Then, verify that your training works by overfitting to a few samples below."
      ]
    },
    {
      "cell_type": "code",
      "execution_count": 37,
      "metadata": {
        "id": "j_Wp2v8E_vOl"
      },
      "outputs": [
        {
          "name": "stdout",
          "output_type": "stream",
          "text": [
            "Using CPU\n"
          ]
        },
        {
          "name": "stderr",
          "output_type": "stream",
          "text": [
            " 16%|█▋        | 49/300 [06:22<31:32,  7.54s/it]"
          ]
        },
        {
          "name": "stdout",
          "output_type": "stream",
          "text": [
            "[049/00001] train_loss: 0.672\n",
            "> \u001b[1;32mc:\\users\\youssef\\repos\\tum\\ss23\\3dml\\exercises\\e2\\exercise_2\\training\\train_pointnet_classification.py\u001b[0m(60)\u001b[0;36mtrain\u001b[1;34m()\u001b[0m\n",
            "\u001b[1;32m     58 \u001b[1;33m                \u001b[0mtotal\u001b[0m\u001b[1;33m+=\u001b[0m\u001b[0mprediction_val\u001b[0m\u001b[1;33m.\u001b[0m\u001b[0mshape\u001b[0m\u001b[1;33m[\u001b[0m\u001b[1;36m0\u001b[0m\u001b[1;33m]\u001b[0m\u001b[1;33m\u001b[0m\u001b[1;33m\u001b[0m\u001b[0m\n",
            "\u001b[0m\u001b[1;32m     59 \u001b[1;33m                \u001b[1;32mimport\u001b[0m \u001b[0mpdb\u001b[0m\u001b[1;33m;\u001b[0m\u001b[0mpdb\u001b[0m\u001b[1;33m.\u001b[0m\u001b[0mset_trace\u001b[0m\u001b[1;33m(\u001b[0m\u001b[1;33m)\u001b[0m\u001b[1;33m\u001b[0m\u001b[1;33m\u001b[0m\u001b[0m\n",
            "\u001b[0m\u001b[1;32m---> 60 \u001b[1;33m                \u001b[0mcorrect\u001b[0m\u001b[1;33m+=\u001b[0m\u001b[1;33m(\u001b[0m\u001b[0mprediction\u001b[0m\u001b[1;33m==\u001b[0m\u001b[0mbatch_val\u001b[0m\u001b[1;33m[\u001b[0m\u001b[1;34m\"label\"\u001b[0m\u001b[1;33m]\u001b[0m\u001b[1;33m)\u001b[0m\u001b[1;33m.\u001b[0m\u001b[0msum\u001b[0m\u001b[1;33m(\u001b[0m\u001b[1;33m)\u001b[0m\u001b[1;33m.\u001b[0m\u001b[0mitem\u001b[0m\u001b[1;33m(\u001b[0m\u001b[1;33m)\u001b[0m\u001b[1;33m\u001b[0m\u001b[1;33m\u001b[0m\u001b[0m\n",
            "\u001b[0m\u001b[1;32m     61 \u001b[1;33m                \u001b[0maccuracy\u001b[0m \u001b[1;33m=\u001b[0m \u001b[1;36m100\u001b[0m\u001b[1;33m*\u001b[0m\u001b[0mcorrect\u001b[0m\u001b[1;33m/\u001b[0m\u001b[0mtotal\u001b[0m\u001b[1;33m\u001b[0m\u001b[1;33m\u001b[0m\u001b[0m\n",
            "\u001b[0m\u001b[1;32m     62 \u001b[1;33m                \u001b[0mprint\u001b[0m\u001b[1;33m(\u001b[0m\u001b[1;34mf'[{epoch:03d}/{i:05d}] val_loss: {loss_total_val / len(valloader):.3f}, val_accuracy: {accuracy:.3f}%'\u001b[0m\u001b[1;33m)\u001b[0m\u001b[1;33m\u001b[0m\u001b[1;33m\u001b[0m\u001b[0m\n",
            "\u001b[0m\n"
          ]
        },
        {
          "name": "stderr",
          "output_type": "stream",
          "text": [
            " 16%|█▋        | 49/300 [07:09<36:38,  8.76s/it]\n"
          ]
        }
      ],
      "source": [
        "from exercise_2.training import train_pointnet_classification\n",
        "config = {\n",
        "    'experiment_name': '2_4_pointnet_classification_overfitting',\n",
        "    'device': 'cuda:0',                   # change this to cpu if you do not have a GPU\n",
        "    'is_overfit': True,                   # True since we're doing overfitting\n",
        "    'batch_size': 32,\n",
        "    'resume_ckpt': None,\n",
        "    'learning_rate': 0.001,\n",
        "    'max_epochs': 300,\n",
        "    'print_every_n': 100,\n",
        "    'validate_every_n': 100,\n",
        "}\n",
        "\n",
        "train_pointnet_classification.main(config)  # should be able to get ~0 loss, 100% accuracy"
      ]
    },
    {
      "attachments": {},
      "cell_type": "markdown",
      "metadata": {
        "id": "SOLSUnCd_vOl"
      },
      "source": [
        "### (e) Training over the entire training set\n",
        "\n",
        "Once your overfitting completes successfully, you can move on to training on the entire dataset again."
      ]
    },
    {
      "cell_type": "code",
      "execution_count": null,
      "metadata": {
        "id": "j7QQuzdk_vOm",
        "scrolled": true
      },
      "outputs": [],
      "source": [
        "from exercise_2.training import train_pointnet_classification\n",
        "config = {\n",
        "    'experiment_name': '2_4_pointnet_classification_generalization',\n",
        "    'device': 'cuda:0',                    # change this to cpu if you do not have a GPU\n",
        "    'is_overfit': False,\n",
        "    'batch_size': 32,\n",
        "    'resume_ckpt': None,\n",
        "    'learning_rate': 0.001,\n",
        "    'max_epochs': 10,\n",
        "    'print_every_n': 100,\n",
        "    'validate_every_n': 250,\n",
        "}\n",
        "\n",
        "train_pointnet_classification.main(config)  # Should be able to get > 92% accuracy on the val set"
      ]
    },
    {
      "attachments": {},
      "cell_type": "markdown",
      "metadata": {
        "id": "pFcWncBQ_vOm"
      },
      "source": [
        "### (f) Inference using the trained model"
      ]
    },
    {
      "cell_type": "code",
      "execution_count": null,
      "metadata": {
        "id": "ILcjXT7T_vOm"
      },
      "outputs": [],
      "source": [
        "from exercise_2.inference.infer_pointnet_classification import InferenceHandlerPointNetClassification\n",
        "\n",
        "\n",
        "# create a handler for inference using a trained checkpoint\n",
        "inferer = InferenceHandlerPointNetClassification('exercise_2/runs/2_4_pointnet_classification_generalization/model_best.ckpt')"
      ]
    },
    {
      "cell_type": "code",
      "execution_count": null,
      "metadata": {
        "id": "c6IXQre1_vOm"
      },
      "outputs": [],
      "source": [
        "# get shape point cloud and visualize\n",
        "shape_points = ShapeNetPoints.get_point_cloud('03001627/f913501826c588e89753496ba23f2183')\n",
        "print('Predicted category:', inferer.infer_single(shape_points))  # expected output: chair\n",
        "visualize_pointcloud(shape_points.T, point_size=0.025, flip_axes=True)"
      ]
    },
    {
      "cell_type": "code",
      "execution_count": null,
      "metadata": {
        "id": "AlDT1sC7_vOn"
      },
      "outputs": [],
      "source": [
        "# get shape point cloud and visualize\n",
        "shape_points = ShapeNetPoints.get_point_cloud('02691156/6af4383123972f2262b600da24e0965')\n",
        "print('Predicted category:', inferer.infer_single(shape_points))\n",
        "visualize_pointcloud(shape_points.T, point_size=0.025, flip_axes=True)"
      ]
    },
    {
      "cell_type": "code",
      "execution_count": null,
      "metadata": {
        "id": "rl27MlK7_vOn"
      },
      "outputs": [],
      "source": [
        "# get shape point cloud and visualize\n",
        "shape_points = ShapeNetPoints.get_point_cloud('04090263/eae96ddf483e896c805d3d8e378d155e')\n",
        "print('Predicted category:', inferer.infer_single(shape_points))\n",
        "visualize_pointcloud(shape_points.T, point_size=0.025, flip_axes=True)"
      ]
    },
    {
      "attachments": {},
      "cell_type": "markdown",
      "metadata": {
        "id": "X8Ekcq1l_vOn"
      },
      "source": [
        "Make sure you submit the trained model `exercise_2/runs/2_4_pointnet_classification_generalization/model_best.ckpt` in your zip\n",
        "so that we can evaluate it on the test set at our end."
      ]
    },
    {
      "attachments": {},
      "cell_type": "markdown",
      "metadata": {
        "id": "nsn3pUVX_vOn"
      },
      "source": [
        "## 2.5. Shape Parts Segmentation using PointNet\n",
        "\n",
        "We now go one step further: We do not just want to learn the overall class label for a given shape but instead for each point in a shape the part it belongs to. We call this Part Segmentation. The good thing is that we can actually re-use most of the PointNet architecture from 2.4."
      ]
    },
    {
      "attachments": {},
      "cell_type": "markdown",
      "metadata": {
        "id": "YNhwGzzP_vOn"
      },
      "source": [
        "### (a) Download the ShapeNetPart dataset\n",
        "\n",
        "Annotating data for segmentation is a lot of effort since labelling has to be performed within the shape for each part instead of globally for the entire shape.\n",
        "\n",
        "Luckily, there are existing datasets we can use for this. In our case, this is the ShapeNet Part Segmenation dataset that you can download in the cell below.\n",
        "\n",
        "In terms of data layout, the general idea of shape class identifiers and shape IDs is the same; we just have slightly different shape categories now. Also, each point cloud now has a correponding file specifying the part class for every point.\n",
        "\n",
        "We put the shape class labels for this dataset in `exercise_2/data/shape_parts_info.json`, analogous to `shape_info.json` from exercise parts 2.3 and 2.4.\n",
        "\n",
        "The point cloud data is stored as pts files which is basically an even simpler version of obj. It omits the v in front of each line that represents a point and does not support faces. Each line therefore represents one point with its xyz coordinates, separated by a space.\n",
        "\n",
        "```\n",
        "# contents of exercise_2/data/shapenetcore_partanno_segmentation_benchmark_v0\n",
        "\n",
        "02691156/                                         # Shape category folder with all its shapes\n",
        "    ├── points                                    # All point clouds go here\n",
        "        ├── 1a04e3eab45ca15dd86060f189eb133.pts   # Point cloud data\n",
        "        ├── 1a32f10b20170883663e90eaf6b4ca52.pts  # Another point cloud\n",
        "        :\n",
        "        :\n",
        "    ├── points_label                              # Part labels for each point in the corresponding pts file\n",
        "        ├── 1a04e3eab45ca15dd86060f189eb133.seg   # Each line represents the local part class of a point\n",
        "        ├── 1a32f10b20170883663e90eaf6b4ca52.seg  # Another segmentation file\n",
        "        :\n",
        "        :\n",
        "    ├── seg_img                                   # Visualizations of the original mesh part segmentation\n",
        "02773838/                                         # Another shape category folder\n",
        "02954340/                                         # In total you should have 16 shape category folders\n",
        ":\n",
        ":\n",
        "train_test_split/                                 # Official split IDs\n",
        "```"
      ]
    },
    {
      "cell_type": "code",
      "execution_count": null,
      "metadata": {
        "id": "YUVMAkiD_vOo"
      },
      "outputs": [],
      "source": [
        "print('Downloading ...')\n",
        "!wget https://shapenet.cs.stanford.edu/ericyi/shapenetcore_partanno_segmentation_benchmark_v0.zip --no-check-certificate -P exercise_2/data\n",
        "print('Extracting ...')\n",
        "!unzip -q exercise_2/data/shapenetcore_partanno_segmentation_benchmark_v0.zip -d exercise_2/data\n",
        "!rm exercise_2/data/shapenetcore_partanno_segmentation_benchmark_v0.zip\n",
        "print('Done.')"
      ]
    },
    {
      "attachments": {},
      "cell_type": "markdown",
      "metadata": {
        "id": "NCw2H-J-_vOo"
      },
      "source": [
        "### (b) Dataset implementation\n",
        "\n",
        "You can use the same split setup as in 2.3 and 2.4: `overfit.txt` for overfitting, `train.txt` for the train samples, and `val.txt` for the val samples; This time, use the files in folder `exercise_2/data/splits/shapenet_parts`.\n",
        "\n",
        "The dataset implementation will be similar to 2.3 and 2.4: Fill out the missing implementations of functions `__getitem__` and `__len__` in class `ShapeNetPoints` in `exercise_2/data/shapenet_parts.py`. Note that you now need to load not only the point cloud but also the per-point segmentation labels in function `get_point_cloud_with_labels`. Since each point cloud in this dataset contains more than 1024 points, we also need to sub-sample the raw points list. Use `np.random.choice` for this: Randomizing the sampling will work as augmentation which in turn helps prevent overfitting. Make sure to sample the corresponding points and labels when doing so.\n",
        "\n",
        "Once done, test your implementation below."
      ]
    },
    {
      "cell_type": "code",
      "execution_count": null,
      "metadata": {
        "id": "xE5FaOjL_vOo"
      },
      "outputs": [],
      "source": [
        "from exercise_2.data.shapenet_parts import ShapeNetParts\n",
        "\n",
        "# Create a dataset with train split\n",
        "train_dataset = ShapeNetParts('train')\n",
        "val_dataset = ShapeNetParts('val')\n",
        "overfit_dataset = ShapeNetParts('overfit')\n",
        "\n",
        "# Get length, which is a call to __len__ function\n",
        "print(f'Length of train set: {len(train_dataset)}')  # expected output: 12137\n",
        "# Get length, which is a call to __len__ function\n",
        "print(f'Length of val set: {len(val_dataset)}')  # expected output: 1870\n",
        "# Get length, which is a call to __len__ function\n",
        "print(f'Length of overfit set: {len(overfit_dataset)}')  # expected output: 64"
      ]
    },
    {
      "attachments": {},
      "cell_type": "markdown",
      "metadata": {
        "id": "W3YwDHwC_vOo"
      },
      "source": [
        "### (c) Modifying the PointNet Model\n",
        "\n",
        "Take a look at the PointNet architecture again:\n",
        "<img src=\"exercise_2/images/pointnet.png\" alt=\"pointnet_architecture\" style=\"width: 800px;\"/>\n",
        "\n",
        "We only cared about the blue classification part in 2.4. Now, we also want to implement the yellow part. You can re-use your encoder from 2.4. \n",
        "\n",
        "The idea is simple: Take the n points with 64-dimensional point features from the correct layer of the encoder and concatenate the global shape descriptor you get after applying the max function to it. Then, implement the remaining layers as conv1ds with batchnorm and relu after all but the last layer. The final layer reduces the dimensionality per point to m which is 50 in our case since we have 50 overall parts.\n",
        "\n",
        "Add the missing layers to `PointNetSegmentation` in `exercise_2/models/pointnet.py` and finish the implementation of the forward pass."
      ]
    },
    {
      "cell_type": "code",
      "execution_count": null,
      "metadata": {
        "id": "khAHKcJ1_vOp"
      },
      "outputs": [],
      "source": [
        "from exercise_2.model.pointnet import PointNetSegmentation\n",
        "from exercise_2.util.model import summarize_model\n",
        "\n",
        "pointnet = PointNetSegmentation(50)\n",
        "print(summarize_model(pointnet))  # Expected: Rows 0-40 and TOTAL = 3533563\n",
        "\n",
        "input_tensor = torch.randn(8, 3, 1024)\n",
        "predictions = pointnet(input_tensor)\n",
        "\n",
        "print('Output tensor shape: ', predictions.shape)  # Expected: 8, 1024, 50\n",
        "num_trainable_params = sum(p.numel() for p in pointnet.parameters() if p.requires_grad) / 1e6\n",
        "print(f'Number of traininable params: {num_trainable_params:.2f}M')  # Expected: ~3M"
      ]
    },
    {
      "attachments": {},
      "cell_type": "markdown",
      "metadata": {
        "id": "uBWGrLms_vOp"
      },
      "source": [
        "### (d) Training Script and Overfitting\n",
        "\n",
        "You can now go to the train script in `train_pointnet_segmentation.py` and fill in the missing pieces as in 2.3 and 2.4. Then, verify that your training work by overfitting to a few samples below."
      ]
    },
    {
      "cell_type": "code",
      "execution_count": null,
      "metadata": {
        "id": "b-e4uf4h_vOp"
      },
      "outputs": [],
      "source": [
        "from exercise_2.training import train_pointnet_segmentation\n",
        "config = {\n",
        "    'experiment_name': '2_5_pointnet_segmentation_overfitting',\n",
        "    'device': 'cuda:0',                   # change this to cpu if you do not have a GPU\n",
        "    'is_overfit': True,                   # True since we're doing overfitting\n",
        "    'batch_size': 32,\n",
        "    'resume_ckpt': None,\n",
        "    'learning_rate': 0.001,\n",
        "    'max_epochs': 1000,\n",
        "    'print_every_n': 100,\n",
        "    'validate_every_n': 100,\n",
        "}\n",
        "\n",
        "train_pointnet_segmentation.main(config)  # should be able to get ~0.03 loss, >97% accuracy, >0.95 iou"
      ]
    },
    {
      "attachments": {},
      "cell_type": "markdown",
      "metadata": {
        "id": "eYWYv49Z_vOp"
      },
      "source": [
        "### (e) Training over the entire training set\n",
        "\n",
        "Once your overfitting completes successfully, you can move on to training on the entire dataset again."
      ]
    },
    {
      "cell_type": "code",
      "execution_count": null,
      "metadata": {
        "id": "pi56wREl_vOq",
        "scrolled": true
      },
      "outputs": [],
      "source": [
        "from exercise_2.training import train_pointnet_segmentation\n",
        "config = {\n",
        "    'experiment_name': '2_5_pointnet_segmentation_generalization',\n",
        "    'device': 'cuda:0',                   # change this to cpu if you do not have a GPU\n",
        "    'is_overfit': False,\n",
        "    'batch_size': 32,\n",
        "    'resume_ckpt': None,\n",
        "    'learning_rate': 0.001,\n",
        "    'max_epochs': 12,\n",
        "    'print_every_n': 100,\n",
        "    'validate_every_n': 250,\n",
        "}\n",
        "\n",
        "train_pointnet_segmentation.main(config)  # Should be able to get > 90% accuracy and > 0.8 iou on the val set"
      ]
    },
    {
      "attachments": {},
      "cell_type": "markdown",
      "metadata": {
        "id": "Z2PSLPl-_vOq"
      },
      "source": [
        "### (f) Inference using the trained model"
      ]
    },
    {
      "cell_type": "code",
      "execution_count": null,
      "metadata": {
        "id": "zhQe6H0J_vOq"
      },
      "outputs": [],
      "source": [
        "from exercise_2.inference.infer_pointnet_segmentation import InferenceHandlerPointNetSegmentation\n",
        "from exercise_2.util.visualization import visualize_pointcloud\n",
        "from matplotlib import cm, colors\n",
        "import numpy as np\n",
        "\n",
        "# create a handler for inference using a trained checkpoint\n",
        "inferer = InferenceHandlerPointNetSegmentation('exercise_2/runs/2_5_pointnet_segmentation_generalization/model_best.ckpt')"
      ]
    },
    {
      "cell_type": "code",
      "execution_count": null,
      "metadata": {
        "id": "Q55-2Ukv_vOq"
      },
      "outputs": [],
      "source": [
        "# Get shape point cloud, predict labels, and visualize colored point cloud\n",
        "shape_points = ShapeNetParts.get_point_cloud_with_labels('02691156/1c4b8662938adf41da2b0f839aba40f9')[0]\n",
        "point_labels = inferer.infer_single(shape_points)\n",
        "point_labels = (point_labels - min(point_labels)) / (max(point_labels) - min(point_labels))\n",
        "point_colors = cm.get_cmap('hsv')(point_labels)[:, :3]\n",
        "point_colors = np.sum((point_colors * 255).astype(int) * [255*255, 255, 1], axis=1)\n",
        "visualize_pointcloud(shape_points.T, colors=point_colors, point_size=0.025, flip_axes=True)"
      ]
    },
    {
      "cell_type": "code",
      "execution_count": null,
      "metadata": {
        "id": "gwbWGJbO_vOr"
      },
      "outputs": [],
      "source": [
        "# Get shape point cloud, predict labels, and visualize colored point cloud\n",
        "shape_points = ShapeNetParts.get_point_cloud_with_labels('03948459/e017cf5dac1e39b013d74211a209ce')[0]\n",
        "point_labels = inferer.infer_single(shape_points)\n",
        "point_labels = (point_labels - min(point_labels)) / (max(point_labels) - min(point_labels))\n",
        "point_colors = cm.get_cmap('hsv')(point_labels)[:, :3]\n",
        "point_colors = np.sum((point_colors * 255).astype(int) * [255*255, 255, 1], axis=1)\n",
        "visualize_pointcloud(shape_points.T, colors=point_colors, point_size=0.025, flip_axes=True)"
      ]
    },
    {
      "cell_type": "code",
      "execution_count": null,
      "metadata": {
        "id": "Z6kU_xLm_vOr"
      },
      "outputs": [],
      "source": [
        "# Get shape point cloud, predict labels, and visualize colored point cloud\n",
        "shape_points = ShapeNetParts.get_point_cloud_with_labels('03790512/86b6dc954e1ca8e948272812609617e2')[0]\n",
        "point_labels = inferer.infer_single(shape_points)\n",
        "point_labels = (point_labels - min(point_labels)) / (max(point_labels) - min(point_labels))\n",
        "point_colors = cm.get_cmap('hsv')(point_labels)[:, :3]\n",
        "point_colors = np.sum((point_colors * 255).astype(int) * [255*255, 255, 1], axis=1)\n",
        "visualize_pointcloud(shape_points.T, colors=point_colors, point_size=0.025, flip_axes=True)"
      ]
    },
    {
      "attachments": {},
      "cell_type": "markdown",
      "metadata": {
        "id": "5K_ad_P4_vOr"
      },
      "source": [
        "Make sure you submit the trained model exercise_2/runs/2_5_pointnet_segmentation_generalization/model_best.ckpt in your zip so that we can evaluate it on the test set at our end."
      ]
    },
    {
      "attachments": {},
      "cell_type": "markdown",
      "metadata": {
        "id": "0mmt9lJj_vOr"
      },
      "source": [
        "## Submission\n",
        "\n",
        "This is the end of exercise 2 🙂. Please create a zip containing all files we provided, everything you modified, and all of your generated output/visualization files, including your checkpoints. Name it with your matriculation number(s) as described in exercise 1. Make sure this notebook can be run without problems. Then, submit via Moodle.\n",
        "\n",
        "**Submission Deadline**: 30.05.2023, 23:55"
      ]
    },
    {
      "attachments": {},
      "cell_type": "markdown",
      "metadata": {
        "id": "7_Z2P7zw_vOs"
      },
      "source": [
        "## References\n",
        "\n"
      ]
    },
    {
      "attachments": {},
      "cell_type": "markdown",
      "metadata": {
        "id": "U1y2Hx_d_vOs"
      },
      "source": [
        "[1] Qi, C. et al. “Volumetric and Multi-view CNNs for Object Classification on 3D Data.” 2016 IEEE Conference on Computer Vision and Pattern Recognition (CVPR) (2016): 5648-5656.\n",
        "\n",
        "[2] Qi, C. et al. “PointNet: Deep Learning on Point Sets for 3D Classification and Segmentation.” 2017 IEEE Conference on Computer Vision and Pattern Recognition (CVPR) (2017): 77-85."
      ]
    }
  ],
  "metadata": {
    "accelerator": "GPU",
    "colab": {
      "gpuType": "T4",
      "provenance": []
    },
    "kernelspec": {
      "display_name": "Python 3",
      "name": "python3"
    },
    "language_info": {
      "codemirror_mode": {
        "name": "ipython",
        "version": 3
      },
      "file_extension": ".py",
      "mimetype": "text/x-python",
      "name": "python",
      "nbconvert_exporter": "python",
      "pygments_lexer": "ipython3",
      "version": "3.10.1"
    },
    "widgets": {
      "application/vnd.jupyter.widget-state+json": {
        "09928e45f8174090b1c01c594483c4b5": {
          "model_module": "k3d",
          "model_module_version": "2.15.3",
          "model_name": "PlotModel",
          "state": {
            "_backend_version": "2.15.3",
            "_dom_classes": [],
            "_model_module": "k3d",
            "_model_module_version": "2.15.3",
            "_model_name": "PlotModel",
            "_view_count": null,
            "_view_module": "k3d",
            "_view_module_version": "2.15.3",
            "_view_name": "PlotView",
            "antialias": 3,
            "auto_rendering": true,
            "axes": [
              "x",
              "y",
              "z"
            ],
            "axes_helper": 1,
            "axes_helper_colors": [
              16711680,
              65280,
              255
            ],
            "background_color": 16777215,
            "camera": [],
            "camera_animation": [],
            "camera_auto_fit": true,
            "camera_damping_factor": 0,
            "camera_fov": 60,
            "camera_mode": "trackball",
            "camera_no_pan": false,
            "camera_no_rotate": false,
            "camera_no_zoom": false,
            "camera_pan_speed": 0.3,
            "camera_rotate_speed": 1,
            "camera_zoom_speed": 1.2,
            "clipping_planes": [],
            "colorbar_object_id": -1,
            "colorbar_scientific": false,
            "custom_data": null,
            "fps": 25,
            "fps_meter": false,
            "grid": [
              -0.55,
              -0.55,
              -0.55,
              0.55,
              0.55,
              0.55
            ],
            "grid_auto_fit": true,
            "grid_color": 15132390,
            "grid_visible": false,
            "height": 512,
            "label_color": 4473924,
            "layout": "IPY_MODEL_aba91a5276024651b2f8592955b0e78a",
            "lighting": 1.5,
            "logarithmic_depth_buffer": true,
            "manipulate_mode": "translate",
            "menu_visibility": true,
            "minimum_fps": -1,
            "mode": "view",
            "name": "occupancy_grid",
            "object_ids": [
              140145128775568
            ],
            "rendering_steps": 1,
            "screenshot": "",
            "screenshot_scale": 2,
            "snapshot": "",
            "snapshot_type": "full",
            "time": 0,
            "voxel_paint_color": 0
          }
        },
        "126c417007ae4d3181c07986ea974346": {
          "model_module": "k3d",
          "model_module_version": "2.15.3",
          "model_name": "PlotModel",
          "state": {
            "_backend_version": "2.15.3",
            "_dom_classes": [],
            "_model_module": "k3d",
            "_model_module_version": "2.15.3",
            "_model_name": "PlotModel",
            "_view_count": null,
            "_view_module": "k3d",
            "_view_module_version": "2.15.3",
            "_view_name": "PlotView",
            "antialias": 3,
            "auto_rendering": true,
            "axes": [
              "x",
              "y",
              "z"
            ],
            "axes_helper": 1,
            "axes_helper_colors": [
              16711680,
              65280,
              255
            ],
            "background_color": 16777215,
            "camera": [],
            "camera_animation": [],
            "camera_auto_fit": true,
            "camera_damping_factor": 0,
            "camera_fov": 60,
            "camera_mode": "trackball",
            "camera_no_pan": false,
            "camera_no_rotate": false,
            "camera_no_zoom": false,
            "camera_pan_speed": 0.3,
            "camera_rotate_speed": 1,
            "camera_zoom_speed": 1.2,
            "clipping_planes": [],
            "colorbar_object_id": -1,
            "colorbar_scientific": false,
            "custom_data": null,
            "fps": 25,
            "fps_meter": false,
            "grid": [
              -0.55,
              -0.55,
              -0.55,
              0.55,
              0.55,
              0.55
            ],
            "grid_auto_fit": true,
            "grid_color": 15132390,
            "grid_visible": false,
            "height": 512,
            "label_color": 4473924,
            "layout": "IPY_MODEL_ecae2d2ecab6485ead61c376bdb22a14",
            "lighting": 1.5,
            "logarithmic_depth_buffer": true,
            "manipulate_mode": "translate",
            "menu_visibility": true,
            "minimum_fps": -1,
            "mode": "view",
            "name": "point_cloud",
            "object_ids": [
              140144979112336
            ],
            "rendering_steps": 1,
            "screenshot": "",
            "screenshot_scale": 2,
            "snapshot": "",
            "snapshot_type": "full",
            "time": 0,
            "voxel_paint_color": 0
          }
        },
        "1b0c8c9c9842424fb9338bffe1409e05": {
          "model_module": "@jupyter-widgets/output",
          "model_module_version": "1.0.0",
          "model_name": "OutputModel",
          "state": {
            "_dom_classes": [],
            "_model_module": "@jupyter-widgets/output",
            "_model_module_version": "1.0.0",
            "_model_name": "OutputModel",
            "_view_count": null,
            "_view_module": "@jupyter-widgets/output",
            "_view_module_version": "1.0.0",
            "_view_name": "OutputView",
            "layout": "IPY_MODEL_fb4861ccd1a547b9ae9482d66d590c83",
            "msg_id": "",
            "outputs": [
              {
                "data": {
                  "application/vnd.jupyter.widget-view+json": {
                    "model_id": "9295d47a8c344e75b3f6e3966b82fb36",
                    "version_major": 2,
                    "version_minor": 0
                  },
                  "text/plain": "Plot(antialias=3, axes=['x', 'y', 'z'], axes_helper=1.0, axes_helper_colors=[16711680, 65280, 255], background…"
                },
                "metadata": {},
                "output_type": "display_data"
              }
            ]
          }
        },
        "22c8ab4b315c44eea39379c5dd563ecb": {
          "model_module": "k3d",
          "model_module_version": "2.15.3",
          "model_name": "PlotModel",
          "state": {
            "_backend_version": "2.15.3",
            "_dom_classes": [],
            "_model_module": "k3d",
            "_model_module_version": "2.15.3",
            "_model_name": "PlotModel",
            "_view_count": null,
            "_view_module": "k3d",
            "_view_module_version": "2.15.3",
            "_view_name": "PlotView",
            "antialias": 3,
            "auto_rendering": true,
            "axes": [
              "x",
              "y",
              "z"
            ],
            "axes_helper": 1,
            "axes_helper_colors": [
              16711680,
              65280,
              255
            ],
            "background_color": 16777215,
            "camera": [],
            "camera_animation": [],
            "camera_auto_fit": true,
            "camera_damping_factor": 0,
            "camera_fov": 60,
            "camera_mode": "trackball",
            "camera_no_pan": false,
            "camera_no_rotate": false,
            "camera_no_zoom": false,
            "camera_pan_speed": 0.3,
            "camera_rotate_speed": 1,
            "camera_zoom_speed": 1.2,
            "clipping_planes": [],
            "colorbar_object_id": -1,
            "colorbar_scientific": false,
            "custom_data": null,
            "fps": 25,
            "fps_meter": false,
            "grid": [
              -0.55,
              -0.55,
              -0.55,
              0.55,
              0.55,
              0.55
            ],
            "grid_auto_fit": true,
            "grid_color": 15132390,
            "grid_visible": false,
            "height": 512,
            "label_color": 4473924,
            "layout": "IPY_MODEL_fd4355519a274160b13ff5d438be4142",
            "lighting": 1.5,
            "logarithmic_depth_buffer": true,
            "manipulate_mode": "translate",
            "menu_visibility": true,
            "minimum_fps": -1,
            "mode": "view",
            "name": "occupancy_grid",
            "object_ids": [
              140144999378000
            ],
            "rendering_steps": 1,
            "screenshot": "",
            "screenshot_scale": 2,
            "snapshot": "",
            "snapshot_type": "full",
            "time": 0,
            "voxel_paint_color": 0
          }
        },
        "5e413d90d9fc4592afeeee17dec6b95f": {
          "model_module": "@jupyter-widgets/output",
          "model_module_version": "1.0.0",
          "model_name": "OutputModel",
          "state": {
            "_dom_classes": [],
            "_model_module": "@jupyter-widgets/output",
            "_model_module_version": "1.0.0",
            "_model_name": "OutputModel",
            "_view_count": null,
            "_view_module": "@jupyter-widgets/output",
            "_view_module_version": "1.0.0",
            "_view_name": "OutputView",
            "layout": "IPY_MODEL_ffb9752315bd42198f88e64ed828d42c",
            "msg_id": "",
            "outputs": [
              {
                "data": {
                  "application/vnd.jupyter.widget-view+json": {
                    "model_id": "09928e45f8174090b1c01c594483c4b5",
                    "version_major": 2,
                    "version_minor": 0
                  },
                  "text/plain": "Plot(antialias=3, axes=['x', 'y', 'z'], axes_helper=1.0, axes_helper_colors=[16711680, 65280, 255], background…"
                },
                "metadata": {},
                "output_type": "display_data"
              }
            ]
          }
        },
        "5f00d8ec551c4a11afa08a8397c6d84f": {
          "model_module": "@jupyter-widgets/output",
          "model_module_version": "1.0.0",
          "model_name": "OutputModel",
          "state": {
            "_dom_classes": [],
            "_model_module": "@jupyter-widgets/output",
            "_model_module_version": "1.0.0",
            "_model_name": "OutputModel",
            "_view_count": null,
            "_view_module": "@jupyter-widgets/output",
            "_view_module_version": "1.0.0",
            "_view_name": "OutputView",
            "layout": "IPY_MODEL_f2b7b831ca9448bc9b6164ef44c7d35b",
            "msg_id": "",
            "outputs": [
              {
                "data": {
                  "application/vnd.jupyter.widget-view+json": {
                    "model_id": "d2212e28fd7546d1bd39d2316d6d148c",
                    "version_major": 2,
                    "version_minor": 0
                  },
                  "text/plain": "Plot(antialias=3, axes=['x', 'y', 'z'], axes_helper=1.0, axes_helper_colors=[16711680, 65280, 255], background…"
                },
                "metadata": {},
                "output_type": "display_data"
              }
            ]
          }
        },
        "7886ca35f1bc450e83979f7da3cc8423": {
          "model_module": "@jupyter-widgets/base",
          "model_module_version": "1.2.0",
          "model_name": "LayoutModel",
          "state": {
            "_model_module": "@jupyter-widgets/base",
            "_model_module_version": "1.2.0",
            "_model_name": "LayoutModel",
            "_view_count": null,
            "_view_module": "@jupyter-widgets/base",
            "_view_module_version": "1.2.0",
            "_view_name": "LayoutView",
            "align_content": null,
            "align_items": null,
            "align_self": null,
            "border": null,
            "bottom": null,
            "display": null,
            "flex": null,
            "flex_flow": null,
            "grid_area": null,
            "grid_auto_columns": null,
            "grid_auto_flow": null,
            "grid_auto_rows": null,
            "grid_column": null,
            "grid_gap": null,
            "grid_row": null,
            "grid_template_areas": null,
            "grid_template_columns": null,
            "grid_template_rows": null,
            "height": null,
            "justify_content": null,
            "justify_items": null,
            "left": null,
            "margin": null,
            "max_height": null,
            "max_width": null,
            "min_height": null,
            "min_width": null,
            "object_fit": null,
            "object_position": null,
            "order": null,
            "overflow": null,
            "overflow_x": null,
            "overflow_y": null,
            "padding": null,
            "right": null,
            "top": null,
            "visibility": null,
            "width": null
          }
        },
        "8e48dc40126e4d219ef5e2ac0e35028d": {
          "model_module": "k3d",
          "model_module_version": "2.15.3",
          "model_name": "PlotModel",
          "state": {
            "_backend_version": "2.15.3",
            "_dom_classes": [],
            "_model_module": "k3d",
            "_model_module_version": "2.15.3",
            "_model_name": "PlotModel",
            "_view_count": null,
            "_view_module": "k3d",
            "_view_module_version": "2.15.3",
            "_view_name": "PlotView",
            "antialias": 3,
            "auto_rendering": true,
            "axes": [
              "x",
              "y",
              "z"
            ],
            "axes_helper": 1,
            "axes_helper_colors": [
              16711680,
              65280,
              255
            ],
            "background_color": 16777215,
            "camera": [],
            "camera_animation": [],
            "camera_auto_fit": true,
            "camera_damping_factor": 0,
            "camera_fov": 60,
            "camera_mode": "trackball",
            "camera_no_pan": false,
            "camera_no_rotate": false,
            "camera_no_zoom": false,
            "camera_pan_speed": 0.3,
            "camera_rotate_speed": 1,
            "camera_zoom_speed": 1.2,
            "clipping_planes": [],
            "colorbar_object_id": -1,
            "colorbar_scientific": false,
            "custom_data": null,
            "fps": 25,
            "fps_meter": false,
            "grid": [
              -0.55,
              -0.55,
              -0.55,
              0.55,
              0.55,
              0.55
            ],
            "grid_auto_fit": true,
            "grid_color": 15132390,
            "grid_visible": false,
            "height": 512,
            "label_color": 4473924,
            "layout": "IPY_MODEL_bee2cd56747a47cfbad48a6b8bd4ac03",
            "lighting": 1.5,
            "logarithmic_depth_buffer": true,
            "manipulate_mode": "translate",
            "menu_visibility": true,
            "minimum_fps": -1,
            "mode": "view",
            "name": "occupancy_grid",
            "object_ids": [
              140144999409712
            ],
            "rendering_steps": 1,
            "screenshot": "",
            "screenshot_scale": 2,
            "snapshot": "",
            "snapshot_type": "full",
            "time": 0,
            "voxel_paint_color": 0
          }
        },
        "9295d47a8c344e75b3f6e3966b82fb36": {
          "model_module": "k3d",
          "model_module_version": "2.15.3",
          "model_name": "PlotModel",
          "state": {
            "_backend_version": "2.15.3",
            "_dom_classes": [],
            "_model_module": "k3d",
            "_model_module_version": "2.15.3",
            "_model_name": "PlotModel",
            "_view_count": null,
            "_view_module": "k3d",
            "_view_module_version": "2.15.3",
            "_view_name": "PlotView",
            "antialias": 3,
            "auto_rendering": true,
            "axes": [
              "x",
              "y",
              "z"
            ],
            "axes_helper": 1,
            "axes_helper_colors": [
              16711680,
              65280,
              255
            ],
            "background_color": 16777215,
            "camera": [],
            "camera_animation": [],
            "camera_auto_fit": true,
            "camera_damping_factor": 0,
            "camera_fov": 60,
            "camera_mode": "trackball",
            "camera_no_pan": false,
            "camera_no_rotate": false,
            "camera_no_zoom": false,
            "camera_pan_speed": 0.3,
            "camera_rotate_speed": 1,
            "camera_zoom_speed": 1.2,
            "clipping_planes": [],
            "colorbar_object_id": -1,
            "colorbar_scientific": false,
            "custom_data": null,
            "fps": 25,
            "fps_meter": false,
            "grid": [
              -0.55,
              -0.55,
              -0.55,
              0.55,
              0.55,
              0.55
            ],
            "grid_auto_fit": true,
            "grid_color": 15132390,
            "grid_visible": false,
            "height": 512,
            "label_color": 4473924,
            "layout": "IPY_MODEL_e35516cd8b5b4ae195a58e3f7c8b2eff",
            "lighting": 1.5,
            "logarithmic_depth_buffer": true,
            "manipulate_mode": "translate",
            "menu_visibility": true,
            "minimum_fps": -1,
            "mode": "view",
            "name": "occupancy_grid",
            "object_ids": [
              140144999380448
            ],
            "rendering_steps": 1,
            "screenshot": "",
            "screenshot_scale": 2,
            "snapshot": "",
            "snapshot_type": "full",
            "time": 0,
            "voxel_paint_color": 0
          }
        },
        "c18bd7505d03446fb8d62a18e373fdbb": {
          "model_module": "@jupyter-widgets/output",
          "model_module_version": "1.0.0",
          "model_name": "OutputModel",
          "state": {
            "_dom_classes": [],
            "_model_module": "@jupyter-widgets/output",
            "_model_module_version": "1.0.0",
            "_model_name": "OutputModel",
            "_view_count": null,
            "_view_module": "@jupyter-widgets/output",
            "_view_module_version": "1.0.0",
            "_view_name": "OutputView",
            "layout": "IPY_MODEL_e28fc4dc2b9f4744800f46008414be3c",
            "msg_id": "",
            "outputs": [
              {
                "data": {
                  "application/vnd.jupyter.widget-view+json": {
                    "model_id": "22c8ab4b315c44eea39379c5dd563ecb",
                    "version_major": 2,
                    "version_minor": 0
                  },
                  "text/plain": "Plot(antialias=3, axes=['x', 'y', 'z'], axes_helper=1.0, axes_helper_colors=[16711680, 65280, 255], background…"
                },
                "metadata": {},
                "output_type": "display_data"
              }
            ]
          }
        },
        "c2d9347710c44bc8b92d7d33304820b9": {
          "model_module": "@jupyter-widgets/output",
          "model_module_version": "1.0.0",
          "model_name": "OutputModel",
          "state": {
            "_dom_classes": [],
            "_model_module": "@jupyter-widgets/output",
            "_model_module_version": "1.0.0",
            "_model_name": "OutputModel",
            "_view_count": null,
            "_view_module": "@jupyter-widgets/output",
            "_view_module_version": "1.0.0",
            "_view_name": "OutputView",
            "layout": "IPY_MODEL_7886ca35f1bc450e83979f7da3cc8423",
            "msg_id": "",
            "outputs": [
              {
                "data": {
                  "application/vnd.jupyter.widget-view+json": {
                    "model_id": "8e48dc40126e4d219ef5e2ac0e35028d",
                    "version_major": 2,
                    "version_minor": 0
                  },
                  "text/plain": "Plot(antialias=3, axes=['x', 'y', 'z'], axes_helper=1.0, axes_helper_colors=[16711680, 65280, 255], background…"
                },
                "metadata": {},
                "output_type": "display_data"
              }
            ]
          }
        },
        "d2212e28fd7546d1bd39d2316d6d148c": {
          "model_module": "k3d",
          "model_module_version": "2.15.3",
          "model_name": "PlotModel",
          "state": {
            "_backend_version": "2.15.3",
            "_dom_classes": [],
            "_model_module": "k3d",
            "_model_module_version": "2.15.3",
            "_model_name": "PlotModel",
            "_view_count": null,
            "_view_module": "k3d",
            "_view_module_version": "2.15.3",
            "_view_name": "PlotView",
            "antialias": 3,
            "auto_rendering": true,
            "axes": [
              "x",
              "y",
              "z"
            ],
            "axes_helper": 1,
            "axes_helper_colors": [
              16711680,
              65280,
              255
            ],
            "background_color": 16777215,
            "camera": [],
            "camera_animation": [],
            "camera_auto_fit": true,
            "camera_damping_factor": 0,
            "camera_fov": 60,
            "camera_mode": "trackball",
            "camera_no_pan": false,
            "camera_no_rotate": false,
            "camera_no_zoom": false,
            "camera_pan_speed": 0.3,
            "camera_rotate_speed": 1,
            "camera_zoom_speed": 1.2,
            "clipping_planes": [],
            "colorbar_object_id": -1,
            "colorbar_scientific": false,
            "custom_data": null,
            "fps": 25,
            "fps_meter": false,
            "grid": [
              -0.55,
              -0.55,
              -0.55,
              0.55,
              0.55,
              0.55
            ],
            "grid_auto_fit": true,
            "grid_color": 15132390,
            "grid_visible": false,
            "height": 512,
            "label_color": 4473924,
            "layout": "IPY_MODEL_c884014afcd848a1ad97091ae2ec3c50",
            "lighting": 1.5,
            "logarithmic_depth_buffer": true,
            "manipulate_mode": "translate",
            "menu_visibility": true,
            "minimum_fps": -1,
            "mode": "view",
            "name": "occupancy_grid",
            "object_ids": [
              140145128773168
            ],
            "rendering_steps": 1,
            "screenshot": "",
            "screenshot_scale": 2,
            "snapshot": "",
            "snapshot_type": "full",
            "time": 0,
            "voxel_paint_color": 0
          }
        },
        "d6efd42540a44b2996edfbb639e1b47f": {
          "model_module": "@jupyter-widgets/base",
          "model_module_version": "1.2.0",
          "model_name": "LayoutModel",
          "state": {
            "_model_module": "@jupyter-widgets/base",
            "_model_module_version": "1.2.0",
            "_model_name": "LayoutModel",
            "_view_count": null,
            "_view_module": "@jupyter-widgets/base",
            "_view_module_version": "1.2.0",
            "_view_name": "LayoutView",
            "align_content": null,
            "align_items": null,
            "align_self": null,
            "border": null,
            "bottom": null,
            "display": null,
            "flex": null,
            "flex_flow": null,
            "grid_area": null,
            "grid_auto_columns": null,
            "grid_auto_flow": null,
            "grid_auto_rows": null,
            "grid_column": null,
            "grid_gap": null,
            "grid_row": null,
            "grid_template_areas": null,
            "grid_template_columns": null,
            "grid_template_rows": null,
            "height": null,
            "justify_content": null,
            "justify_items": null,
            "left": null,
            "margin": null,
            "max_height": null,
            "max_width": null,
            "min_height": null,
            "min_width": null,
            "object_fit": null,
            "object_position": null,
            "order": null,
            "overflow": null,
            "overflow_x": null,
            "overflow_y": null,
            "padding": null,
            "right": null,
            "top": null,
            "visibility": null,
            "width": null
          }
        },
        "e28fc4dc2b9f4744800f46008414be3c": {
          "model_module": "@jupyter-widgets/base",
          "model_module_version": "1.2.0",
          "model_name": "LayoutModel",
          "state": {
            "_model_module": "@jupyter-widgets/base",
            "_model_module_version": "1.2.0",
            "_model_name": "LayoutModel",
            "_view_count": null,
            "_view_module": "@jupyter-widgets/base",
            "_view_module_version": "1.2.0",
            "_view_name": "LayoutView",
            "align_content": null,
            "align_items": null,
            "align_self": null,
            "border": null,
            "bottom": null,
            "display": null,
            "flex": null,
            "flex_flow": null,
            "grid_area": null,
            "grid_auto_columns": null,
            "grid_auto_flow": null,
            "grid_auto_rows": null,
            "grid_column": null,
            "grid_gap": null,
            "grid_row": null,
            "grid_template_areas": null,
            "grid_template_columns": null,
            "grid_template_rows": null,
            "height": null,
            "justify_content": null,
            "justify_items": null,
            "left": null,
            "margin": null,
            "max_height": null,
            "max_width": null,
            "min_height": null,
            "min_width": null,
            "object_fit": null,
            "object_position": null,
            "order": null,
            "overflow": null,
            "overflow_x": null,
            "overflow_y": null,
            "padding": null,
            "right": null,
            "top": null,
            "visibility": null,
            "width": null
          }
        },
        "f2b7b831ca9448bc9b6164ef44c7d35b": {
          "model_module": "@jupyter-widgets/base",
          "model_module_version": "1.2.0",
          "model_name": "LayoutModel",
          "state": {
            "_model_module": "@jupyter-widgets/base",
            "_model_module_version": "1.2.0",
            "_model_name": "LayoutModel",
            "_view_count": null,
            "_view_module": "@jupyter-widgets/base",
            "_view_module_version": "1.2.0",
            "_view_name": "LayoutView",
            "align_content": null,
            "align_items": null,
            "align_self": null,
            "border": null,
            "bottom": null,
            "display": null,
            "flex": null,
            "flex_flow": null,
            "grid_area": null,
            "grid_auto_columns": null,
            "grid_auto_flow": null,
            "grid_auto_rows": null,
            "grid_column": null,
            "grid_gap": null,
            "grid_row": null,
            "grid_template_areas": null,
            "grid_template_columns": null,
            "grid_template_rows": null,
            "height": null,
            "justify_content": null,
            "justify_items": null,
            "left": null,
            "margin": null,
            "max_height": null,
            "max_width": null,
            "min_height": null,
            "min_width": null,
            "object_fit": null,
            "object_position": null,
            "order": null,
            "overflow": null,
            "overflow_x": null,
            "overflow_y": null,
            "padding": null,
            "right": null,
            "top": null,
            "visibility": null,
            "width": null
          }
        },
        "fb4861ccd1a547b9ae9482d66d590c83": {
          "model_module": "@jupyter-widgets/base",
          "model_module_version": "1.2.0",
          "model_name": "LayoutModel",
          "state": {
            "_model_module": "@jupyter-widgets/base",
            "_model_module_version": "1.2.0",
            "_model_name": "LayoutModel",
            "_view_count": null,
            "_view_module": "@jupyter-widgets/base",
            "_view_module_version": "1.2.0",
            "_view_name": "LayoutView",
            "align_content": null,
            "align_items": null,
            "align_self": null,
            "border": null,
            "bottom": null,
            "display": null,
            "flex": null,
            "flex_flow": null,
            "grid_area": null,
            "grid_auto_columns": null,
            "grid_auto_flow": null,
            "grid_auto_rows": null,
            "grid_column": null,
            "grid_gap": null,
            "grid_row": null,
            "grid_template_areas": null,
            "grid_template_columns": null,
            "grid_template_rows": null,
            "height": null,
            "justify_content": null,
            "justify_items": null,
            "left": null,
            "margin": null,
            "max_height": null,
            "max_width": null,
            "min_height": null,
            "min_width": null,
            "object_fit": null,
            "object_position": null,
            "order": null,
            "overflow": null,
            "overflow_x": null,
            "overflow_y": null,
            "padding": null,
            "right": null,
            "top": null,
            "visibility": null,
            "width": null
          }
        },
        "fbb028fdc8064130841bd58719c8592c": {
          "model_module": "@jupyter-widgets/output",
          "model_module_version": "1.0.0",
          "model_name": "OutputModel",
          "state": {
            "_dom_classes": [],
            "_model_module": "@jupyter-widgets/output",
            "_model_module_version": "1.0.0",
            "_model_name": "OutputModel",
            "_view_count": null,
            "_view_module": "@jupyter-widgets/output",
            "_view_module_version": "1.0.0",
            "_view_name": "OutputView",
            "layout": "IPY_MODEL_d6efd42540a44b2996edfbb639e1b47f",
            "msg_id": "",
            "outputs": [
              {
                "data": {
                  "application/vnd.jupyter.widget-view+json": {
                    "model_id": "126c417007ae4d3181c07986ea974346",
                    "version_major": 2,
                    "version_minor": 0
                  },
                  "text/plain": "Plot(antialias=3, axes=['x', 'y', 'z'], axes_helper=1.0, axes_helper_colors=[16711680, 65280, 255], background…"
                },
                "metadata": {},
                "output_type": "display_data"
              }
            ]
          }
        },
        "ffb9752315bd42198f88e64ed828d42c": {
          "model_module": "@jupyter-widgets/base",
          "model_module_version": "1.2.0",
          "model_name": "LayoutModel",
          "state": {
            "_model_module": "@jupyter-widgets/base",
            "_model_module_version": "1.2.0",
            "_model_name": "LayoutModel",
            "_view_count": null,
            "_view_module": "@jupyter-widgets/base",
            "_view_module_version": "1.2.0",
            "_view_name": "LayoutView",
            "align_content": null,
            "align_items": null,
            "align_self": null,
            "border": null,
            "bottom": null,
            "display": null,
            "flex": null,
            "flex_flow": null,
            "grid_area": null,
            "grid_auto_columns": null,
            "grid_auto_flow": null,
            "grid_auto_rows": null,
            "grid_column": null,
            "grid_gap": null,
            "grid_row": null,
            "grid_template_areas": null,
            "grid_template_columns": null,
            "grid_template_rows": null,
            "height": null,
            "justify_content": null,
            "justify_items": null,
            "left": null,
            "margin": null,
            "max_height": null,
            "max_width": null,
            "min_height": null,
            "min_width": null,
            "object_fit": null,
            "object_position": null,
            "order": null,
            "overflow": null,
            "overflow_x": null,
            "overflow_y": null,
            "padding": null,
            "right": null,
            "top": null,
            "visibility": null,
            "width": null
          }
        }
      }
    }
  },
  "nbformat": 4,
  "nbformat_minor": 0
}
