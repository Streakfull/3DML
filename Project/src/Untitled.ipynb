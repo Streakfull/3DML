{
 "cells": [
  {
   "cell_type": "code",
   "execution_count": 16,
   "id": "566fd019",
   "metadata": {},
   "outputs": [],
   "source": [
    "import numpy as np\n",
    "from einops import repeat\n",
    "from torch import torch"
   ]
  },
  {
   "cell_type": "code",
   "execution_count": 2,
   "id": "2c00ce2f",
   "metadata": {},
   "outputs": [],
   "source": [
    "rng = np.random.default_rng()"
   ]
  },
  {
   "cell_type": "code",
   "execution_count": 3,
   "id": "eeafea40",
   "metadata": {},
   "outputs": [
    {
     "data": {
      "text/plain": [
       "array([[4, 1, 2, 2],\n",
       "       [4, 2, 1, 3],\n",
       "       [1, 0, 1, 4],\n",
       "       [0, 4, 4, 0],\n",
       "       [1, 1, 0, 0],\n",
       "       [0, 4, 2, 1],\n",
       "       [3, 3, 0, 0],\n",
       "       [0, 1, 4, 2]])"
      ]
     },
     "execution_count": 3,
     "metadata": {},
     "output_type": "execute_result"
    }
   ],
   "source": [
    "rng.integers(5, size=(8, 4))"
   ]
  },
  {
   "cell_type": "code",
   "execution_count": 5,
   "id": "52eac5c3",
   "metadata": {},
   "outputs": [],
   "source": [
    "x = np.arange(64)"
   ]
  },
  {
   "cell_type": "code",
   "execution_count": 6,
   "id": "0904cd40",
   "metadata": {},
   "outputs": [
    {
     "data": {
      "text/plain": [
       "array([ 0,  1,  2,  3,  4,  5,  6,  7,  8,  9, 10, 11, 12, 13, 14, 15, 16,\n",
       "       17, 18, 19, 20, 21, 22, 23, 24, 25, 26, 27, 28, 29, 30, 31, 32, 33,\n",
       "       34, 35, 36, 37, 38, 39, 40, 41, 42, 43, 44, 45, 46, 47, 48, 49, 50,\n",
       "       51, 52, 53, 54, 55, 56, 57, 58, 59, 60, 61, 62, 63])"
      ]
     },
     "execution_count": 6,
     "metadata": {},
     "output_type": "execute_result"
    }
   ],
   "source": [
    "x"
   ]
  },
  {
   "cell_type": "code",
   "execution_count": 10,
   "id": "7871e068",
   "metadata": {},
   "outputs": [],
   "source": [
    "repeated = repeat(x, 'd -> repeat d', repeat=8)"
   ]
  },
  {
   "cell_type": "code",
   "execution_count": 11,
   "id": "034b3e11",
   "metadata": {},
   "outputs": [
    {
     "data": {
      "text/plain": [
       "(8, 64)"
      ]
     },
     "execution_count": 11,
     "metadata": {},
     "output_type": "execute_result"
    }
   ],
   "source": [
    "repeated.shape"
   ]
  },
  {
   "cell_type": "code",
   "execution_count": 14,
   "id": "0a1d8806",
   "metadata": {},
   "outputs": [
    {
     "data": {
      "text/plain": [
       "array([[22, 43, 45,  0, 36, 52, 29,  9, 44, 57, 30, 39, 49, 14, 40, 15,\n",
       "        53,  3, 50, 21, 60, 17, 59, 34, 26,  7, 28, 35, 41, 48, 31, 61,\n",
       "        37, 12, 51, 16, 24, 63, 13, 27,  1, 32, 46,  5, 38, 55, 18,  2,\n",
       "        56, 11, 20, 58,  8, 19,  4, 47,  6, 33, 25, 10, 54, 62, 42, 23],\n",
       "       [60, 29, 35, 51, 40, 46, 12, 18, 11, 42, 28, 30, 10,  0, 50, 58,\n",
       "        15,  3, 22,  2, 49, 54, 31, 62, 19, 32, 24, 55,  6, 53,  4, 52,\n",
       "         8,  5, 17,  9, 39, 36, 63, 48, 61, 16, 26, 23, 34, 45,  7, 38,\n",
       "        13, 21, 57, 20, 43, 33, 47, 59, 25, 41, 56, 44,  1, 27, 37, 14],\n",
       "       [ 5, 21, 51, 43, 58, 11, 44,  0, 17, 62, 57, 42, 12, 31, 45, 35,\n",
       "        27, 55, 59, 48, 23,  2, 37,  1, 13, 22, 61, 41,  3,  6, 40, 33,\n",
       "         9, 28, 10, 18, 30, 32, 47, 54, 39, 15, 25,  8, 24, 26, 52, 50,\n",
       "        14, 19,  4, 60, 56, 63, 38, 20, 16, 53, 34, 49, 46,  7, 29, 36],\n",
       "       [42, 38, 15, 33, 21,  4, 36, 20, 16, 14, 37, 59, 47, 32,  6, 55,\n",
       "        22,  9,  1, 46,  2, 29, 53, 56, 61, 52, 27, 17, 30, 24, 40, 41,\n",
       "        51, 13, 50, 48, 12, 26, 23, 62, 18, 43,  0, 54, 28,  7, 34, 45,\n",
       "        60, 49, 31,  8,  3, 11, 63, 57, 35, 25,  5, 39, 10, 58, 44, 19],\n",
       "       [30, 13, 45, 43, 18, 54, 38, 33, 47, 40, 60, 50, 15,  2, 62, 53,\n",
       "         9, 17, 16, 25, 31, 29, 51, 28, 52, 26, 63, 44,  6, 21, 19, 58,\n",
       "        20,  3,  8, 23,  4, 39, 27, 12, 36, 46,  0, 11,  7, 42, 32, 37,\n",
       "        10, 57, 56, 24, 34, 59, 14, 61, 41, 49, 35,  1,  5, 48, 55, 22],\n",
       "       [56, 36, 24, 46, 10, 20, 32, 57, 28, 15,  4, 61, 13, 18, 44,  5,\n",
       "        43, 35, 41, 26, 22, 49, 53, 59, 16,  3, 50,  2, 58, 45,  7, 12,\n",
       "        51, 17, 37, 23, 34, 40, 42, 25, 11, 60,  1,  8, 55, 31, 47,  0,\n",
       "        38, 48,  9, 52, 21, 62, 14, 19, 27, 29,  6, 33, 39, 63, 54, 30],\n",
       "       [17,  1, 63, 32, 30,  0, 53,  5,  6, 56, 12, 54, 40, 31, 19, 23,\n",
       "        10, 15, 41,  2, 22,  8,  7, 50, 60, 58, 55, 48, 42, 44, 33, 35,\n",
       "        62, 37, 52,  9, 59, 18, 27, 26,  4, 21, 16, 28, 11, 24, 43, 61,\n",
       "         3, 36, 25, 20, 29, 45, 46, 49, 47, 57, 13, 39, 14, 34, 38, 51],\n",
       "       [23, 46, 43, 24, 60, 16, 29, 25, 11,  2, 34, 18, 52, 30, 13, 40,\n",
       "        22, 32, 41, 35, 10, 37, 51,  5, 21, 39, 27, 54, 12, 57, 33, 55,\n",
       "         1, 50,  7, 36, 63, 15, 17, 42, 14,  8, 44, 28, 53,  9,  6, 56,\n",
       "        19,  4, 62, 47, 49, 61, 20, 59, 38, 58, 45,  0, 26, 48,  3, 31]])"
      ]
     },
     "execution_count": 14,
     "metadata": {},
     "output_type": "execute_result"
    }
   ],
   "source": [
    "rng.permuted(repeated, axis=1)"
   ]
  },
  {
   "cell_type": "code",
   "execution_count": 62,
   "id": "d5789299",
   "metadata": {},
   "outputs": [],
   "source": [
    "a = torch.tensor([[[3,2,1],[1,3,2]]])"
   ]
  },
  {
   "cell_type": "code",
   "execution_count": 63,
   "id": "88b302a0",
   "metadata": {},
   "outputs": [
    {
     "data": {
      "text/plain": [
       "tensor([[[3, 2, 1],\n",
       "         [1, 3, 2]]])"
      ]
     },
     "execution_count": 63,
     "metadata": {},
     "output_type": "execute_result"
    }
   ],
   "source": [
    "a"
   ]
  },
  {
   "cell_type": "code",
   "execution_count": 57,
   "id": "906d3d77",
   "metadata": {},
   "outputs": [
    {
     "data": {
      "text/plain": [
       "torch.Size([1, 2, 3])"
      ]
     },
     "execution_count": 57,
     "metadata": {},
     "output_type": "execute_result"
    }
   ],
   "source": [
    "a.shape"
   ]
  },
  {
   "cell_type": "code",
   "execution_count": 65,
   "id": "4854f498",
   "metadata": {},
   "outputs": [],
   "source": [
    "i = torch.tensor([[[2,1,0],[0,2,1]]])"
   ]
  },
  {
   "cell_type": "code",
   "execution_count": 69,
   "id": "92cff42c",
   "metadata": {},
   "outputs": [
    {
     "data": {
      "text/plain": [
       "torch.Size([2, 3])"
      ]
     },
     "execution_count": 69,
     "metadata": {},
     "output_type": "execute_result"
    }
   ],
   "source": [
    "i.squeeze(0).shape"
   ]
  },
  {
   "cell_type": "code",
   "execution_count": 68,
   "id": "7920655b",
   "metadata": {},
   "outputs": [
    {
     "data": {
      "text/plain": [
       "tensor([[[2, 1, 0],\n",
       "         [0, 2, 1]]])"
      ]
     },
     "execution_count": 68,
     "metadata": {},
     "output_type": "execute_result"
    }
   ],
   "source": [
    "i."
   ]
  },
  {
   "cell_type": "code",
   "execution_count": 70,
   "id": "7143f1d7",
   "metadata": {},
   "outputs": [],
   "source": [
    "c = torch.zeros_like(a)"
   ]
  },
  {
   "cell_type": "code",
   "execution_count": 73,
   "id": "fa51d3ad",
   "metadata": {},
   "outputs": [
    {
     "data": {
      "text/plain": [
       "tensor([[[0, 0, 0],\n",
       "         [0, 0, 0]]])"
      ]
     },
     "execution_count": 73,
     "metadata": {},
     "output_type": "execute_result"
    }
   ],
   "source": [
    "c"
   ]
  },
  {
   "cell_type": "code",
   "execution_count": 74,
   "id": "e977c966",
   "metadata": {},
   "outputs": [
    {
     "data": {
      "text/plain": [
       "torch.Size([1, 2, 3])"
      ]
     },
     "execution_count": 74,
     "metadata": {},
     "output_type": "execute_result"
    }
   ],
   "source": [
    "c.shape"
   ]
  },
  {
   "cell_type": "code",
   "execution_count": 75,
   "id": "acf0ba27",
   "metadata": {},
   "outputs": [
    {
     "data": {
      "text/plain": [
       "tensor([[0, 0, 0],\n",
       "        [0, 0, 0]])"
      ]
     },
     "execution_count": 75,
     "metadata": {},
     "output_type": "execute_result"
    }
   ],
   "source": [
    "c[0]"
   ]
  },
  {
   "cell_type": "code",
   "execution_count": 82,
   "id": "70dde9b7",
   "metadata": {},
   "outputs": [
    {
     "data": {
      "text/plain": [
       "torch.Size([1, 1, 1, 3])"
      ]
     },
     "execution_count": 82,
     "metadata": {},
     "output_type": "execute_result"
    }
   ],
   "source": []
  },
  {
   "cell_type": "code",
   "execution_count": null,
   "id": "3812af95",
   "metadata": {},
   "outputs": [],
   "source": []
  }
 ],
 "metadata": {
  "kernelspec": {
   "display_name": "Python 3 (ipykernel)",
   "language": "python",
   "name": "python3"
  },
  "language_info": {
   "codemirror_mode": {
    "name": "ipython",
    "version": 3
   },
   "file_extension": ".py",
   "mimetype": "text/x-python",
   "name": "python",
   "nbconvert_exporter": "python",
   "pygments_lexer": "ipython3",
   "version": "3.10.6"
  }
 },
 "nbformat": 4,
 "nbformat_minor": 5
}
