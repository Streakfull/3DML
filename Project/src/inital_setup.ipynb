{
 "cells": [
  {
   "cell_type": "code",
   "execution_count": 3,
   "id": "1f694ba5",
   "metadata": {},
   "outputs": [
    {
     "name": "stdout",
     "output_type": "stream",
     "text": [
      "/cluster/54/streakfull/3DML/Project\n"
     ]
    }
   ],
   "source": [
    "%cd .. # Should go to the project folder\n"
   ]
  },
  {
   "cell_type": "code",
   "execution_count": 4,
   "id": "0fb3e60b",
   "metadata": {},
   "outputs": [
    {
     "name": "stdout",
     "output_type": "stream",
     "text": [
      "Collecting k3d==2.15.2 (from -r requirements.txt (line 1))\n",
      "  Using cached k3d-2.15.2-py3-none-any.whl (23.0 MB)\n",
      "Collecting tensorboard==2.11.0 (from -r requirements.txt (line 2))\n",
      "  Using cached tensorboard-2.11.0-py3-none-any.whl (6.0 MB)\n",
      "Collecting einops==0.6.1 (from -r requirements.txt (line 3))\n",
      "  Using cached einops-0.6.1-py3-none-any.whl (42 kB)\n",
      "Collecting cprint==1.2.2 (from -r requirements.txt (line 4))\n",
      "  Downloading cprint-1.2.2.tar.gz (2.3 kB)\n",
      "  Preparing metadata (setup.py) ... \u001b[?25ldone\n",
      "\u001b[?25hCollecting Pillow==9.2.0 (from -r requirements.txt (line 5))\n",
      "  Using cached Pillow-9.2.0-cp38-cp38-manylinux_2_28_x86_64.whl (3.2 MB)\n",
      "Collecting omegaconf==2.3.0 (from -r requirements.txt (line 6))\n",
      "  Using cached omegaconf-2.3.0-py3-none-any.whl (79 kB)\n",
      "Requirement already satisfied: ipywidgets<9.0.0,>=7.0.0 in /rhome/streakfull/.cache/pypoetry/virtualenvs/machine_learning_for_3d_geometry_final_pro-7GAuoChf-py3.8/lib/python3.8/site-packages (from k3d==2.15.2->-r requirements.txt (line 1)) (7.7.1)\n",
      "Requirement already satisfied: msgpack in /rhome/streakfull/.cache/pypoetry/virtualenvs/machine_learning_for_3d_geometry_final_pro-7GAuoChf-py3.8/lib/python3.8/site-packages (from k3d==2.15.2->-r requirements.txt (line 1)) (1.0.5)\n",
      "Requirement already satisfied: numpy in /rhome/streakfull/.cache/pypoetry/virtualenvs/machine_learning_for_3d_geometry_final_pro-7GAuoChf-py3.8/lib/python3.8/site-packages (from k3d==2.15.2->-r requirements.txt (line 1)) (1.21.1)\n",
      "Requirement already satisfied: traitlets in /rhome/streakfull/.cache/pypoetry/virtualenvs/machine_learning_for_3d_geometry_final_pro-7GAuoChf-py3.8/lib/python3.8/site-packages (from k3d==2.15.2->-r requirements.txt (line 1)) (5.9.0)\n",
      "Requirement already satisfied: traittypes in /rhome/streakfull/.cache/pypoetry/virtualenvs/machine_learning_for_3d_geometry_final_pro-7GAuoChf-py3.8/lib/python3.8/site-packages (from k3d==2.15.2->-r requirements.txt (line 1)) (0.2.1)\n",
      "Collecting absl-py>=0.4 (from tensorboard==2.11.0->-r requirements.txt (line 2))\n",
      "  Using cached absl_py-1.4.0-py3-none-any.whl (126 kB)\n",
      "Collecting grpcio>=1.24.3 (from tensorboard==2.11.0->-r requirements.txt (line 2))\n",
      "  Using cached grpcio-1.54.2-cp38-cp38-manylinux_2_17_x86_64.manylinux2014_x86_64.whl (5.1 MB)\n",
      "Collecting google-auth<3,>=1.6.3 (from tensorboard==2.11.0->-r requirements.txt (line 2))\n",
      "  Using cached google_auth-2.20.0-py2.py3-none-any.whl (181 kB)\n",
      "Collecting google-auth-oauthlib<0.5,>=0.4.1 (from tensorboard==2.11.0->-r requirements.txt (line 2))\n",
      "  Using cached google_auth_oauthlib-0.4.6-py2.py3-none-any.whl (18 kB)\n",
      "Collecting markdown>=2.6.8 (from tensorboard==2.11.0->-r requirements.txt (line 2))\n",
      "  Using cached Markdown-3.4.3-py3-none-any.whl (93 kB)\n",
      "Collecting protobuf<4,>=3.9.2 (from tensorboard==2.11.0->-r requirements.txt (line 2))\n",
      "  Downloading protobuf-3.20.3-cp38-cp38-manylinux_2_5_x86_64.manylinux1_x86_64.whl (1.0 MB)\n",
      "\u001b[2K     \u001b[90m━━━━━━━━━━━━━━━━━━━━━━━━━━━━━━━━━━━━━━━━\u001b[0m \u001b[32m1.0/1.0 MB\u001b[0m \u001b[31m17.1 MB/s\u001b[0m eta \u001b[36m0:00:00\u001b[0ma \u001b[36m0:00:01\u001b[0m\n",
      "\u001b[?25hRequirement already satisfied: requests<3,>=2.21.0 in /rhome/streakfull/.cache/pypoetry/virtualenvs/machine_learning_for_3d_geometry_final_pro-7GAuoChf-py3.8/lib/python3.8/site-packages (from tensorboard==2.11.0->-r requirements.txt (line 2)) (2.31.0)\n",
      "Requirement already satisfied: setuptools>=41.0.0 in /rhome/streakfull/.cache/pypoetry/virtualenvs/machine_learning_for_3d_geometry_final_pro-7GAuoChf-py3.8/lib/python3.8/site-packages (from tensorboard==2.11.0->-r requirements.txt (line 2)) (67.8.0)\n",
      "Collecting tensorboard-data-server<0.7.0,>=0.6.0 (from tensorboard==2.11.0->-r requirements.txt (line 2))\n",
      "  Using cached tensorboard_data_server-0.6.1-py3-none-manylinux2010_x86_64.whl (4.9 MB)\n",
      "Collecting tensorboard-plugin-wit>=1.6.0 (from tensorboard==2.11.0->-r requirements.txt (line 2))\n",
      "  Using cached tensorboard_plugin_wit-1.8.1-py3-none-any.whl (781 kB)\n",
      "Collecting werkzeug>=1.0.1 (from tensorboard==2.11.0->-r requirements.txt (line 2))\n",
      "  Using cached Werkzeug-2.3.6-py3-none-any.whl (242 kB)\n",
      "Requirement already satisfied: wheel>=0.26 in /rhome/streakfull/.cache/pypoetry/virtualenvs/machine_learning_for_3d_geometry_final_pro-7GAuoChf-py3.8/lib/python3.8/site-packages (from tensorboard==2.11.0->-r requirements.txt (line 2)) (0.40.0)\n",
      "Collecting antlr4-python3-runtime==4.9.* (from omegaconf==2.3.0->-r requirements.txt (line 6))\n",
      "  Using cached antlr4_python3_runtime-4.9.3-py3-none-any.whl\n",
      "Requirement already satisfied: PyYAML>=5.1.0 in /rhome/streakfull/.cache/pypoetry/virtualenvs/machine_learning_for_3d_geometry_final_pro-7GAuoChf-py3.8/lib/python3.8/site-packages (from omegaconf==2.3.0->-r requirements.txt (line 6)) (6.0)\n",
      "Collecting cachetools<6.0,>=2.0.0 (from google-auth<3,>=1.6.3->tensorboard==2.11.0->-r requirements.txt (line 2))\n",
      "  Using cached cachetools-5.3.1-py3-none-any.whl (9.3 kB)\n",
      "Collecting pyasn1-modules>=0.2.1 (from google-auth<3,>=1.6.3->tensorboard==2.11.0->-r requirements.txt (line 2))\n",
      "  Using cached pyasn1_modules-0.3.0-py2.py3-none-any.whl (181 kB)\n",
      "Collecting rsa<5,>=3.1.4 (from google-auth<3,>=1.6.3->tensorboard==2.11.0->-r requirements.txt (line 2))\n",
      "  Using cached rsa-4.9-py3-none-any.whl (34 kB)\n",
      "Requirement already satisfied: six>=1.9.0 in /rhome/streakfull/.cache/pypoetry/virtualenvs/machine_learning_for_3d_geometry_final_pro-7GAuoChf-py3.8/lib/python3.8/site-packages (from google-auth<3,>=1.6.3->tensorboard==2.11.0->-r requirements.txt (line 2)) (1.16.0)\n",
      "Collecting urllib3<2.0 (from google-auth<3,>=1.6.3->tensorboard==2.11.0->-r requirements.txt (line 2))\n",
      "  Using cached urllib3-1.26.16-py2.py3-none-any.whl (143 kB)\n",
      "Collecting requests-oauthlib>=0.7.0 (from google-auth-oauthlib<0.5,>=0.4.1->tensorboard==2.11.0->-r requirements.txt (line 2))\n",
      "  Using cached requests_oauthlib-1.3.1-py2.py3-none-any.whl (23 kB)\n",
      "Requirement already satisfied: ipykernel>=4.5.1 in /rhome/streakfull/.cache/pypoetry/virtualenvs/machine_learning_for_3d_geometry_final_pro-7GAuoChf-py3.8/lib/python3.8/site-packages (from ipywidgets<9.0.0,>=7.0.0->k3d==2.15.2->-r requirements.txt (line 1)) (6.16.2)\n",
      "Requirement already satisfied: ipython-genutils~=0.2.0 in /rhome/streakfull/.cache/pypoetry/virtualenvs/machine_learning_for_3d_geometry_final_pro-7GAuoChf-py3.8/lib/python3.8/site-packages (from ipywidgets<9.0.0,>=7.0.0->k3d==2.15.2->-r requirements.txt (line 1)) (0.2.0)\n",
      "Requirement already satisfied: widgetsnbextension~=3.6.0 in /rhome/streakfull/.cache/pypoetry/virtualenvs/machine_learning_for_3d_geometry_final_pro-7GAuoChf-py3.8/lib/python3.8/site-packages (from ipywidgets<9.0.0,>=7.0.0->k3d==2.15.2->-r requirements.txt (line 1)) (3.6.4)\n",
      "Requirement already satisfied: ipython>=4.0.0 in /rhome/streakfull/.cache/pypoetry/virtualenvs/machine_learning_for_3d_geometry_final_pro-7GAuoChf-py3.8/lib/python3.8/site-packages (from ipywidgets<9.0.0,>=7.0.0->k3d==2.15.2->-r requirements.txt (line 1)) (7.34.0)\n",
      "Requirement already satisfied: jupyterlab-widgets>=1.0.0 in /rhome/streakfull/.cache/pypoetry/virtualenvs/machine_learning_for_3d_geometry_final_pro-7GAuoChf-py3.8/lib/python3.8/site-packages (from ipywidgets<9.0.0,>=7.0.0->k3d==2.15.2->-r requirements.txt (line 1)) (1.1.0)\n",
      "Requirement already satisfied: importlib-metadata>=4.4 in /rhome/streakfull/.cache/pypoetry/virtualenvs/machine_learning_for_3d_geometry_final_pro-7GAuoChf-py3.8/lib/python3.8/site-packages (from markdown>=2.6.8->tensorboard==2.11.0->-r requirements.txt (line 2)) (6.6.0)\n",
      "Requirement already satisfied: charset-normalizer<4,>=2 in /rhome/streakfull/.cache/pypoetry/virtualenvs/machine_learning_for_3d_geometry_final_pro-7GAuoChf-py3.8/lib/python3.8/site-packages (from requests<3,>=2.21.0->tensorboard==2.11.0->-r requirements.txt (line 2)) (3.1.0)\n",
      "Requirement already satisfied: idna<4,>=2.5 in /rhome/streakfull/.cache/pypoetry/virtualenvs/machine_learning_for_3d_geometry_final_pro-7GAuoChf-py3.8/lib/python3.8/site-packages (from requests<3,>=2.21.0->tensorboard==2.11.0->-r requirements.txt (line 2)) (3.4)\n",
      "Requirement already satisfied: certifi>=2017.4.17 in /rhome/streakfull/.cache/pypoetry/virtualenvs/machine_learning_for_3d_geometry_final_pro-7GAuoChf-py3.8/lib/python3.8/site-packages (from requests<3,>=2.21.0->tensorboard==2.11.0->-r requirements.txt (line 2)) (2023.5.7)\n"
     ]
    },
    {
     "name": "stdout",
     "output_type": "stream",
     "text": [
      "Requirement already satisfied: MarkupSafe>=2.1.1 in /rhome/streakfull/.cache/pypoetry/virtualenvs/machine_learning_for_3d_geometry_final_pro-7GAuoChf-py3.8/lib/python3.8/site-packages (from werkzeug>=1.0.1->tensorboard==2.11.0->-r requirements.txt (line 2)) (2.1.3)\n",
      "Requirement already satisfied: zipp>=0.5 in /rhome/streakfull/.cache/pypoetry/virtualenvs/machine_learning_for_3d_geometry_final_pro-7GAuoChf-py3.8/lib/python3.8/site-packages (from importlib-metadata>=4.4->markdown>=2.6.8->tensorboard==2.11.0->-r requirements.txt (line 2)) (3.15.0)\n",
      "Requirement already satisfied: debugpy>=1.0 in /rhome/streakfull/.cache/pypoetry/virtualenvs/machine_learning_for_3d_geometry_final_pro-7GAuoChf-py3.8/lib/python3.8/site-packages (from ipykernel>=4.5.1->ipywidgets<9.0.0,>=7.0.0->k3d==2.15.2->-r requirements.txt (line 1)) (1.6.7)\n",
      "Requirement already satisfied: jupyter-client>=6.1.12 in /rhome/streakfull/.cache/pypoetry/virtualenvs/machine_learning_for_3d_geometry_final_pro-7GAuoChf-py3.8/lib/python3.8/site-packages (from ipykernel>=4.5.1->ipywidgets<9.0.0,>=7.0.0->k3d==2.15.2->-r requirements.txt (line 1)) (7.4.9)\n",
      "Requirement already satisfied: matplotlib-inline>=0.1 in /rhome/streakfull/.cache/pypoetry/virtualenvs/machine_learning_for_3d_geometry_final_pro-7GAuoChf-py3.8/lib/python3.8/site-packages (from ipykernel>=4.5.1->ipywidgets<9.0.0,>=7.0.0->k3d==2.15.2->-r requirements.txt (line 1)) (0.1.6)\n",
      "Requirement already satisfied: nest-asyncio in /rhome/streakfull/.cache/pypoetry/virtualenvs/machine_learning_for_3d_geometry_final_pro-7GAuoChf-py3.8/lib/python3.8/site-packages (from ipykernel>=4.5.1->ipywidgets<9.0.0,>=7.0.0->k3d==2.15.2->-r requirements.txt (line 1)) (1.5.6)\n",
      "Requirement already satisfied: packaging in /rhome/streakfull/.cache/pypoetry/virtualenvs/machine_learning_for_3d_geometry_final_pro-7GAuoChf-py3.8/lib/python3.8/site-packages (from ipykernel>=4.5.1->ipywidgets<9.0.0,>=7.0.0->k3d==2.15.2->-r requirements.txt (line 1)) (23.1)\n",
      "Requirement already satisfied: psutil in /rhome/streakfull/.cache/pypoetry/virtualenvs/machine_learning_for_3d_geometry_final_pro-7GAuoChf-py3.8/lib/python3.8/site-packages (from ipykernel>=4.5.1->ipywidgets<9.0.0,>=7.0.0->k3d==2.15.2->-r requirements.txt (line 1)) (5.9.5)\n",
      "Requirement already satisfied: pyzmq>=17 in /rhome/streakfull/.cache/pypoetry/virtualenvs/machine_learning_for_3d_geometry_final_pro-7GAuoChf-py3.8/lib/python3.8/site-packages (from ipykernel>=4.5.1->ipywidgets<9.0.0,>=7.0.0->k3d==2.15.2->-r requirements.txt (line 1)) (25.1.0)\n",
      "Requirement already satisfied: tornado>=6.1 in /rhome/streakfull/.cache/pypoetry/virtualenvs/machine_learning_for_3d_geometry_final_pro-7GAuoChf-py3.8/lib/python3.8/site-packages (from ipykernel>=4.5.1->ipywidgets<9.0.0,>=7.0.0->k3d==2.15.2->-r requirements.txt (line 1)) (6.2)\n",
      "Requirement already satisfied: jedi>=0.16 in /rhome/streakfull/.cache/pypoetry/virtualenvs/machine_learning_for_3d_geometry_final_pro-7GAuoChf-py3.8/lib/python3.8/site-packages (from ipython>=4.0.0->ipywidgets<9.0.0,>=7.0.0->k3d==2.15.2->-r requirements.txt (line 1)) (0.18.2)\n",
      "Requirement already satisfied: decorator in /rhome/streakfull/.cache/pypoetry/virtualenvs/machine_learning_for_3d_geometry_final_pro-7GAuoChf-py3.8/lib/python3.8/site-packages (from ipython>=4.0.0->ipywidgets<9.0.0,>=7.0.0->k3d==2.15.2->-r requirements.txt (line 1)) (4.4.2)\n",
      "Requirement already satisfied: pickleshare in /rhome/streakfull/.cache/pypoetry/virtualenvs/machine_learning_for_3d_geometry_final_pro-7GAuoChf-py3.8/lib/python3.8/site-packages (from ipython>=4.0.0->ipywidgets<9.0.0,>=7.0.0->k3d==2.15.2->-r requirements.txt (line 1)) (0.7.5)\n",
      "Requirement already satisfied: prompt-toolkit!=3.0.0,!=3.0.1,<3.1.0,>=2.0.0 in /rhome/streakfull/.cache/pypoetry/virtualenvs/machine_learning_for_3d_geometry_final_pro-7GAuoChf-py3.8/lib/python3.8/site-packages (from ipython>=4.0.0->ipywidgets<9.0.0,>=7.0.0->k3d==2.15.2->-r requirements.txt (line 1)) (3.0.38)\n",
      "Requirement already satisfied: pygments in /rhome/streakfull/.cache/pypoetry/virtualenvs/machine_learning_for_3d_geometry_final_pro-7GAuoChf-py3.8/lib/python3.8/site-packages (from ipython>=4.0.0->ipywidgets<9.0.0,>=7.0.0->k3d==2.15.2->-r requirements.txt (line 1)) (2.15.1)\n",
      "Requirement already satisfied: backcall in /rhome/streakfull/.cache/pypoetry/virtualenvs/machine_learning_for_3d_geometry_final_pro-7GAuoChf-py3.8/lib/python3.8/site-packages (from ipython>=4.0.0->ipywidgets<9.0.0,>=7.0.0->k3d==2.15.2->-r requirements.txt (line 1)) (0.2.0)\n",
      "Requirement already satisfied: pexpect>4.3 in /rhome/streakfull/.cache/pypoetry/virtualenvs/machine_learning_for_3d_geometry_final_pro-7GAuoChf-py3.8/lib/python3.8/site-packages (from ipython>=4.0.0->ipywidgets<9.0.0,>=7.0.0->k3d==2.15.2->-r requirements.txt (line 1)) (4.8.0)\n",
      "Collecting pyasn1<0.6.0,>=0.4.6 (from pyasn1-modules>=0.2.1->google-auth<3,>=1.6.3->tensorboard==2.11.0->-r requirements.txt (line 2))\n",
      "  Using cached pyasn1-0.5.0-py2.py3-none-any.whl (83 kB)\n",
      "Collecting oauthlib>=3.0.0 (from requests-oauthlib>=0.7.0->google-auth-oauthlib<0.5,>=0.4.1->tensorboard==2.11.0->-r requirements.txt (line 2))\n",
      "  Using cached oauthlib-3.2.2-py3-none-any.whl (151 kB)\n",
      "Requirement already satisfied: notebook>=4.4.1 in /rhome/streakfull/.cache/pypoetry/virtualenvs/machine_learning_for_3d_geometry_final_pro-7GAuoChf-py3.8/lib/python3.8/site-packages (from widgetsnbextension~=3.6.0->ipywidgets<9.0.0,>=7.0.0->k3d==2.15.2->-r requirements.txt (line 1)) (6.5.4)\n",
      "Requirement already satisfied: parso<0.9.0,>=0.8.0 in /rhome/streakfull/.cache/pypoetry/virtualenvs/machine_learning_for_3d_geometry_final_pro-7GAuoChf-py3.8/lib/python3.8/site-packages (from jedi>=0.16->ipython>=4.0.0->ipywidgets<9.0.0,>=7.0.0->k3d==2.15.2->-r requirements.txt (line 1)) (0.8.3)\n",
      "Requirement already satisfied: entrypoints in /rhome/streakfull/.cache/pypoetry/virtualenvs/machine_learning_for_3d_geometry_final_pro-7GAuoChf-py3.8/lib/python3.8/site-packages (from jupyter-client>=6.1.12->ipykernel>=4.5.1->ipywidgets<9.0.0,>=7.0.0->k3d==2.15.2->-r requirements.txt (line 1)) (0.4)\n",
      "Requirement already satisfied: jupyter-core>=4.9.2 in /rhome/streakfull/.cache/pypoetry/virtualenvs/machine_learning_for_3d_geometry_final_pro-7GAuoChf-py3.8/lib/python3.8/site-packages (from jupyter-client>=6.1.12->ipykernel>=4.5.1->ipywidgets<9.0.0,>=7.0.0->k3d==2.15.2->-r requirements.txt (line 1)) (4.12.0)\n",
      "Requirement already satisfied: python-dateutil>=2.8.2 in /rhome/streakfull/.cache/pypoetry/virtualenvs/machine_learning_for_3d_geometry_final_pro-7GAuoChf-py3.8/lib/python3.8/site-packages (from jupyter-client>=6.1.12->ipykernel>=4.5.1->ipywidgets<9.0.0,>=7.0.0->k3d==2.15.2->-r requirements.txt (line 1)) (2.8.2)\n",
      "Requirement already satisfied: jinja2 in /rhome/streakfull/.cache/pypoetry/virtualenvs/machine_learning_for_3d_geometry_final_pro-7GAuoChf-py3.8/lib/python3.8/site-packages (from notebook>=4.4.1->widgetsnbextension~=3.6.0->ipywidgets<9.0.0,>=7.0.0->k3d==2.15.2->-r requirements.txt (line 1)) (3.1.2)\n",
      "Requirement already satisfied: argon2-cffi in /rhome/streakfull/.cache/pypoetry/virtualenvs/machine_learning_for_3d_geometry_final_pro-7GAuoChf-py3.8/lib/python3.8/site-packages (from notebook>=4.4.1->widgetsnbextension~=3.6.0->ipywidgets<9.0.0,>=7.0.0->k3d==2.15.2->-r requirements.txt (line 1)) (21.3.0)\n",
      "Requirement already satisfied: nbformat in /rhome/streakfull/.cache/pypoetry/virtualenvs/machine_learning_for_3d_geometry_final_pro-7GAuoChf-py3.8/lib/python3.8/site-packages (from notebook>=4.4.1->widgetsnbextension~=3.6.0->ipywidgets<9.0.0,>=7.0.0->k3d==2.15.2->-r requirements.txt (line 1)) (5.8.0)\n",
      "Requirement already satisfied: nbconvert>=5 in /rhome/streakfull/.cache/pypoetry/virtualenvs/machine_learning_for_3d_geometry_final_pro-7GAuoChf-py3.8/lib/python3.8/site-packages (from notebook>=4.4.1->widgetsnbextension~=3.6.0->ipywidgets<9.0.0,>=7.0.0->k3d==2.15.2->-r requirements.txt (line 1)) (7.5.0)\n",
      "Requirement already satisfied: Send2Trash>=1.8.0 in /rhome/streakfull/.cache/pypoetry/virtualenvs/machine_learning_for_3d_geometry_final_pro-7GAuoChf-py3.8/lib/python3.8/site-packages (from notebook>=4.4.1->widgetsnbextension~=3.6.0->ipywidgets<9.0.0,>=7.0.0->k3d==2.15.2->-r requirements.txt (line 1)) (1.8.2)\n",
      "Requirement already satisfied: terminado>=0.8.3 in /rhome/streakfull/.cache/pypoetry/virtualenvs/machine_learning_for_3d_geometry_final_pro-7GAuoChf-py3.8/lib/python3.8/site-packages (from notebook>=4.4.1->widgetsnbextension~=3.6.0->ipywidgets<9.0.0,>=7.0.0->k3d==2.15.2->-r requirements.txt (line 1)) (0.17.1)\n",
      "Requirement already satisfied: prometheus-client in /rhome/streakfull/.cache/pypoetry/virtualenvs/machine_learning_for_3d_geometry_final_pro-7GAuoChf-py3.8/lib/python3.8/site-packages (from notebook>=4.4.1->widgetsnbextension~=3.6.0->ipywidgets<9.0.0,>=7.0.0->k3d==2.15.2->-r requirements.txt (line 1)) (0.17.0)\n",
      "Requirement already satisfied: nbclassic>=0.4.7 in /rhome/streakfull/.cache/pypoetry/virtualenvs/machine_learning_for_3d_geometry_final_pro-7GAuoChf-py3.8/lib/python3.8/site-packages (from notebook>=4.4.1->widgetsnbextension~=3.6.0->ipywidgets<9.0.0,>=7.0.0->k3d==2.15.2->-r requirements.txt (line 1)) (1.0.0)\n",
      "Requirement already satisfied: ptyprocess>=0.5 in /rhome/streakfull/.cache/pypoetry/virtualenvs/machine_learning_for_3d_geometry_final_pro-7GAuoChf-py3.8/lib/python3.8/site-packages (from pexpect>4.3->ipython>=4.0.0->ipywidgets<9.0.0,>=7.0.0->k3d==2.15.2->-r requirements.txt (line 1)) (0.7.0)\n",
      "Requirement already satisfied: wcwidth in /rhome/streakfull/.cache/pypoetry/virtualenvs/machine_learning_for_3d_geometry_final_pro-7GAuoChf-py3.8/lib/python3.8/site-packages (from prompt-toolkit!=3.0.0,!=3.0.1,<3.1.0,>=2.0.0->ipython>=4.0.0->ipywidgets<9.0.0,>=7.0.0->k3d==2.15.2->-r requirements.txt (line 1)) (0.2.6)\n"
     ]
    },
    {
     "name": "stdout",
     "output_type": "stream",
     "text": [
      "Requirement already satisfied: jupyter-server>=1.8 in /rhome/streakfull/.cache/pypoetry/virtualenvs/machine_learning_for_3d_geometry_final_pro-7GAuoChf-py3.8/lib/python3.8/site-packages (from nbclassic>=0.4.7->notebook>=4.4.1->widgetsnbextension~=3.6.0->ipywidgets<9.0.0,>=7.0.0->k3d==2.15.2->-r requirements.txt (line 1)) (1.24.0)\n",
      "Requirement already satisfied: notebook-shim>=0.2.3 in /rhome/streakfull/.cache/pypoetry/virtualenvs/machine_learning_for_3d_geometry_final_pro-7GAuoChf-py3.8/lib/python3.8/site-packages (from nbclassic>=0.4.7->notebook>=4.4.1->widgetsnbextension~=3.6.0->ipywidgets<9.0.0,>=7.0.0->k3d==2.15.2->-r requirements.txt (line 1)) (0.2.3)\n",
      "Requirement already satisfied: beautifulsoup4 in /rhome/streakfull/.cache/pypoetry/virtualenvs/machine_learning_for_3d_geometry_final_pro-7GAuoChf-py3.8/lib/python3.8/site-packages (from nbconvert>=5->notebook>=4.4.1->widgetsnbextension~=3.6.0->ipywidgets<9.0.0,>=7.0.0->k3d==2.15.2->-r requirements.txt (line 1)) (4.12.2)\n",
      "Requirement already satisfied: bleach!=5.0.0 in /rhome/streakfull/.cache/pypoetry/virtualenvs/machine_learning_for_3d_geometry_final_pro-7GAuoChf-py3.8/lib/python3.8/site-packages (from nbconvert>=5->notebook>=4.4.1->widgetsnbextension~=3.6.0->ipywidgets<9.0.0,>=7.0.0->k3d==2.15.2->-r requirements.txt (line 1)) (6.0.0)\n",
      "Requirement already satisfied: defusedxml in /rhome/streakfull/.cache/pypoetry/virtualenvs/machine_learning_for_3d_geometry_final_pro-7GAuoChf-py3.8/lib/python3.8/site-packages (from nbconvert>=5->notebook>=4.4.1->widgetsnbextension~=3.6.0->ipywidgets<9.0.0,>=7.0.0->k3d==2.15.2->-r requirements.txt (line 1)) (0.7.1)\n",
      "Requirement already satisfied: jupyterlab-pygments in /rhome/streakfull/.cache/pypoetry/virtualenvs/machine_learning_for_3d_geometry_final_pro-7GAuoChf-py3.8/lib/python3.8/site-packages (from nbconvert>=5->notebook>=4.4.1->widgetsnbextension~=3.6.0->ipywidgets<9.0.0,>=7.0.0->k3d==2.15.2->-r requirements.txt (line 1)) (0.2.2)\n",
      "Requirement already satisfied: mistune<3,>=2.0.3 in /rhome/streakfull/.cache/pypoetry/virtualenvs/machine_learning_for_3d_geometry_final_pro-7GAuoChf-py3.8/lib/python3.8/site-packages (from nbconvert>=5->notebook>=4.4.1->widgetsnbextension~=3.6.0->ipywidgets<9.0.0,>=7.0.0->k3d==2.15.2->-r requirements.txt (line 1)) (2.0.5)\n",
      "Requirement already satisfied: nbclient>=0.5.0 in /rhome/streakfull/.cache/pypoetry/virtualenvs/machine_learning_for_3d_geometry_final_pro-7GAuoChf-py3.8/lib/python3.8/site-packages (from nbconvert>=5->notebook>=4.4.1->widgetsnbextension~=3.6.0->ipywidgets<9.0.0,>=7.0.0->k3d==2.15.2->-r requirements.txt (line 1)) (0.7.4)\n",
      "Requirement already satisfied: pandocfilters>=1.4.1 in /rhome/streakfull/.cache/pypoetry/virtualenvs/machine_learning_for_3d_geometry_final_pro-7GAuoChf-py3.8/lib/python3.8/site-packages (from nbconvert>=5->notebook>=4.4.1->widgetsnbextension~=3.6.0->ipywidgets<9.0.0,>=7.0.0->k3d==2.15.2->-r requirements.txt (line 1)) (1.5.0)\n",
      "Requirement already satisfied: tinycss2 in /rhome/streakfull/.cache/pypoetry/virtualenvs/machine_learning_for_3d_geometry_final_pro-7GAuoChf-py3.8/lib/python3.8/site-packages (from nbconvert>=5->notebook>=4.4.1->widgetsnbextension~=3.6.0->ipywidgets<9.0.0,>=7.0.0->k3d==2.15.2->-r requirements.txt (line 1)) (1.2.1)\n",
      "Requirement already satisfied: fastjsonschema in /rhome/streakfull/.cache/pypoetry/virtualenvs/machine_learning_for_3d_geometry_final_pro-7GAuoChf-py3.8/lib/python3.8/site-packages (from nbformat->notebook>=4.4.1->widgetsnbextension~=3.6.0->ipywidgets<9.0.0,>=7.0.0->k3d==2.15.2->-r requirements.txt (line 1)) (2.17.1)\n",
      "Requirement already satisfied: jsonschema>=2.6 in /rhome/streakfull/.cache/pypoetry/virtualenvs/machine_learning_for_3d_geometry_final_pro-7GAuoChf-py3.8/lib/python3.8/site-packages (from nbformat->notebook>=4.4.1->widgetsnbextension~=3.6.0->ipywidgets<9.0.0,>=7.0.0->k3d==2.15.2->-r requirements.txt (line 1)) (4.17.3)\n",
      "Requirement already satisfied: argon2-cffi-bindings in /rhome/streakfull/.cache/pypoetry/virtualenvs/machine_learning_for_3d_geometry_final_pro-7GAuoChf-py3.8/lib/python3.8/site-packages (from argon2-cffi->notebook>=4.4.1->widgetsnbextension~=3.6.0->ipywidgets<9.0.0,>=7.0.0->k3d==2.15.2->-r requirements.txt (line 1)) (21.2.0)\n",
      "Requirement already satisfied: webencodings in /rhome/streakfull/.cache/pypoetry/virtualenvs/machine_learning_for_3d_geometry_final_pro-7GAuoChf-py3.8/lib/python3.8/site-packages (from bleach!=5.0.0->nbconvert>=5->notebook>=4.4.1->widgetsnbextension~=3.6.0->ipywidgets<9.0.0,>=7.0.0->k3d==2.15.2->-r requirements.txt (line 1)) (0.5.1)\n",
      "Requirement already satisfied: attrs>=17.4.0 in /rhome/streakfull/.cache/pypoetry/virtualenvs/machine_learning_for_3d_geometry_final_pro-7GAuoChf-py3.8/lib/python3.8/site-packages (from jsonschema>=2.6->nbformat->notebook>=4.4.1->widgetsnbextension~=3.6.0->ipywidgets<9.0.0,>=7.0.0->k3d==2.15.2->-r requirements.txt (line 1)) (23.1.0)\n",
      "Requirement already satisfied: importlib-resources>=1.4.0 in /rhome/streakfull/.cache/pypoetry/virtualenvs/machine_learning_for_3d_geometry_final_pro-7GAuoChf-py3.8/lib/python3.8/site-packages (from jsonschema>=2.6->nbformat->notebook>=4.4.1->widgetsnbextension~=3.6.0->ipywidgets<9.0.0,>=7.0.0->k3d==2.15.2->-r requirements.txt (line 1)) (5.12.0)\n",
      "Requirement already satisfied: pkgutil-resolve-name>=1.3.10 in /rhome/streakfull/.cache/pypoetry/virtualenvs/machine_learning_for_3d_geometry_final_pro-7GAuoChf-py3.8/lib/python3.8/site-packages (from jsonschema>=2.6->nbformat->notebook>=4.4.1->widgetsnbextension~=3.6.0->ipywidgets<9.0.0,>=7.0.0->k3d==2.15.2->-r requirements.txt (line 1)) (1.3.10)\n",
      "Requirement already satisfied: pyrsistent!=0.17.0,!=0.17.1,!=0.17.2,>=0.14.0 in /rhome/streakfull/.cache/pypoetry/virtualenvs/machine_learning_for_3d_geometry_final_pro-7GAuoChf-py3.8/lib/python3.8/site-packages (from jsonschema>=2.6->nbformat->notebook>=4.4.1->widgetsnbextension~=3.6.0->ipywidgets<9.0.0,>=7.0.0->k3d==2.15.2->-r requirements.txt (line 1)) (0.19.3)\n",
      "Requirement already satisfied: anyio<4,>=3.1.0 in /rhome/streakfull/.cache/pypoetry/virtualenvs/machine_learning_for_3d_geometry_final_pro-7GAuoChf-py3.8/lib/python3.8/site-packages (from jupyter-server>=1.8->nbclassic>=0.4.7->notebook>=4.4.1->widgetsnbextension~=3.6.0->ipywidgets<9.0.0,>=7.0.0->k3d==2.15.2->-r requirements.txt (line 1)) (3.7.0)\n",
      "Requirement already satisfied: websocket-client in /rhome/streakfull/.cache/pypoetry/virtualenvs/machine_learning_for_3d_geometry_final_pro-7GAuoChf-py3.8/lib/python3.8/site-packages (from jupyter-server>=1.8->nbclassic>=0.4.7->notebook>=4.4.1->widgetsnbextension~=3.6.0->ipywidgets<9.0.0,>=7.0.0->k3d==2.15.2->-r requirements.txt (line 1)) (1.6.0)\n",
      "Requirement already satisfied: cffi>=1.0.1 in /rhome/streakfull/.cache/pypoetry/virtualenvs/machine_learning_for_3d_geometry_final_pro-7GAuoChf-py3.8/lib/python3.8/site-packages (from argon2-cffi-bindings->argon2-cffi->notebook>=4.4.1->widgetsnbextension~=3.6.0->ipywidgets<9.0.0,>=7.0.0->k3d==2.15.2->-r requirements.txt (line 1)) (1.15.1)\n",
      "Requirement already satisfied: soupsieve>1.2 in /rhome/streakfull/.cache/pypoetry/virtualenvs/machine_learning_for_3d_geometry_final_pro-7GAuoChf-py3.8/lib/python3.8/site-packages (from beautifulsoup4->nbconvert>=5->notebook>=4.4.1->widgetsnbextension~=3.6.0->ipywidgets<9.0.0,>=7.0.0->k3d==2.15.2->-r requirements.txt (line 1)) (2.4.1)\n",
      "Requirement already satisfied: sniffio>=1.1 in /rhome/streakfull/.cache/pypoetry/virtualenvs/machine_learning_for_3d_geometry_final_pro-7GAuoChf-py3.8/lib/python3.8/site-packages (from anyio<4,>=3.1.0->jupyter-server>=1.8->nbclassic>=0.4.7->notebook>=4.4.1->widgetsnbextension~=3.6.0->ipywidgets<9.0.0,>=7.0.0->k3d==2.15.2->-r requirements.txt (line 1)) (1.3.0)\n",
      "Requirement already satisfied: exceptiongroup in /rhome/streakfull/.cache/pypoetry/virtualenvs/machine_learning_for_3d_geometry_final_pro-7GAuoChf-py3.8/lib/python3.8/site-packages (from anyio<4,>=3.1.0->jupyter-server>=1.8->nbclassic>=0.4.7->notebook>=4.4.1->widgetsnbextension~=3.6.0->ipywidgets<9.0.0,>=7.0.0->k3d==2.15.2->-r requirements.txt (line 1)) (1.1.1)\n",
      "Requirement already satisfied: pycparser in /rhome/streakfull/.cache/pypoetry/virtualenvs/machine_learning_for_3d_geometry_final_pro-7GAuoChf-py3.8/lib/python3.8/site-packages (from cffi>=1.0.1->argon2-cffi-bindings->argon2-cffi->notebook>=4.4.1->widgetsnbextension~=3.6.0->ipywidgets<9.0.0,>=7.0.0->k3d==2.15.2->-r requirements.txt (line 1)) (2.21)\n"
     ]
    },
    {
     "name": "stdout",
     "output_type": "stream",
     "text": [
      "Building wheels for collected packages: cprint\n",
      "  Building wheel for cprint (setup.py) ... \u001b[?25ldone\n",
      "\u001b[?25h  Created wheel for cprint: filename=cprint-1.2.2-py3-none-any.whl size=2519 sha256=bf25b46545127ba95bf6c6cc1529067ca9b07dc32aa6ab2d5e8852c8886dac76\n",
      "  Stored in directory: /rhome/streakfull/.cache/pip/wheels/b1/7f/44/3bb376f3d88e97cefe944907bb0956b456925ca6459ee4eb5f\n",
      "Successfully built cprint\n",
      "Installing collected packages: tensorboard-plugin-wit, cprint, antlr4-python3-runtime, werkzeug, urllib3, tensorboard-data-server, pyasn1, protobuf, Pillow, omegaconf, oauthlib, grpcio, einops, cachetools, absl-py, rsa, pyasn1-modules, markdown, requests-oauthlib, google-auth, google-auth-oauthlib, tensorboard, k3d\n",
      "  Attempting uninstall: urllib3\n",
      "    Found existing installation: urllib3 2.0.3\n",
      "    Uninstalling urllib3-2.0.3:\n",
      "      Successfully uninstalled urllib3-2.0.3\n",
      "  Attempting uninstall: Pillow\n",
      "    Found existing installation: Pillow 7.2.0\n",
      "    Uninstalling Pillow-7.2.0:\n",
      "      Successfully uninstalled Pillow-7.2.0\n",
      "  Attempting uninstall: k3d\n",
      "    Found existing installation: k3d 2.12.0\n",
      "    Uninstalling k3d-2.12.0:\n",
      "      Successfully uninstalled k3d-2.12.0\n",
      "Successfully installed Pillow-9.2.0 absl-py-1.4.0 antlr4-python3-runtime-4.9.3 cachetools-5.3.1 cprint-1.2.2 einops-0.6.1 google-auth-2.20.0 google-auth-oauthlib-0.4.6 grpcio-1.54.2 k3d-2.15.2 markdown-3.4.3 oauthlib-3.2.2 omegaconf-2.3.0 protobuf-3.20.3 pyasn1-0.5.0 pyasn1-modules-0.3.0 requests-oauthlib-1.3.1 rsa-4.9 tensorboard-2.11.0 tensorboard-data-server-0.6.1 tensorboard-plugin-wit-1.8.1 urllib3-1.26.16 werkzeug-2.3.6\n"
     ]
    }
   ],
   "source": [
    "!pip install -r requirements.txt"
   ]
  },
  {
   "cell_type": "code",
   "execution_count": 7,
   "id": "e912fe6b",
   "metadata": {},
   "outputs": [
    {
     "name": "stdout",
     "output_type": "stream",
     "text": [
      "/cluster/54/streakfull/3DML/Project/src\n"
     ]
    }
   ],
   "source": [
    "%cd src"
   ]
  },
  {
   "cell_type": "code",
   "execution_count": 9,
   "id": "fa1c035b",
   "metadata": {},
   "outputs": [],
   "source": [
    "from utils.util import mkdir"
   ]
  },
  {
   "cell_type": "code",
   "execution_count": 12,
   "id": "82269827",
   "metadata": {},
   "outputs": [
    {
     "name": "stdout",
     "output_type": "stream",
     "text": [
      "configs  datasets  inital_setup.ipynb  models  raw_dataset  utils\r\n"
     ]
    }
   ],
   "source": [
    "mkdir(\"raw_dataset\")\n",
    "!ls"
   ]
  },
  {
   "cell_type": "code",
   "execution_count": 13,
   "id": "7fcbfea4",
   "metadata": {},
   "outputs": [
    {
     "name": "stdout",
     "output_type": "stream",
     "text": [
      "/cluster/54/streakfull/3DML/Project/src/raw_dataset\n"
     ]
    }
   ],
   "source": [
    "%cd raw_dataset"
   ]
  },
  {
   "cell_type": "code",
   "execution_count": 15,
   "id": "12e1d09f",
   "metadata": {},
   "outputs": [],
   "source": [
    "mkdir(\"ShapeNet\")"
   ]
  },
  {
   "cell_type": "code",
   "execution_count": null,
   "id": "b53c7506",
   "metadata": {},
   "outputs": [],
   "source": [
    "!wget http://cvgl.stanford.edu/data2/ShapeNetRendering.tgz\n",
    "!wget http://cvgl.stanford.edu/data2/ShapeNetVox32.tgz\n",
    "!tar -xzf ShapeNetRendering.tgz -C ShapeNet/\n",
    "!tar -xzf ShapeNetVox32.tgz -C ShapeNet/"
   ]
  },
  {
   "cell_type": "code",
   "execution_count": null,
   "id": "16e8f9b9",
   "metadata": {},
   "outputs": [],
   "source": []
  }
 ],
 "metadata": {
  "kernelspec": {
   "display_name": "Python 3 (ipykernel)",
   "language": "python",
   "name": "python3"
  },
  "language_info": {
   "codemirror_mode": {
    "name": "ipython",
    "version": 3
   },
   "file_extension": ".py",
   "mimetype": "text/x-python",
   "name": "python",
   "nbconvert_exporter": "python",
   "pygments_lexer": "ipython3",
   "version": "3.8.10"
  }
 },
 "nbformat": 4,
 "nbformat_minor": 5
}
